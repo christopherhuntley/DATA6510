{
 "cells": [
  {
   "cell_type": "markdown",
   "metadata": {
    "id": "5rHzwUorF5ab"
   },
   "source": [
    "<img src=\"https://github.com/christopherhuntley/BUAN6510/blob/master/img/Dolan.png?raw=true\" width=\"180px\" align=\"right\">\n",
    "\n",
    "# **DATA 6510 Final Project, Part 1**\n",
    "__Ingest and Clean the Source Data__\n"
   ]
  },
  {
   "cell_type": "markdown",
   "metadata": {
    "id": "nz4ItJHHr9wJ"
   },
   "source": [
    "### 1. Form your team and set up Colab.\n",
    "\n",
    "- Create and share a Colab notebook called `FP_Part1.ipynb`\n",
    "- Use Google Sharing to share your notebooks with your teammates. Note that while the documents (files) are shared and jointly editable, the Colab runtime is not. You will figure out what this means and figure out how to work around it.\n",
    "- The notebook should be comprehensive and runnable from top to bottom. \n",
    "- Take care with the [Markdown formatting](https://github.github.com/gfm/). Dropping big, stupidly-formatted blobs of text is very bad form. It's also extremely unprofessional (and will affect your course grade). (Hint: designate one team member as the Markdown maven who makes sure the notebook is organized and easy to read. Treat it like a finished product.) \n",
    "- Be sure to list every student on your team at the top of each notebook. \n",
    "\n",
    "### 2. Document the Source Data.\n",
    "\n",
    "The database design has the following tables:\n",
    "- COURSES(**CourseID**, ProgramCode)\n",
    "- INSTRUCTORS(**InstructorID**, Name)\n",
    "- COURSE_OFFERINGS(**CourseOfferingID**, Term, CRN, Section, Credits, Title, Timecodes, Capacity, Actual,_PrimaryInstructorID_,_CourseID_)\n",
    "- LOCATIONS(**LocationID**, LocationCode)\n",
    "- COURSE_MEETINGS(**CourseMeetingID**,  StartDateTime, EndDateTime, _CourseOfferingID_, _LocationID_)\n",
    "\n",
    "In your notebook create a data dictionary that defines every column on every table. Use the table names as third level headings (`###`) and bullet lists for the column definitions. If you are feeling frisky, then perhaps use Markdown tables instead of bullet lists. \n",
    "\n",
    "All original source files are available [here](https://github.com/christopherhuntley/DATA6510/tree/master/data/banner).\n",
    "\n",
    "### 3. Use DuckDB to build a normalized relational database from the source data.\n",
    "- Import source data from two very large CSV files (in GitHub):\n",
    "    - [courses.csv](https://github.com/christopherhuntley/DATA6510/raw/refs/heads/master/data/banner/courses.csv)\n",
    "    - [course_meetings.csv](https://github.com/christopherhuntley/DATA6510/raw/refs/heads/master/data/banner/course_meetings.csv)\n",
    "- The tables were defined in the previous section. \n",
    "- The database should not leave off any table or columns.\n",
    "- Select data types with care.\n",
    "- Name the database `banner_mirror.duckdb`. \n",
    "\n",
    "### 4. Test & debug your work with test queries. \n",
    "\n",
    "Devise a series of SQL queries to validate that ... \n",
    "- The data was fully ingested without errors or duplicates\n",
    "- There were not any data type errors or other anomalies \n",
    "- the FKs worked as intended \n",
    "\n",
    "You may find that you have redesign your table DDL and DML based on what you find. That's how debugging is supposed to work. \n",
    "\n",
    "### 5. Submit your notebook in Google Classroom. \n",
    "\n",
    "\n",
    "\n",
    "\n",
    "\n",
    "\n"
   ]
  }
 ],
 "metadata": {
  "colab": {
   "authorship_tag": "ABX9TyONjTBMlxHoqz7vYeT4gQZR",
   "collapsed_sections": [],
   "mount_file_id": "11MBPducEj0HgT0u-nrCE60AvHJQnPR3y",
   "name": "Final_Project.ipynb",
   "provenance": []
  },
  "kernelspec": {
   "display_name": "Python 3 (ipykernel)",
   "language": "python",
   "name": "python3"
  },
  "language_info": {
   "codemirror_mode": {
    "name": "ipython",
    "version": 3
   },
   "file_extension": ".py",
   "mimetype": "text/x-python",
   "name": "python",
   "nbconvert_exporter": "python",
   "pygments_lexer": "ipython3",
   "version": "3.12.3"
  }
 },
 "nbformat": 4,
 "nbformat_minor": 4
}
