{
  "nbformat": 4,
  "nbformat_minor": 0,
  "metadata": {
    "colab": {
      "name": "L0_Course_Onboarding.ipynb",
      "provenance": [],
      "collapsed_sections": [],
      "authorship_tag": "ABX9TyNF4JbDPOnMu6J84+73FuTE"
    },
    "kernelspec": {
      "name": "python3",
      "display_name": "Python 3"
    }
  },
  "cells": [
    {
      "cell_type": "markdown",
      "metadata": {
        "id": "5rHzwUorF5ab"
      },
      "source": [
        "<img src=\"https://github.com/christopherhuntley/DATA6510/blob/master/img/Dolan.png?raw=true\" width=\"180px\" align=\"right\">\n",
        "\n",
        "# DATA 6510\n",
        "# Lesson 0: Course Onboarding\n",
        "_Everything you need to know and do before the first day of class_"
      ]
    },
    {
      "cell_type": "markdown",
      "metadata": {
        "id": "2mXe0ioMGMhD"
      },
      "source": [
        "## Where am I and how did I get here?\n",
        "Welcome to [Jupyter](https://jupyter.org/), a web based coding environment for Python, R, SQL, Markdown, and a bunch of other languages we use in Business Analytics courses. This document is what is called a _notebook_, which is composed of _cells_ that flow vertically from top to bottom. Each cell is either **formatted text** or **runnable code**. \n",
        "\n",
        "**Text cells** use Markdown notations to format the text. For example, to make `text look like computer code` we wrap it in _backticks_ like this: \\`text look like computer code\\`. (On most keyboards the backtick character is just above the tab key.) We can also create bookmarkable section titles, insert hyperlinks, create fancy tables, and all sorts of things. In fact the syllabus for this course as well as everything else on the class website is written in Markdown. For more, take a spin through GitHub's [Mastering Markdown Guide](https://guides.github.com/features/mastering-markdown/). Or, you could just double-click on a text cell to see the Markdown; to hide the Markdown code, just double-click on the rendered (pretty) text to the right. It toggles like a light switch.  \n",
        "\n",
        "**Code cells** can be identified by the little boxes `[]` that may or may not have numbers in them. The cells have runnable programming code in them. Select the cell and hit the \"play\" button to run it. Any output produced will appear just below the code. You may also note that a `[]` box has a number inside. The numbers tells us what order the cells were run. If you re-run a cell then the number inside automatically updates. \n",
        "\n",
        "You may be wondering why we would choose to use these weird sorts of documents for our online lessons. It's pretty simple, really. First, they allow you to **write, run and share code without installing any software**. Second it makes **all code visible, with nothing hidden from you**. Want to see well written code? Then just read the notebooks! It's all there. \n",
        "\n",
        "There are several different Jupyter Notebook services. You are currently using [Google Colab](https://colab.research.google.com/). Over the years we have also used [Anaconda](https://www.anaconda.com/) and [JupyterHub on AWS](http://tljh.jupyter.org/en/latest/), but for this class we thought it'd be fun (!) to give Google Colab a spin. (Some of you may also be using [DeepNote](https://deepnote.com), which works the same but is even more like Google Docs than Google Colab. Please let us know how it goes.) \n",
        "\n",
        "__The rest of this document asks you to perform a few tasks designed to introduce the course, sign up for some of the online tools, and set up your workspace in Jupyter.__\n",
        "\n",
        "__Expect to spend between 30 minutes and 2 hours, depending on your luck and skills.__\n",
        "\n",
        "-------\n",
        "## 1. Watch this video introduction.\n",
        "If the video does not appear then click on the run icon to the left."
      ]
    },
    {
      "cell_type": "code",
      "metadata": {
        "id": "I95WVwkCnTJF",
        "colab": {
          "base_uri": "https://localhost:8080/",
          "height": 579
        },
        "cellView": "form",
        "outputId": "6fbfc1bc-dc6e-4a6a-d4ae-be3a8f6b0e60"
      },
      "source": [
        "#@title Welcome to Databases for Analytics\n",
        "%%html\n",
        "<div style=\"max-width:1000px\">\n",
        "  <div style=\"position: relative;padding-bottom: 56.25%;height: 0;\">\n",
        "    <iframe style=\"position: absolute;top: 0;left: 0;width: 100%;height: 100%;\" rel=\"0\" modestbranding=\"1\"  src=\"https://www.youtube.com/embed/z20WMyHsITY\" frameborder=\"0\" allow=\"accelerometer; autoplay; encrypted-media; gyroscope; picture-in-picture\" allowfullscreen></iframe>\n",
        "  </div>\n",
        "</div>"
      ],
      "execution_count": null,
      "outputs": [
        {
          "output_type": "display_data",
          "data": {
            "text/html": [
              "<div style=\"max-width:1000px\">\n",
              "  <div style=\"position: relative;padding-bottom: 56.25%;height: 0;\">\n",
              "    <iframe style=\"position: absolute;top: 0;left: 0;width: 100%;height: 100%;\" rel=\"0\" modestbranding=\"1\"  src=\"https://www.youtube.com/embed/z20WMyHsITY\" frameborder=\"0\" allow=\"accelerometer; autoplay; encrypted-media; gyroscope; picture-in-picture\" allowfullscreen></iframe>\n",
              "  </div>\n",
              "</div>"
            ],
            "text/plain": [
              "<IPython.core.display.HTML object>"
            ]
          },
          "metadata": {
            "tags": []
          }
        }
      ]
    },
    {
      "cell_type": "markdown",
      "metadata": {
        "id": "FNS2TrLrnN6u"
      },
      "source": [
        "## 2. Fill out [this short survey](https://docs.google.com/forms/d/e/1FAIpQLSdqAVMKO9kOivCkk9fHMnmSPM7JEo5w5uJN_vAhEcbrbB_aow/viewform?usp=sf_link).\n",
        "Your answers will be shared with the business analytics faculty as part of the program planning process. It will also help to advise on how to tailor the lessons in this course to your interests and skills. \n",
        "## 3. Sign up for the Fairfield Dolan Slack Workspace.\n",
        "* Follow [these instructions](https://github.com/christopherhuntley/DATA6510/blob/master/Slack.md). \n",
        "* Post an introductory message in the `#data6510` channel stating \n",
        "    - your name \n",
        "    - academic program (MBA, etc.)\n",
        "    - what you hope to get out of this course\n",
        "\n",
        "Note: Shift-Enter (or Shift-Return on some keyboards) allows Slack messages to continue onto another line. Maybe use a bullet list to make a good first impression? Slack supports basic Markdown syntax for things like lists and text styling, BTW. \n",
        "## 4. Sign up for DataCamp.\n",
        "[DataCamp](https://datacamp.com/) is an online code school that we have used for years as a complement to our analytics lessons. Everything is self-contained and you can work through the interactive assignments at your own pace. They have lots of courses to choose from but we will be focused on just database-related assignments. \n",
        "\n",
        "If you have not already done so another class, **please create a new DataCamp account using your @student.fairfield.edu email address.** You will get invited to join the DATA 6510 Databases for Analytics organization, where you will find several assignments to complete. Expect each assignment to take up to 3 hours or so and be pleasantly surprised if you finish early. Heads up: some quiz questions will be based on material only covered in DataCamp, so make sure you complete each assignment on time. \n",
        "\n",
        "## 5. Set up your Colab Workspace in Google Drive.\n",
        "### 5.1 Make sure your browser is Colab-compatible. \n",
        "- Colab needs to run in **Chrome without incognito** mode. (Otherwise, unspecified bad things will happen.) \n",
        "- Reopen this page, if necessary, to be sure that you are in the right browser and privacy mode. \n",
        "- Also, be sure that both Google Drive and Colab think you are using your `@student.fairfield.edu` account. \n",
        "![browser profiles must match](https://github.com/christopherhuntley/DATA6510/raw/master/img/L0_browser_profiles_must_match.png)\n",
        "\n",
        "### 5.2 Save this notebook to Google Drive. \n",
        "- Use the \"Save a copy in Drive\" command from the Colab File menu. \n",
        "![Save a copy ...](https://github.com/christopherhuntley/DATA6510/raw/master/img/L0_save_notebook_in_drive.png)\n",
        "\n",
        "- (If needed) Colab will automatically create a golden folder in your Google Drive called `Colab Notebooks`. Try to keep all your Colab work there so you can find it. We will assume the folder exists for data bookkeeping operations in a few of the lessons. \n",
        "![Colab Notebooks](https://github.com/christopherhuntley/DATA6510/raw/master/img/L0_Colan_Notebooks_Folder.png)\n",
        "\n",
        "- Rename the file to `L0_Course_Onboarding.ipynb` ; make sure to cut out the `Copy of ` text that Colab added to the file name. \n",
        "\n",
        "### 5.3 Create a Google Drive folder for your DATA 6510 work. \n",
        "- Inside the `Colab Notebooks` folder create a new folder called `DATA6510`. Note: please use **exactly** this name (INCLUDING THE ALL CAPS and NO SPACES) because some of the lessons won't work otherwise. Copy/paste to be sure you got it right.\n",
        "![DATA6510](https://github.com/christopherhuntley/DATA6510/raw/master/img/L0_BUAN6510_Folder.png)\n",
        "\n",
        "- Drag your `L0_Course_Onboarding.ipynb` notebook into the `DATA6510` folder. It should have the golden infinity icon marking it as a Colab notebook file. \n",
        "![Colab Notebook with Special File Icon](https://github.com/christopherhuntley/DATA6510/raw/master/img/L0_Notebook_File_Icon.png)\n",
        "\n",
        "### 5.4 Mount your Google Drive workspace in Colab.\n",
        "- Run the cell below. Follow instructions to select your Google Drive and then copy and paste the authorization code. Be sure to select your student.fairfield.edu account when asked. When it's done click the file folder to the left of this notebook to see your files. You will see Google Drive (as `drive`) with your magic `Colab Notebooks` folder listed a couple clicks deep in the file hierarchy. We will use that folder setup to save files from Colab directly to your Google Drive. \n"
      ]
    },
    {
      "cell_type": "code",
      "metadata": {
        "colab": {
          "base_uri": "https://localhost:8080/"
        },
        "id": "n_8cZx72qjaQ",
        "outputId": "9227f883-5331-428a-83ce-e41ba6e37fe7"
      },
      "source": [
        "from google.colab import drive\n",
        "drive.mount('/content/drive')"
      ],
      "execution_count": null,
      "outputs": [
        {
          "output_type": "stream",
          "text": [
            "Mounted at /content/drive\n"
          ],
          "name": "stdout"
        }
      ]
    },
    {
      "cell_type": "markdown",
      "metadata": {
        "id": "BjHvfyYYrerV"
      },
      "source": [
        "### 5.5 In Google Drive, click your `L0_Course_Onboarding.ipynb` file to open it. \n",
        "- Google Drive should automatically recognize that you have clicked on a notebook file and offer to use Colab to open it. \n",
        "- If Google Colab is not offered as an option then your browser is likely using a different Google identity (like a personal @gmail.com account?) instead of your @student.fairfield.edu account. DO NOT SKIP THIS AND FIGURE IT WILL JUST WORK OUT. Google Classroom will not permit your work to be submitted from anything but your student Gooogle account. Ask for help if needed to get this working. "
      ]
    }
  ]
}