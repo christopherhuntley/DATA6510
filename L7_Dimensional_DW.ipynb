{
  "nbformat": 4,
  "nbformat_minor": 0,
  "metadata": {
    "colab": {
      "provenance": [],
      "mount_file_id": "11MBPducEj0HgT0u-nrCE60AvHJQnPR3y",
      "authorship_tag": "ABX9TyMwWxksIt9uchRemXUMEWul",
      "include_colab_link": true
    },
    "kernelspec": {
      "name": "python3",
      "display_name": "Python 3"
    }
  },
  "cells": [
    {
      "cell_type": "markdown",
      "metadata": {
        "id": "view-in-github",
        "colab_type": "text"
      },
      "source": [
        "<a href=\"https://colab.research.google.com/github/christopherhuntley/DATA6510/blob/master/L7_Dimensional_DW.ipynb\" target=\"_parent\"><img src=\"https://colab.research.google.com/assets/colab-badge.svg\" alt=\"Open In Colab\"/></a>"
      ]
    },
    {
      "cell_type": "markdown",
      "metadata": {
        "id": "5rHzwUorF5ab"
      },
      "source": [
        "<img src=\"https://github.com/christopherhuntley/DATA6510/blob/master/img/Dolan.png?raw=true\" width=\"180px\" align=\"right\">\n",
        "\n",
        "# **DATA 6510**\n",
        "# **Lesson 7: Dimensional Data Warehouses** \n",
        "_Facts, Dimensions, and Cubes_\n",
        "\n",
        "## **Learning Objectives**\n",
        "### **Theory / Be able to explain ...**\n",
        "- How database design for analytical applications is different from that for transaction systems\n",
        "- The various forms of the star schema and when each is most applicable\n",
        "- The concept of data granularity in dimensional data warehouses\n",
        "- Data cubes as a dimensional data model\n",
        "- Recent SQL extensions geared towards analytical applications \n",
        "\n",
        "### **Skills / Know how to ...**\n",
        "- Identify dimensions that provide context to facts\n",
        "- Use SQL window functions to work with longitudinal data\n",
        "- Use SQL arrays and structs to work with repeating groups and hierarchical data structures\n",
        "\n",
        "--------"
      ]
    },
    {
      "cell_type": "markdown",
      "metadata": {
        "id": "euT4WJUOymsJ"
      },
      "source": [
        "## **BIG PICTURE: The Holy Grail of Data Warehousing**\n",
        "\n",
        "Data Warehousing as the \"one true source of truth\" is an idea that goes all the way back to the 1980s. Analysts had by that point built up quite a repertoire of models for just about any kind of analysis. They could create classification and regression trees (decision trees, random forests, etc.). They could do linear, nonlinear, kernel, and logistic regression with large datasets. They could solve optimization problems with thousands of variables and tens of thousands of constraints. Even the neural network models at the core of the latest and greatest deep learning techniques were pretty mature by 1994.  \n",
        "\n",
        "What was missing was data! Well, sort of. Mainframe systems had been collecting transaction data for decades. Every day, banks and credit card companies were processing millions of transactions, transportation systems were tracking hundreds of thousands of shipments, etc. All we had to do was archive it all so we could analyze it later. Or so it seemed to most of us. \n",
        "\n",
        "Analytical data is not the same as transactional data, of course, in ways that were clear at the time.   \n",
        "\n",
        "|   | Transactional Data | Analytical Data |\n",
        "|---| | |\n",
        "| **Scope** | Functional / Operational | Strategic / Executive |\n",
        "| **Provenance** | Online / Production | Historical + 3-rd Party |\n",
        "| **Operating Environment** | Enterprise / Big Iron | Workspace / Workstation |\n",
        "| **Data Quality** | \"good enough to run the company\" | \"small errors compound over time\" |\n",
        "| **Performance Objective** | maximize transactions per hour | minimize time to results |\n",
        "| **Access to Datasets** | read-only queries and reports | offline, with ability to make corrections |\n",
        "\n",
        "Where would anybody get the analytical data with the right scope, volume, quality, etc. quickly and easily enough to useful? \n",
        "\n",
        "Even back then the ultimate solutions were known, though not remotely close to being available. Consider, for example, this figure from Ralph Kimball's seminal book *The Data Warehouse Lifecycle Toolkit*, published in 1998 and based on original work **from the mid-1980s**.\n",
        "\n",
        "![Kimball's Data Warehouse](https://github.com/christopherhuntley/DATA6510/raw/master/img/L10_Kimball_Data_Warehouse_Elements.png)\n",
        "\n",
        "All of the elements of a modern data pipeline are there. It even articulated the steps of the ETL process in detail. It was all there ... to be realized *someday*. \n",
        "\n",
        "Someday is now. With commodity data storage, ample computing power, ready-made software for just about any kind of modeling, and the analytical results to attract attention from management, data infrastructure is finally seen as what it should have been all along: a critical resource upon which the company relies to make it stand out against the competition. \n",
        "\n",
        "That's what the vendors tell us, anyway. \n",
        "\n",
        "In this lesson we will explore the **Dimensional Data Warehouse** model first proposed by Kimball et al. all those years ago. We will also consider how its mass adoption has influenced the SQL standard in recent years, with the addition of **window functions** and **collection** data types that relax fundamental assumptions of the relational data model in favor of analytical use cases. "
      ]
    },
    {
      "cell_type": "markdown",
      "metadata": {
        "id": "LCSbx4saW1Hu"
      },
      "source": [
        "---\n",
        "## **The Star Schema Pattern**\n",
        "\n",
        "At some level, nearly all data warehouses look roughly the same. There is a huge table in the center with lots of columns and foreign key relationships to  smaller tables around the periphery. This general pattern is called a **star schema**. A relational database that implements the star schema pattern (or one of its variants) is called a dimensional data warehouse.\n",
        "\n",
        "> **Heads Up**: The star schema is a **design pattern, a standard solution to a standard problem.** By standardizing what they call these solutions, designers can communicate among themselves with just a few words instead of re-explaining the details every time. It is both more efficient and potentially less error-prone, as any standard should be.   \n",
        "\n",
        "The Star Schema pattern features two kinds of tables:\n",
        "- **A fact table with precomputed quantitative measures.** The measures themselves are somewhat volatile, with new measures continually added and others redefined to suit the ever changing needs of the analysts. If there is a way to precompute a statistic or other measure so analysts don't have to, then do it. If a given measure is no longer needed or misleading, then we redefine or remove it. \n",
        "- **Dimension tables that provide context for the facts.** Dimensions are somewhat timeless and immutable. Even when the facts themselves may change over time, the dimensions remain relatively static. \n",
        "\n",
        "Generally, the fact table has a foreign key reference to each of the dimension tables. Dimension tables, meanwhile, stand on their own, without any foreign keys. \n",
        "\n",
        "The star schema addresses the disconnect between the way data is recorded versus how it is used by analysts. It reduces all data down to measures (facts) and context (dimensions). Since *all information* takes that form eventually, star schemas strike a nice balance between structure and general applicability.\n",
        "\n",
        "Once again, here is the NBA PlayFacts warehouse, this time noting some of the key features. We will use it as an example, starting with the dimensions before moving on to the facts. We will also explore variations on the general star schema pattern that fit certain use cases. \n",
        "![NBA PlayFacts Dim DW](https://github.com/christopherhuntley/DATA6510/raw/master/img/L10_Star_Schema_Notes.png)"
      ]
    },
    {
      "cell_type": "markdown",
      "metadata": {
        "id": "oHB_1psdXByM"
      },
      "source": [
        "---\n",
        "## **Dimension Tables**\n",
        "Dimensions are the lens through which we interpret each fact. They are what give it context and meaning. \n",
        "\n",
        "In theory the **dimensions are strong entities that exist independently of the facts**. Each fact, meanwhile, represents a collection (more like a selection) of details found in the dimensions. We'll go deeper into this when get discuss fact tables and granularity. \n",
        "\n",
        "Though there is some disagreement about this, **the usual recommendation is that dimension tables be fully _denormalized_**. Since they are often fairly small (relative to the fact table) and don't change much, there is little chance of creating anomalies over time. So, while it may be tempting to, for example, normalize out zip codes and cities from a location dimension, there is no real need, especially when it would require an unnecessary table join.\n",
        "\n",
        "So, what kinds of details are we talking about? A good starting point is the framework used by journalists and storytellers the world over:\n",
        "- **Who was involved?** People, roles, etc. \n",
        "- **What happened** Event types, outcomes, etc. \n",
        "- **When did it happen?** Timing or place in a sequence\n",
        "- **Where did it happen?** Location, which may be conceptual rather than physical\n",
        "- **Why did it happen?** Intent, cause, etc. \n",
        "- **How did it happen?** Steps, sequential logic, etc. \n",
        "\n",
        "\n",
        "Each of the who/what/when/where/why/how questions can suggest multiple dimensions. As we can see in the NBA example, the question of \"who is involved in a given play?\" is answered with *three* dimensions: \n",
        "- the individual player who gets credited with each event\n",
        "- the lineup of players on the court at the time\n",
        "- the team whose play is being reflected by the facts\n",
        "\n",
        "It is done this way to support different, independently-calculated measures:\n",
        "- the counting stats (points, rebounds, assists, etc.) for an individual player, lineup, or team\n",
        "- the total playing time for each player or lineup  on the court, even when they are not generating counting stats\n",
        "\n",
        "### **How Many Dimensions? Granularity and Focus**\n",
        "An often overlooked but potentially tricky aspect of dimensional design is whether dimensions are allowed to overlap. In other words, can the same dimension be represented two different ways? Can we combine dimensions to create a third uber-dimension? \n",
        "\n",
        "Like a lot of things, it depends.  \n",
        "\n",
        "**When to combine dimensions:** Some dimensions may permit several levels of *granularity*. For example, a given office is in a region, which is in a division, etc. To borrow terminology from normalization, we say that there is a chain of functional dependencies: office $\\rightarrow$ region $\\rightarrow$ division. The recommendation is to keep the levels together in a single dimension table rather than separate them out. \n",
        "> This would apply, for example, to the way NBA teams are grouped into *divisions* and *conferences* (Eastern or Western) that affect scheduling decisions. In other words, team $\\rightarrow$ division $\\rightarrow$ conference. Since each group nests cleanly inside the next, there is no need to separate them. \n",
        "\n",
        "**When to separate into multiple dimensions:** Within a company the *location* of a fact can mean geolocation (addresses) or a spot in organizational hierarchy (functional area, group, etc.). While they are both location dimensions, they are not logically connected via a functional dependency. They should reside in separate dimension tables, not one. \n",
        "> We have already seen this case with the NBA players, lineups, and teams. There are many-to-many relationships among them, making it impossible to create a consistent functional dependency chain; they don't nest together cleanly. \n",
        "\n",
        "### **Slowly Changing Dimensions**\n",
        "\n",
        "There are plenty of specialized types of dimensions (conformed, role-playing, junk, etc.) that serve different purposes. Most of the time, however, we are working with so-called **_slow moving_** dimensions where the rows and columns don't change much over time. Often such dimensions can be maintained by hand or perhaps via a periodic updating process. \n",
        "\n",
        "For example, while NBA players do occasionally move from team to team or sign \"10 day contracts\" to replace injured players, for the most part the team rosters do not change much during the season. We can maintain them as needed, starting with a preliminary roster at the start of the seaosn and then adding to it as new players join the team. \n",
        "\n",
        "Similarly, NBA games are scheduled released well in advance, allowing us to update the games dimension all at once with perhaps a rare game reschedule if needed. "
      ]
    },
    {
      "cell_type": "markdown",
      "metadata": {
        "id": "NekcmKiCsxQm"
      },
      "source": [
        "---\n",
        "## **Fact Tables**\n",
        "**Fact tables exist at the intersection of the dimension tables.** Each fact is labeled with foreign keys, usually one key per dimension. The rest of the columns are measures that can be used in aggregate calculations.  \n",
        "\n",
        "What makes a good measure? Anything for which we can calculate descriptive statistics (counts, averages, etc.): \n",
        "- For text data, we generally are limited to the text itself and counts of some sort. We may, for example, count the number of times the word \"no\" appears, how many sentences there are, etc. \n",
        "- For numerical data we can use all of the usual statistics like mean, maximum, minimum, etc., or perhaps *bin* into nonoverlapping categories (or *segments*). \n",
        "- For temporal data (dates and times), we may calculate elapsed times, inter-event times, cumulative times, etc. that can be treated like numerical data.\n",
        "- For binary data (pictures, etc.), the options are very limited, though one may be able to apply a machine learning technique to generate numerical digests that can be aggregated.  \n",
        "\n",
        "Interestingly, the fact table can only be as **granular** as the **dimensions** allow. In other words, if a given dimension only has 3 possible labels (rows), then that dimension can only divide up the facts three ways. We can, however, increase the granularity by adding **new** dimensions. Each additional dimension potentially increases the granularity but never decreases it. Alternatively, we can increase the granularity by adding strategically selected rows to an **existing** dimension. \n",
        "\n",
        "One way to visualize this is with a (hyper-) cube, with each dimension on a side. Each fact is *binned* inside one of the smaller cubes at the intersection of the dimensions. For the NBA PlayFacts cube below, each fact is binned based on the game, team, and player. Thus, if with only three dimensions, we would only be able to generate box score stats for full games. In order to get statistics within a game (e.g., for the last two minutes of each period) we would need to include a *play segment* dimension. (Don't ask about how we'd show a 4-dimensional cube. Just know that we can.) Thus, by adding a dimension we have also increased the granularity. \n",
        "\n",
        "![Data Cube](https://github.com/christopherhuntley/DATA6510/raw/master/img/L10_DataCube_wide.png)\n",
        "\n",
        "> **Heads Up:** It is sometimes difficult to distinguish dimensions from measures when source data is numerical. For example, is the time on the clock (i.e., seconds remaining in the period) a measure or a dimension? It is a measure, in the sense that it captures the passage of time, but it is also a dimension, in that it records when a given event happened. The key when considering whether any given quantity belongs on the fact table is to ask whether you would i) aggregate it (sum, average, etc.) or ii) cite it. In a basketball game it is the latter (cited), so we separate it out into the play segment dimension. The clock *interval* between events (elapsed time), however, is something that we can sum up by quarter, player, etc. Thus, it belongs on the fact table.  \n",
        "\n",
        "### **Rollups and Drilldowns**\n",
        "\n",
        "One of the big advantages of a dimensional data warehouse design is that it makes it very simple to aggregate and disaggregate data at various levels of granularity. \n",
        "\n",
        "> **Heads Up**: The terms \"rollup\" and \"drilldown\" were coined by vendors of OLAP (OnLine Analytical Processing) systems that do real-time ETL from transaction data but the terms can be readily applied to any dimensional data warehouse.\n",
        "\n",
        "A **rollup** is the standard `GROUP BY` aggregation operation. The idea is that a whole stripe of data in the cube (i.e., a dimension) is \"rolled up\" like a carpet and then replaced with summary data. We can do this for several dimensions at a time to get summarized data of various purposes. \n",
        "\n",
        "A **drilldown** is the opposite of a rollup. Starting with aggregate data, a drilldown disaggregates it to a finer level of granularity. Behind the scenes, it is the same as a rollup, just with a lower level of aggregation. Ultimately, the lowest level of a drilldown is the fact table itself. \n",
        " \n"
      ]
    },
    {
      "cell_type": "markdown",
      "metadata": {
        "id": "TLgrt7SbXMvV"
      },
      "source": [
        "---\n",
        "## **Variations**\n",
        "### **Dimension *Tables* vs Dimension *Columns***\n",
        "One of the advantages of keeping dimensional data in separate tables is that it can significantly reduce storage costs by eliminating redundant data. However, with the advent of cheap cloud-based data storage, cost becomes less important than performance. Thus, we may choose to denormalize everything into a single table (or materialized view) that doesn't require any expensive joins. It's simple enough. If we already have the data in a normalized form, then we would just need to join in every table and select every column to generate a new \"one table fits all\" data warehouse. \n",
        "\n",
        "```sql\n",
        "-- A materialzied view is like a self-updating table\n",
        "CREATE MATERIALIZED VIEW denormalized_fact_table AS\n",
        "  ( SELECT *\n",
        "    FROM fact_table \n",
        "      JOIN dimension_a ...\n",
        "      JOIN dimension_b ...\n",
        "      JOIN ...\n",
        "  );\n",
        "```\n",
        "The dimensions would still be there, just as columns instead of tables. The joins would be completed in advance, simplifying `SELECT` queries even further.\n",
        "\n",
        "> Note that in practice we would not use * in a view object; it's much more efficient to list specific columns. Also, materialized views need to be refreshed just before use to avoid stale data. \n",
        "\n",
        "While denormalized views sound great in theory, there are two good reasons for creating separate dimension tables: \n",
        "- **If care is taken to *use just foreign keys in the `GROUP BY` clause*, then it can *sometimes* be actually be faster to query multiple tables than a single table.** This is because the joins will happen **after** the grouping has reduced the data to a manageable number of fact table rows. The incremental performance cost of the join is then practically nil, especially if there are a small number of groups in the result set. \n",
        "- **Dimension tables provide opportunities to add in static descriptive data.** For example, we could add in the seating capacity or age of a given basketball arena if we treat it as a dimension table instead of just a column. If an arena were just a few columns then we'd have to update the view each time we added a column. \n",
        "\n",
        "Whether either of these advantages are relevant depends on the situation. As a general rule, unless you have a good reason not to, it is best to create dimension tables instead of dimension columns. You can always create a view if needed. "
      ]
    },
    {
      "cell_type": "markdown",
      "metadata": {
        "id": "3bz9O8d7XSev"
      },
      "source": [
        "### **Snowflakes and Galaxies**\n",
        "\n",
        "The rule that dimensions be denormalized is more of a convenience than a law. The purpose is to make writing queries as simple and bug-free as possible. However, if we are ultimately going to denormalize the data using the same joins every time, then what difference does it make how many joins there are? Such is the reasoning behind the so-called **Snowflake design pattern**. \n",
        "\n",
        "Here, for example, is the snowflake version of the PlayFacts database. The dotted lines show relationships normalized out from the star schema dimensions. There is no effect on the fact table, just more detail in the dimensions. \n",
        "![](https://github.com/christopherhuntley/DATA6510/raw/master/img/L10_NBA_PlayFacts_Snowflake_DW.png) \n",
        "\n",
        "The advantages of normalizing the dimensions include:\n",
        "- less data redundancy, smaller storage requirements, etc. that we usually associate with normalization\n",
        "- the ability to add new details (like team franchises or arenas) without disrupting existing dimensions\n",
        "\n",
        "It is important to point out that the snowflake and star schema patterns are both perfectly valid. Which to use is totally situational. Let the data, its usage, and performance considerations guide your decision. \n",
        "\n",
        "Like the snowflake pattern, the **galaxy pattern** also extends the star schema, this time by allowing multiple fact tables. The baseball database from lesson 2 is a galaxy with ...\n",
        "- Fact tables for fielding, batting, pitching, etc.  \n",
        "- Dimension tables for players (Master), teams, all star game appearances, etc. \n",
        "It also follows the snowflake pattern, with enhancements like All Star Game appearances, Hall of Fame voting, etc. attached to the players and teams. \n",
        "\n",
        "![Lahman 2016 ERD](https://github.com/christopherhuntley/DATA6510/raw/master/img/L2_baseball_stats_schema.png)\n"
      ]
    },
    {
      "cell_type": "markdown",
      "metadata": {
        "id": "A0BMRLxqZwqZ"
      },
      "source": [
        "---\n",
        "## **Advanced SQL Tips**\n",
        "\n",
        "### **Window Functions**\n",
        "\n",
        "Longitudinal data, where the meaning of a given fact is determined relative to the ones before it, is inherently problematic. The complexity is subtle, practically invisible to untrained eyes, but it can nonetheless wreak havoc on even the best data model. \n",
        "\n",
        "The relational data model is designed to capture instantaneous snapshots of whatever is being tracked, adding one row at a time. Similarly, `SELECT` queries return data one row at a time. That makes it nice and symmetric, with rows in and rows out. \n",
        "\n",
        "Now for the subtle part. If we want to include a calculated column, say the difference between two other columns in the same row, then we'd do something like this:\n",
        "```sql\n",
        "SELECT column_b - column_a AS b_minus_a \n",
        "FROM ... ;\n",
        "```\n",
        "That seems simple enough. We can also, of course, use `GROUP BY` to calculate subtotals within a given column if we like:\n",
        "```sql\n",
        "SELECT sum(column_a) as subtotal_a\n",
        "FROM ...\n",
        "GROUP BY column_b;\n",
        "```\n",
        "In both cases we are performing a calculation over *nonoverlapping* groups of rows and columns (i.e., either within each row or aggregated within predefined groups of rows).\n",
        "\n",
        "However, what if we need to calculate differences between each row and *the one above it*? Then it gets more complicated, *because the groups overlap*. Not even `GROUP BY` can help us with that, unless we somehow make each row and the one above it a group, which seems highly inefficient at best. We'll instead have to dig deeper into our bag of tricks: \n",
        "- Join a table to itself using some sort of lag logic on the keys:\n",
        "```\n",
        "SELECT t2.column_a - t1.column_a AS diff_a_lag_1\n",
        "FROM table AS t1 JOIN table AS t2 ON (t1.id = t2.id + 1)\n",
        "```\n",
        "- Use Python or another programming language to do the work. pandas has the `shift()` method just for such a purpose. You merge one table with a shifted version of itself. If you go this route, of course, you will need SQL to read the input data and then write the calculations back to the database afterwards. That's a nontrivial solution to say the least.  \n",
        "- Use a SQL **window function**, which operates vertically within a column instead of laterally within a row. \n",
        "\n",
        "For most use cases, window functions will be your best choice. \n",
        "\n",
        "Window functions are used in the `SELECT` and `ORDER BY` clauses to aggregate longitudinal data *without a `GROUP BY` clause*. Instead of the traditional grouping operation, the expression being calculated specifies a *sliding window* of rows, anchored by the current row. The syntax is \n",
        "```sql\n",
        "expression OVER ( window_selector )\n",
        "```\n",
        "The `window_selector` specifies what rows to include and can use pretty sophisticated selection criteria like any of the following:\n",
        "- X rows before and Y rows after the current row\n",
        "- All rows before the current row\n",
        "- All rows where column X is within some range of Z in the current row\n",
        "- X rows before and Y rows after, sorted by the value of Z\n",
        "\n",
        "The window function partitions the rows (much like `GROUP BY`) based on the given criteria and then calculates the expression based on the current row. The expression is almost always an aggregation function like `SUM()` or `AVG()`, of which there are too many to list here. There are even special ones like [`STRING_AGG()`](https://cloud.google.com/bigquery/docs/reference/standard-sql/functions-and-operators#string_agg) that work with non-numeric data types. \n",
        "\n",
        "Here, for example, we are calculating the cumulative minutes for each NBA player lineup throughout a season of play.  \n",
        "\n",
        "\n",
        "\n"
      ]
    },
    {
      "cell_type": "code",
      "metadata": {
        "colab": {
          "base_uri": "https://localhost:8080/"
        },
        "id": "aD5HZzTObU0b",
        "outputId": "ee0be12a-5627-4564-fe9a-5bbc64bac5fc"
      },
      "source": [
        "# load the bigquery magics extension\n",
        "%load_ext google.cloud.bigquery\n",
        "%load_ext google.colab.data_table\n",
        "\n",
        "# authenticate for GCP access\n",
        "from google.colab import auth\n",
        "auth.authenticate_user()\n",
        "print('Authenticated')"
      ],
      "execution_count": null,
      "outputs": [
        {
          "output_type": "stream",
          "text": [
            "The google.cloud.bigquery extension is already loaded. To reload it, use:\n",
            "  %reload_ext google.cloud.bigquery\n",
            "Authenticated\n"
          ],
          "name": "stdout"
        }
      ]
    },
    {
      "cell_type": "code",
      "metadata": {
        "colab": {
          "base_uri": "https://localhost:8080/",
          "height": 623
        },
        "id": "3dUga94Fbq0j",
        "outputId": "a1bfb097-a29a-4723-d953-8f763192698d"
      },
      "source": [
        "%%bigquery --project nba-lineup-facts\n",
        "SELECT \n",
        "    game_id, \n",
        "    date,\n",
        "    lineup, \n",
        "    sum(play_length_mins) OVER \n",
        "      (PARTITION BY lineup ORDER BY game_id ROWS BETWEEN UNBOUNDED PRECEDING AND CURRENT ROW ) \n",
        "      AS cum_mins\n",
        "FROM `nba-lineup-facts.lineup_facts.game_facts_all` \n",
        "WHERE year = 2020\n",
        "ORDER BY lineup, date\n",
        "LIMIT 100"
      ],
      "execution_count": null,
      "outputs": [
        {
          "output_type": "execute_result",
          "data": {
            "application/vnd.google.colaboratory.module+javascript": "\n      import \"https://ssl.gstatic.com/colaboratory/data_table/a6224c040fa35dcf/data_table.js\";\n\n      window.createDataTable({\n        data: [[{\n            'v': 0,\n            'f': \"0\",\n        },\n{\n            'v': 21900415,\n            'f': \"21900415\",\n        },\n\"2019-12-18\",\n\"[\\\"D'Angelo Russell\\\", 'Damion Lee', 'Draymond Green', 'Eric Paschall', 'Glenn Robinson III']\",\n{\n            'v': 0.08333333333333333,\n            'f': \"0.08333333333333333\",\n        }],\n [{\n            'v': 1,\n            'f': \"1\",\n        },\n{\n            'v': 21900665,\n            'f': \"21900665\",\n        },\n\"2020-01-22\",\n\"[\\\"D'Angelo Russell\\\", 'Damion Lee', 'Draymond Green', 'Eric Paschall', 'Glenn Robinson III']\",\n{\n            'v': 0.7,\n            'f': \"0.7\",\n        }],\n [{\n            'v': 2,\n            'f': \"2\",\n        },\n{\n            'v': 21900679,\n            'f': \"21900679\",\n        },\n\"2020-01-24\",\n\"[\\\"D'Angelo Russell\\\", 'Damion Lee', 'Draymond Green', 'Eric Paschall', 'Glenn Robinson III']\",\n{\n            'v': 4.2333333333333325,\n            'f': \"4.2333333333333325\",\n        }],\n [{\n            'v': 3,\n            'f': \"3\",\n        },\n{\n            'v': 21900757,\n            'f': \"21900757\",\n        },\n\"2020-02-05\",\n\"[\\\"D'Angelo Russell\\\", 'Damion Lee', 'Draymond Green', 'Eric Paschall', 'Marquese Chriss']\",\n{\n            'v': 13.45,\n            'f': \"13.45\",\n        }],\n [{\n            'v': 4,\n            'f': \"4\",\n        },\n{\n            'v': 21900757,\n            'f': \"21900757\",\n        },\n\"2020-02-05\",\n\"[\\\"D'Angelo Russell\\\", 'Damion Lee', 'Draymond Green', 'Eric Paschall', 'Omari Spellman']\",\n{\n            'v': 1.7333333333333334,\n            'f': \"1.7333333333333334\",\n        }],\n [{\n            'v': 5,\n            'f': \"5\",\n        },\n{\n            'v': 21900076,\n            'f': \"21900076\",\n        },\n\"2019-11-01\",\n\"[\\\"D'Angelo Russell\\\", 'Damion Lee', 'Draymond Green', 'Glenn Robinson III', 'Marquese Chriss']\",\n{\n            'v': 2.2666666666666666,\n            'f': \"2.2666666666666666\",\n        }],\n [{\n            'v': 6,\n            'f': \"6\",\n        },\n{\n            'v': 21900366,\n            'f': \"21900366\",\n        },\n\"2019-12-11\",\n\"[\\\"D'Angelo Russell\\\", 'Damion Lee', 'Draymond Green', 'Glenn Robinson III', 'Marquese Chriss']\",\n{\n            'v': 5.15,\n            'f': \"5.15\",\n        }],\n [{\n            'v': 7,\n            'f': \"7\",\n        },\n{\n            'v': 21900665,\n            'f': \"21900665\",\n        },\n\"2020-01-22\",\n\"[\\\"D'Angelo Russell\\\", 'Damion Lee', 'Draymond Green', 'Glenn Robinson III', 'Marquese Chriss']\",\n{\n            'v': 8.55,\n            'f': \"8.55\",\n        }],\n [{\n            'v': 8,\n            'f': \"8\",\n        },\n{\n            'v': 21900679,\n            'f': \"21900679\",\n        },\n\"2020-01-24\",\n\"[\\\"D'Angelo Russell\\\", 'Damion Lee', 'Draymond Green', 'Glenn Robinson III', 'Marquese Chriss']\",\n{\n            'v': 21.533333333333328,\n            'f': \"21.533333333333328\",\n        }],\n [{\n            'v': 9,\n            'f': \"9\",\n        },\n{\n            'v': 21900702,\n            'f': \"21900702\",\n        },\n\"2020-01-28\",\n\"[\\\"D'Angelo Russell\\\", 'Damion Lee', 'Draymond Green', 'Glenn Robinson III', 'Marquese Chriss']\",\n{\n            'v': 35.31666666666666,\n            'f': \"35.31666666666666\",\n        }],\n [{\n            'v': 10,\n            'f': \"10\",\n        },\n{\n            'v': 21900717,\n            'f': \"21900717\",\n        },\n\"2020-01-30\",\n\"[\\\"D'Angelo Russell\\\", 'Damion Lee', 'Draymond Green', 'Glenn Robinson III', 'Marquese Chriss']\",\n{\n            'v': 52.46666666666666,\n            'f': \"52.46666666666666\",\n        }],\n [{\n            'v': 11,\n            'f': \"11\",\n        },\n{\n            'v': 21900730,\n            'f': \"21900730\",\n        },\n\"2020-02-01\",\n\"[\\\"D'Angelo Russell\\\", 'Damion Lee', 'Draymond Green', 'Glenn Robinson III', 'Marquese Chriss']\",\n{\n            'v': 69.35,\n            'f': \"69.35\",\n        }],\n [{\n            'v': 12,\n            'f': \"12\",\n        },\n{\n            'v': 21900076,\n            'f': \"21900076\",\n        },\n\"2019-11-01\",\n\"[\\\"D'Angelo Russell\\\", 'Damion Lee', 'Draymond Green', 'Glenn Robinson III', 'Omari Spellman']\",\n{\n            'v': 1.1833333333333333,\n            'f': \"1.1833333333333333\",\n        }],\n [{\n            'v': 13,\n            'f': \"13\",\n        },\n{\n            'v': 21900702,\n            'f': \"21900702\",\n        },\n\"2020-01-28\",\n\"[\\\"D'Angelo Russell\\\", 'Damion Lee', 'Draymond Green', 'Glenn Robinson III', 'Omari Spellman']\",\n{\n            'v': 5.299999999999999,\n            'f': \"5.299999999999999\",\n        }],\n [{\n            'v': 14,\n            'f': \"14\",\n        },\n{\n            'v': 21900047,\n            'f': \"21900047\",\n        },\n\"2019-10-28\",\n\"[\\\"D'Angelo Russell\\\", 'Damion Lee', 'Draymond Green', 'Glenn Robinson III', 'Stephen Curry']\",\n{\n            'v': 2.033333333333333,\n            'f': \"2.033333333333333\",\n        }],\n [{\n            'v': 15,\n            'f': \"15\",\n        },\n{\n            'v': 21900076,\n            'f': \"21900076\",\n        },\n\"2019-11-01\",\n\"[\\\"D'Angelo Russell\\\", 'Damion Lee', 'Draymond Green', 'Glenn Robinson III', 'Willie Cauley-Stein']\",\n{\n            'v': 3.4833333333333325,\n            'f': \"3.4833333333333325\",\n        }],\n [{\n            'v': 16,\n            'f': \"16\",\n        },\n{\n            'v': 21900366,\n            'f': \"21900366\",\n        },\n\"2019-12-11\",\n\"[\\\"D'Angelo Russell\\\", 'Damion Lee', 'Draymond Green', 'Glenn Robinson III', 'Willie Cauley-Stein']\",\n{\n            'v': 4.033333333333332,\n            'f': \"4.033333333333332\",\n        }],\n [{\n            'v': 17,\n            'f': \"17\",\n        },\n{\n            'v': 21900393,\n            'f': \"21900393\",\n        },\n\"2019-12-15\",\n\"[\\\"D'Angelo Russell\\\", 'Damion Lee', 'Draymond Green', 'Glenn Robinson III', 'Willie Cauley-Stein']\",\n{\n            'v': 24.58333333333333,\n            'f': \"24.58333333333333\",\n        }],\n [{\n            'v': 18,\n            'f': \"18\",\n        },\n{\n            'v': 21900415,\n            'f': \"21900415\",\n        },\n\"2019-12-18\",\n\"[\\\"D'Angelo Russell\\\", 'Damion Lee', 'Draymond Green', 'Glenn Robinson III', 'Willie Cauley-Stein']\",\n{\n            'v': 34.91666666666666,\n            'f': \"34.91666666666666\",\n        }],\n [{\n            'v': 19,\n            'f': \"19\",\n        },\n{\n            'v': 21900429,\n            'f': \"21900429\",\n        },\n\"2019-12-20\",\n\"[\\\"D'Angelo Russell\\\", 'Damion Lee', 'Draymond Green', 'Glenn Robinson III', 'Willie Cauley-Stein']\",\n{\n            'v': 51.11666666666665,\n            'f': \"51.11666666666665\",\n        }],\n [{\n            'v': 20,\n            'f': \"20\",\n        },\n{\n            'v': 21900457,\n            'f': \"21900457\",\n        },\n\"2019-12-25\",\n\"[\\\"D'Angelo Russell\\\", 'Damion Lee', 'Draymond Green', 'Glenn Robinson III', 'Willie Cauley-Stein']\",\n{\n            'v': 71.14999999999999,\n            'f': \"71.14999999999999\",\n        }],\n [{\n            'v': 21,\n            'f': \"21\",\n        },\n{\n            'v': 21900471,\n            'f': \"21900471\",\n        },\n\"2019-12-27\",\n\"[\\\"D'Angelo Russell\\\", 'Damion Lee', 'Draymond Green', 'Glenn Robinson III', 'Willie Cauley-Stein']\",\n{\n            'v': 85.61666666666665,\n            'f': \"85.61666666666665\",\n        }],\n [{\n            'v': 22,\n            'f': \"22\",\n        },\n{\n            'v': 21900482,\n            'f': \"21900482\",\n        },\n\"2019-12-28\",\n\"[\\\"D'Angelo Russell\\\", 'Damion Lee', 'Draymond Green', 'Glenn Robinson III', 'Willie Cauley-Stein']\",\n{\n            'v': 97.84999999999998,\n            'f': \"97.84999999999998\",\n        }],\n [{\n            'v': 23,\n            'f': \"23\",\n        },\n{\n            'v': 21900617,\n            'f': \"21900617\",\n        },\n\"2020-01-16\",\n\"[\\\"D'Angelo Russell\\\", 'Damion Lee', 'Draymond Green', 'Glenn Robinson III', 'Willie Cauley-Stein']\",\n{\n            'v': 113.66666666666664,\n            'f': \"113.66666666666664\",\n        }],\n [{\n            'v': 24,\n            'f': \"24\",\n        },\n{\n            'v': 21900665,\n            'f': \"21900665\",\n        },\n\"2020-01-22\",\n\"[\\\"D'Angelo Russell\\\", 'Damion Lee', 'Draymond Green', 'Glenn Robinson III', 'Willie Cauley-Stein']\",\n{\n            'v': 123.09999999999998,\n            'f': \"123.09999999999998\",\n        }],\n [{\n            'v': 25,\n            'f': \"25\",\n        },\n{\n            'v': 21900471,\n            'f': \"21900471\",\n        },\n\"2019-12-27\",\n\"[\\\"D'Angelo Russell\\\", 'Damion Lee', 'Draymond Green', 'Jacob Evans', 'Ky Bowman']\",\n{\n            'v': 3.4000000000000004,\n            'f': \"3.4000000000000004\",\n        }],\n [{\n            'v': 26,\n            'f': \"26\",\n        },\n{\n            'v': 21900036,\n            'f': \"21900036\",\n        },\n\"2019-10-27\",\n\"[\\\"D'Angelo Russell\\\", 'Damion Lee', 'Draymond Green', 'Jacob Evans', 'Marquese Chriss']\",\n{\n            'v': 0.5833333333333333,\n            'f': \"0.5833333333333333\",\n        }],\n [{\n            'v': 27,\n            'f': \"27\",\n        },\n{\n            'v': 21900047,\n            'f': \"21900047\",\n        },\n\"2019-10-28\",\n\"[\\\"D'Angelo Russell\\\", 'Damion Lee', 'Draymond Green', 'Jordan Poole', 'Ky Bowman']\",\n{\n            'v': 0.75,\n            'f': \"0.75\",\n        }],\n [{\n            'v': 28,\n            'f': \"28\",\n        },\n{\n            'v': 21900144,\n            'f': \"21900144\",\n        },\n\"2019-11-11\",\n\"[\\\"D'Angelo Russell\\\", 'Damion Lee', 'Draymond Green', 'Jordan Poole', 'Marquese Chriss']\",\n{\n            'v': 2.35,\n            'f': \"2.35\",\n        }],\n [{\n            'v': 29,\n            'f': \"29\",\n        },\n{\n            'v': 21900065,\n            'f': \"21900065\",\n        },\n\"2019-10-30\",\n\"[\\\"D'Angelo Russell\\\", 'Damion Lee', 'Draymond Green', 'Jordan Poole', 'Omari Spellman']\",\n{\n            'v': 1.2666666666666666,\n            'f': \"1.2666666666666666\",\n        }],\n [{\n            'v': 30,\n            'f': \"30\",\n        },\n{\n            'v': 21900454,\n            'f': \"21900454\",\n        },\n\"2019-12-23\",\n\"[\\\"D'Angelo Russell\\\", 'Damion Lee', 'Draymond Green', 'Kevon Looney', 'Ky Bowman']\",\n{\n            'v': 1.6666666666666667,\n            'f': \"1.6666666666666667\",\n        }],\n [{\n            'v': 31,\n            'f': \"31\",\n        },\n{\n            'v': 21900047,\n            'f': \"21900047\",\n        },\n\"2019-10-28\",\n\"[\\\"D'Angelo Russell\\\", 'Damion Lee', 'Draymond Green', 'Ky Bowman', 'Omari Spellman']\",\n{\n            'v': 1.8666666666666665,\n            'f': \"1.8666666666666665\",\n        }],\n [{\n            'v': 32,\n            'f': \"32\",\n        },\n{\n            'v': 21900454,\n            'f': \"21900454\",\n        },\n\"2019-12-23\",\n\"[\\\"D'Angelo Russell\\\", 'Damion Lee', 'Draymond Green', 'Ky Bowman', 'Willie Cauley-Stein']\",\n{\n            'v': 2.1333333333333333,\n            'f': \"2.1333333333333333\",\n        }],\n [{\n            'v': 33,\n            'f': \"33\",\n        },\n{\n            'v': 21900047,\n            'f': \"21900047\",\n        },\n\"2019-10-28\",\n\"[\\\"D'Angelo Russell\\\", 'Damion Lee', 'Draymond Green', 'Marquese Chriss', 'Stephen Curry']\",\n{\n            'v': 1.4833333333333334,\n            'f': \"1.4833333333333334\",\n        }],\n [{\n            'v': 34,\n            'f': \"34\",\n        },\n{\n            'v': 21900065,\n            'f': \"21900065\",\n        },\n\"2019-10-30\",\n\"[\\\"D'Angelo Russell\\\", 'Damion Lee', 'Draymond Green', 'Omari Spellman', 'Stephen Curry']\",\n{\n            'v': 0.44999999999999996,\n            'f': \"0.44999999999999996\",\n        }],\n [{\n            'v': 35,\n            'f': \"35\",\n        },\n{\n            'v': 21900065,\n            'f': \"21900065\",\n        },\n\"2019-10-30\",\n\"[\\\"D'Angelo Russell\\\", 'Damion Lee', 'Draymond Green', 'Stephen Curry', 'Willie Cauley-Stein']\",\n{\n            'v': 0.8499999999999999,\n            'f': \"0.8499999999999999\",\n        }],\n [{\n            'v': 36,\n            'f': \"36\",\n        },\n{\n            'v': 21900047,\n            'f': \"21900047\",\n        },\n\"2019-10-28\",\n\"[\\\"D'Angelo Russell\\\", 'Damion Lee', 'Eric Paschall', 'Glenn Robinson III', 'Omari Spellman']\",\n{\n            'v': 3.8666666666666663,\n            'f': \"3.8666666666666663\",\n        }],\n [{\n            'v': 37,\n            'f': \"37\",\n        },\n{\n            'v': 21900076,\n            'f': \"21900076\",\n        },\n\"2019-11-01\",\n\"[\\\"D'Angelo Russell\\\", 'Damion Lee', 'Eric Paschall', 'Glenn Robinson III', 'Omari Spellman']\",\n{\n            'v': 4.549999999999999,\n            'f': \"4.549999999999999\",\n        }],\n [{\n            'v': 38,\n            'f': \"38\",\n        },\n{\n            'v': 21900120,\n            'f': \"21900120\",\n        },\n\"2019-11-08\",\n\"[\\\"D'Angelo Russell\\\", 'Damion Lee', 'Eric Paschall', 'Glenn Robinson III', 'Omari Spellman']\",\n{\n            'v': 7.0666666666666655,\n            'f': \"7.0666666666666655\",\n        }],\n [{\n            'v': 39,\n            'f': \"39\",\n        },\n{\n            'v': 21900717,\n            'f': \"21900717\",\n        },\n\"2020-01-30\",\n\"[\\\"D'Angelo Russell\\\", 'Damion Lee', 'Eric Paschall', 'Glenn Robinson III', 'Omari Spellman']\",\n{\n            'v': 8.35,\n            'f': \"8.35\",\n        }],\n [{\n            'v': 40,\n            'f': \"40\",\n        },\n{\n            'v': 21900120,\n            'f': \"21900120\",\n        },\n\"2019-11-08\",\n\"[\\\"D'Angelo Russell\\\", 'Damion Lee', 'Eric Paschall', 'Glenn Robinson III', 'Willie Cauley-Stein']\",\n{\n            'v': 3.716666666666666,\n            'f': \"3.716666666666666\",\n        }],\n [{\n            'v': 41,\n            'f': \"41\",\n        },\n{\n            'v': 21900047,\n            'f': \"21900047\",\n        },\n\"2019-10-28\",\n\"[\\\"D'Angelo Russell\\\", 'Damion Lee', 'Eric Paschall', 'Jacob Evans', 'Jordan Poole']\",\n{\n            'v': 0.8666666666666667,\n            'f': \"0.8666666666666667\",\n        }],\n [{\n            'v': 42,\n            'f': \"42\",\n        },\n{\n            'v': 21900730,\n            'f': \"21900730\",\n        },\n\"2020-02-01\",\n\"[\\\"D'Angelo Russell\\\", 'Damion Lee', 'Eric Paschall', 'Jacob Evans', 'Marquese Chriss']\",\n{\n            'v': 3.333333333333333,\n            'f': \"3.333333333333333\",\n        }],\n [{\n            'v': 43,\n            'f': \"43\",\n        },\n{\n            'v': 21900047,\n            'f': \"21900047\",\n        },\n\"2019-10-28\",\n\"[\\\"D'Angelo Russell\\\", 'Damion Lee', 'Eric Paschall', 'Jacob Evans', 'Omari Spellman']\",\n{\n            'v': 2.383333333333334,\n            'f': \"2.383333333333334\",\n        }],\n [{\n            'v': 44,\n            'f': \"44\",\n        },\n{\n            'v': 21900730,\n            'f': \"21900730\",\n        },\n\"2020-02-01\",\n\"[\\\"D'Angelo Russell\\\", 'Damion Lee', 'Eric Paschall', 'Jacob Evans', 'Omari Spellman']\",\n{\n            'v': 3.433333333333334,\n            'f': \"3.433333333333334\",\n        }],\n [{\n            'v': 45,\n            'f': \"45\",\n        },\n{\n            'v': 21900652,\n            'f': \"21900652\",\n        },\n\"2020-01-20\",\n\"[\\\"D'Angelo Russell\\\", 'Damion Lee', 'Eric Paschall', 'Jordan Poole', 'Marquese Chriss']\",\n{\n            'v': 0.0,\n            'f': \"0.0\",\n        }],\n [{\n            'v': 46,\n            'f': \"46\",\n        },\n{\n            'v': 21900065,\n            'f': \"21900065\",\n        },\n\"2019-10-30\",\n\"[\\\"D'Angelo Russell\\\", 'Damion Lee', 'Eric Paschall', 'Jordan Poole', 'Omari Spellman']\",\n{\n            'v': 2.65,\n            'f': \"2.65\",\n        }],\n [{\n            'v': 47,\n            'f': \"47\",\n        },\n{\n            'v': 21900652,\n            'f': \"21900652\",\n        },\n\"2020-01-20\",\n\"[\\\"D'Angelo Russell\\\", 'Damion Lee', 'Eric Paschall', 'Jordan Poole', 'Omari Spellman']\",\n{\n            'v': 2.7166666666666663,\n            'f': \"2.7166666666666663\",\n        }],\n [{\n            'v': 48,\n            'f': \"48\",\n        },\n{\n            'v': 21900679,\n            'f': \"21900679\",\n        },\n\"2020-01-24\",\n\"[\\\"D'Angelo Russell\\\", 'Damion Lee', 'Eric Paschall', 'Jordan Poole', 'Omari Spellman']\",\n{\n            'v': 4.699999999999999,\n            'f': \"4.699999999999999\",\n        }],\n [{\n            'v': 49,\n            'f': \"49\",\n        },\n{\n            'v': 21900717,\n            'f': \"21900717\",\n        },\n\"2020-01-30\",\n\"[\\\"D'Angelo Russell\\\", 'Damion Lee', 'Eric Paschall', 'Jordan Poole', 'Omari Spellman']\",\n{\n            'v': 5.083333333333332,\n            'f': \"5.083333333333332\",\n        }],\n [{\n            'v': 50,\n            'f': \"50\",\n        },\n{\n            'v': 21900634,\n            'f': \"21900634\",\n        },\n\"2020-01-18\",\n\"[\\\"D'Angelo Russell\\\", 'Damion Lee', 'Eric Paschall', 'Jordan Poole', 'Willie Cauley-Stein']\",\n{\n            'v': 10.033333333333333,\n            'f': \"10.033333333333333\",\n        }],\n [{\n            'v': 51,\n            'f': \"51\",\n        },\n{\n            'v': 21900652,\n            'f': \"21900652\",\n        },\n\"2020-01-20\",\n\"[\\\"D'Angelo Russell\\\", 'Damion Lee', 'Eric Paschall', 'Jordan Poole', 'Willie Cauley-Stein']\",\n{\n            'v': 13.383333333333333,\n            'f': \"13.383333333333333\",\n        }],\n [{\n            'v': 52,\n            'f': \"52\",\n        },\n{\n            'v': 21900730,\n            'f': \"21900730\",\n        },\n\"2020-02-01\",\n\"[\\\"D'Angelo Russell\\\", 'Damion Lee', 'Eric Paschall', 'Kevon Looney', 'Omari Spellman']\",\n{\n            'v': 0.13333333333333333,\n            'f': \"0.13333333333333333\",\n        }],\n [{\n            'v': 53,\n            'f': \"53\",\n        },\n{\n            'v': 21900757,\n            'f': \"21900757\",\n        },\n\"2020-02-05\",\n\"[\\\"D'Angelo Russell\\\", 'Damion Lee', 'Eric Paschall', 'Kevon Looney', 'Omari Spellman']\",\n{\n            'v': 1.0833333333333333,\n            'f': \"1.0833333333333333\",\n        }],\n [{\n            'v': 54,\n            'f': \"54\",\n        },\n{\n            'v': 21900634,\n            'f': \"21900634\",\n        },\n\"2020-01-18\",\n\"[\\\"D'Angelo Russell\\\", 'Damion Lee', 'Eric Paschall', 'Ky Bowman', 'Marquese Chriss']\",\n{\n            'v': 1.5499999999999998,\n            'f': \"1.5499999999999998\",\n        }],\n [{\n            'v': 55,\n            'f': \"55\",\n        },\n{\n            'v': 21900652,\n            'f': \"21900652\",\n        },\n\"2020-01-20\",\n\"[\\\"D'Angelo Russell\\\", 'Damion Lee', 'Eric Paschall', 'Marquese Chriss', 'Willie Cauley-Stein']\",\n{\n            'v': 0.0,\n            'f': \"0.0\",\n        }],\n [{\n            'v': 56,\n            'f': \"56\",\n        },\n{\n            'v': 21900652,\n            'f': \"21900652\",\n        },\n\"2020-01-20\",\n\"[\\\"D'Angelo Russell\\\", 'Damion Lee', 'Eric Paschall', 'Omari Spellman', 'Willie Cauley-Stein']\",\n{\n            'v': 0.1,\n            'f': \"0.1\",\n        }],\n [{\n            'v': 57,\n            'f': \"57\",\n        },\n{\n            'v': 21900131,\n            'f': \"21900131\",\n        },\n\"2019-11-09\",\n\"[\\\"D'Angelo Russell\\\", 'Damion Lee', 'Glenn Robinson III', 'Jordan Poole', 'Marquese Chriss']\",\n{\n            'v': 0.11666666666666667,\n            'f': \"0.11666666666666667\",\n        }],\n [{\n            'v': 58,\n            'f': \"58\",\n        },\n{\n            'v': 21900471,\n            'f': \"21900471\",\n        },\n\"2019-12-27\",\n\"[\\\"D'Angelo Russell\\\", 'Damion Lee', 'Glenn Robinson III', 'Ky Bowman', 'Willie Cauley-Stein']\",\n{\n            'v': 1.3666666666666667,\n            'f': \"1.3666666666666667\",\n        }],\n [{\n            'v': 59,\n            'f': \"59\",\n        },\n{\n            'v': 21900482,\n            'f': \"21900482\",\n        },\n\"2019-12-28\",\n\"[\\\"D'Angelo Russell\\\", 'Damion Lee', 'Glenn Robinson III', 'Ky Bowman', 'Willie Cauley-Stein']\",\n{\n            'v': 3.666666666666666,\n            'f': \"3.666666666666666\",\n        }],\n [{\n            'v': 60,\n            'f': \"60\",\n        },\n{\n            'v': 21900415,\n            'f': \"21900415\",\n        },\n\"2019-12-18\",\n\"[\\\"D'Angelo Russell\\\", 'Damion Lee', 'Glenn Robinson III', 'Omari Spellman', 'Willie Cauley-Stein']\",\n{\n            'v': 4.1,\n            'f': \"4.1\",\n        }],\n [{\n            'v': 61,\n            'f': \"61\",\n        },\n{\n            'v': 21900429,\n            'f': \"21900429\",\n        },\n\"2019-12-20\",\n\"[\\\"D'Angelo Russell\\\", 'Damion Lee', 'Glenn Robinson III', 'Omari Spellman', 'Willie Cauley-Stein']\",\n{\n            'v': 5.933333333333333,\n            'f': \"5.933333333333333\",\n        }],\n [{\n            'v': 62,\n            'f': \"62\",\n        },\n{\n            'v': 21900665,\n            'f': \"21900665\",\n        },\n\"2020-01-22\",\n\"[\\\"D'Angelo Russell\\\", 'Damion Lee', 'Glenn Robinson III', 'Omari Spellman', 'Willie Cauley-Stein']\",\n{\n            'v': 7.75,\n            'f': \"7.75\",\n        }],\n [{\n            'v': 63,\n            'f': \"63\",\n        },\n{\n            'v': 21900379,\n            'f': \"21900379\",\n        },\n\"2019-12-13\",\n\"[\\\"D'Angelo Russell\\\", 'Damion Lee', 'Jacob Evans', 'Kevon Looney', 'Marquese Chriss']\",\n{\n            'v': 3.45,\n            'f': \"3.45\",\n        }],\n [{\n            'v': 64,\n            'f': \"64\",\n        },\n{\n            'v': 21900379,\n            'f': \"21900379\",\n        },\n\"2019-12-13\",\n\"[\\\"D'Angelo Russell\\\", 'Damion Lee', 'Jacob Evans', 'Kevon Looney', 'Omari Spellman']\",\n{\n            'v': 0.7,\n            'f': \"0.7\",\n        }],\n [{\n            'v': 65,\n            'f': \"65\",\n        },\n{\n            'v': 21900379,\n            'f': \"21900379\",\n        },\n\"2019-12-13\",\n\"[\\\"D'Angelo Russell\\\", 'Damion Lee', 'Jacob Evans', 'Kevon Looney', 'Willie Cauley-Stein']\",\n{\n            'v': 0.6,\n            'f': \"0.6\",\n        }],\n [{\n            'v': 66,\n            'f': \"66\",\n        },\n{\n            'v': 21900379,\n            'f': \"21900379\",\n        },\n\"2019-12-13\",\n\"[\\\"D'Angelo Russell\\\", 'Damion Lee', 'Jacob Evans', 'Marquese Chriss', 'Omari Spellman']\",\n{\n            'v': 1.9000000000000001,\n            'f': \"1.9000000000000001\",\n        }],\n [{\n            'v': 67,\n            'f': \"67\",\n        },\n{\n            'v': 21900016,\n            'f': \"21900016\",\n        },\n\"2019-10-24\",\n\"[\\\"D'Angelo Russell\\\", 'Damion Lee', 'Jordan Poole', 'Kevon Looney', 'Stephen Curry']\",\n{\n            'v': 0.21666666666666667,\n            'f': \"0.21666666666666667\",\n        }],\n [{\n            'v': 68,\n            'f': \"68\",\n        },\n{\n            'v': 21900379,\n            'f': \"21900379\",\n        },\n\"2019-12-13\",\n\"[\\\"D'Angelo Russell\\\", 'Damion Lee', 'Jordan Poole', 'Marquese Chriss', 'Omari Spellman']\",\n{\n            'v': 0.5333333333333333,\n            'f': \"0.5333333333333333\",\n        }],\n [{\n            'v': 69,\n            'f': \"69\",\n        },\n{\n            'v': 21900652,\n            'f': \"21900652\",\n        },\n\"2020-01-20\",\n\"[\\\"D'Angelo Russell\\\", 'Damion Lee', 'Jordan Poole', 'Marquese Chriss', 'Omari Spellman']\",\n{\n            'v': 4.516666666666667,\n            'f': \"4.516666666666667\",\n        }],\n [{\n            'v': 70,\n            'f': \"70\",\n        },\n{\n            'v': 21900679,\n            'f': \"21900679\",\n        },\n\"2020-01-24\",\n\"[\\\"D'Angelo Russell\\\", 'Damion Lee', 'Jordan Poole', 'Marquese Chriss', 'Omari Spellman']\",\n{\n            'v': 5.966666666666667,\n            'f': \"5.966666666666667\",\n        }],\n [{\n            'v': 71,\n            'f': \"71\",\n        },\n{\n            'v': 21900757,\n            'f': \"21900757\",\n        },\n\"2020-02-05\",\n\"[\\\"D'Angelo Russell\\\", 'Damion Lee', 'Jordan Poole', 'Marquese Chriss', 'Omari Spellman']\",\n{\n            'v': 12.266666666666666,\n            'f': \"12.266666666666666\",\n        }],\n [{\n            'v': 72,\n            'f': \"72\",\n        },\n{\n            'v': 21900144,\n            'f': \"21900144\",\n        },\n\"2019-11-11\",\n\"[\\\"D'Angelo Russell\\\", 'Damion Lee', 'Jordan Poole', 'Marquese Chriss', 'Willie Cauley-Stein']\",\n{\n            'v': 0.6499999999999999,\n            'f': \"0.6499999999999999\",\n        }],\n [{\n            'v': 73,\n            'f': \"73\",\n        },\n{\n            'v': 21900454,\n            'f': \"21900454\",\n        },\n\"2019-12-23\",\n\"[\\\"D'Angelo Russell\\\", 'Damion Lee', 'Kevon Looney', 'Ky Bowman', 'Willie Cauley-Stein']\",\n{\n            'v': 2.183333333333333,\n            'f': \"2.183333333333333\",\n        }],\n [{\n            'v': 74,\n            'f': \"74\",\n        },\n{\n            'v': 21900016,\n            'f': \"21900016\",\n        },\n\"2019-10-24\",\n\"[\\\"D'Angelo Russell\\\", 'Draymond Green', 'Eric Paschall', 'Glenn Robinson III', 'Jacob Evans']\",\n{\n            'v': 7.233333333333334,\n            'f': \"7.233333333333334\",\n        }],\n [{\n            'v': 75,\n            'f': \"75\",\n        },\n{\n            'v': 21900016,\n            'f': \"21900016\",\n        },\n\"2019-10-24\",\n\"[\\\"D'Angelo Russell\\\", 'Draymond Green', 'Eric Paschall', 'Glenn Robinson III', 'Jordan Poole']\",\n{\n            'v': 0.5166666666666666,\n            'f': \"0.5166666666666666\",\n        }],\n [{\n            'v': 76,\n            'f': \"76\",\n        },\n{\n            'v': 21900351,\n            'f': \"21900351\",\n        },\n\"2019-12-09\",\n\"[\\\"D'Angelo Russell\\\", 'Draymond Green', 'Eric Paschall', 'Glenn Robinson III', 'Kevon Looney']\",\n{\n            'v': 3.4499999999999993,\n            'f': \"3.4499999999999993\",\n        }],\n [{\n            'v': 77,\n            'f': \"77\",\n        },\n{\n            'v': 21900366,\n            'f': \"21900366\",\n        },\n\"2019-12-11\",\n\"[\\\"D'Angelo Russell\\\", 'Draymond Green', 'Eric Paschall', 'Glenn Robinson III', 'Marquese Chriss']\",\n{\n            'v': 6.516666666666667,\n            'f': \"6.516666666666667\",\n        }],\n [{\n            'v': 78,\n            'f': \"78\",\n        },\n{\n            'v': 21900036,\n            'f': \"21900036\",\n        },\n\"2019-10-27\",\n\"[\\\"D'Angelo Russell\\\", 'Draymond Green', 'Eric Paschall', 'Glenn Robinson III', 'Stephen Curry']\",\n{\n            'v': 1.3833333333333333,\n            'f': \"1.3833333333333333\",\n        }],\n [{\n            'v': 79,\n            'f': \"79\",\n        },\n{\n            'v': 21900065,\n            'f': \"21900065\",\n        },\n\"2019-10-30\",\n\"[\\\"D'Angelo Russell\\\", 'Draymond Green', 'Eric Paschall', 'Glenn Robinson III', 'Stephen Curry']\",\n{\n            'v': 8.483333333333333,\n            'f': \"8.483333333333333\",\n        }],\n [{\n            'v': 80,\n            'f': \"80\",\n        },\n{\n            'v': 21900159,\n            'f': \"21900159\",\n        },\n\"2019-11-13\",\n\"[\\\"D'Angelo Russell\\\", 'Draymond Green', 'Eric Paschall', 'Glenn Robinson III', 'Willie Cauley-Stein']\",\n{\n            'v': 2.333333333333333,\n            'f': \"2.333333333333333\",\n        }],\n [{\n            'v': 81,\n            'f': \"81\",\n        },\n{\n            'v': 21900173,\n            'f': \"21900173\",\n        },\n\"2019-11-15\",\n\"[\\\"D'Angelo Russell\\\", 'Draymond Green', 'Eric Paschall', 'Glenn Robinson III', 'Willie Cauley-Stein']\",\n{\n            'v': 12.816666666666665,\n            'f': \"12.816666666666665\",\n        }],\n [{\n            'v': 82,\n            'f': \"82\",\n        },\n{\n            'v': 21900306,\n            'f': \"21900306\",\n        },\n\"2019-12-04\",\n\"[\\\"D'Angelo Russell\\\", 'Draymond Green', 'Eric Paschall', 'Glenn Robinson III', 'Willie Cauley-Stein']\",\n{\n            'v': 23.46666666666666,\n            'f': \"23.46666666666666\",\n        }],\n [{\n            'v': 83,\n            'f': \"83\",\n        },\n{\n            'v': 21900325,\n            'f': \"21900325\",\n        },\n\"2019-12-06\",\n\"[\\\"D'Angelo Russell\\\", 'Draymond Green', 'Eric Paschall', 'Glenn Robinson III', 'Willie Cauley-Stein']\",\n{\n            'v': 38.54999999999999,\n            'f': \"38.54999999999999\",\n        }],\n [{\n            'v': 84,\n            'f': \"84\",\n        },\n{\n            'v': 21900351,\n            'f': \"21900351\",\n        },\n\"2019-12-09\",\n\"[\\\"D'Angelo Russell\\\", 'Draymond Green', 'Eric Paschall', 'Glenn Robinson III', 'Willie Cauley-Stein']\",\n{\n            'v': 52.48333333333333,\n            'f': \"52.48333333333333\",\n        }],\n [{\n            'v': 85,\n            'f': \"85\",\n        },\n{\n            'v': 21900366,\n            'f': \"21900366\",\n        },\n\"2019-12-11\",\n\"[\\\"D'Angelo Russell\\\", 'Draymond Green', 'Eric Paschall', 'Glenn Robinson III', 'Willie Cauley-Stein']\",\n{\n            'v': 59.49999999999999,\n            'f': \"59.49999999999999\",\n        }],\n [{\n            'v': 86,\n            'f': \"86\",\n        },\n{\n            'v': 21900016,\n            'f': \"21900016\",\n        },\n\"2019-10-24\",\n\"[\\\"D'Angelo Russell\\\", 'Draymond Green', 'Eric Paschall', 'Jacob Evans', 'Stephen Curry']\",\n{\n            'v': 1.9666666666666663,\n            'f': \"1.9666666666666663\",\n        }],\n [{\n            'v': 87,\n            'f': \"87\",\n        },\n{\n            'v': 21900454,\n            'f': \"21900454\",\n        },\n\"2019-12-23\",\n\"[\\\"D'Angelo Russell\\\", 'Draymond Green', 'Eric Paschall', 'Jacob Evans', 'Willie Cauley-Stein']\",\n{\n            'v': 1.45,\n            'f': \"1.45\",\n        }],\n [{\n            'v': 88,\n            'f': \"88\",\n        },\n{\n            'v': 21900757,\n            'f': \"21900757\",\n        },\n\"2020-02-05\",\n\"[\\\"D'Angelo Russell\\\", 'Draymond Green', 'Eric Paschall', 'Jordan Poole', 'Marquese Chriss']\",\n{\n            'v': 1.8500000000000003,\n            'f': \"1.8500000000000003\",\n        }],\n [{\n            'v': 89,\n            'f': \"89\",\n        },\n{\n            'v': 21900588,\n            'f': \"21900588\",\n        },\n\"2020-01-12\",\n\"[\\\"D'Angelo Russell\\\", 'Draymond Green', 'Eric Paschall', 'Jordan Poole', 'Omari Spellman']\",\n{\n            'v': 3.716666666666667,\n            'f': \"3.716666666666667\",\n        }],\n [{\n            'v': 90,\n            'f': \"90\",\n        },\n{\n            'v': 21900016,\n            'f': \"21900016\",\n        },\n\"2019-10-24\",\n\"[\\\"D'Angelo Russell\\\", 'Draymond Green', 'Eric Paschall', 'Jordan Poole', 'Stephen Curry']\",\n{\n            'v': 2.383333333333333,\n            'f': \"2.383333333333333\",\n        }],\n [{\n            'v': 91,\n            'f': \"91\",\n        },\n{\n            'v': 21900047,\n            'f': \"21900047\",\n        },\n\"2019-10-28\",\n\"[\\\"D'Angelo Russell\\\", 'Draymond Green', 'Eric Paschall', 'Jordan Poole', 'Stephen Curry']\",\n{\n            'v': 4.449999999999999,\n            'f': \"4.449999999999999\",\n        }],\n [{\n            'v': 92,\n            'f': \"92\",\n        },\n{\n            'v': 21900159,\n            'f': \"21900159\",\n        },\n\"2019-11-13\",\n\"[\\\"D'Angelo Russell\\\", 'Draymond Green', 'Eric Paschall', 'Jordan Poole', 'Willie Cauley-Stein']\",\n{\n            'v': 0.3833333333333333,\n            'f': \"0.3833333333333333\",\n        }],\n [{\n            'v': 93,\n            'f': \"93\",\n        },\n{\n            'v': 21900173,\n            'f': \"21900173\",\n        },\n\"2019-11-15\",\n\"[\\\"D'Angelo Russell\\\", 'Draymond Green', 'Eric Paschall', 'Ky Bowman', 'Willie Cauley-Stein']\",\n{\n            'v': 2.5999999999999996,\n            'f': \"2.5999999999999996\",\n        }],\n [{\n            'v': 94,\n            'f': \"94\",\n        },\n{\n            'v': 21900588,\n            'f': \"21900588\",\n        },\n\"2020-01-12\",\n\"[\\\"D'Angelo Russell\\\", 'Draymond Green', 'Glenn Robinson III', 'Jacob Evans', 'Omari Spellman']\",\n{\n            'v': 0.8166666666666665,\n            'f': \"0.8166666666666665\",\n        }],\n [{\n            'v': 95,\n            'f': \"95\",\n        },\n{\n            'v': 21900602,\n            'f': \"21900602\",\n        },\n\"2020-01-14\",\n\"[\\\"D'Angelo Russell\\\", 'Draymond Green', 'Glenn Robinson III', 'Jacob Evans', 'Omari Spellman']\",\n{\n            'v': 2.6666666666666665,\n            'f': \"2.6666666666666665\",\n        }],\n [{\n            'v': 96,\n            'f': \"96\",\n        },\n{\n            'v': 21900588,\n            'f': \"21900588\",\n        },\n\"2020-01-12\",\n\"[\\\"D'Angelo Russell\\\", 'Draymond Green', 'Glenn Robinson III', 'Jacob Evans', 'Willie Cauley-Stein']\",\n{\n            'v': 1.5,\n            'f': \"1.5\",\n        }],\n [{\n            'v': 97,\n            'f': \"97\",\n        },\n{\n            'v': 21900602,\n            'f': \"21900602\",\n        },\n\"2020-01-14\",\n\"[\\\"D'Angelo Russell\\\", 'Draymond Green', 'Glenn Robinson III', 'Jacob Evans', 'Willie Cauley-Stein']\",\n{\n            'v': 2.183333333333333,\n            'f': \"2.183333333333333\",\n        }],\n [{\n            'v': 98,\n            'f': \"98\",\n        },\n{\n            'v': 21900076,\n            'f': \"21900076\",\n        },\n\"2019-11-01\",\n\"[\\\"D'Angelo Russell\\\", 'Draymond Green', 'Glenn Robinson III', 'Jordan Poole', 'Marquese Chriss']\",\n{\n            'v': 3.216666666666667,\n            'f': \"3.216666666666667\",\n        }],\n [{\n            'v': 99,\n            'f': \"99\",\n        },\n{\n            'v': 21900016,\n            'f': \"21900016\",\n        },\n\"2019-10-24\",\n\"[\\\"D'Angelo Russell\\\", 'Draymond Green', 'Glenn Robinson III', 'Jordan Poole', 'Omari Spellman']\",\n{\n            'v': 3.833333333333333,\n            'f': \"3.833333333333333\",\n        }]],\n        columns: [[\"number\", \"index\"], [\"number\", \"game_id\"], [\"string\", \"date\"], [\"string\", \"lineup\"], [\"number\", \"cum_mins\"]],\n        columnOptions: [{\"width\": \"1px\", \"className\": \"index_column\"}],\n        rowsPerPage: 25,\n        helpUrl: \"https://colab.research.google.com/notebooks/data_table.ipynb\",\n        suppressOutputScrolling: true,\n        minimumWidth: undefined,\n      });\n    ",
            "text/html": [
              "<div>\n",
              "<style scoped>\n",
              "    .dataframe tbody tr th:only-of-type {\n",
              "        vertical-align: middle;\n",
              "    }\n",
              "\n",
              "    .dataframe tbody tr th {\n",
              "        vertical-align: top;\n",
              "    }\n",
              "\n",
              "    .dataframe thead th {\n",
              "        text-align: right;\n",
              "    }\n",
              "</style>\n",
              "<table border=\"1\" class=\"dataframe\">\n",
              "  <thead>\n",
              "    <tr style=\"text-align: right;\">\n",
              "      <th></th>\n",
              "      <th>game_id</th>\n",
              "      <th>date</th>\n",
              "      <th>lineup</th>\n",
              "      <th>cum_mins</th>\n",
              "    </tr>\n",
              "  </thead>\n",
              "  <tbody>\n",
              "    <tr>\n",
              "      <th>0</th>\n",
              "      <td>21900415</td>\n",
              "      <td>2019-12-18</td>\n",
              "      <td>[\"D'Angelo Russell\", 'Damion Lee', 'Draymond G...</td>\n",
              "      <td>0.083333</td>\n",
              "    </tr>\n",
              "    <tr>\n",
              "      <th>1</th>\n",
              "      <td>21900665</td>\n",
              "      <td>2020-01-22</td>\n",
              "      <td>[\"D'Angelo Russell\", 'Damion Lee', 'Draymond G...</td>\n",
              "      <td>0.700000</td>\n",
              "    </tr>\n",
              "    <tr>\n",
              "      <th>2</th>\n",
              "      <td>21900679</td>\n",
              "      <td>2020-01-24</td>\n",
              "      <td>[\"D'Angelo Russell\", 'Damion Lee', 'Draymond G...</td>\n",
              "      <td>4.233333</td>\n",
              "    </tr>\n",
              "    <tr>\n",
              "      <th>3</th>\n",
              "      <td>21900757</td>\n",
              "      <td>2020-02-05</td>\n",
              "      <td>[\"D'Angelo Russell\", 'Damion Lee', 'Draymond G...</td>\n",
              "      <td>13.450000</td>\n",
              "    </tr>\n",
              "    <tr>\n",
              "      <th>4</th>\n",
              "      <td>21900757</td>\n",
              "      <td>2020-02-05</td>\n",
              "      <td>[\"D'Angelo Russell\", 'Damion Lee', 'Draymond G...</td>\n",
              "      <td>1.733333</td>\n",
              "    </tr>\n",
              "    <tr>\n",
              "      <th>...</th>\n",
              "      <td>...</td>\n",
              "      <td>...</td>\n",
              "      <td>...</td>\n",
              "      <td>...</td>\n",
              "    </tr>\n",
              "    <tr>\n",
              "      <th>95</th>\n",
              "      <td>21900602</td>\n",
              "      <td>2020-01-14</td>\n",
              "      <td>[\"D'Angelo Russell\", 'Draymond Green', 'Glenn ...</td>\n",
              "      <td>2.666667</td>\n",
              "    </tr>\n",
              "    <tr>\n",
              "      <th>96</th>\n",
              "      <td>21900588</td>\n",
              "      <td>2020-01-12</td>\n",
              "      <td>[\"D'Angelo Russell\", 'Draymond Green', 'Glenn ...</td>\n",
              "      <td>1.500000</td>\n",
              "    </tr>\n",
              "    <tr>\n",
              "      <th>97</th>\n",
              "      <td>21900602</td>\n",
              "      <td>2020-01-14</td>\n",
              "      <td>[\"D'Angelo Russell\", 'Draymond Green', 'Glenn ...</td>\n",
              "      <td>2.183333</td>\n",
              "    </tr>\n",
              "    <tr>\n",
              "      <th>98</th>\n",
              "      <td>21900076</td>\n",
              "      <td>2019-11-01</td>\n",
              "      <td>[\"D'Angelo Russell\", 'Draymond Green', 'Glenn ...</td>\n",
              "      <td>3.216667</td>\n",
              "    </tr>\n",
              "    <tr>\n",
              "      <th>99</th>\n",
              "      <td>21900016</td>\n",
              "      <td>2019-10-24</td>\n",
              "      <td>[\"D'Angelo Russell\", 'Draymond Green', 'Glenn ...</td>\n",
              "      <td>3.833333</td>\n",
              "    </tr>\n",
              "  </tbody>\n",
              "</table>\n",
              "<p>100 rows × 4 columns</p>\n",
              "</div>"
            ],
            "text/plain": [
              "     game_id  ...   cum_mins\n",
              "0   21900415  ...   0.083333\n",
              "1   21900665  ...   0.700000\n",
              "2   21900679  ...   4.233333\n",
              "3   21900757  ...  13.450000\n",
              "4   21900757  ...   1.733333\n",
              "..       ...  ...        ...\n",
              "95  21900602  ...   2.666667\n",
              "96  21900588  ...   1.500000\n",
              "97  21900602  ...   2.183333\n",
              "98  21900076  ...   3.216667\n",
              "99  21900016  ...   3.833333\n",
              "\n",
              "[100 rows x 4 columns]"
            ]
          },
          "metadata": {
            "tags": []
          },
          "execution_count": 16
        }
      ]
    },
    {
      "cell_type": "markdown",
      "metadata": {
        "id": "ReBjmsK5dN_8"
      },
      "source": [
        "The window selector has three parts:\n",
        "```sql \n",
        "PARTITION BY lineup \n",
        "ORDER BY game_id \n",
        "ROWS BETWEEN UNBOUNDED PRECEDING AND CURRENT ROW \n",
        "```\n",
        "- `PARTITION BY` works like a `GROUP BY` to split the rows into groups/partitions.\n",
        "- `ORDER BY` does as expected, but always with respect to the partition.\n",
        "- `ROWS` specifies the width of the window; in this case that means everything up to the current row in the current partition (lineup).\n",
        "\n",
        "There are lots of variations to play with. For details read the docs for your database vendor. The SQL standard defines the basics like `PARTITION BY`, `ORDER BY`, and `ROWS` but there are some differences for more advanced use cases.  "
      ]
    },
    {
      "cell_type": "markdown",
      "metadata": {
        "id": "o_9fblcZcJMQ"
      },
      "source": [
        "> **Heads Up**: Although window functions were included in SQL:2003, most of the vendors only recently implemented the standard.  Check to see if your DBMS supports them before trying to use them.  "
      ]
    },
    {
      "cell_type": "markdown",
      "metadata": {
        "id": "mnkGOtS8UwQ-"
      },
      "source": [
        "---\n",
        "### **Collection Types**\n",
        "\n",
        "In lesson 5 we learned that entities should be atomic, indivisible through normalization. Among other things this means that attributes should be singular, represeting just one fact about a given entity. Plural attributes, meanwhile, should be normalized out into one-to-many relationships to new entity types. \n",
        "\n",
        "But what if we just didn't bother to do that? \n",
        "\n",
        "The `ARRAY` and `STRUCT` collection types (details below) were added to the SQL standards in a wave of enthusiasm for object-relational features in SQL:1999 but then (like window functions) largely ignored by most database vendors until 2018. Why ignore the standard? Because collection types permit us to skirt around a fundamental law of normalization: thou shalt not use repeated fields. \n",
        "\n",
        "In fact, it is not a good idea to use these sorts of collection types in a transactional database, where vigilance is needed to keep the data consistent and anomaly free. However, for dimensional data warehouses, where the **dimension tables** are often denormalized anyway, they make **perfect sense**: no extra joins, no redundant columns, etc., just the relevant context in a concise format.  \n",
        "\n",
        "> **Heads Up**: Collection types are generally **not a good fit for fact tables** because they complicate the aggregation logic. What does a **measure** (i.e., fact) mean when it can be multi-valued? How do you sum or average a list of lists? \n",
        "\n",
        "***Technically*, collection types do not actually violate normalization rules.** A collection is a **container** that can hold structured data. The container itself is singular, though the contents might be plural. It's like how you might keep a plastic *container* of cut celery sticks instead of storing them in a pile on the shelf. The container is *one* thing (with the sticks nested inside), but you have to open the container (unpack it) to get your snack. That's exactly how SQL `ARRAY` and `STRUCT` work. We have to use functions and special syntax to pack and unpack data. Otherwise, SQL just treats it like an image or other binary data. Of course, it *is* still a problem that we don't know what's inside the container before we unpack it but we can still say the table itself is 1NF. \n",
        "\n",
        "Now let's go back to the NBA data to see how it works. To keep things simple we will just focus on the lineup dimension, which in our play log data is kept in columns `a1`-`a5` and `h1`-`h5`.\n",
        "\n",
        "   \n"
      ]
    },
    {
      "cell_type": "markdown",
      "metadata": {
        "id": "iLl8YlZ51zwt"
      },
      "source": [
        "### **The `ARRAY` Data Type**\n",
        "\n",
        "An `ARRAY` is a list of items where:\n",
        "- The items are ordered, one after another, like the rows of a table.  \n",
        "- All items have the same data type. If the first item is an integer, then so is every other item. \n",
        "- There can be any number of items. \n",
        "\n",
        "Note that these same rules also apply to table columns, where each column has a data type, is ordered by row, and there is no limit on how many items (rows) there are. This is by design, so that the same logic can apply.  \n",
        "\n",
        "The query below returns two rows of play log data, with each lineup as an **`ARRAY`** (represented by the square brackets `[ ]`)  "
      ]
    },
    {
      "cell_type": "code",
      "metadata": {
        "colab": {
          "base_uri": "https://localhost:8080/",
          "height": 131
        },
        "id": "UEvqbE8RzPAE",
        "outputId": "1a379f62-3880-466f-f2e1-dfa6d52c18ee"
      },
      "source": [
        "%%bigquery --project nba-lineup-facts\n",
        "SELECT\n",
        "  [a1,a2,a3,a4,a5] as away_lineup, \n",
        "  [h1,h2,h3,h4,h5] as home_lineup\n",
        "FROM `nba-lineup-facts.lineup_facts.play_log_sample`\n",
        "WHERE play_id IN (86,88);"
      ],
      "execution_count": null,
      "outputs": [
        {
          "output_type": "execute_result",
          "data": {
            "application/vnd.google.colaboratory.module+javascript": "\n      import \"https://ssl.gstatic.com/colaboratory/data_table/a6224c040fa35dcf/data_table.js\";\n\n      window.createDataTable({\n        data: [[{\n            'v': 0,\n            'f': \"0\",\n        },\n[\"OG Anunoby\", \"Marc Gasol\", \"Kyle Lowry\", \"Fred VanVleet\", \"Norman Powell\"],\n[\"Gordon Hayward\", \"Jaylen Brown\", \"Kemba Walker\", \"Robert Williams III\", \"Marcus Smart\"]],\n [{\n            'v': 1,\n            'f': \"1\",\n        },\n[\"OG Anunoby\", \"Marc Gasol\", \"Kyle Lowry\", \"Fred VanVleet\", \"Norman Powell\"],\n[\"Gordon Hayward\", \"Kemba Walker\", \"Robert Williams III\", \"Marcus Smart\", \"Grant Williams\"]]],\n        columns: [[\"number\", \"index\"], [\"string\", \"away_lineup\"], [\"string\", \"home_lineup\"]],\n        columnOptions: [{\"width\": \"1px\", \"className\": \"index_column\"}],\n        rowsPerPage: 25,\n        helpUrl: \"https://colab.research.google.com/notebooks/data_table.ipynb\",\n        suppressOutputScrolling: true,\n        minimumWidth: undefined,\n      });\n    ",
            "text/html": [
              "<div>\n",
              "<style scoped>\n",
              "    .dataframe tbody tr th:only-of-type {\n",
              "        vertical-align: middle;\n",
              "    }\n",
              "\n",
              "    .dataframe tbody tr th {\n",
              "        vertical-align: top;\n",
              "    }\n",
              "\n",
              "    .dataframe thead th {\n",
              "        text-align: right;\n",
              "    }\n",
              "</style>\n",
              "<table border=\"1\" class=\"dataframe\">\n",
              "  <thead>\n",
              "    <tr style=\"text-align: right;\">\n",
              "      <th></th>\n",
              "      <th>away_lineup</th>\n",
              "      <th>home_lineup</th>\n",
              "    </tr>\n",
              "  </thead>\n",
              "  <tbody>\n",
              "    <tr>\n",
              "      <th>0</th>\n",
              "      <td>[OG Anunoby, Marc Gasol, Kyle Lowry, Fred VanV...</td>\n",
              "      <td>[Gordon Hayward, Jaylen Brown, Kemba Walker, R...</td>\n",
              "    </tr>\n",
              "    <tr>\n",
              "      <th>1</th>\n",
              "      <td>[OG Anunoby, Marc Gasol, Kyle Lowry, Fred VanV...</td>\n",
              "      <td>[Gordon Hayward, Kemba Walker, Robert Williams...</td>\n",
              "    </tr>\n",
              "  </tbody>\n",
              "</table>\n",
              "</div>"
            ],
            "text/plain": [
              "                                         away_lineup                                        home_lineup\n",
              "0  [OG Anunoby, Marc Gasol, Kyle Lowry, Fred VanV...  [Gordon Hayward, Jaylen Brown, Kemba Walker, R...\n",
              "1  [OG Anunoby, Marc Gasol, Kyle Lowry, Fred VanV...  [Gordon Hayward, Kemba Walker, Robert Williams..."
            ]
          },
          "metadata": {
            "tags": []
          },
          "execution_count": 4
        }
      ]
    },
    {
      "cell_type": "markdown",
      "metadata": {
        "id": "urz3koJQ6RtG"
      },
      "source": [
        "At first glance, this looks a lot like the text strings we have been using to represent NBA lineups. To see the difference, consider these two queries.\n"
      ]
    },
    {
      "cell_type": "code",
      "metadata": {
        "colab": {
          "base_uri": "https://localhost:8080/",
          "height": 110
        },
        "id": "L6JpMclmEQ8I",
        "outputId": "a01ca04d-54d9-4192-a4c8-f5bd26677e2c"
      },
      "source": [
        "%%bigquery --project nba-lineup-facts\n",
        "\n",
        "-- Lineup string: \"['OG Anunoby','Pascal Siakam','Marc Gasol','Kyle Lowry','Fred VanVleet']\"\n",
        "-- Does the lineup string include the text 'Marc Gasol'?\n",
        "SELECT \"['OG Anunoby','Pascal Siakam','Marc Gasol','Kyle Lowry','Fred VanVleet']\" LIKE '%Marc Gasol%'"
      ],
      "execution_count": null,
      "outputs": [
        {
          "output_type": "execute_result",
          "data": {
            "application/vnd.google.colaboratory.module+javascript": "\n      import \"https://ssl.gstatic.com/colaboratory/data_table/a6224c040fa35dcf/data_table.js\";\n\n      window.createDataTable({\n        data: [[{\n            'v': 0,\n            'f': \"0\",\n        },\ntrue]],\n        columns: [[\"number\", \"index\"], [\"string\", \"f0_\"]],\n        columnOptions: [{\"width\": \"1px\", \"className\": \"index_column\"}],\n        rowsPerPage: 25,\n        helpUrl: \"https://colab.research.google.com/notebooks/data_table.ipynb\",\n        suppressOutputScrolling: true,\n        minimumWidth: undefined,\n      });\n    ",
            "text/html": [
              "<div>\n",
              "<style scoped>\n",
              "    .dataframe tbody tr th:only-of-type {\n",
              "        vertical-align: middle;\n",
              "    }\n",
              "\n",
              "    .dataframe tbody tr th {\n",
              "        vertical-align: top;\n",
              "    }\n",
              "\n",
              "    .dataframe thead th {\n",
              "        text-align: right;\n",
              "    }\n",
              "</style>\n",
              "<table border=\"1\" class=\"dataframe\">\n",
              "  <thead>\n",
              "    <tr style=\"text-align: right;\">\n",
              "      <th></th>\n",
              "      <th>f0_</th>\n",
              "    </tr>\n",
              "  </thead>\n",
              "  <tbody>\n",
              "    <tr>\n",
              "      <th>0</th>\n",
              "      <td>True</td>\n",
              "    </tr>\n",
              "  </tbody>\n",
              "</table>\n",
              "</div>"
            ],
            "text/plain": [
              "    f0_\n",
              "0  True"
            ]
          },
          "metadata": {
            "tags": []
          },
          "execution_count": 18
        }
      ]
    },
    {
      "cell_type": "code",
      "metadata": {
        "colab": {
          "base_uri": "https://localhost:8080/",
          "height": 110
        },
        "id": "DVRGRuIZFuxr",
        "outputId": "6d95e08e-6358-48da-c3cc-7d5d746d122c"
      },
      "source": [
        "%%bigquery --project nba-lineup-facts\n",
        "\n",
        "-- Lineup ARRAY: ['OG Anunoby','Pascal Siakam','Marc Gasol','Kyle Lowry','Fred VanVleet']\n",
        "-- Does the player 'Marc Gasol' appear in the lineup array? \n",
        "SELECT 'Marc Gasol' IN UNNEST(['OG Anunoby','Pascal Siakam','Marc Gasol','Kyle Lowry','Fred VanVleet'])"
      ],
      "execution_count": null,
      "outputs": [
        {
          "output_type": "execute_result",
          "data": {
            "application/vnd.google.colaboratory.module+javascript": "\n      import \"https://ssl.gstatic.com/colaboratory/data_table/a6224c040fa35dcf/data_table.js\";\n\n      window.createDataTable({\n        data: [[{\n            'v': 0,\n            'f': \"0\",\n        },\ntrue]],\n        columns: [[\"number\", \"index\"], [\"string\", \"f0_\"]],\n        columnOptions: [{\"width\": \"1px\", \"className\": \"index_column\"}],\n        rowsPerPage: 25,\n        helpUrl: \"https://colab.research.google.com/notebooks/data_table.ipynb\",\n        suppressOutputScrolling: true,\n        minimumWidth: undefined,\n      });\n    ",
            "text/html": [
              "<div>\n",
              "<style scoped>\n",
              "    .dataframe tbody tr th:only-of-type {\n",
              "        vertical-align: middle;\n",
              "    }\n",
              "\n",
              "    .dataframe tbody tr th {\n",
              "        vertical-align: top;\n",
              "    }\n",
              "\n",
              "    .dataframe thead th {\n",
              "        text-align: right;\n",
              "    }\n",
              "</style>\n",
              "<table border=\"1\" class=\"dataframe\">\n",
              "  <thead>\n",
              "    <tr style=\"text-align: right;\">\n",
              "      <th></th>\n",
              "      <th>f0_</th>\n",
              "    </tr>\n",
              "  </thead>\n",
              "  <tbody>\n",
              "    <tr>\n",
              "      <th>0</th>\n",
              "      <td>True</td>\n",
              "    </tr>\n",
              "  </tbody>\n",
              "</table>\n",
              "</div>"
            ],
            "text/plain": [
              "    f0_\n",
              "0  True"
            ]
          },
          "metadata": {
            "tags": []
          },
          "execution_count": 20
        }
      ]
    },
    {
      "cell_type": "markdown",
      "metadata": {
        "id": "aR7fAClPF8Jl"
      },
      "source": [
        "Both return the same result but work very differently. The first query looks for the text `'Marc Gasol'` within a lineup string, while the second query looks for *Marc Gasol's name* in the lineup array. That's much more natural, isn't it? Further, the array version is much more flexible. We could, for example, replace every player's name with a `player_id` without generating and searching through lineup strings. \n",
        "\n",
        "There is another difference as well. When retrieving an `ARRAY` as a list we use the `UNNEST` function, which gets around the relational model's rule that each column contains scalar (singular) values. The stored array is a *container* for list items that needs to be *unpacked* before we can use it. The container is a singular thing that happens to hold more things.\n",
        "\n",
        "> **Heads Up**: We can also [create arrays from subqueries using the `ARRAY()` function](https://cloud.google.com/bigquery/docs/reference/standard-sql/array_functions), which opens up lots of possibilities. Basically, any column of data that we can select or construct can be inserted into an array.  \n",
        " "
      ]
    },
    {
      "cell_type": "markdown",
      "metadata": {
        "id": "hnWSDCya_pis"
      },
      "source": [
        "### **The `STRUCT` Data Type**\n",
        "\n",
        "A `STRUCT` (short for Structured Array) is like a one-row mini-table, with named *fields* that can mix data of various types. Some call it the swiss army knife of data types. Anything we can store in a table row (including `ARRAY` data) can also be stored in a structured array."
      ]
    },
    {
      "cell_type": "code",
      "metadata": {
        "colab": {
          "base_uri": "https://localhost:8080/",
          "height": 131
        },
        "id": "LjHQToqYMd3e",
        "outputId": "7d197ba2-e3d6-4934-82b9-8888f631b28a"
      },
      "source": [
        "%%bigquery --project nba-lineup-facts\n",
        "SELECT\n",
        "  STRUCT(a1 AS p1, a2 AS p2, a3 AS  p3,a4 AS p4,a5 AS p5) AS away_lineup,\n",
        "  STRUCT(h1 AS p1, h2 AS p2, h3 AS  p3,h4 AS p4,h5 AS p5) AS home_lineup\n",
        "FROM `nba-lineup-facts.lineup_facts.play_log_sample`\n",
        "WHERE play_id IN (86,88);"
      ],
      "execution_count": null,
      "outputs": [
        {
          "output_type": "execute_result",
          "data": {
            "application/vnd.google.colaboratory.module+javascript": "\n      import \"https://ssl.gstatic.com/colaboratory/data_table/a6224c040fa35dcf/data_table.js\";\n\n      window.createDataTable({\n        data: [[{\n            'v': 0,\n            'f': \"0\",\n        },\n\"{'p1': 'OG Anunoby', 'p2': 'Marc Gasol', 'p3': 'Kyle Lowry', 'p4': 'Fred VanVleet', 'p5': 'Norman Powell'}\",\n\"{'p1': 'Gordon Hayward', 'h2': 'Jaylen Brown', 'p3': 'Kemba Walker', 'p4': 'Robert Williams III', 'p5': 'Marcus Smart'}\"],\n [{\n            'v': 1,\n            'f': \"1\",\n        },\n\"{'p1': 'OG Anunoby', 'p2': 'Marc Gasol', 'p3': 'Kyle Lowry', 'p4': 'Fred VanVleet', 'p5': 'Norman Powell'}\",\n\"{'p1': 'Gordon Hayward', 'h2': 'Kemba Walker', 'p3': 'Robert Williams III', 'p4': 'Marcus Smart', 'p5': 'Grant Williams'}\"]],\n        columns: [[\"number\", \"index\"], [\"string\", \"away_lineup\"], [\"string\", \"home_lineup\"]],\n        columnOptions: [{\"width\": \"1px\", \"className\": \"index_column\"}],\n        rowsPerPage: 25,\n        helpUrl: \"https://colab.research.google.com/notebooks/data_table.ipynb\",\n        suppressOutputScrolling: true,\n        minimumWidth: undefined,\n      });\n    ",
            "text/html": [
              "<div>\n",
              "<style scoped>\n",
              "    .dataframe tbody tr th:only-of-type {\n",
              "        vertical-align: middle;\n",
              "    }\n",
              "\n",
              "    .dataframe tbody tr th {\n",
              "        vertical-align: top;\n",
              "    }\n",
              "\n",
              "    .dataframe thead th {\n",
              "        text-align: right;\n",
              "    }\n",
              "</style>\n",
              "<table border=\"1\" class=\"dataframe\">\n",
              "  <thead>\n",
              "    <tr style=\"text-align: right;\">\n",
              "      <th></th>\n",
              "      <th>away_lineup</th>\n",
              "      <th>home_lineup</th>\n",
              "    </tr>\n",
              "  </thead>\n",
              "  <tbody>\n",
              "    <tr>\n",
              "      <th>0</th>\n",
              "      <td>{'p1': 'OG Anunoby', 'p2': 'Marc Gasol', 'p3':...</td>\n",
              "      <td>{'p1': 'Gordon Hayward', 'h2': 'Jaylen Brown',...</td>\n",
              "    </tr>\n",
              "    <tr>\n",
              "      <th>1</th>\n",
              "      <td>{'p1': 'OG Anunoby', 'p2': 'Marc Gasol', 'p3':...</td>\n",
              "      <td>{'p1': 'Gordon Hayward', 'h2': 'Kemba Walker',...</td>\n",
              "    </tr>\n",
              "  </tbody>\n",
              "</table>\n",
              "</div>"
            ],
            "text/plain": [
              "                                         away_lineup                                        home_lineup\n",
              "0  {'p1': 'OG Anunoby', 'p2': 'Marc Gasol', 'p3':...  {'p1': 'Gordon Hayward', 'h2': 'Jaylen Brown',...\n",
              "1  {'p1': 'OG Anunoby', 'p2': 'Marc Gasol', 'p3':...  {'p1': 'Gordon Hayward', 'h2': 'Kemba Walker',..."
            ]
          },
          "metadata": {
            "tags": []
          },
          "execution_count": 21
        }
      ]
    },
    {
      "cell_type": "markdown",
      "metadata": {
        "id": "0BEA9NONPH00"
      },
      "source": [
        "Each `STRUCT` works more or less like a `SELECT` clause:\n",
        "- The fields are defined like column specs, with aliases used to name the fields.\n",
        "- `STRUCT` collections are created by calling a function, `STRUCT()`, that assembles the data into the structured array.\n",
        "- Each field can store the result of any SQL expression. The expression is only evaluated once, just before the data is written to the field.\n",
        "\n",
        "Again, a structured array is like a one-row table, with all the sophistication that implies. All it is missing is primary and foreign keys.\n",
        "\n",
        "> **Heads Up**: The notation used by SQL to represent a structured array is basically identical to the Python `dict` and the JavaScript `object`. We will explore the relationship to JavaScript more in depth in Lesson 11. \n",
        "\n",
        "To unpack a structured array we use `column.field` dot notation. The example below packs players into home and away lineups (via a CTE `WITH` clause) and then unpacks them to recreate the `h1`-`h5` and `a1`-`a5` columns in the original play log dataset. \n"
      ]
    },
    {
      "cell_type": "code",
      "metadata": {
        "colab": {
          "base_uri": "https://localhost:8080/",
          "height": 131
        },
        "id": "aPqA4iztDFEa",
        "outputId": "a917c6b0-b978-4b3e-92b7-8a5e06b2ff52"
      },
      "source": [
        "%%bigquery --project nba-lineup-facts\n",
        "-- A named subquery with two STRUCT columns\n",
        "WITH play_lineups AS  \n",
        "  ( SELECT\n",
        "      play_id,\n",
        "      STRUCT(a1 AS p1, a2 AS p2, a3 AS  p3,a4 AS p4,a5 AS p5) AS away_lineup,\n",
        "      STRUCT(h1 AS p1, h2 AS p2, h3 AS  p3,h4 AS p4,h5 AS p5) AS home_lineup\n",
        "    FROM `nba-lineup-facts.lineup_facts.play_log_sample`\n",
        "    WHERE play_id IN (86,88)\n",
        "  )\n",
        "-- Use the subquery like a table\n",
        "SELECT home_lineup.p1 as h1, home_lineup.p2 as h2, home_lineup.p3 as h3, home_lineup.p4 as h4, home_lineup.p5 as h5,\n",
        "       away_lineup.p1 as a1, away_lineup.p2 as a2, away_lineup.p3 as a3, away_lineup.p4 as a4, away_lineup.p5 as a5\n",
        "FROM play_lineups\n"
      ],
      "execution_count": null,
      "outputs": [
        {
          "output_type": "execute_result",
          "data": {
            "application/vnd.google.colaboratory.module+javascript": "\n      import \"https://ssl.gstatic.com/colaboratory/data_table/a6224c040fa35dcf/data_table.js\";\n\n      window.createDataTable({\n        data: [[{\n            'v': 0,\n            'f': \"0\",\n        },\n\"Gordon Hayward\",\n\"Jaylen Brown\",\n\"Kemba Walker\",\n\"Robert Williams III\",\n\"Marcus Smart\",\n\"OG Anunoby\",\n\"Marc Gasol\",\n\"Kyle Lowry\",\n\"Fred VanVleet\",\n\"Norman Powell\"],\n [{\n            'v': 1,\n            'f': \"1\",\n        },\n\"Gordon Hayward\",\n\"Kemba Walker\",\n\"Robert Williams III\",\n\"Marcus Smart\",\n\"Grant Williams\",\n\"OG Anunoby\",\n\"Marc Gasol\",\n\"Kyle Lowry\",\n\"Fred VanVleet\",\n\"Norman Powell\"]],\n        columns: [[\"number\", \"index\"], [\"string\", \"h1\"], [\"string\", \"h2\"], [\"string\", \"h3\"], [\"string\", \"h4\"], [\"string\", \"h5\"], [\"string\", \"a1\"], [\"string\", \"a2\"], [\"string\", \"a3\"], [\"string\", \"a4\"], [\"string\", \"a5\"]],\n        columnOptions: [{\"width\": \"1px\", \"className\": \"index_column\"}],\n        rowsPerPage: 25,\n        helpUrl: \"https://colab.research.google.com/notebooks/data_table.ipynb\",\n        suppressOutputScrolling: true,\n        minimumWidth: undefined,\n      });\n    ",
            "text/html": [
              "<div>\n",
              "<style scoped>\n",
              "    .dataframe tbody tr th:only-of-type {\n",
              "        vertical-align: middle;\n",
              "    }\n",
              "\n",
              "    .dataframe tbody tr th {\n",
              "        vertical-align: top;\n",
              "    }\n",
              "\n",
              "    .dataframe thead th {\n",
              "        text-align: right;\n",
              "    }\n",
              "</style>\n",
              "<table border=\"1\" class=\"dataframe\">\n",
              "  <thead>\n",
              "    <tr style=\"text-align: right;\">\n",
              "      <th></th>\n",
              "      <th>h1</th>\n",
              "      <th>h2</th>\n",
              "      <th>h3</th>\n",
              "      <th>h4</th>\n",
              "      <th>h5</th>\n",
              "      <th>a1</th>\n",
              "      <th>a2</th>\n",
              "      <th>a3</th>\n",
              "      <th>a4</th>\n",
              "      <th>a5</th>\n",
              "    </tr>\n",
              "  </thead>\n",
              "  <tbody>\n",
              "    <tr>\n",
              "      <th>0</th>\n",
              "      <td>Gordon Hayward</td>\n",
              "      <td>Jaylen Brown</td>\n",
              "      <td>Kemba Walker</td>\n",
              "      <td>Robert Williams III</td>\n",
              "      <td>Marcus Smart</td>\n",
              "      <td>OG Anunoby</td>\n",
              "      <td>Marc Gasol</td>\n",
              "      <td>Kyle Lowry</td>\n",
              "      <td>Fred VanVleet</td>\n",
              "      <td>Norman Powell</td>\n",
              "    </tr>\n",
              "    <tr>\n",
              "      <th>1</th>\n",
              "      <td>Gordon Hayward</td>\n",
              "      <td>Kemba Walker</td>\n",
              "      <td>Robert Williams III</td>\n",
              "      <td>Marcus Smart</td>\n",
              "      <td>Grant Williams</td>\n",
              "      <td>OG Anunoby</td>\n",
              "      <td>Marc Gasol</td>\n",
              "      <td>Kyle Lowry</td>\n",
              "      <td>Fred VanVleet</td>\n",
              "      <td>Norman Powell</td>\n",
              "    </tr>\n",
              "  </tbody>\n",
              "</table>\n",
              "</div>"
            ],
            "text/plain": [
              "               h1            h2  ...             a4             a5\n",
              "0  Gordon Hayward  Jaylen Brown  ...  Fred VanVleet  Norman Powell\n",
              "1  Gordon Hayward  Kemba Walker  ...  Fred VanVleet  Norman Powell\n",
              "\n",
              "[2 rows x 10 columns]"
            ]
          },
          "metadata": {
            "tags": []
          },
          "execution_count": 36
        }
      ]
    },
    {
      "cell_type": "markdown",
      "metadata": {
        "id": "bovkjroyPrZ6"
      },
      "source": [
        "### **Combining `ARRAY` and `STRUCT` to make complex data types**\n",
        "\n",
        "We can combine `ARRAY` and `STRUCT` data to create arbitrarily complex data structures. The result is **trees** of data, with collections nested inside collections inside of collections ...\n",
        "\n",
        "We saw an example in Lesson 5 when we explored JSON formatted data. The JSON fields shown below with arrowheads are collections, which have even more collections nested inside:\n",
        "![](https://github.com/christopherhuntley/DATA6510/raw/master/img/L6_Space_Jam_JSON.png)\n",
        "\n",
        "The actual JSON data, with nested arrays and structs can be found [here](https://github.com/christopherhuntley/DATA6510/blob/master/data/JSON/spacejam.json).\n",
        "\n",
        "To show how this is done in SQL, we will explore two techniques for creating *pseudo*-tables using nested collections:\n",
        "- Create each column as an `ARRAY` and then nesting them inside a `STRUCT`\n",
        "- Create each row as a `STRUCT` and then nesting them inside an `ARRAY`\n",
        "\n",
        "In both cases the result is a single value that is functionally equivalent to an entire table. \n",
        "\n",
        "> **Heads Up**: The examples below are not intended to be of much practical use. There are likely better ways to store tabular data, like perhaps in a table. They do, however, show the flexibility of the collection data types. Any data we can store in a table we can also store in a collection. \n",
        "\n",
        "\n",
        "\n",
        "\n",
        "\n",
        "\n",
        "\n"
      ]
    },
    {
      "cell_type": "markdown",
      "metadata": {
        "id": "CZan2avAV2js"
      },
      "source": [
        "#### **Nesting `ARRAY` columns inside a `STRUCT` pseudo-table**"
      ]
    },
    {
      "cell_type": "code",
      "metadata": {
        "colab": {
          "base_uri": "https://localhost:8080/",
          "height": 126
        },
        "id": "FVSP1eS2URrg",
        "outputId": "81bd282b-10dc-4878-af40-6910d2c82e41"
      },
      "source": [
        "%%bigquery --project nba-lineup-facts\n",
        "SELECT STRUCT(\n",
        "  ARRAY(SELECT play_id FROM `nba-lineup-facts.lineup_facts.play_log_sample` WHERE play_id in (86,88)) as play_id,\n",
        "  ARRAY(SELECT a1 FROM `nba-lineup-facts.lineup_facts.play_log_sample` WHERE play_id in (86,88)) as a1,\n",
        "  ARRAY(SELECT a2 FROM `nba-lineup-facts.lineup_facts.play_log_sample` WHERE play_id in (86,88)) as a2,\n",
        "  ARRAY(SELECT a3 FROM `nba-lineup-facts.lineup_facts.play_log_sample` WHERE play_id in (86,88)) as a3,\n",
        "  ARRAY(SELECT a4 FROM `nba-lineup-facts.lineup_facts.play_log_sample` WHERE play_id in (86,88)) as a4,\n",
        "  ARRAY(SELECT a5 FROM `nba-lineup-facts.lineup_facts.play_log_sample` WHERE play_id in (86,88)) as a5,\n",
        "  ARRAY(SELECT a1 FROM `nba-lineup-facts.lineup_facts.play_log_sample` WHERE play_id in (86,88)) as h1,\n",
        "  ARRAY(SELECT a2 FROM `nba-lineup-facts.lineup_facts.play_log_sample` WHERE play_id in (86,88)) as h2,\n",
        "  ARRAY(SELECT a3 FROM `nba-lineup-facts.lineup_facts.play_log_sample` WHERE play_id in (86,88)) as h3,\n",
        "  ARRAY(SELECT a4 FROM `nba-lineup-facts.lineup_facts.play_log_sample` WHERE play_id in (86,88)) as h4,\n",
        "  ARRAY(SELECT a5 FROM `nba-lineup-facts.lineup_facts.play_log_sample` WHERE play_id in (86,88)) as h5 \n",
        ") AS pseudo_table_by_cols"
      ],
      "execution_count": null,
      "outputs": [
        {
          "output_type": "execute_result",
          "data": {
            "application/vnd.google.colaboratory.module+javascript": "\n      import \"https://ssl.gstatic.com/colaboratory/data_table/a6224c040fa35dcf/data_table.js\";\n\n      window.createDataTable({\n        data: [[{\n            'v': 0,\n            'f': \"0\",\n        },\n\"{'play_id': [86, 88], 'a1': ['OG Anunoby', 'OG Anunoby'], 'a2': ['Marc Gasol', 'Marc Gasol'], 'a3': ['Kyle Lowry', 'Kyle Lowry'], 'a4': ['Fred VanVleet', 'Fred VanVleet'], 'a5': ['Norman Powell', 'Norman Powell'], 'h1': ['OG Anunoby', 'OG Anunoby'], 'h2': ['Marc Gasol', 'Marc Gasol'], 'h3': ['Kyle Lowry', 'Kyle Lowry'], 'h4': ['Fred VanVleet', 'Fred VanVleet'], 'h5': ['Norman Powell', 'Norman Powell']}\"]],\n        columns: [[\"number\", \"index\"], [\"string\", \"pseudo_table_by_cols\"]],\n        columnOptions: [{\"width\": \"1px\", \"className\": \"index_column\"}],\n        rowsPerPage: 25,\n        helpUrl: \"https://colab.research.google.com/notebooks/data_table.ipynb\",\n        suppressOutputScrolling: true,\n        minimumWidth: undefined,\n      });\n    ",
            "text/html": [
              "<div>\n",
              "<style scoped>\n",
              "    .dataframe tbody tr th:only-of-type {\n",
              "        vertical-align: middle;\n",
              "    }\n",
              "\n",
              "    .dataframe tbody tr th {\n",
              "        vertical-align: top;\n",
              "    }\n",
              "\n",
              "    .dataframe thead th {\n",
              "        text-align: right;\n",
              "    }\n",
              "</style>\n",
              "<table border=\"1\" class=\"dataframe\">\n",
              "  <thead>\n",
              "    <tr style=\"text-align: right;\">\n",
              "      <th></th>\n",
              "      <th>pseudo_table_by_cols</th>\n",
              "    </tr>\n",
              "  </thead>\n",
              "  <tbody>\n",
              "    <tr>\n",
              "      <th>0</th>\n",
              "      <td>{'play_id': [86, 88], 'a1': ['OG Anunoby', 'OG...</td>\n",
              "    </tr>\n",
              "  </tbody>\n",
              "</table>\n",
              "</div>"
            ],
            "text/plain": [
              "                                pseudo_table_by_cols\n",
              "0  {'play_id': [86, 88], 'a1': ['OG Anunoby', 'OG..."
            ]
          },
          "metadata": {
            "tags": []
          },
          "execution_count": 49
        }
      ]
    },
    {
      "cell_type": "markdown",
      "metadata": {
        "id": "Q17oUD4VT1-9"
      },
      "source": [
        "#### **Nesting `STRUCT` rows inside an `ARRAY` pseudo-table**"
      ]
    },
    {
      "cell_type": "code",
      "metadata": {
        "colab": {
          "base_uri": "https://localhost:8080/",
          "height": 126
        },
        "id": "0mulEFGKRnok",
        "outputId": "8500ff96-db48-4b93-91b4-b7c2fe658d06"
      },
      "source": [
        "%%bigquery --project nba-lineup-facts\n",
        "SELECT ARRAY(\n",
        "  SELECT STRUCT(play_id, a1,a2,a3,a4,a5, h1,h2,h3,h4,h5)\n",
        "  FROM `nba-lineup-facts.lineup_facts.play_log_sample`\n",
        "  WHERE play_id in (86,88) \n",
        ") AS pseudo_table_by_rows"
      ],
      "execution_count": null,
      "outputs": [
        {
          "output_type": "execute_result",
          "data": {
            "application/vnd.google.colaboratory.module+javascript": "\n      import \"https://ssl.gstatic.com/colaboratory/data_table/a6224c040fa35dcf/data_table.js\";\n\n      window.createDataTable({\n        data: [[{\n            'v': 0,\n            'f': \"0\",\n        },\n[\"{'play_id': 86, 'a1': 'OG Anunoby', 'a2': 'Marc Gasol', 'a3': 'Kyle Lowry', 'a4': 'Fred VanVleet', 'a5': 'Norman Powell', 'h1': 'Gordon Hayward', 'h2': 'Jaylen Brown', 'h3': 'Kemba Walker', 'h4': 'Robert Williams III', 'h5': 'Marcus Smart'}\", \"{'play_id': 88, 'a1': 'OG Anunoby', 'a2': 'Marc Gasol', 'a3': 'Kyle Lowry', 'a4': 'Fred VanVleet', 'a5': 'Norman Powell', 'h1': 'Gordon Hayward', 'h2': 'Kemba Walker', 'h3': 'Robert Williams III', 'h4': 'Marcus Smart', 'h5': 'Grant Williams'}\"]]],\n        columns: [[\"number\", \"index\"], [\"string\", \"pseudo_table_by_rows\"]],\n        columnOptions: [{\"width\": \"1px\", \"className\": \"index_column\"}],\n        rowsPerPage: 25,\n        helpUrl: \"https://colab.research.google.com/notebooks/data_table.ipynb\",\n        suppressOutputScrolling: true,\n        minimumWidth: undefined,\n      });\n    ",
            "text/html": [
              "<div>\n",
              "<style scoped>\n",
              "    .dataframe tbody tr th:only-of-type {\n",
              "        vertical-align: middle;\n",
              "    }\n",
              "\n",
              "    .dataframe tbody tr th {\n",
              "        vertical-align: top;\n",
              "    }\n",
              "\n",
              "    .dataframe thead th {\n",
              "        text-align: right;\n",
              "    }\n",
              "</style>\n",
              "<table border=\"1\" class=\"dataframe\">\n",
              "  <thead>\n",
              "    <tr style=\"text-align: right;\">\n",
              "      <th></th>\n",
              "      <th>pseudo_table_by_rows</th>\n",
              "    </tr>\n",
              "  </thead>\n",
              "  <tbody>\n",
              "    <tr>\n",
              "      <th>0</th>\n",
              "      <td>[{'play_id': 86, 'a1': 'OG Anunoby', 'a2': 'Ma...</td>\n",
              "    </tr>\n",
              "  </tbody>\n",
              "</table>\n",
              "</div>"
            ],
            "text/plain": [
              "                                pseudo_table_by_rows\n",
              "0  [{'play_id': 86, 'a1': 'OG Anunoby', 'a2': 'Ma..."
            ]
          },
          "metadata": {
            "tags": []
          },
          "execution_count": 47
        }
      ]
    },
    {
      "cell_type": "markdown",
      "metadata": {
        "id": "qVL7n_Rys_95"
      },
      "source": [
        "---\n",
        "## **Congratulations! You've made it to the end of Lesson 7.**\n",
        "\n",
        "Next week we will consider alternative data models that can improve flexibility and performance. \n",
        "\n"
      ]
    },
    {
      "cell_type": "markdown",
      "metadata": {
        "id": "wEkhlPF5A9w1"
      },
      "source": [
        "## **On your way out ... Be sure to save your work**.\n",
        "In Google Drive, drag this notebook file into your `DATA6510` folder so you can find it next time."
      ]
    }
  ]
}