{
  "cells": [
    {
      "cell_type": "markdown",
      "metadata": {
        "id": "view-in-github",
        "colab_type": "text"
      },
      "source": [
        "<a href=\"https://colab.research.google.com/github/christopherhuntley/DATA6510/blob/master/HW4_IMDB_Refresh.ipynb\" target=\"_parent\"><img src=\"https://colab.research.google.com/assets/colab-badge.svg\" alt=\"Open In Colab\"/></a>"
      ]
    },
    {
      "cell_type": "markdown",
      "metadata": {
        "id": "lenpcroUZ5g_"
      },
      "source": [
        "<img src=\"https://github.com/christopherhuntley/BUAN6510/blob/master/img/Dolan.png?raw=true\" width=\"180px\" align=\"right\">\n",
        "\n",
        "# **DATA 6510**\n",
        "# **Homework 4: IMDB Refresh** \n",
        "_Fun with Movie Listings._\n",
        "\n",
        "**What follows provides a direct download of the IMDB_Mirror.db database needed to complete HW4.**\n",
        "\n",
        "**Complete this version of the assignment and submit your answers in Google Classroom.**"
      ]
    },
    {
      "cell_type": "markdown",
      "metadata": {
        "id": "YQq7eR2F2xh5"
      },
      "source": [
        "## **1. Explore the data source.** \n",
        "\n",
        "**As you are exploring draw an ERD to represent the design of the database.** (No, there is not need to submit it. You can even use crayon if you like. We'll figure out if it's right below.)\n",
        "\n",
        "\n",
        "\n"
      ]
    },
    {
      "cell_type": "markdown",
      "metadata": {
        "id": "Qg0cwsUNv8Sj"
      },
      "source": [
        "**It may help to refer to this ...**\n",
        "\n",
        "```sql\n",
        "DROP TABLE IF EXISTS names;\n",
        "CREATE TABLE names (\n",
        "    nconst TEXT PRIMARY KEY,\n",
        "    primaryName TEXT DEFAULT 'No Name Given',\n",
        "    birthYear TEXT,\n",
        "    deathYear TEXT,\n",
        "    primaryProfession TEXT,\n",
        "    knownForTitles TEXT\n",
        ");\n",
        "DROP TABLE IF EXISTS titles;\n",
        "CREATE TABLE titles (\n",
        "    tconst TEXT PRIMARY KEY,\n",
        "    titleType TEXT NOT NULL,\n",
        "    primaryTitle TEXT DEFAULT 'Untitled',\n",
        "    originalTitle TEXT DEFAULT 'Untitled', \n",
        "    isAdult INTEGER,\n",
        "    startYear TEXT NOT NULL,\n",
        "    endYear TEXT, \n",
        "    runtimeMinutes INTEGER DEFAULT 0,\n",
        "    genres TEXT\n",
        ");\n",
        "DROP TABLE IF EXISTS principals;\n",
        "CREATE TABLE principals (\n",
        "    principalID INTEGER PRIMARY KEY,\n",
        "    tconst TEXT NOT NULL,\n",
        "    nconst TEXT NOT NULL,\n",
        "    ordering INTEGER,\n",
        "    category TEXT,\n",
        "    job TEXT,\n",
        "    characters TEXT,\n",
        "    FOREIGN KEY (nconst) REFERENCES names (nconst),\n",
        "    FOREIGN KEY (tconst) REFERENCES titles (tconst)\n",
        ");\n",
        "```"
      ]
    },
    {
      "cell_type": "markdown",
      "metadata": {
        "id": "IA5VbTDhh4RD"
      },
      "source": [
        "### **2. Refresh Database and Test database connection**"
      ]
    },
    {
      "cell_type": "markdown",
      "metadata": {
        "id": "Z6MaIEtJnLzP"
      },
      "source": [
        "Run the cells below before moving on to part 3. \n",
        "\n"
      ]
    },
    {
      "cell_type": "code",
      "source": [
        "# lock down the package versions due to SQLAlchemy 2.0 compatibility bug\n",
        "!pip install SQLAlchemy==1.4.46\n",
        "!pip install PyMySQL==1.0.2 # or whichever\n",
        "!pip install ipython-sql==0.4.1\n",
        "\n",
        "!pip3 install --upgrade gdown\n",
        "!gdown https://drive.google.com/uc?id=1MPTKr9xQJc00zyyhT9kbKJ2vXD2vwPx4\n",
        "#!gdown -O IMDB_Mirror.db https://drive.google.com/file/d/1MPTKr9xQJc00zyyhT9kbKJ2vXD2vwPx4\n",
        "\n",
        "%load_ext sql\n",
        "%sql sqlite:///IMDB_Mirror.db"
      ],
      "metadata": {
        "id": "NwjM2MCoUvYW",
        "colab": {
          "base_uri": "https://localhost:8080/"
        },
        "outputId": "0e124e78-3a8e-4662-c72a-ae4706826326"
      },
      "execution_count": 1,
      "outputs": [
        {
          "output_type": "stream",
          "name": "stdout",
          "text": [
            "Looking in indexes: https://pypi.org/simple, https://us-python.pkg.dev/colab-wheels/public/simple/\n",
            "Requirement already satisfied: SQLAlchemy==1.4.46 in /usr/local/lib/python3.8/dist-packages (1.4.46)\n",
            "Requirement already satisfied: greenlet!=0.4.17 in /usr/local/lib/python3.8/dist-packages (from SQLAlchemy==1.4.46) (2.0.2)\n",
            "Looking in indexes: https://pypi.org/simple, https://us-python.pkg.dev/colab-wheels/public/simple/\n",
            "Requirement already satisfied: PyMySQL==1.0.2 in /usr/local/lib/python3.8/dist-packages (1.0.2)\n",
            "Looking in indexes: https://pypi.org/simple, https://us-python.pkg.dev/colab-wheels/public/simple/\n",
            "Requirement already satisfied: ipython-sql==0.4.1 in /usr/local/lib/python3.8/dist-packages (0.4.1)\n",
            "Requirement already satisfied: ipython>=1.0 in /usr/local/lib/python3.8/dist-packages (from ipython-sql==0.4.1) (7.9.0)\n",
            "Requirement already satisfied: sqlparse in /usr/local/lib/python3.8/dist-packages (from ipython-sql==0.4.1) (0.4.3)\n",
            "Requirement already satisfied: six in /usr/local/lib/python3.8/dist-packages (from ipython-sql==0.4.1) (1.15.0)\n",
            "Requirement already satisfied: prettytable<1 in /usr/local/lib/python3.8/dist-packages (from ipython-sql==0.4.1) (0.7.2)\n",
            "Requirement already satisfied: ipython-genutils>=0.1.0 in /usr/local/lib/python3.8/dist-packages (from ipython-sql==0.4.1) (0.2.0)\n",
            "Requirement already satisfied: sqlalchemy>=0.6.7 in /usr/local/lib/python3.8/dist-packages (from ipython-sql==0.4.1) (1.4.46)\n",
            "Requirement already satisfied: pickleshare in /usr/local/lib/python3.8/dist-packages (from ipython>=1.0->ipython-sql==0.4.1) (0.7.5)\n",
            "Requirement already satisfied: backcall in /usr/local/lib/python3.8/dist-packages (from ipython>=1.0->ipython-sql==0.4.1) (0.2.0)\n",
            "Requirement already satisfied: setuptools>=18.5 in /usr/local/lib/python3.8/dist-packages (from ipython>=1.0->ipython-sql==0.4.1) (57.4.0)\n",
            "Requirement already satisfied: prompt-toolkit<2.1.0,>=2.0.0 in /usr/local/lib/python3.8/dist-packages (from ipython>=1.0->ipython-sql==0.4.1) (2.0.10)\n",
            "Requirement already satisfied: decorator in /usr/local/lib/python3.8/dist-packages (from ipython>=1.0->ipython-sql==0.4.1) (4.4.2)\n",
            "Requirement already satisfied: pexpect in /usr/local/lib/python3.8/dist-packages (from ipython>=1.0->ipython-sql==0.4.1) (4.8.0)\n",
            "Requirement already satisfied: pygments in /usr/local/lib/python3.8/dist-packages (from ipython>=1.0->ipython-sql==0.4.1) (2.6.1)\n",
            "Requirement already satisfied: traitlets>=4.2 in /usr/local/lib/python3.8/dist-packages (from ipython>=1.0->ipython-sql==0.4.1) (5.7.1)\n",
            "Requirement already satisfied: jedi>=0.10 in /usr/local/lib/python3.8/dist-packages (from ipython>=1.0->ipython-sql==0.4.1) (0.18.2)\n",
            "Requirement already satisfied: greenlet!=0.4.17 in /usr/local/lib/python3.8/dist-packages (from sqlalchemy>=0.6.7->ipython-sql==0.4.1) (2.0.2)\n",
            "Requirement already satisfied: parso<0.9.0,>=0.8.0 in /usr/local/lib/python3.8/dist-packages (from jedi>=0.10->ipython>=1.0->ipython-sql==0.4.1) (0.8.3)\n",
            "Requirement already satisfied: wcwidth in /usr/local/lib/python3.8/dist-packages (from prompt-toolkit<2.1.0,>=2.0.0->ipython>=1.0->ipython-sql==0.4.1) (0.2.6)\n",
            "Requirement already satisfied: ptyprocess>=0.5 in /usr/local/lib/python3.8/dist-packages (from pexpect->ipython>=1.0->ipython-sql==0.4.1) (0.7.0)\n",
            "Looking in indexes: https://pypi.org/simple, https://us-python.pkg.dev/colab-wheels/public/simple/\n",
            "Requirement already satisfied: gdown in /usr/local/lib/python3.8/dist-packages (4.6.0)\n",
            "Requirement already satisfied: requests[socks] in /usr/local/lib/python3.8/dist-packages (from gdown) (2.25.1)\n",
            "Requirement already satisfied: filelock in /usr/local/lib/python3.8/dist-packages (from gdown) (3.9.0)\n",
            "Requirement already satisfied: six in /usr/local/lib/python3.8/dist-packages (from gdown) (1.15.0)\n",
            "Requirement already satisfied: tqdm in /usr/local/lib/python3.8/dist-packages (from gdown) (4.64.1)\n",
            "Requirement already satisfied: beautifulsoup4 in /usr/local/lib/python3.8/dist-packages (from gdown) (4.6.3)\n",
            "Requirement already satisfied: chardet<5,>=3.0.2 in /usr/local/lib/python3.8/dist-packages (from requests[socks]->gdown) (4.0.0)\n",
            "Requirement already satisfied: idna<3,>=2.5 in /usr/local/lib/python3.8/dist-packages (from requests[socks]->gdown) (2.10)\n",
            "Requirement already satisfied: certifi>=2017.4.17 in /usr/local/lib/python3.8/dist-packages (from requests[socks]->gdown) (2022.12.7)\n",
            "Requirement already satisfied: urllib3<1.27,>=1.21.1 in /usr/local/lib/python3.8/dist-packages (from requests[socks]->gdown) (1.24.3)\n",
            "Requirement already satisfied: PySocks!=1.5.7,>=1.5.6 in /usr/local/lib/python3.8/dist-packages (from requests[socks]->gdown) (1.7.1)\n",
            "Downloading...\n",
            "From: https://drive.google.com/uc?id=1MPTKr9xQJc00zyyhT9kbKJ2vXD2vwPx4\n",
            "To: /content/IMDB_Mirror.db\n",
            "100% 441M/441M [00:02<00:00, 185MB/s]\n"
          ]
        }
      ]
    },
    {
      "cell_type": "code",
      "source": [
        "%%sql\n",
        "SELECT *\n",
        "FROM sqlite_Master"
      ],
      "metadata": {
        "colab": {
          "base_uri": "https://localhost:8080/",
          "height": 649
        },
        "id": "gqI2_F3WA8FZ",
        "outputId": "83c6b7df-744f-48af-fa55-b7b5b24f52ee"
      },
      "execution_count": 2,
      "outputs": [
        {
          "output_type": "stream",
          "name": "stdout",
          "text": [
            " * sqlite:///IMDB_Mirror.db\n",
            "Done.\n"
          ]
        },
        {
          "output_type": "execute_result",
          "data": {
            "text/plain": [
              "[('table', 'names', 'names', 2, \"CREATE TABLE names (\\n    nconst TEXT PRIMARY KEY,\\n    primaryName TEXT DEFAULT 'No Name Given',\\n    birthYear TEXT,\\n    deathYear TEXT,\\n    primaryProfession TEXT,\\n    knownForTitles TEXT\\n)\"),\n",
              " ('index', 'sqlite_autoindex_names_1', 'names', 3, None),\n",
              " ('table', 'titles', 'titles', 4, \"CREATE TABLE titles (\\n    tconst TEXT PRIMARY KEY,\\n    titleType TEXT NOT NULL,\\n    primaryTitle TEXT DEFAULT 'Untitled',\\n    originalTitle TEXT  ... (2 characters truncated) ... FAULT 'Untitled', \\n    isAdult INTEGER,\\n    startYear TEXT NOT NULL,\\n    endYear TEXT, \\n    runtimeMinutes INTEGER DEFAULT 0,\\n    genres TEXT\\n)\"),\n",
              " ('index', 'sqlite_autoindex_titles_1', 'titles', 5, None),\n",
              " ('table', 'principals', 'principals', 6, 'CREATE TABLE principals (\\n    principalID INTEGER PRIMARY KEY,\\n    tconst TEXT NOT NULL,\\n    nconst TEXT NOT NULL,\\n    ordering INTEGER,\\n    cat ... (8 characters truncated) ... XT,\\n    job TEXT,\\n    characters TEXT,\\n    FOREIGN KEY (nconst) REFERENCES names (nconst),\\n    FOREIGN KEY (tconst) REFERENCES titles (tconst)\\n)')]"
            ],
            "text/html": [
              "<table>\n",
              "    <tr>\n",
              "        <th>type</th>\n",
              "        <th>name</th>\n",
              "        <th>tbl_name</th>\n",
              "        <th>rootpage</th>\n",
              "        <th>sql</th>\n",
              "    </tr>\n",
              "    <tr>\n",
              "        <td>table</td>\n",
              "        <td>names</td>\n",
              "        <td>names</td>\n",
              "        <td>2</td>\n",
              "        <td>CREATE TABLE names (<br>    nconst TEXT PRIMARY KEY,<br>    primaryName TEXT DEFAULT &#x27;No Name Given&#x27;,<br>    birthYear TEXT,<br>    deathYear TEXT,<br>    primaryProfession TEXT,<br>    knownForTitles TEXT<br>)</td>\n",
              "    </tr>\n",
              "    <tr>\n",
              "        <td>index</td>\n",
              "        <td>sqlite_autoindex_names_1</td>\n",
              "        <td>names</td>\n",
              "        <td>3</td>\n",
              "        <td>None</td>\n",
              "    </tr>\n",
              "    <tr>\n",
              "        <td>table</td>\n",
              "        <td>titles</td>\n",
              "        <td>titles</td>\n",
              "        <td>4</td>\n",
              "        <td>CREATE TABLE titles (<br>    tconst TEXT PRIMARY KEY,<br>    titleType TEXT NOT NULL,<br>    primaryTitle TEXT DEFAULT &#x27;Untitled&#x27;,<br>    originalTitle TEXT DEFAULT &#x27;Untitled&#x27;, <br>    isAdult INTEGER,<br>    startYear TEXT NOT NULL,<br>    endYear TEXT, <br>    runtimeMinutes INTEGER DEFAULT 0,<br>    genres TEXT<br>)</td>\n",
              "    </tr>\n",
              "    <tr>\n",
              "        <td>index</td>\n",
              "        <td>sqlite_autoindex_titles_1</td>\n",
              "        <td>titles</td>\n",
              "        <td>5</td>\n",
              "        <td>None</td>\n",
              "    </tr>\n",
              "    <tr>\n",
              "        <td>table</td>\n",
              "        <td>principals</td>\n",
              "        <td>principals</td>\n",
              "        <td>6</td>\n",
              "        <td>CREATE TABLE principals (<br>    principalID INTEGER PRIMARY KEY,<br>    tconst TEXT NOT NULL,<br>    nconst TEXT NOT NULL,<br>    ordering INTEGER,<br>    category TEXT,<br>    job TEXT,<br>    characters TEXT,<br>    FOREIGN KEY (nconst) REFERENCES names (nconst),<br>    FOREIGN KEY (tconst) REFERENCES titles (tconst)<br>)</td>\n",
              "    </tr>\n",
              "</table>"
            ]
          },
          "metadata": {},
          "execution_count": 2
        }
      ]
    },
    {
      "cell_type": "code",
      "execution_count": 11,
      "metadata": {
        "id": "lVw5htfLcpFY",
        "colab": {
          "base_uri": "https://localhost:8080/"
        },
        "outputId": "2b3ad908-f56f-4ed4-c05e-f197a3ef43fa"
      },
      "outputs": [
        {
          "output_type": "stream",
          "name": "stdout",
          "text": [
            " * sqlite:///IMDB_Mirror.db\n",
            "(sqlite3.OperationalError) no such table: titles\n",
            "[SQL: SELECT * FROM titles LIMIT 10;]\n",
            "(Background on this error at: https://sqlalche.me/e/14/e3q8)\n"
          ]
        }
      ],
      "source": [
        "%%sql\n",
        "SELECT * FROM titles LIMIT 10;"
      ]
    },
    {
      "cell_type": "code",
      "execution_count": null,
      "metadata": {
        "id": "PUW5C0u2AChc"
      },
      "outputs": [],
      "source": [
        "%%sql\n",
        "SELECT * FROM names LIMIT 10;"
      ]
    },
    {
      "cell_type": "code",
      "source": [
        "%%sql\n",
        "SELECT * FROM principals LIMIT 10;"
      ],
      "metadata": {
        "id": "ouZ5jFdQYFOT"
      },
      "execution_count": null,
      "outputs": []
    },
    {
      "cell_type": "markdown",
      "metadata": {
        "id": "p0tEcNf0cuGF"
      },
      "source": [
        "## **3. Now for the fun part.**\n",
        "\n",
        "Write `SELECT` queries to answer the questions below. \n",
        "\n",
        "> **Note: Colab will delete your files, including your database, after 12 hours of inactivity. If your session resets then you will need to *rerun* all the above cells to recreate the database.**"
      ]
    },
    {
      "cell_type": "markdown",
      "metadata": {
        "id": "SxA3miq-nlBF"
      },
      "source": [
        "### **In what movies did Eli Wallach appear? TV does not count. (three tables, two joins)**##"
      ]
    },
    {
      "cell_type": "code",
      "execution_count": null,
      "metadata": {
        "id": "WArSDmYvnvyN"
      },
      "outputs": [],
      "source": []
    },
    {
      "cell_type": "markdown",
      "metadata": {
        "id": "0T3bisKVqORz"
      },
      "source": [
        "### **How long (in years) was Eli Wallach's career, from his first film to his last?**"
      ]
    },
    {
      "cell_type": "code",
      "execution_count": null,
      "metadata": {
        "id": "BGf8kZoKrGay"
      },
      "outputs": [],
      "source": []
    },
    {
      "cell_type": "markdown",
      "metadata": {
        "id": "5lktCZI4hev8"
      },
      "source": [
        "### **Who were Eli Wallach's costars (note: actors only) in movies released in 1996? (two tables, three joins)**"
      ]
    },
    {
      "cell_type": "code",
      "execution_count": null,
      "metadata": {
        "id": "xFBAYrXyoChT"
      },
      "outputs": [],
      "source": []
    },
    {
      "cell_type": "markdown",
      "metadata": {
        "id": "571ywxFYoPxq"
      },
      "source": [
        "### **How many total co-stars did Eli Wallach have over his career?**"
      ]
    },
    {
      "cell_type": "code",
      "execution_count": null,
      "metadata": {
        "id": "9T_rhrrloPYq"
      },
      "outputs": [],
      "source": []
    },
    {
      "cell_type": "markdown",
      "metadata": {
        "id": "UsG99ObXpP36"
      },
      "source": [
        "### **Which artists were both actors and directors in movies released in 1996? (That's actor and director in the same movie.)**"
      ]
    },
    {
      "cell_type": "code",
      "execution_count": null,
      "metadata": {
        "id": "TmMvZFvwpzjY"
      },
      "outputs": [],
      "source": []
    },
    {
      "cell_type": "markdown",
      "metadata": {
        "id": "iWsam9FUp0h6"
      },
      "source": [
        "### **How many artists were there in the above query?**"
      ]
    },
    {
      "cell_type": "code",
      "execution_count": null,
      "metadata": {
        "id": "_KrvQ8mWp9YM"
      },
      "outputs": [],
      "source": []
    },
    {
      "cell_type": "markdown",
      "metadata": {
        "id": "u271hHqtr7Mx"
      },
      "source": [
        "### **Who has the record for appearing in the most different movies in one year?**"
      ]
    },
    {
      "cell_type": "code",
      "execution_count": null,
      "metadata": {
        "id": "3rmATylbrScA"
      },
      "outputs": [],
      "source": []
    },
    {
      "cell_type": "markdown",
      "metadata": {
        "id": "3FUx9XWFrTaq"
      },
      "source": [
        "### **Movie titles are not unique. Which move title has been reused the most times over the years? (Exclude \"Untitled\" or similar non-titles. Also be sure to only include movie titles.)**"
      ]
    },
    {
      "cell_type": "code",
      "execution_count": null,
      "metadata": {
        "id": "dTCCq-TmsNYn"
      },
      "outputs": [],
      "source": []
    },
    {
      "cell_type": "markdown",
      "metadata": {
        "id": "3h7FuWEDsV63"
      },
      "source": [
        "### **Come up with your own query and post it on Slack. The student with the most interesting query -- as voted in class -- gets a perfect score on the next quiz.**"
      ]
    },
    {
      "cell_type": "code",
      "execution_count": null,
      "metadata": {
        "id": "Wh7NSu3Usst2"
      },
      "outputs": [],
      "source": []
    },
    {
      "cell_type": "markdown",
      "metadata": {
        "id": "50njPDnXC4C0"
      },
      "source": [
        "---\n",
        "## **On your way out ... Be sure to save your work**.\n",
        "Save this notebook and turn it in on Google Classroom. \n",
        "In Google Drive, drag this notebook file into your `DATA6510` folder so you can find it next time."
      ]
    }
  ],
  "metadata": {
    "colab": {
      "provenance": [],
      "include_colab_link": true
    },
    "kernelspec": {
      "display_name": "Python 3 (ipykernel)",
      "language": "python",
      "name": "python3"
    },
    "language_info": {
      "codemirror_mode": {
        "name": "ipython",
        "version": 3
      },
      "file_extension": ".py",
      "mimetype": "text/x-python",
      "name": "python",
      "nbconvert_exporter": "python",
      "pygments_lexer": "ipython3",
      "version": "3.8.13"
    }
  },
  "nbformat": 4,
  "nbformat_minor": 0
}