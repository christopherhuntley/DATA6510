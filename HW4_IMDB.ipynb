{
  "nbformat": 4,
  "nbformat_minor": 0,
  "metadata": {
    "colab": {
      "provenance": [],
      "authorship_tag": "ABX9TyPMOBjmm0C8LhkZWz/t2xwd",
      "include_colab_link": true
    },
    "kernelspec": {
      "name": "python3",
      "display_name": "Python 3"
    }
  },
  "cells": [
    {
      "cell_type": "markdown",
      "metadata": {
        "id": "view-in-github",
        "colab_type": "text"
      },
      "source": [
        "<a href=\"https://colab.research.google.com/github/christopherhuntley/DATA6510/blob/master/HW4_IMDB.ipynb\" target=\"_parent\"><img src=\"https://colab.research.google.com/assets/colab-badge.svg\" alt=\"Open In Colab\"/></a>"
      ]
    },
    {
      "cell_type": "markdown",
      "metadata": {
        "id": "lenpcroUZ5g_"
      },
      "source": [
        "<img src=\"https://github.com/christopherhuntley/BUAN6510/blob/master/img/Dolan.png?raw=true\" width=\"180px\" align=\"right\">\n",
        "\n",
        "# **DATA 6510**\n",
        "# **Homework 4: IMDB** \n",
        "_Fun with Movie Listings._\n",
        "\n",
        "## **Learning Objectives**\n",
        "### **Theory / Be able to explain ...**\n",
        "- How to explore structural relationships in a huge dataset\n",
        "- How data gets loaded into a relational database from CSV files. \n",
        "\n",
        "### **Skills / Know how to ...**\n",
        "- Determine table schema from SQL DDL\n",
        "- Debug queries that may take a while to run (and crash the database)\n",
        "\n",
        "The data for this assignment comes from [IMDB](https://www.imdb.com). It is big enough that it *barely* fits in SQLite. While IMDB does not provide a free API, it makes a large sampling of its data [available for download](https://www.imdb.com/interfaces). "
      ]
    },
    {
      "cell_type": "markdown",
      "source": [
        "## **0. Boilerplate Code to get us started**"
      ],
      "metadata": {
        "id": "NG3pwNpMa1TU"
      }
    },
    {
      "cell_type": "code",
      "metadata": {
        "id": "anQi59a29e5z",
        "colab": {
          "base_uri": "https://localhost:8080/"
        },
        "outputId": "dd3e9f9b-236e-4045-edcc-e0fa0b2af500"
      },
      "source": [
        "# lock down the package versions due to SQLAlchemy 2.0 compatibility bug\n",
        "!pip install SQLAlchemy==1.4.46\n",
        "!pip install PyMySQL==1.0.2 # or whichever\n",
        "!pip install ipython-sql==0.4.1\n",
        "\n",
        "# Load %%sql magic\n",
        "%load_ext sql\n",
        "\n",
        "# Standard Imports\n",
        "import sqlite3\n",
        "import pandas as pd"
      ],
      "execution_count": null,
      "outputs": [
        {
          "output_type": "stream",
          "name": "stdout",
          "text": [
            "The sql extension is already loaded. To reload it, use:\n",
            "  %reload_ext sql\n"
          ]
        }
      ]
    },
    {
      "cell_type": "markdown",
      "metadata": {
        "id": "YQq7eR2F2xh5"
      },
      "source": [
        "## **1. Explore the data source.**\n",
        "\n",
        "We will be building a database of every movie released in since the 1890s. While IMDB does not provide a free API, it makes a large sampling of its data [available for download](https://www.imdb.com/interfaces). Take a moment to read through the download page, which lists downloadable data sets along with column names and data types.\n",
        "\n",
        "We will focus on `title.basics.tsv.gz`, `names.basics.tsv.gz`, and `title.principals.tsv.gz` files. Some notes:\n",
        "- `titles`, `names`, and `principals` are equivalent to movies, artists, and credits.  \n",
        "- `principals` is not quite the same as the cast; it includes writers and crew but not every actor who appears. (So, unfortunately, we cannot calculate  [Bacon Numbers](https://oracleofbacon.org/help.php) accurately.) \n",
        "- The `.tsv` file extension means that the files are in tab separated values (TSV) format, an ancient cousin to the more common CSV format. In the days before everybody pulled up data sets into a spreadsheet to explore their contents, data was something you would edit in a text editor (note: MS Word is not a text editor). The tabs forced the data to appear in columns, for the most part. \n",
        "- The `.gz` file extension indicates that the data has been compressed using the `gzip` utility. In this case the compression is about 5 to 1. \n",
        "\n",
        "**As you are exploring draw an ERD to represent the design of the database.** (No, there is not need to submit it. You can even use crayon if you like. We'll figure out if it's right below.)\n",
        "\n",
        "\n",
        "\n"
      ]
    },
    {
      "cell_type": "markdown",
      "source": [
        "## **2. Create and Load the Database.**\n",
        "The load process below may take a few minutes to complete. If Google is very busy then it may take a couple hours. "
      ],
      "metadata": {
        "id": "YsdPioOqaHOp"
      }
    },
    {
      "cell_type": "code",
      "metadata": {
        "id": "eq4yMfrGEgaK",
        "colab": {
          "base_uri": "https://localhost:8080/"
        },
        "outputId": "5cd50107-6ea7-4e86-f6ca-e042826ba80e"
      },
      "source": [
        "# Download from IMDB\n",
        "!wget https://datasets.imdbws.com/name.basics.tsv.gz\n",
        "!wget https://datasets.imdbws.com/title.basics.tsv.gz\n",
        "!wget https://datasets.imdbws.com/title.principals.tsv.gz"
      ],
      "execution_count": null,
      "outputs": [
        {
          "output_type": "stream",
          "name": "stdout",
          "text": [
            "--2022-09-28 18:45:12--  https://datasets.imdbws.com/name.basics.tsv.gz\n",
            "Resolving datasets.imdbws.com (datasets.imdbws.com)... 18.64.174.83, 18.64.174.10, 18.64.174.31, ...\n",
            "Connecting to datasets.imdbws.com (datasets.imdbws.com)|18.64.174.83|:443... connected.\n",
            "HTTP request sent, awaiting response... 200 OK\n",
            "Length: 234036192 (223M) [binary/octet-stream]\n",
            "Saving to: ‘name.basics.tsv.gz’\n",
            "\n",
            "name.basics.tsv.gz  100%[===================>] 223.19M  87.6MB/s    in 2.5s    \n",
            "\n",
            "2022-09-28 18:45:15 (87.6 MB/s) - ‘name.basics.tsv.gz’ saved [234036192/234036192]\n",
            "\n",
            "--2022-09-28 18:45:15--  https://datasets.imdbws.com/title.basics.tsv.gz\n",
            "Resolving datasets.imdbws.com (datasets.imdbws.com)... 18.64.174.83, 18.64.174.10, 18.64.174.31, ...\n",
            "Connecting to datasets.imdbws.com (datasets.imdbws.com)|18.64.174.83|:443... connected.\n",
            "HTTP request sent, awaiting response... 200 OK\n",
            "Length: 161744281 (154M) [binary/octet-stream]\n",
            "Saving to: ‘title.basics.tsv.gz’\n",
            "\n",
            "title.basics.tsv.gz 100%[===================>] 154.25M  70.3MB/s    in 2.2s    \n",
            "\n",
            "2022-09-28 18:45:17 (70.3 MB/s) - ‘title.basics.tsv.gz’ saved [161744281/161744281]\n",
            "\n",
            "--2022-09-28 18:45:17--  https://datasets.imdbws.com/title.principals.tsv.gz\n",
            "Resolving datasets.imdbws.com (datasets.imdbws.com)... 18.64.174.83, 18.64.174.10, 18.64.174.31, ...\n",
            "Connecting to datasets.imdbws.com (datasets.imdbws.com)|18.64.174.83|:443... connected.\n",
            "HTTP request sent, awaiting response... 200 OK\n",
            "Length: 411782329 (393M) [binary/octet-stream]\n",
            "Saving to: ‘title.principals.tsv.gz’\n",
            "\n",
            "title.principals.ts 100%[===================>] 392.71M   103MB/s    in 4.2s    \n",
            "\n",
            "2022-09-28 18:45:21 (92.6 MB/s) - ‘title.principals.tsv.gz’ saved [411782329/411782329]\n",
            "\n"
          ]
        }
      ]
    },
    {
      "cell_type": "code",
      "source": [
        "%sql sqlite:///IMDB_Mirror.db"
      ],
      "metadata": {
        "colab": {
          "base_uri": "https://localhost:8080/",
          "height": 35
        },
        "id": "aYRNS1qtcGv8",
        "outputId": "fcde2d36-798a-40da-9587-e78b15b1fb87"
      },
      "execution_count": null,
      "outputs": [
        {
          "output_type": "execute_result",
          "data": {
            "text/plain": [
              "'Connected: @IMDB_Mirror.db'"
            ],
            "application/vnd.google.colaboratory.intrinsic+json": {
              "type": "string"
            }
          },
          "metadata": {},
          "execution_count": 3
        }
      ]
    },
    {
      "cell_type": "markdown",
      "source": [
        "**It may help to refer to your ERD for this ...**"
      ],
      "metadata": {
        "id": "Qg0cwsUNv8Sj"
      }
    },
    {
      "cell_type": "code",
      "source": [
        "%%sql\n",
        "DROP TABLE IF EXISTS names;\n",
        "CREATE TABLE names (\n",
        "    nconst TEXT PRIMARY KEY,\n",
        "    primaryName TEXT DEFAULT 'No Name Given',\n",
        "    birthYear TEXT,\n",
        "    deathYear TEXT,\n",
        "    primaryProfession TEXT,\n",
        "    knownForTitles TEXT\n",
        ");\n",
        "DROP TABLE IF EXISTS titles;\n",
        "CREATE TABLE titles (\n",
        "    tconst TEXT PRIMARY KEY,\n",
        "    titleType TEXT NOT NULL,\n",
        "    primaryTitle TEXT DEFAULT 'Untitled',\n",
        "    originalTitle TEXT DEFAULT 'Untitled', \n",
        "    isAdult INTEGER,\n",
        "    startYear TEXT NOT NULL,\n",
        "    endYear TEXT, \n",
        "    runtimeMinutes INTEGER DEFAULT 0,\n",
        "    genres TEXT\n",
        ");\n",
        "DROP TABLE IF EXISTS principals;\n",
        "CREATE TABLE principals (\n",
        "    principalID INTEGER PRIMARY KEY,\n",
        "    tconst TEXT NOT NULL,\n",
        "    nconst TEXT NOT NULL,\n",
        "    ordering INTEGER,\n",
        "    category TEXT,\n",
        "    job TEXT,\n",
        "    characters TEXT,\n",
        "    FOREIGN KEY (nconst) REFERENCES names (nconst),\n",
        "    FOREIGN KEY (tconst) REFERENCES titles (tconst)\n",
        ");"
      ],
      "metadata": {
        "colab": {
          "base_uri": "https://localhost:8080/"
        },
        "id": "pZXbsDCWcU1g",
        "outputId": "c9b51df6-1581-4226-c548-77043e44ad7f"
      },
      "execution_count": null,
      "outputs": [
        {
          "output_type": "stream",
          "name": "stdout",
          "text": [
            " * sqlite:///IMDB_Mirror.db\n",
            "Done.\n",
            "Done.\n",
            "Done.\n",
            "Done.\n",
            "Done.\n",
            "Done.\n"
          ]
        },
        {
          "output_type": "execute_result",
          "data": {
            "text/plain": [
              "[]"
            ]
          },
          "metadata": {},
          "execution_count": 4
        }
      ]
    },
    {
      "cell_type": "markdown",
      "metadata": {
        "id": "vB64xOGvE2eg"
      },
      "source": [
        "### **Load from files**\n",
        "- This uses the pandas `pd.read_csv()` function with `\\tab` separators.\n",
        "- Again, note the location of the database file. The file name and location have to match %sql magic. "
      ]
    },
    {
      "cell_type": "code",
      "metadata": {
        "id": "ZIPTLgS5E-GO",
        "colab": {
          "base_uri": "https://localhost:8080/"
        },
        "outputId": "c4d0ed08-e15c-41f7-eda2-72e304cbc6aa"
      },
      "source": [
        "data_conf = {'titles':'title.basics.tsv.gz', 'names': 'name.basics.tsv.gz', 'principals':'title.principals.tsv.gz', }\n",
        "conn = sqlite3.connect('IMDB_Mirror.db') \n",
        "with conn:\n",
        "  for tbl,fname in data_conf.items():\n",
        "    print(tbl,fname)\n",
        "    df = pd.read_csv(fname,sep='\\t')\n",
        "    df.to_sql(tbl,conn,if_exists='append',index=False)"
      ],
      "execution_count": null,
      "outputs": [
        {
          "metadata": {
            "tags": null
          },
          "name": "stdout",
          "output_type": "stream",
          "text": [
            "titles title.basics.tsv.gz\n"
          ]
        },
        {
          "metadata": {
            "tags": null
          },
          "name": "stderr",
          "output_type": "stream",
          "text": [
            "/usr/local/lib/python3.7/dist-packages/IPython/core/interactiveshell.py:3326: DtypeWarning: Columns (4) have mixed types.Specify dtype option on import or set low_memory=False.\n",
            "  exec(code_obj, self.user_global_ns, self.user_ns)\n"
          ]
        },
        {
          "output_type": "stream",
          "name": "stdout",
          "text": [
            "names name.basics.tsv.gz\n",
            "principals title.principals.tsv.gz\n"
          ]
        }
      ]
    },
    {
      "cell_type": "markdown",
      "source": [
        "**Pop Quiz: Why do we load the principals table last?**"
      ],
      "metadata": {
        "id": "5S8AI1sEiJ7o"
      }
    },
    {
      "cell_type": "markdown",
      "source": [
        "YOUR ANSWER"
      ],
      "metadata": {
        "id": "ol7J8uXCiUbu"
      }
    },
    {
      "cell_type": "markdown",
      "source": [
        "### **Refresh and Test database connection**"
      ],
      "metadata": {
        "id": "IA5VbTDhh4RD"
      }
    },
    {
      "cell_type": "markdown",
      "source": [
        "Run the cells below before moving on to part 3. \n",
        "\n"
      ],
      "metadata": {
        "id": "Z6MaIEtJnLzP"
      }
    },
    {
      "cell_type": "code",
      "source": [
        "# Reload the %sql magic after SqlAlchemy runs\n",
        "%load_ext sql\n",
        "%sql sqlite:///IMDB_Mirror.db"
      ],
      "metadata": {
        "colab": {
          "base_uri": "https://localhost:8080/",
          "height": 35
        },
        "id": "kdwRuX3qkD4w",
        "outputId": "eecf1561-8f89-4df0-cac2-22b397f9a58a"
      },
      "execution_count": null,
      "outputs": [
        {
          "output_type": "execute_result",
          "data": {
            "text/plain": [
              "'Connected: @IMDB_Mirror.db'"
            ],
            "application/vnd.google.colaboratory.intrinsic+json": {
              "type": "string"
            }
          },
          "metadata": {},
          "execution_count": 1
        }
      ]
    },
    {
      "cell_type": "code",
      "source": [
        "%%sql @IMDB_Mirror.db\n",
        "-- A query to makes sure we have data loaded\n",
        "SELECT * FROM titles LIMIT 10;"
      ],
      "metadata": {
        "colab": {
          "base_uri": "https://localhost:8080/",
          "height": 393
        },
        "id": "lVw5htfLcpFY",
        "outputId": "4190641b-4bba-45ab-a323-14e620dff1ad"
      },
      "execution_count": null,
      "outputs": [
        {
          "output_type": "stream",
          "name": "stdout",
          "text": [
            "Done.\n"
          ]
        },
        {
          "output_type": "execute_result",
          "data": {
            "text/plain": [
              "[('tt0000001', 'short', 'Carmencita', 'Carmencita', 0, '1894', '\\\\N', 1, 'Documentary,Short'),\n",
              " ('tt0000002', 'short', 'Le clown et ses chiens', 'Le clown et ses chiens', 0, '1892', '\\\\N', 5, 'Animation,Short'),\n",
              " ('tt0000003', 'short', 'Pauvre Pierrot', 'Pauvre Pierrot', 0, '1892', '\\\\N', 4, 'Animation,Comedy,Romance'),\n",
              " ('tt0000004', 'short', 'Un bon bock', 'Un bon bock', 0, '1892', '\\\\N', 12, 'Animation,Short'),\n",
              " ('tt0000005', 'short', 'Blacksmith Scene', 'Blacksmith Scene', 0, '1893', '\\\\N', 1, 'Comedy,Short'),\n",
              " ('tt0000006', 'short', 'Chinese Opium Den', 'Chinese Opium Den', 0, '1894', '\\\\N', 1, 'Short'),\n",
              " ('tt0000007', 'short', 'Corbett and Courtney Before the Kinetograph', 'Corbett and Courtney Before the Kinetograph', 0, '1894', '\\\\N', 1, 'Short,Sport'),\n",
              " ('tt0000008', 'short', 'Edison Kinetoscopic Record of a Sneeze', 'Edison Kinetoscopic Record of a Sneeze', 0, '1894', '\\\\N', 1, 'Documentary,Short'),\n",
              " ('tt0000009', 'movie', 'Miss Jerry', 'Miss Jerry', 0, '1894', '\\\\N', 45, 'Romance'),\n",
              " ('tt0000010', 'short', 'Leaving the Factory', \"La sortie de l'usine Lumière à Lyon\", 0, '1895', '\\\\N', 1, 'Documentary,Short')]"
            ],
            "text/html": [
              "<table>\n",
              "    <thead>\n",
              "        <tr>\n",
              "            <th>tconst</th>\n",
              "            <th>titleType</th>\n",
              "            <th>primaryTitle</th>\n",
              "            <th>originalTitle</th>\n",
              "            <th>isAdult</th>\n",
              "            <th>startYear</th>\n",
              "            <th>endYear</th>\n",
              "            <th>runtimeMinutes</th>\n",
              "            <th>genres</th>\n",
              "        </tr>\n",
              "    </thead>\n",
              "    <tbody>\n",
              "        <tr>\n",
              "            <td>tt0000001</td>\n",
              "            <td>short</td>\n",
              "            <td>Carmencita</td>\n",
              "            <td>Carmencita</td>\n",
              "            <td>0</td>\n",
              "            <td>1894</td>\n",
              "            <td>\\N</td>\n",
              "            <td>1</td>\n",
              "            <td>Documentary,Short</td>\n",
              "        </tr>\n",
              "        <tr>\n",
              "            <td>tt0000002</td>\n",
              "            <td>short</td>\n",
              "            <td>Le clown et ses chiens</td>\n",
              "            <td>Le clown et ses chiens</td>\n",
              "            <td>0</td>\n",
              "            <td>1892</td>\n",
              "            <td>\\N</td>\n",
              "            <td>5</td>\n",
              "            <td>Animation,Short</td>\n",
              "        </tr>\n",
              "        <tr>\n",
              "            <td>tt0000003</td>\n",
              "            <td>short</td>\n",
              "            <td>Pauvre Pierrot</td>\n",
              "            <td>Pauvre Pierrot</td>\n",
              "            <td>0</td>\n",
              "            <td>1892</td>\n",
              "            <td>\\N</td>\n",
              "            <td>4</td>\n",
              "            <td>Animation,Comedy,Romance</td>\n",
              "        </tr>\n",
              "        <tr>\n",
              "            <td>tt0000004</td>\n",
              "            <td>short</td>\n",
              "            <td>Un bon bock</td>\n",
              "            <td>Un bon bock</td>\n",
              "            <td>0</td>\n",
              "            <td>1892</td>\n",
              "            <td>\\N</td>\n",
              "            <td>12</td>\n",
              "            <td>Animation,Short</td>\n",
              "        </tr>\n",
              "        <tr>\n",
              "            <td>tt0000005</td>\n",
              "            <td>short</td>\n",
              "            <td>Blacksmith Scene</td>\n",
              "            <td>Blacksmith Scene</td>\n",
              "            <td>0</td>\n",
              "            <td>1893</td>\n",
              "            <td>\\N</td>\n",
              "            <td>1</td>\n",
              "            <td>Comedy,Short</td>\n",
              "        </tr>\n",
              "        <tr>\n",
              "            <td>tt0000006</td>\n",
              "            <td>short</td>\n",
              "            <td>Chinese Opium Den</td>\n",
              "            <td>Chinese Opium Den</td>\n",
              "            <td>0</td>\n",
              "            <td>1894</td>\n",
              "            <td>\\N</td>\n",
              "            <td>1</td>\n",
              "            <td>Short</td>\n",
              "        </tr>\n",
              "        <tr>\n",
              "            <td>tt0000007</td>\n",
              "            <td>short</td>\n",
              "            <td>Corbett and Courtney Before the Kinetograph</td>\n",
              "            <td>Corbett and Courtney Before the Kinetograph</td>\n",
              "            <td>0</td>\n",
              "            <td>1894</td>\n",
              "            <td>\\N</td>\n",
              "            <td>1</td>\n",
              "            <td>Short,Sport</td>\n",
              "        </tr>\n",
              "        <tr>\n",
              "            <td>tt0000008</td>\n",
              "            <td>short</td>\n",
              "            <td>Edison Kinetoscopic Record of a Sneeze</td>\n",
              "            <td>Edison Kinetoscopic Record of a Sneeze</td>\n",
              "            <td>0</td>\n",
              "            <td>1894</td>\n",
              "            <td>\\N</td>\n",
              "            <td>1</td>\n",
              "            <td>Documentary,Short</td>\n",
              "        </tr>\n",
              "        <tr>\n",
              "            <td>tt0000009</td>\n",
              "            <td>movie</td>\n",
              "            <td>Miss Jerry</td>\n",
              "            <td>Miss Jerry</td>\n",
              "            <td>0</td>\n",
              "            <td>1894</td>\n",
              "            <td>\\N</td>\n",
              "            <td>45</td>\n",
              "            <td>Romance</td>\n",
              "        </tr>\n",
              "        <tr>\n",
              "            <td>tt0000010</td>\n",
              "            <td>short</td>\n",
              "            <td>Leaving the Factory</td>\n",
              "            <td>La sortie de l&#x27;usine Lumière à Lyon</td>\n",
              "            <td>0</td>\n",
              "            <td>1895</td>\n",
              "            <td>\\N</td>\n",
              "            <td>1</td>\n",
              "            <td>Documentary,Short</td>\n",
              "        </tr>\n",
              "    </tbody>\n",
              "</table>"
            ]
          },
          "metadata": {},
          "execution_count": 2
        }
      ]
    },
    {
      "cell_type": "code",
      "source": [
        "%%sql\n",
        "SELECT * FROM titles LIMIT 10;"
      ],
      "metadata": {
        "colab": {
          "base_uri": "https://localhost:8080/",
          "height": 410
        },
        "id": "PUW5C0u2AChc",
        "outputId": "25d27515-aaf8-4bb9-986d-9b65d13a9436"
      },
      "execution_count": null,
      "outputs": [
        {
          "output_type": "stream",
          "name": "stdout",
          "text": [
            " * sqlite:///IMDB_Mirror.db\n",
            "Done.\n"
          ]
        },
        {
          "output_type": "execute_result",
          "data": {
            "text/plain": [
              "[('tt0000001', 'short', 'Carmencita', 'Carmencita', 0, '1894', '\\\\N', 1, 'Documentary,Short'),\n",
              " ('tt0000002', 'short', 'Le clown et ses chiens', 'Le clown et ses chiens', 0, '1892', '\\\\N', 5, 'Animation,Short'),\n",
              " ('tt0000003', 'short', 'Pauvre Pierrot', 'Pauvre Pierrot', 0, '1892', '\\\\N', 4, 'Animation,Comedy,Romance'),\n",
              " ('tt0000004', 'short', 'Un bon bock', 'Un bon bock', 0, '1892', '\\\\N', 12, 'Animation,Short'),\n",
              " ('tt0000005', 'short', 'Blacksmith Scene', 'Blacksmith Scene', 0, '1893', '\\\\N', 1, 'Comedy,Short'),\n",
              " ('tt0000006', 'short', 'Chinese Opium Den', 'Chinese Opium Den', 0, '1894', '\\\\N', 1, 'Short'),\n",
              " ('tt0000007', 'short', 'Corbett and Courtney Before the Kinetograph', 'Corbett and Courtney Before the Kinetograph', 0, '1894', '\\\\N', 1, 'Short,Sport'),\n",
              " ('tt0000008', 'short', 'Edison Kinetoscopic Record of a Sneeze', 'Edison Kinetoscopic Record of a Sneeze', 0, '1894', '\\\\N', 1, 'Documentary,Short'),\n",
              " ('tt0000009', 'movie', 'Miss Jerry', 'Miss Jerry', 0, '1894', '\\\\N', 45, 'Romance'),\n",
              " ('tt0000010', 'short', 'Leaving the Factory', \"La sortie de l'usine Lumière à Lyon\", 0, '1895', '\\\\N', 1, 'Documentary,Short')]"
            ],
            "text/html": [
              "<table>\n",
              "    <thead>\n",
              "        <tr>\n",
              "            <th>tconst</th>\n",
              "            <th>titleType</th>\n",
              "            <th>primaryTitle</th>\n",
              "            <th>originalTitle</th>\n",
              "            <th>isAdult</th>\n",
              "            <th>startYear</th>\n",
              "            <th>endYear</th>\n",
              "            <th>runtimeMinutes</th>\n",
              "            <th>genres</th>\n",
              "        </tr>\n",
              "    </thead>\n",
              "    <tbody>\n",
              "        <tr>\n",
              "            <td>tt0000001</td>\n",
              "            <td>short</td>\n",
              "            <td>Carmencita</td>\n",
              "            <td>Carmencita</td>\n",
              "            <td>0</td>\n",
              "            <td>1894</td>\n",
              "            <td>\\N</td>\n",
              "            <td>1</td>\n",
              "            <td>Documentary,Short</td>\n",
              "        </tr>\n",
              "        <tr>\n",
              "            <td>tt0000002</td>\n",
              "            <td>short</td>\n",
              "            <td>Le clown et ses chiens</td>\n",
              "            <td>Le clown et ses chiens</td>\n",
              "            <td>0</td>\n",
              "            <td>1892</td>\n",
              "            <td>\\N</td>\n",
              "            <td>5</td>\n",
              "            <td>Animation,Short</td>\n",
              "        </tr>\n",
              "        <tr>\n",
              "            <td>tt0000003</td>\n",
              "            <td>short</td>\n",
              "            <td>Pauvre Pierrot</td>\n",
              "            <td>Pauvre Pierrot</td>\n",
              "            <td>0</td>\n",
              "            <td>1892</td>\n",
              "            <td>\\N</td>\n",
              "            <td>4</td>\n",
              "            <td>Animation,Comedy,Romance</td>\n",
              "        </tr>\n",
              "        <tr>\n",
              "            <td>tt0000004</td>\n",
              "            <td>short</td>\n",
              "            <td>Un bon bock</td>\n",
              "            <td>Un bon bock</td>\n",
              "            <td>0</td>\n",
              "            <td>1892</td>\n",
              "            <td>\\N</td>\n",
              "            <td>12</td>\n",
              "            <td>Animation,Short</td>\n",
              "        </tr>\n",
              "        <tr>\n",
              "            <td>tt0000005</td>\n",
              "            <td>short</td>\n",
              "            <td>Blacksmith Scene</td>\n",
              "            <td>Blacksmith Scene</td>\n",
              "            <td>0</td>\n",
              "            <td>1893</td>\n",
              "            <td>\\N</td>\n",
              "            <td>1</td>\n",
              "            <td>Comedy,Short</td>\n",
              "        </tr>\n",
              "        <tr>\n",
              "            <td>tt0000006</td>\n",
              "            <td>short</td>\n",
              "            <td>Chinese Opium Den</td>\n",
              "            <td>Chinese Opium Den</td>\n",
              "            <td>0</td>\n",
              "            <td>1894</td>\n",
              "            <td>\\N</td>\n",
              "            <td>1</td>\n",
              "            <td>Short</td>\n",
              "        </tr>\n",
              "        <tr>\n",
              "            <td>tt0000007</td>\n",
              "            <td>short</td>\n",
              "            <td>Corbett and Courtney Before the Kinetograph</td>\n",
              "            <td>Corbett and Courtney Before the Kinetograph</td>\n",
              "            <td>0</td>\n",
              "            <td>1894</td>\n",
              "            <td>\\N</td>\n",
              "            <td>1</td>\n",
              "            <td>Short,Sport</td>\n",
              "        </tr>\n",
              "        <tr>\n",
              "            <td>tt0000008</td>\n",
              "            <td>short</td>\n",
              "            <td>Edison Kinetoscopic Record of a Sneeze</td>\n",
              "            <td>Edison Kinetoscopic Record of a Sneeze</td>\n",
              "            <td>0</td>\n",
              "            <td>1894</td>\n",
              "            <td>\\N</td>\n",
              "            <td>1</td>\n",
              "            <td>Documentary,Short</td>\n",
              "        </tr>\n",
              "        <tr>\n",
              "            <td>tt0000009</td>\n",
              "            <td>movie</td>\n",
              "            <td>Miss Jerry</td>\n",
              "            <td>Miss Jerry</td>\n",
              "            <td>0</td>\n",
              "            <td>1894</td>\n",
              "            <td>\\N</td>\n",
              "            <td>45</td>\n",
              "            <td>Romance</td>\n",
              "        </tr>\n",
              "        <tr>\n",
              "            <td>tt0000010</td>\n",
              "            <td>short</td>\n",
              "            <td>Leaving the Factory</td>\n",
              "            <td>La sortie de l&#x27;usine Lumière à Lyon</td>\n",
              "            <td>0</td>\n",
              "            <td>1895</td>\n",
              "            <td>\\N</td>\n",
              "            <td>1</td>\n",
              "            <td>Documentary,Short</td>\n",
              "        </tr>\n",
              "    </tbody>\n",
              "</table>"
            ]
          },
          "metadata": {},
          "execution_count": 3
        }
      ]
    },
    {
      "cell_type": "code",
      "source": [
        "import sqlite3\n",
        "import pandas as pd\n",
        "\n",
        "data_conf = {'principals':'title.principals.tsv.gz'}\n",
        "conn = sqlite3.connect('IMDB_Mirror.db') \n",
        "with conn:\n",
        "  for tbl,fname in data_conf.items():\n",
        "    print(tbl,fname)\n",
        "    df = pd.read_csv(fname,sep='\\t')\n",
        "    df.to_sql(tbl,conn,if_exists='append',index=False)"
      ],
      "metadata": {
        "colab": {
          "base_uri": "https://localhost:8080/"
        },
        "id": "0aTubIyiAyaj",
        "outputId": "046f91ec-9bb7-46d9-e8ee-605222bc163c"
      },
      "execution_count": null,
      "outputs": [
        {
          "output_type": "stream",
          "name": "stdout",
          "text": [
            "principals title.principals.tsv.gz\n"
          ]
        }
      ]
    },
    {
      "cell_type": "code",
      "source": [
        "# Reload the %sql magic after SqlAlchemy runs\n",
        "%load_ext sql\n",
        "%sql sqlite:///IMDB_Mirror.db"
      ],
      "metadata": {
        "colab": {
          "base_uri": "https://localhost:8080/",
          "height": 35
        },
        "id": "zDuDiDDKCHTT",
        "outputId": "02d0ecc6-a9e4-4a0a-b310-93a9a2dbc083"
      },
      "execution_count": null,
      "outputs": [
        {
          "output_type": "execute_result",
          "data": {
            "text/plain": [
              "'Connected: @IMDB_Mirror.db'"
            ],
            "application/vnd.google.colaboratory.intrinsic+json": {
              "type": "string"
            }
          },
          "metadata": {},
          "execution_count": 2
        }
      ]
    },
    {
      "cell_type": "code",
      "source": [
        "%%sql\n",
        "SELECT * FROM principals LIMIT 10;"
      ],
      "metadata": {
        "colab": {
          "base_uri": "https://localhost:8080/",
          "height": 75
        },
        "id": "mgoqIo3pAKyB",
        "outputId": "7a7df7e7-6b6a-4020-c1c0-0ecb98bc1bf1"
      },
      "execution_count": null,
      "outputs": [
        {
          "output_type": "stream",
          "name": "stdout",
          "text": [
            " * sqlite:///IMDB_Mirror.db\n",
            "Done.\n"
          ]
        },
        {
          "output_type": "execute_result",
          "data": {
            "text/plain": [
              "[]"
            ],
            "text/html": [
              "<table>\n",
              "    <thead>\n",
              "        <tr>\n",
              "            <th>principalID</th>\n",
              "            <th>tconst</th>\n",
              "            <th>nconst</th>\n",
              "            <th>ordering</th>\n",
              "            <th>category</th>\n",
              "            <th>job</th>\n",
              "            <th>characters</th>\n",
              "        </tr>\n",
              "    </thead>\n",
              "    <tbody>\n",
              "    </tbody>\n",
              "</table>"
            ]
          },
          "metadata": {},
          "execution_count": 3
        }
      ]
    },
    {
      "cell_type": "markdown",
      "source": [
        "## **3. Now for the fun part.**\n",
        "\n",
        "Write `SELECT` queries to answer the questions below. \n",
        "\n",
        "> **Note: Colab will delete your files, including your database, after 12 hours of inactivity. If your session resets then you will need to *rerun* all the above cells to recreate the database.**"
      ],
      "metadata": {
        "id": "p0tEcNf0cuGF"
      }
    },
    {
      "cell_type": "markdown",
      "source": [
        "### **In what movies did Eli Wallach appear? TV does not count. (three tables, two joins)**##"
      ],
      "metadata": {
        "id": "SxA3miq-nlBF"
      }
    },
    {
      "cell_type": "code",
      "source": [],
      "metadata": {
        "id": "WArSDmYvnvyN"
      },
      "execution_count": null,
      "outputs": []
    },
    {
      "cell_type": "markdown",
      "source": [
        "### **How many years long was Eli Wallach's career, from his first film to his last?**"
      ],
      "metadata": {
        "id": "0T3bisKVqORz"
      }
    },
    {
      "cell_type": "code",
      "source": [],
      "metadata": {
        "id": "BGf8kZoKrGay"
      },
      "execution_count": null,
      "outputs": []
    },
    {
      "cell_type": "markdown",
      "source": [
        "### **Who were Eli Wallach's costars (note: actors only) in movies released in 1996? (two tables, three joins)**"
      ],
      "metadata": {
        "id": "5lktCZI4hev8"
      }
    },
    {
      "cell_type": "code",
      "source": [],
      "metadata": {
        "id": "xFBAYrXyoChT"
      },
      "execution_count": null,
      "outputs": []
    },
    {
      "cell_type": "markdown",
      "source": [
        "### **How many total co-stars did Eli Wallach have over his career?**"
      ],
      "metadata": {
        "id": "571ywxFYoPxq"
      }
    },
    {
      "cell_type": "code",
      "source": [],
      "metadata": {
        "id": "9T_rhrrloPYq"
      },
      "execution_count": null,
      "outputs": []
    },
    {
      "cell_type": "markdown",
      "source": [
        "### **Which artists were both actors and directors in movies released in 1996? (That's actor and director in the same movie.)**"
      ],
      "metadata": {
        "id": "UsG99ObXpP36"
      }
    },
    {
      "cell_type": "code",
      "source": [],
      "metadata": {
        "id": "TmMvZFvwpzjY"
      },
      "execution_count": null,
      "outputs": []
    },
    {
      "cell_type": "markdown",
      "source": [
        "### **How many artists were there in the above query?**"
      ],
      "metadata": {
        "id": "iWsam9FUp0h6"
      }
    },
    {
      "cell_type": "code",
      "source": [],
      "metadata": {
        "id": "_KrvQ8mWp9YM"
      },
      "execution_count": null,
      "outputs": []
    },
    {
      "cell_type": "markdown",
      "source": [
        "### **Who has the record for appearing in the most different movies in one year?**"
      ],
      "metadata": {
        "id": "u271hHqtr7Mx"
      }
    },
    {
      "cell_type": "code",
      "source": [],
      "metadata": {
        "id": "3rmATylbrScA"
      },
      "execution_count": null,
      "outputs": []
    },
    {
      "cell_type": "markdown",
      "source": [
        "### **Movie titles are not unique. Which move title has been reused the most times over the years? (Exclude \"Untitled\" or similar non-titles. Also be sure to only include movie titles.)**"
      ],
      "metadata": {
        "id": "3FUx9XWFrTaq"
      }
    },
    {
      "cell_type": "code",
      "source": [],
      "metadata": {
        "id": "dTCCq-TmsNYn"
      },
      "execution_count": null,
      "outputs": []
    },
    {
      "cell_type": "markdown",
      "source": [
        "### **Come up with your own query and post it on Slack. The student with the most interesting query -- as voted in class -- gets a perfect score on the next quiz.**"
      ],
      "metadata": {
        "id": "3h7FuWEDsV63"
      }
    },
    {
      "cell_type": "code",
      "source": [],
      "metadata": {
        "id": "Wh7NSu3Usst2"
      },
      "execution_count": null,
      "outputs": []
    },
    {
      "cell_type": "markdown",
      "metadata": {
        "id": "50njPDnXC4C0"
      },
      "source": [
        "---\n",
        "## **On your way out ... Be sure to save your work**.\n",
        "Save this notebook and turn it in on Google Classroom. \n",
        "In Google Drive, drag this notebook file into your `DATA6510` folder so you can find it next time."
      ]
    }
  ]
}