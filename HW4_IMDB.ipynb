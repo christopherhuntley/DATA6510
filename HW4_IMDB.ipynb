{
  "nbformat": 4,
  "nbformat_minor": 0,
  "metadata": {
    "colab": {
      "provenance": [],
      "authorship_tag": "ABX9TyOMN3epDj3ohsYTWXZzUPAo",
      "include_colab_link": true
    },
    "kernelspec": {
      "name": "python3",
      "display_name": "Python 3"
    }
  },
  "cells": [
    {
      "cell_type": "markdown",
      "metadata": {
        "id": "view-in-github",
        "colab_type": "text"
      },
      "source": [
        "<a href=\"https://colab.research.google.com/github/christopherhuntley/DATA6510/blob/master/HW4_IMDB.ipynb\" target=\"_parent\"><img src=\"https://colab.research.google.com/assets/colab-badge.svg\" alt=\"Open In Colab\"/></a>"
      ]
    },
    {
      "cell_type": "markdown",
      "metadata": {
        "id": "lenpcroUZ5g_"
      },
      "source": [
        "<img src=\"https://github.com/christopherhuntley/BUAN6510/blob/master/img/Dolan.png?raw=true\" width=\"180px\" align=\"right\">\n",
        "\n",
        "# **DATA 6510**\n",
        "# **Homework 4: IMDB** \n",
        "_Fun with Movie Listings._\n",
        "\n",
        "## **Learning Objectives**\n",
        "### **Theory / Be able to explain ...**\n",
        "- How to explore structural relationships in a huge dataset\n",
        "- How data gets loaded into a relational database from CSV files. \n",
        "\n",
        "### **Skills / Know how to ...**\n",
        "- Determine table schema from SQL DDL\n",
        "- Debug queries that may take a while to run (and crash the database)\n",
        "\n",
        "The data for this assignment comes from [IMDB](https://www.imdb.com). It is big enough that it *barely* fits in SQLite. While IMDB does not provide a free API, it makes a large sampling of its data [available for download](https://www.imdb.com/interfaces). "
      ]
    },
    {
      "cell_type": "markdown",
      "source": [
        "## **0. Boilerplate Code to get us started**"
      ],
      "metadata": {
        "id": "NG3pwNpMa1TU"
      }
    },
    {
      "cell_type": "code",
      "metadata": {
        "id": "anQi59a29e5z",
        "colab": {
          "base_uri": "https://localhost:8080/"
        },
        "outputId": "c02bdbfe-9d55-4006-aba0-57dc4a0eda7c"
      },
      "source": [
        "# lock down the package versions due to SQLAlchemy 2.0 compatibility bug\n",
        "!pip install SQLAlchemy==1.4.46\n",
        "!pip install PyMySQL==1.0.2 # or whichever\n",
        "!pip install ipython-sql==0.4.1\n",
        "\n",
        "# Load %%sql magic\n",
        "%load_ext sql\n",
        "\n",
        "# Standard Imports\n",
        "import sqlite3\n",
        "import pandas as pd"
      ],
      "execution_count": 1,
      "outputs": [
        {
          "output_type": "stream",
          "name": "stdout",
          "text": [
            "Looking in indexes: https://pypi.org/simple, https://us-python.pkg.dev/colab-wheels/public/simple/\n",
            "Collecting SQLAlchemy==1.4.46\n",
            "  Downloading SQLAlchemy-1.4.46-cp38-cp38-manylinux_2_5_x86_64.manylinux1_x86_64.manylinux_2_17_x86_64.manylinux2014_x86_64.whl (1.6 MB)\n",
            "\u001b[2K     \u001b[90m━━━━━━━━━━━━━━━━━━━━━━━━━━━━━━━━━━━━━━━━\u001b[0m \u001b[32m1.6/1.6 MB\u001b[0m \u001b[31m10.1 MB/s\u001b[0m eta \u001b[36m0:00:00\u001b[0m\n",
            "\u001b[?25hRequirement already satisfied: greenlet!=0.4.17 in /usr/local/lib/python3.8/dist-packages (from SQLAlchemy==1.4.46) (2.0.2)\n",
            "Installing collected packages: SQLAlchemy\n",
            "  Attempting uninstall: SQLAlchemy\n",
            "    Found existing installation: SQLAlchemy 2.0.0\n",
            "    Uninstalling SQLAlchemy-2.0.0:\n",
            "      Successfully uninstalled SQLAlchemy-2.0.0\n",
            "Successfully installed SQLAlchemy-1.4.46\n",
            "Looking in indexes: https://pypi.org/simple, https://us-python.pkg.dev/colab-wheels/public/simple/\n",
            "Collecting PyMySQL==1.0.2\n",
            "  Downloading PyMySQL-1.0.2-py3-none-any.whl (43 kB)\n",
            "\u001b[2K     \u001b[90m━━━━━━━━━━━━━━━━━━━━━━━━━━━━━━━━━━━━━━━━\u001b[0m \u001b[32m43.8/43.8 KB\u001b[0m \u001b[31m1.8 MB/s\u001b[0m eta \u001b[36m0:00:00\u001b[0m\n",
            "\u001b[?25hInstalling collected packages: PyMySQL\n",
            "Successfully installed PyMySQL-1.0.2\n",
            "Looking in indexes: https://pypi.org/simple, https://us-python.pkg.dev/colab-wheels/public/simple/\n",
            "Collecting ipython-sql==0.4.1\n",
            "  Downloading ipython_sql-0.4.1-py3-none-any.whl (21 kB)\n",
            "Requirement already satisfied: ipython-genutils>=0.1.0 in /usr/local/lib/python3.8/dist-packages (from ipython-sql==0.4.1) (0.2.0)\n",
            "Collecting prettytable<1\n",
            "  Downloading prettytable-0.7.2.zip (28 kB)\n",
            "  Preparing metadata (setup.py) ... \u001b[?25l\u001b[?25hdone\n",
            "Requirement already satisfied: six in /usr/local/lib/python3.8/dist-packages (from ipython-sql==0.4.1) (1.15.0)\n",
            "Requirement already satisfied: ipython>=1.0 in /usr/local/lib/python3.8/dist-packages (from ipython-sql==0.4.1) (7.9.0)\n",
            "Requirement already satisfied: sqlparse in /usr/local/lib/python3.8/dist-packages (from ipython-sql==0.4.1) (0.4.3)\n",
            "Requirement already satisfied: sqlalchemy>=0.6.7 in /usr/local/lib/python3.8/dist-packages (from ipython-sql==0.4.1) (1.4.46)\n",
            "Requirement already satisfied: pickleshare in /usr/local/lib/python3.8/dist-packages (from ipython>=1.0->ipython-sql==0.4.1) (0.7.5)\n",
            "Requirement already satisfied: pexpect in /usr/local/lib/python3.8/dist-packages (from ipython>=1.0->ipython-sql==0.4.1) (4.8.0)\n",
            "Requirement already satisfied: pygments in /usr/local/lib/python3.8/dist-packages (from ipython>=1.0->ipython-sql==0.4.1) (2.6.1)\n",
            "Requirement already satisfied: backcall in /usr/local/lib/python3.8/dist-packages (from ipython>=1.0->ipython-sql==0.4.1) (0.2.0)\n",
            "Requirement already satisfied: setuptools>=18.5 in /usr/local/lib/python3.8/dist-packages (from ipython>=1.0->ipython-sql==0.4.1) (57.4.0)\n",
            "Requirement already satisfied: decorator in /usr/local/lib/python3.8/dist-packages (from ipython>=1.0->ipython-sql==0.4.1) (4.4.2)\n",
            "Requirement already satisfied: prompt-toolkit<2.1.0,>=2.0.0 in /usr/local/lib/python3.8/dist-packages (from ipython>=1.0->ipython-sql==0.4.1) (2.0.10)\n",
            "Collecting jedi>=0.10\n",
            "  Downloading jedi-0.18.2-py2.py3-none-any.whl (1.6 MB)\n",
            "\u001b[2K     \u001b[90m━━━━━━━━━━━━━━━━━━━━━━━━━━━━━━━━━━━━━━━━\u001b[0m \u001b[32m1.6/1.6 MB\u001b[0m \u001b[31m18.4 MB/s\u001b[0m eta \u001b[36m0:00:00\u001b[0m\n",
            "\u001b[?25hRequirement already satisfied: traitlets>=4.2 in /usr/local/lib/python3.8/dist-packages (from ipython>=1.0->ipython-sql==0.4.1) (5.7.1)\n",
            "Requirement already satisfied: greenlet!=0.4.17 in /usr/local/lib/python3.8/dist-packages (from sqlalchemy>=0.6.7->ipython-sql==0.4.1) (2.0.2)\n",
            "Requirement already satisfied: parso<0.9.0,>=0.8.0 in /usr/local/lib/python3.8/dist-packages (from jedi>=0.10->ipython>=1.0->ipython-sql==0.4.1) (0.8.3)\n",
            "Requirement already satisfied: wcwidth in /usr/local/lib/python3.8/dist-packages (from prompt-toolkit<2.1.0,>=2.0.0->ipython>=1.0->ipython-sql==0.4.1) (0.2.6)\n",
            "Requirement already satisfied: ptyprocess>=0.5 in /usr/local/lib/python3.8/dist-packages (from pexpect->ipython>=1.0->ipython-sql==0.4.1) (0.7.0)\n",
            "Building wheels for collected packages: prettytable\n",
            "  Building wheel for prettytable (setup.py) ... \u001b[?25l\u001b[?25hdone\n",
            "  Created wheel for prettytable: filename=prettytable-0.7.2-py3-none-any.whl size=13714 sha256=06eed2dc4f6037416f6452c86481bd58777014ad8056800ba5a3489b65f87215\n",
            "  Stored in directory: /root/.cache/pip/wheels/48/6d/77/9517cb933af254f51a446f1a5ec9c2be3e45f17384940bce68\n",
            "Successfully built prettytable\n",
            "Installing collected packages: prettytable, jedi, ipython-sql\n",
            "  Attempting uninstall: prettytable\n",
            "    Found existing installation: prettytable 3.6.0\n",
            "    Uninstalling prettytable-3.6.0:\n",
            "      Successfully uninstalled prettytable-3.6.0\n",
            "  Attempting uninstall: ipython-sql\n",
            "    Found existing installation: ipython-sql 0.3.9\n",
            "    Uninstalling ipython-sql-0.3.9:\n",
            "      Successfully uninstalled ipython-sql-0.3.9\n",
            "Successfully installed ipython-sql-0.4.1 jedi-0.18.2 prettytable-0.7.2\n"
          ]
        }
      ]
    },
    {
      "cell_type": "markdown",
      "metadata": {
        "id": "YQq7eR2F2xh5"
      },
      "source": [
        "## **1. Explore the data source.**\n",
        "\n",
        "We will be building a database of every movie released in since the 1890s. While IMDB does not provide a free API, it makes a large sampling of its data [available for download](https://www.imdb.com/interfaces). Take a moment to read through the download page, which lists downloadable data sets along with column names and data types.\n",
        "\n",
        "We will focus on `title.basics.tsv.gz`, `names.basics.tsv.gz`, and `title.principals.tsv.gz` files. Some notes:\n",
        "- `titles`, `names`, and `principals` are equivalent to movies, artists, and credits.  \n",
        "- `principals` is not quite the same as the cast; it includes writers and crew but not every actor who appears. (So, unfortunately, we cannot calculate  [Bacon Numbers](https://oracleofbacon.org/help.php) accurately.) \n",
        "- The `.tsv` file extension means that the files are in tab separated values (TSV) format, an ancient cousin to the more common CSV format. In the days before everybody pulled up data sets into a spreadsheet to explore their contents, data was something you would edit in a text editor (note: MS Word is not a text editor). The tabs forced the data to appear in columns, for the most part. \n",
        "- The `.gz` file extension indicates that the data has been compressed using the `gzip` utility. In this case the compression is about 5 to 1. \n",
        "\n",
        "**As you are exploring draw an ERD to represent the design of the database.** (No, there is not need to submit it. You can even use crayon if you like. We'll figure out if it's right below.)\n",
        "\n",
        "\n",
        "\n"
      ]
    },
    {
      "cell_type": "markdown",
      "source": [
        "## **2. Create and Load the Database.**\n",
        "The load process below may take a few minutes to complete. If Google is very busy then it may take a couple hours. "
      ],
      "metadata": {
        "id": "YsdPioOqaHOp"
      }
    },
    {
      "cell_type": "code",
      "metadata": {
        "id": "eq4yMfrGEgaK",
        "colab": {
          "base_uri": "https://localhost:8080/"
        },
        "outputId": "f7776c11-31f3-4299-dc09-0fa11017dfd8"
      },
      "source": [
        "# Download from IMDB\n",
        "!wget https://datasets.imdbws.com/name.basics.tsv.gz\n",
        "!wget https://datasets.imdbws.com/title.basics.tsv.gz\n",
        "!wget https://datasets.imdbws.com/title.principals.tsv.gz"
      ],
      "execution_count": 2,
      "outputs": [
        {
          "output_type": "stream",
          "name": "stdout",
          "text": [
            "--2023-02-05 19:41:53--  https://datasets.imdbws.com/name.basics.tsv.gz\n",
            "Resolving datasets.imdbws.com (datasets.imdbws.com)... 108.156.107.5, 108.156.107.31, 108.156.107.22, ...\n",
            "Connecting to datasets.imdbws.com (datasets.imdbws.com)|108.156.107.5|:443... connected.\n",
            "HTTP request sent, awaiting response... 200 OK\n",
            "Length: 240498219 (229M) [binary/octet-stream]\n",
            "Saving to: ‘name.basics.tsv.gz’\n",
            "\n",
            "name.basics.tsv.gz  100%[===================>] 229.36M   150MB/s    in 1.5s    \n",
            "\n",
            "2023-02-05 19:41:55 (150 MB/s) - ‘name.basics.tsv.gz’ saved [240498219/240498219]\n",
            "\n",
            "--2023-02-05 19:41:55--  https://datasets.imdbws.com/title.basics.tsv.gz\n",
            "Resolving datasets.imdbws.com (datasets.imdbws.com)... 108.156.107.5, 108.156.107.31, 108.156.107.22, ...\n",
            "Connecting to datasets.imdbws.com (datasets.imdbws.com)|108.156.107.5|:443... connected.\n",
            "HTTP request sent, awaiting response... 200 OK\n",
            "Length: 167518382 (160M) [binary/octet-stream]\n",
            "Saving to: ‘title.basics.tsv.gz’\n",
            "\n",
            "title.basics.tsv.gz 100%[===================>] 159.76M   117MB/s    in 1.4s    \n",
            "\n",
            "2023-02-05 19:41:56 (117 MB/s) - ‘title.basics.tsv.gz’ saved [167518382/167518382]\n",
            "\n",
            "--2023-02-05 19:41:56--  https://datasets.imdbws.com/title.principals.tsv.gz\n",
            "Resolving datasets.imdbws.com (datasets.imdbws.com)... 108.156.107.5, 108.156.107.31, 108.156.107.22, ...\n",
            "Connecting to datasets.imdbws.com (datasets.imdbws.com)|108.156.107.5|:443... connected.\n",
            "HTTP request sent, awaiting response... 200 OK\n",
            "Length: 426448918 (407M) [binary/octet-stream]\n",
            "Saving to: ‘title.principals.tsv.gz’\n",
            "\n",
            "title.principals.ts 100%[===================>] 406.69M   147MB/s    in 2.8s    \n",
            "\n",
            "2023-02-05 19:41:59 (147 MB/s) - ‘title.principals.tsv.gz’ saved [426448918/426448918]\n",
            "\n"
          ]
        }
      ]
    },
    {
      "cell_type": "code",
      "source": [
        "%sql sqlite:///IMDB_Mirror.db"
      ],
      "metadata": {
        "id": "aYRNS1qtcGv8"
      },
      "execution_count": 3,
      "outputs": []
    },
    {
      "cell_type": "markdown",
      "source": [
        "**It may help to refer to your ERD for this ...**"
      ],
      "metadata": {
        "id": "Qg0cwsUNv8Sj"
      }
    },
    {
      "cell_type": "code",
      "source": [
        "%%sql\n",
        "DROP TABLE IF EXISTS names;\n",
        "CREATE TABLE names (\n",
        "    nconst TEXT PRIMARY KEY,\n",
        "    primaryName TEXT DEFAULT 'No Name Given',\n",
        "    birthYear TEXT,\n",
        "    deathYear TEXT,\n",
        "    primaryProfession TEXT,\n",
        "    knownForTitles TEXT\n",
        ");\n",
        "DROP TABLE IF EXISTS titles;\n",
        "CREATE TABLE titles (\n",
        "    tconst TEXT PRIMARY KEY,\n",
        "    titleType TEXT NOT NULL,\n",
        "    primaryTitle TEXT DEFAULT 'Untitled',\n",
        "    originalTitle TEXT DEFAULT 'Untitled', \n",
        "    isAdult INTEGER,\n",
        "    startYear TEXT NOT NULL,\n",
        "    endYear TEXT, \n",
        "    runtimeMinutes INTEGER DEFAULT 0,\n",
        "    genres TEXT\n",
        ");\n",
        "DROP TABLE IF EXISTS principals;\n",
        "CREATE TABLE principals (\n",
        "    principalID INTEGER PRIMARY KEY,\n",
        "    tconst TEXT NOT NULL,\n",
        "    nconst TEXT NOT NULL,\n",
        "    ordering INTEGER,\n",
        "    category TEXT,\n",
        "    job TEXT,\n",
        "    characters TEXT,\n",
        "    FOREIGN KEY (nconst) REFERENCES names (nconst),\n",
        "    FOREIGN KEY (tconst) REFERENCES titles (tconst)\n",
        ");"
      ],
      "metadata": {
        "colab": {
          "base_uri": "https://localhost:8080/"
        },
        "id": "pZXbsDCWcU1g",
        "outputId": "e5e8f2e9-a78a-4ea9-fdd9-0eb6e5aa0454"
      },
      "execution_count": 4,
      "outputs": [
        {
          "output_type": "stream",
          "name": "stdout",
          "text": [
            " * sqlite:///IMDB_Mirror.db\n",
            "Done.\n",
            "Done.\n",
            "Done.\n",
            "Done.\n",
            "Done.\n",
            "Done.\n"
          ]
        },
        {
          "output_type": "execute_result",
          "data": {
            "text/plain": [
              "[]"
            ]
          },
          "metadata": {},
          "execution_count": 4
        }
      ]
    },
    {
      "cell_type": "markdown",
      "metadata": {
        "id": "vB64xOGvE2eg"
      },
      "source": [
        "### **Load from files**\n",
        "- This uses the pandas `pd.read_csv()` function with `\\tab` separators.\n",
        "- Again, note the location of the database file. The file name and location have to match %sql magic. \n",
        "- **THIS WILL LIKELY CRASH COLAB AFTER ~5mins -- too much data all at once -- BUT WE HAVE A QUICK FIX**"
      ]
    },
    {
      "cell_type": "code",
      "metadata": {
        "id": "ZIPTLgS5E-GO",
        "colab": {
          "base_uri": "https://localhost:8080/"
        },
        "outputId": "3b418c4d-6789-4337-dab0-4ebd647e7be1"
      },
      "source": [
        "data_conf = {'titles':'title.basics.tsv.gz', 'names': 'name.basics.tsv.gz', 'principals':'title.principals.tsv.gz', }\n",
        "conn = sqlite3.connect('IMDB_Mirror.db') \n",
        "with conn:\n",
        "  for tbl,fname in data_conf.items():\n",
        "    print(tbl,fname)\n",
        "    df = pd.read_csv(fname,sep='\\t')\n",
        "    df.to_sql(tbl,conn,if_exists='append',index=False)"
      ],
      "execution_count": null,
      "outputs": [
        {
          "output_type": "stream",
          "name": "stdout",
          "text": [
            "titles title.basics.tsv.gz\n"
          ]
        },
        {
          "output_type": "stream",
          "name": "stderr",
          "text": [
            "/usr/local/lib/python3.8/dist-packages/IPython/core/interactiveshell.py:3326: DtypeWarning: Columns (4) have mixed types.Specify dtype option on import or set low_memory=False.\n",
            "  exec(code_obj, self.user_global_ns, self.user_ns)\n"
          ]
        },
        {
          "output_type": "stream",
          "name": "stdout",
          "text": [
            "names name.basics.tsv.gz\n",
            "principals title.principals.tsv.gz\n"
          ]
        }
      ]
    },
    {
      "cell_type": "markdown",
      "source": [
        "**Pop Quiz: Why do we load the principals table last?**"
      ],
      "metadata": {
        "id": "5S8AI1sEiJ7o"
      }
    },
    {
      "cell_type": "markdown",
      "source": [
        "YOUR ANSWER"
      ],
      "metadata": {
        "id": "ol7J8uXCiUbu"
      }
    },
    {
      "cell_type": "markdown",
      "source": [
        "## **3. Refresh and Test database connection**"
      ],
      "metadata": {
        "id": "IA5VbTDhh4RD"
      }
    },
    {
      "cell_type": "markdown",
      "source": [
        "Run the cells below before moving on to part 3. It works around the \"too much data\" bug in Colab. \n",
        "\n"
      ],
      "metadata": {
        "id": "Z6MaIEtJnLzP"
      }
    },
    {
      "cell_type": "code",
      "source": [
        "# lock down the package versions due to SQLAlchemy 2.0 compatibility bug\n",
        "!pip install SQLAlchemy==1.4.46\n",
        "!pip install SQLAlchemy==1.4.46\n",
        "!pip install PyMySQL==1.0.2 # or whichever\n",
        "!pip install ipython-sql==0.4.1\n",
        "\n",
        "# Download the database file. \n",
        "!pip3 install --upgrade gdown\n",
        "!gdown https://drive.google.com/uc?id=1MPTKr9xQJc00zyyhT9kbKJ2vXD2vwPx4\n",
        "\n",
        "# Reload the %sql magic after SqlAlchemy runs\n",
        "%load_ext sql\n",
        "%sql sqlite:///IMDB_Mirror.db"
      ],
      "metadata": {
        "colab": {
          "base_uri": "https://localhost:8080/"
        },
        "id": "kdwRuX3qkD4w",
        "outputId": "2e4de241-b01a-4302-d0c6-a94972e12baa"
      },
      "execution_count": 1,
      "outputs": [
        {
          "output_type": "stream",
          "name": "stdout",
          "text": [
            "Looking in indexes: https://pypi.org/simple, https://us-python.pkg.dev/colab-wheels/public/simple/\n",
            "Requirement already satisfied: SQLAlchemy==1.4.46 in /usr/local/lib/python3.8/dist-packages (1.4.46)\n",
            "Requirement already satisfied: greenlet!=0.4.17 in /usr/local/lib/python3.8/dist-packages (from SQLAlchemy==1.4.46) (2.0.2)\n",
            "Looking in indexes: https://pypi.org/simple, https://us-python.pkg.dev/colab-wheels/public/simple/\n",
            "Requirement already satisfied: SQLAlchemy==1.4.46 in /usr/local/lib/python3.8/dist-packages (1.4.46)\n",
            "Requirement already satisfied: greenlet!=0.4.17 in /usr/local/lib/python3.8/dist-packages (from SQLAlchemy==1.4.46) (2.0.2)\n",
            "Looking in indexes: https://pypi.org/simple, https://us-python.pkg.dev/colab-wheels/public/simple/\n",
            "Requirement already satisfied: PyMySQL==1.0.2 in /usr/local/lib/python3.8/dist-packages (1.0.2)\n",
            "Looking in indexes: https://pypi.org/simple, https://us-python.pkg.dev/colab-wheels/public/simple/\n",
            "Requirement already satisfied: ipython-sql==0.4.1 in /usr/local/lib/python3.8/dist-packages (0.4.1)\n",
            "Requirement already satisfied: sqlalchemy>=0.6.7 in /usr/local/lib/python3.8/dist-packages (from ipython-sql==0.4.1) (1.4.46)\n",
            "Requirement already satisfied: ipython>=1.0 in /usr/local/lib/python3.8/dist-packages (from ipython-sql==0.4.1) (7.9.0)\n",
            "Requirement already satisfied: ipython-genutils>=0.1.0 in /usr/local/lib/python3.8/dist-packages (from ipython-sql==0.4.1) (0.2.0)\n",
            "Requirement already satisfied: six in /usr/local/lib/python3.8/dist-packages (from ipython-sql==0.4.1) (1.15.0)\n",
            "Requirement already satisfied: sqlparse in /usr/local/lib/python3.8/dist-packages (from ipython-sql==0.4.1) (0.4.3)\n",
            "Requirement already satisfied: prettytable<1 in /usr/local/lib/python3.8/dist-packages (from ipython-sql==0.4.1) (0.7.2)\n",
            "Requirement already satisfied: pygments in /usr/local/lib/python3.8/dist-packages (from ipython>=1.0->ipython-sql==0.4.1) (2.6.1)\n",
            "Requirement already satisfied: prompt-toolkit<2.1.0,>=2.0.0 in /usr/local/lib/python3.8/dist-packages (from ipython>=1.0->ipython-sql==0.4.1) (2.0.10)\n",
            "Requirement already satisfied: backcall in /usr/local/lib/python3.8/dist-packages (from ipython>=1.0->ipython-sql==0.4.1) (0.2.0)\n",
            "Requirement already satisfied: traitlets>=4.2 in /usr/local/lib/python3.8/dist-packages (from ipython>=1.0->ipython-sql==0.4.1) (5.7.1)\n",
            "Requirement already satisfied: pickleshare in /usr/local/lib/python3.8/dist-packages (from ipython>=1.0->ipython-sql==0.4.1) (0.7.5)\n",
            "Requirement already satisfied: setuptools>=18.5 in /usr/local/lib/python3.8/dist-packages (from ipython>=1.0->ipython-sql==0.4.1) (57.4.0)\n",
            "Requirement already satisfied: decorator in /usr/local/lib/python3.8/dist-packages (from ipython>=1.0->ipython-sql==0.4.1) (4.4.2)\n",
            "Requirement already satisfied: jedi>=0.10 in /usr/local/lib/python3.8/dist-packages (from ipython>=1.0->ipython-sql==0.4.1) (0.18.2)\n",
            "Requirement already satisfied: pexpect in /usr/local/lib/python3.8/dist-packages (from ipython>=1.0->ipython-sql==0.4.1) (4.8.0)\n",
            "Requirement already satisfied: greenlet!=0.4.17 in /usr/local/lib/python3.8/dist-packages (from sqlalchemy>=0.6.7->ipython-sql==0.4.1) (2.0.2)\n",
            "Requirement already satisfied: parso<0.9.0,>=0.8.0 in /usr/local/lib/python3.8/dist-packages (from jedi>=0.10->ipython>=1.0->ipython-sql==0.4.1) (0.8.3)\n",
            "Requirement already satisfied: wcwidth in /usr/local/lib/python3.8/dist-packages (from prompt-toolkit<2.1.0,>=2.0.0->ipython>=1.0->ipython-sql==0.4.1) (0.2.6)\n",
            "Requirement already satisfied: ptyprocess>=0.5 in /usr/local/lib/python3.8/dist-packages (from pexpect->ipython>=1.0->ipython-sql==0.4.1) (0.7.0)\n",
            "Looking in indexes: https://pypi.org/simple, https://us-python.pkg.dev/colab-wheels/public/simple/\n",
            "Requirement already satisfied: gdown in /usr/local/lib/python3.8/dist-packages (4.4.0)\n",
            "Collecting gdown\n",
            "  Downloading gdown-4.6.0-py3-none-any.whl (14 kB)\n",
            "Requirement already satisfied: tqdm in /usr/local/lib/python3.8/dist-packages (from gdown) (4.64.1)\n",
            "Requirement already satisfied: requests[socks] in /usr/local/lib/python3.8/dist-packages (from gdown) (2.25.1)\n",
            "Requirement already satisfied: beautifulsoup4 in /usr/local/lib/python3.8/dist-packages (from gdown) (4.6.3)\n",
            "Requirement already satisfied: six in /usr/local/lib/python3.8/dist-packages (from gdown) (1.15.0)\n",
            "Requirement already satisfied: filelock in /usr/local/lib/python3.8/dist-packages (from gdown) (3.9.0)\n",
            "Requirement already satisfied: idna<3,>=2.5 in /usr/local/lib/python3.8/dist-packages (from requests[socks]->gdown) (2.10)\n",
            "Requirement already satisfied: urllib3<1.27,>=1.21.1 in /usr/local/lib/python3.8/dist-packages (from requests[socks]->gdown) (1.24.3)\n",
            "Requirement already satisfied: certifi>=2017.4.17 in /usr/local/lib/python3.8/dist-packages (from requests[socks]->gdown) (2022.12.7)\n",
            "Requirement already satisfied: chardet<5,>=3.0.2 in /usr/local/lib/python3.8/dist-packages (from requests[socks]->gdown) (4.0.0)\n",
            "Requirement already satisfied: PySocks!=1.5.7,>=1.5.6 in /usr/local/lib/python3.8/dist-packages (from requests[socks]->gdown) (1.7.1)\n",
            "Installing collected packages: gdown\n",
            "  Attempting uninstall: gdown\n",
            "    Found existing installation: gdown 4.4.0\n",
            "    Uninstalling gdown-4.4.0:\n",
            "      Successfully uninstalled gdown-4.4.0\n",
            "Successfully installed gdown-4.6.0\n",
            "Downloading...\n",
            "From: https://drive.google.com/uc?id=1MPTKr9xQJc00zyyhT9kbKJ2vXD2vwPx4\n",
            "To: /content/IMDB_Mirror.db\n",
            "100% 441M/441M [00:03<00:00, 125MB/s]\n"
          ]
        }
      ]
    },
    {
      "cell_type": "code",
      "source": [
        "%%sql @IMDB_Mirror.db\n",
        "-- A query to makes sure we have data loaded\n",
        "SELECT * FROM titles LIMIT 10;"
      ],
      "metadata": {
        "colab": {
          "base_uri": "https://localhost:8080/",
          "height": 269
        },
        "id": "lVw5htfLcpFY",
        "outputId": "522f26f9-aa31-4a20-b7bd-a67fce13d05d"
      },
      "execution_count": 3,
      "outputs": [
        {
          "output_type": "stream",
          "name": "stdout",
          "text": [
            "Done.\n"
          ]
        },
        {
          "output_type": "execute_result",
          "data": {
            "text/plain": [
              "[('tt0000009', 'movie', 'Miss Jerry', 'Miss Jerry', 0, '1894', '\\\\N', 45, 'Romance'),\n",
              " ('tt0000502', 'movie', 'Bohemios', 'Bohemios', 0, '1905', '\\\\N', 100, '\\\\N'),\n",
              " ('tt0000574', 'movie', 'The Story of the Kelly Gang', 'The Story of the Kelly Gang', 0, '1906', '\\\\N', 70, 'Action,Adventure,Biography'),\n",
              " ('tt0000591', 'movie', 'The Prodigal Son', \"L'enfant prodigue\", 0, '1907', '\\\\N', 90, 'Drama'),\n",
              " ('tt0000615', 'movie', 'Robbery Under Arms', 'Robbery Under Arms', 0, '1907', '\\\\N', '\\\\N', 'Drama'),\n",
              " ('tt0000630', 'movie', 'Hamlet', 'Amleto', 0, '1908', '\\\\N', '\\\\N', 'Drama'),\n",
              " ('tt0000675', 'movie', 'Don Quijote', 'Don Quijote', 0, '1908', '\\\\N', '\\\\N', 'Drama'),\n",
              " ('tt0000679', 'movie', 'The Fairylogue and Radio-Plays', 'The Fairylogue and Radio-Plays', 0, '1908', '\\\\N', 120, 'Adventure,Fantasy'),\n",
              " ('tt0000793', 'movie', 'Andreas Hofer', 'Andreas Hofer', 0, '1909', '\\\\N', '\\\\N', 'Drama'),\n",
              " ('tt0000814', 'movie', 'La bocana de Mar Chica', 'La bocana de Mar Chica', 0, '1909', '\\\\N', '\\\\N', '\\\\N')]"
            ],
            "text/html": [
              "<table>\n",
              "    <tr>\n",
              "        <th>tconst</th>\n",
              "        <th>titleType</th>\n",
              "        <th>primaryTitle</th>\n",
              "        <th>originalTitle</th>\n",
              "        <th>isAdult</th>\n",
              "        <th>startYear</th>\n",
              "        <th>endYear</th>\n",
              "        <th>runtimeMinutes</th>\n",
              "        <th>genres</th>\n",
              "    </tr>\n",
              "    <tr>\n",
              "        <td>tt0000009</td>\n",
              "        <td>movie</td>\n",
              "        <td>Miss Jerry</td>\n",
              "        <td>Miss Jerry</td>\n",
              "        <td>0</td>\n",
              "        <td>1894</td>\n",
              "        <td>\\N</td>\n",
              "        <td>45</td>\n",
              "        <td>Romance</td>\n",
              "    </tr>\n",
              "    <tr>\n",
              "        <td>tt0000502</td>\n",
              "        <td>movie</td>\n",
              "        <td>Bohemios</td>\n",
              "        <td>Bohemios</td>\n",
              "        <td>0</td>\n",
              "        <td>1905</td>\n",
              "        <td>\\N</td>\n",
              "        <td>100</td>\n",
              "        <td>\\N</td>\n",
              "    </tr>\n",
              "    <tr>\n",
              "        <td>tt0000574</td>\n",
              "        <td>movie</td>\n",
              "        <td>The Story of the Kelly Gang</td>\n",
              "        <td>The Story of the Kelly Gang</td>\n",
              "        <td>0</td>\n",
              "        <td>1906</td>\n",
              "        <td>\\N</td>\n",
              "        <td>70</td>\n",
              "        <td>Action,Adventure,Biography</td>\n",
              "    </tr>\n",
              "    <tr>\n",
              "        <td>tt0000591</td>\n",
              "        <td>movie</td>\n",
              "        <td>The Prodigal Son</td>\n",
              "        <td>L&#x27;enfant prodigue</td>\n",
              "        <td>0</td>\n",
              "        <td>1907</td>\n",
              "        <td>\\N</td>\n",
              "        <td>90</td>\n",
              "        <td>Drama</td>\n",
              "    </tr>\n",
              "    <tr>\n",
              "        <td>tt0000615</td>\n",
              "        <td>movie</td>\n",
              "        <td>Robbery Under Arms</td>\n",
              "        <td>Robbery Under Arms</td>\n",
              "        <td>0</td>\n",
              "        <td>1907</td>\n",
              "        <td>\\N</td>\n",
              "        <td>\\N</td>\n",
              "        <td>Drama</td>\n",
              "    </tr>\n",
              "    <tr>\n",
              "        <td>tt0000630</td>\n",
              "        <td>movie</td>\n",
              "        <td>Hamlet</td>\n",
              "        <td>Amleto</td>\n",
              "        <td>0</td>\n",
              "        <td>1908</td>\n",
              "        <td>\\N</td>\n",
              "        <td>\\N</td>\n",
              "        <td>Drama</td>\n",
              "    </tr>\n",
              "    <tr>\n",
              "        <td>tt0000675</td>\n",
              "        <td>movie</td>\n",
              "        <td>Don Quijote</td>\n",
              "        <td>Don Quijote</td>\n",
              "        <td>0</td>\n",
              "        <td>1908</td>\n",
              "        <td>\\N</td>\n",
              "        <td>\\N</td>\n",
              "        <td>Drama</td>\n",
              "    </tr>\n",
              "    <tr>\n",
              "        <td>tt0000679</td>\n",
              "        <td>movie</td>\n",
              "        <td>The Fairylogue and Radio-Plays</td>\n",
              "        <td>The Fairylogue and Radio-Plays</td>\n",
              "        <td>0</td>\n",
              "        <td>1908</td>\n",
              "        <td>\\N</td>\n",
              "        <td>120</td>\n",
              "        <td>Adventure,Fantasy</td>\n",
              "    </tr>\n",
              "    <tr>\n",
              "        <td>tt0000793</td>\n",
              "        <td>movie</td>\n",
              "        <td>Andreas Hofer</td>\n",
              "        <td>Andreas Hofer</td>\n",
              "        <td>0</td>\n",
              "        <td>1909</td>\n",
              "        <td>\\N</td>\n",
              "        <td>\\N</td>\n",
              "        <td>Drama</td>\n",
              "    </tr>\n",
              "    <tr>\n",
              "        <td>tt0000814</td>\n",
              "        <td>movie</td>\n",
              "        <td>La bocana de Mar Chica</td>\n",
              "        <td>La bocana de Mar Chica</td>\n",
              "        <td>0</td>\n",
              "        <td>1909</td>\n",
              "        <td>\\N</td>\n",
              "        <td>\\N</td>\n",
              "        <td>\\N</td>\n",
              "    </tr>\n",
              "</table>"
            ]
          },
          "metadata": {},
          "execution_count": 3
        }
      ]
    },
    {
      "cell_type": "code",
      "source": [
        "%%sql\n",
        "SELECT * FROM titles LIMIT 10;"
      ],
      "metadata": {
        "colab": {
          "base_uri": "https://localhost:8080/",
          "height": 286
        },
        "id": "PUW5C0u2AChc",
        "outputId": "8ee16ce8-3707-46c2-f23b-1b53c21c2654"
      },
      "execution_count": 4,
      "outputs": [
        {
          "output_type": "stream",
          "name": "stdout",
          "text": [
            " * sqlite:///IMDB_Mirror.db\n",
            "Done.\n"
          ]
        },
        {
          "output_type": "execute_result",
          "data": {
            "text/plain": [
              "[('tt0000009', 'movie', 'Miss Jerry', 'Miss Jerry', 0, '1894', '\\\\N', 45, 'Romance'),\n",
              " ('tt0000502', 'movie', 'Bohemios', 'Bohemios', 0, '1905', '\\\\N', 100, '\\\\N'),\n",
              " ('tt0000574', 'movie', 'The Story of the Kelly Gang', 'The Story of the Kelly Gang', 0, '1906', '\\\\N', 70, 'Action,Adventure,Biography'),\n",
              " ('tt0000591', 'movie', 'The Prodigal Son', \"L'enfant prodigue\", 0, '1907', '\\\\N', 90, 'Drama'),\n",
              " ('tt0000615', 'movie', 'Robbery Under Arms', 'Robbery Under Arms', 0, '1907', '\\\\N', '\\\\N', 'Drama'),\n",
              " ('tt0000630', 'movie', 'Hamlet', 'Amleto', 0, '1908', '\\\\N', '\\\\N', 'Drama'),\n",
              " ('tt0000675', 'movie', 'Don Quijote', 'Don Quijote', 0, '1908', '\\\\N', '\\\\N', 'Drama'),\n",
              " ('tt0000679', 'movie', 'The Fairylogue and Radio-Plays', 'The Fairylogue and Radio-Plays', 0, '1908', '\\\\N', 120, 'Adventure,Fantasy'),\n",
              " ('tt0000793', 'movie', 'Andreas Hofer', 'Andreas Hofer', 0, '1909', '\\\\N', '\\\\N', 'Drama'),\n",
              " ('tt0000814', 'movie', 'La bocana de Mar Chica', 'La bocana de Mar Chica', 0, '1909', '\\\\N', '\\\\N', '\\\\N')]"
            ],
            "text/html": [
              "<table>\n",
              "    <tr>\n",
              "        <th>tconst</th>\n",
              "        <th>titleType</th>\n",
              "        <th>primaryTitle</th>\n",
              "        <th>originalTitle</th>\n",
              "        <th>isAdult</th>\n",
              "        <th>startYear</th>\n",
              "        <th>endYear</th>\n",
              "        <th>runtimeMinutes</th>\n",
              "        <th>genres</th>\n",
              "    </tr>\n",
              "    <tr>\n",
              "        <td>tt0000009</td>\n",
              "        <td>movie</td>\n",
              "        <td>Miss Jerry</td>\n",
              "        <td>Miss Jerry</td>\n",
              "        <td>0</td>\n",
              "        <td>1894</td>\n",
              "        <td>\\N</td>\n",
              "        <td>45</td>\n",
              "        <td>Romance</td>\n",
              "    </tr>\n",
              "    <tr>\n",
              "        <td>tt0000502</td>\n",
              "        <td>movie</td>\n",
              "        <td>Bohemios</td>\n",
              "        <td>Bohemios</td>\n",
              "        <td>0</td>\n",
              "        <td>1905</td>\n",
              "        <td>\\N</td>\n",
              "        <td>100</td>\n",
              "        <td>\\N</td>\n",
              "    </tr>\n",
              "    <tr>\n",
              "        <td>tt0000574</td>\n",
              "        <td>movie</td>\n",
              "        <td>The Story of the Kelly Gang</td>\n",
              "        <td>The Story of the Kelly Gang</td>\n",
              "        <td>0</td>\n",
              "        <td>1906</td>\n",
              "        <td>\\N</td>\n",
              "        <td>70</td>\n",
              "        <td>Action,Adventure,Biography</td>\n",
              "    </tr>\n",
              "    <tr>\n",
              "        <td>tt0000591</td>\n",
              "        <td>movie</td>\n",
              "        <td>The Prodigal Son</td>\n",
              "        <td>L&#x27;enfant prodigue</td>\n",
              "        <td>0</td>\n",
              "        <td>1907</td>\n",
              "        <td>\\N</td>\n",
              "        <td>90</td>\n",
              "        <td>Drama</td>\n",
              "    </tr>\n",
              "    <tr>\n",
              "        <td>tt0000615</td>\n",
              "        <td>movie</td>\n",
              "        <td>Robbery Under Arms</td>\n",
              "        <td>Robbery Under Arms</td>\n",
              "        <td>0</td>\n",
              "        <td>1907</td>\n",
              "        <td>\\N</td>\n",
              "        <td>\\N</td>\n",
              "        <td>Drama</td>\n",
              "    </tr>\n",
              "    <tr>\n",
              "        <td>tt0000630</td>\n",
              "        <td>movie</td>\n",
              "        <td>Hamlet</td>\n",
              "        <td>Amleto</td>\n",
              "        <td>0</td>\n",
              "        <td>1908</td>\n",
              "        <td>\\N</td>\n",
              "        <td>\\N</td>\n",
              "        <td>Drama</td>\n",
              "    </tr>\n",
              "    <tr>\n",
              "        <td>tt0000675</td>\n",
              "        <td>movie</td>\n",
              "        <td>Don Quijote</td>\n",
              "        <td>Don Quijote</td>\n",
              "        <td>0</td>\n",
              "        <td>1908</td>\n",
              "        <td>\\N</td>\n",
              "        <td>\\N</td>\n",
              "        <td>Drama</td>\n",
              "    </tr>\n",
              "    <tr>\n",
              "        <td>tt0000679</td>\n",
              "        <td>movie</td>\n",
              "        <td>The Fairylogue and Radio-Plays</td>\n",
              "        <td>The Fairylogue and Radio-Plays</td>\n",
              "        <td>0</td>\n",
              "        <td>1908</td>\n",
              "        <td>\\N</td>\n",
              "        <td>120</td>\n",
              "        <td>Adventure,Fantasy</td>\n",
              "    </tr>\n",
              "    <tr>\n",
              "        <td>tt0000793</td>\n",
              "        <td>movie</td>\n",
              "        <td>Andreas Hofer</td>\n",
              "        <td>Andreas Hofer</td>\n",
              "        <td>0</td>\n",
              "        <td>1909</td>\n",
              "        <td>\\N</td>\n",
              "        <td>\\N</td>\n",
              "        <td>Drama</td>\n",
              "    </tr>\n",
              "    <tr>\n",
              "        <td>tt0000814</td>\n",
              "        <td>movie</td>\n",
              "        <td>La bocana de Mar Chica</td>\n",
              "        <td>La bocana de Mar Chica</td>\n",
              "        <td>0</td>\n",
              "        <td>1909</td>\n",
              "        <td>\\N</td>\n",
              "        <td>\\N</td>\n",
              "        <td>\\N</td>\n",
              "    </tr>\n",
              "</table>"
            ]
          },
          "metadata": {},
          "execution_count": 4
        }
      ]
    },
    {
      "cell_type": "code",
      "source": [
        "%%sql\n",
        "SELECT * FROM principals LIMIT 10;"
      ],
      "metadata": {
        "colab": {
          "base_uri": "https://localhost:8080/",
          "height": 286
        },
        "id": "mgoqIo3pAKyB",
        "outputId": "1ccfc9b8-1d08-4b69-cfc0-fa3643d781b0"
      },
      "execution_count": 5,
      "outputs": [
        {
          "output_type": "stream",
          "name": "stdout",
          "text": [
            " * sqlite:///IMDB_Mirror.db\n",
            "Done.\n"
          ]
        },
        {
          "output_type": "execute_result",
          "data": {
            "text/plain": [
              "[(25, 'tt0000009', 'nm0063086', 1, 'actress', '\\\\N', '[\"Miss Geraldine Holbrook (Miss Jerry)\"]'),\n",
              " (26, 'tt0000009', 'nm0183823', 2, 'actor', '\\\\N', '[\"Mr. Hamilton\"]'),\n",
              " (27, 'tt0000009', 'nm1309758', 3, 'actor', '\\\\N', '[\"Chauncey Depew - the Director of the New York Central Railroad\"]'),\n",
              " (28, 'tt0000009', 'nm0085156', 4, 'director', '\\\\N', '\\\\N'),\n",
              " (851, 'tt0000502', 'nm0215752', 1, 'actor', '\\\\N', '\\\\N'),\n",
              " (852, 'tt0000502', 'nm0252720', 2, 'actor', '\\\\N', '\\\\N'),\n",
              " (853, 'tt0000502', 'nm0063413', 3, 'director', '\\\\N', '\\\\N'),\n",
              " (854, 'tt0000502', 'nm0657268', 4, 'writer', '\\\\N', '\\\\N'),\n",
              " (855, 'tt0000502', 'nm0675388', 5, 'writer', '\\\\N', '\\\\N'),\n",
              " (1043, 'tt0000574', 'nm0675239', 10, 'cinematographer', 'director of photography', '\\\\N')]"
            ],
            "text/html": [
              "<table>\n",
              "    <tr>\n",
              "        <th>principalID</th>\n",
              "        <th>tconst</th>\n",
              "        <th>nconst</th>\n",
              "        <th>ordering</th>\n",
              "        <th>category</th>\n",
              "        <th>job</th>\n",
              "        <th>characters</th>\n",
              "    </tr>\n",
              "    <tr>\n",
              "        <td>25</td>\n",
              "        <td>tt0000009</td>\n",
              "        <td>nm0063086</td>\n",
              "        <td>1</td>\n",
              "        <td>actress</td>\n",
              "        <td>\\N</td>\n",
              "        <td>[&quot;Miss Geraldine Holbrook (Miss Jerry)&quot;]</td>\n",
              "    </tr>\n",
              "    <tr>\n",
              "        <td>26</td>\n",
              "        <td>tt0000009</td>\n",
              "        <td>nm0183823</td>\n",
              "        <td>2</td>\n",
              "        <td>actor</td>\n",
              "        <td>\\N</td>\n",
              "        <td>[&quot;Mr. Hamilton&quot;]</td>\n",
              "    </tr>\n",
              "    <tr>\n",
              "        <td>27</td>\n",
              "        <td>tt0000009</td>\n",
              "        <td>nm1309758</td>\n",
              "        <td>3</td>\n",
              "        <td>actor</td>\n",
              "        <td>\\N</td>\n",
              "        <td>[&quot;Chauncey Depew - the Director of the New York Central Railroad&quot;]</td>\n",
              "    </tr>\n",
              "    <tr>\n",
              "        <td>28</td>\n",
              "        <td>tt0000009</td>\n",
              "        <td>nm0085156</td>\n",
              "        <td>4</td>\n",
              "        <td>director</td>\n",
              "        <td>\\N</td>\n",
              "        <td>\\N</td>\n",
              "    </tr>\n",
              "    <tr>\n",
              "        <td>851</td>\n",
              "        <td>tt0000502</td>\n",
              "        <td>nm0215752</td>\n",
              "        <td>1</td>\n",
              "        <td>actor</td>\n",
              "        <td>\\N</td>\n",
              "        <td>\\N</td>\n",
              "    </tr>\n",
              "    <tr>\n",
              "        <td>852</td>\n",
              "        <td>tt0000502</td>\n",
              "        <td>nm0252720</td>\n",
              "        <td>2</td>\n",
              "        <td>actor</td>\n",
              "        <td>\\N</td>\n",
              "        <td>\\N</td>\n",
              "    </tr>\n",
              "    <tr>\n",
              "        <td>853</td>\n",
              "        <td>tt0000502</td>\n",
              "        <td>nm0063413</td>\n",
              "        <td>3</td>\n",
              "        <td>director</td>\n",
              "        <td>\\N</td>\n",
              "        <td>\\N</td>\n",
              "    </tr>\n",
              "    <tr>\n",
              "        <td>854</td>\n",
              "        <td>tt0000502</td>\n",
              "        <td>nm0657268</td>\n",
              "        <td>4</td>\n",
              "        <td>writer</td>\n",
              "        <td>\\N</td>\n",
              "        <td>\\N</td>\n",
              "    </tr>\n",
              "    <tr>\n",
              "        <td>855</td>\n",
              "        <td>tt0000502</td>\n",
              "        <td>nm0675388</td>\n",
              "        <td>5</td>\n",
              "        <td>writer</td>\n",
              "        <td>\\N</td>\n",
              "        <td>\\N</td>\n",
              "    </tr>\n",
              "    <tr>\n",
              "        <td>1043</td>\n",
              "        <td>tt0000574</td>\n",
              "        <td>nm0675239</td>\n",
              "        <td>10</td>\n",
              "        <td>cinematographer</td>\n",
              "        <td>director of photography</td>\n",
              "        <td>\\N</td>\n",
              "    </tr>\n",
              "</table>"
            ]
          },
          "metadata": {},
          "execution_count": 5
        }
      ]
    },
    {
      "cell_type": "markdown",
      "source": [
        "## **4. Now for the fun part.**\n",
        "\n",
        "Write `SELECT` queries to answer the questions below. \n",
        "\n",
        "> **Note: Colab will delete your files, including your database, after 12 hours of inactivity. If your session resets then you will need to *rerun* all the cells in Part 3 above to recreate the database.**"
      ],
      "metadata": {
        "id": "p0tEcNf0cuGF"
      }
    },
    {
      "cell_type": "markdown",
      "source": [
        "### **In what movies did Eli Wallach appear? TV does not count. (three tables, two joins)**##"
      ],
      "metadata": {
        "id": "SxA3miq-nlBF"
      }
    },
    {
      "cell_type": "code",
      "source": [],
      "metadata": {
        "id": "WArSDmYvnvyN"
      },
      "execution_count": null,
      "outputs": []
    },
    {
      "cell_type": "markdown",
      "source": [
        "### **How many years long was Eli Wallach's career, from his first film to his last?**"
      ],
      "metadata": {
        "id": "0T3bisKVqORz"
      }
    },
    {
      "cell_type": "code",
      "source": [],
      "metadata": {
        "id": "BGf8kZoKrGay"
      },
      "execution_count": null,
      "outputs": []
    },
    {
      "cell_type": "markdown",
      "source": [
        "### **Who were Eli Wallach's costars (note: actors only) in movies released in 1996? (two tables, three joins)**"
      ],
      "metadata": {
        "id": "5lktCZI4hev8"
      }
    },
    {
      "cell_type": "code",
      "source": [],
      "metadata": {
        "id": "xFBAYrXyoChT"
      },
      "execution_count": null,
      "outputs": []
    },
    {
      "cell_type": "markdown",
      "source": [
        "### **How many total co-stars did Eli Wallach have over his career?**"
      ],
      "metadata": {
        "id": "571ywxFYoPxq"
      }
    },
    {
      "cell_type": "code",
      "source": [],
      "metadata": {
        "id": "9T_rhrrloPYq"
      },
      "execution_count": null,
      "outputs": []
    },
    {
      "cell_type": "markdown",
      "source": [
        "### **Which artists were both actors and directors in movies released in 1996? (That's actor and director in the same movie.)**"
      ],
      "metadata": {
        "id": "UsG99ObXpP36"
      }
    },
    {
      "cell_type": "code",
      "source": [],
      "metadata": {
        "id": "TmMvZFvwpzjY"
      },
      "execution_count": null,
      "outputs": []
    },
    {
      "cell_type": "markdown",
      "source": [
        "### **How many artists were there in the above query?**"
      ],
      "metadata": {
        "id": "iWsam9FUp0h6"
      }
    },
    {
      "cell_type": "code",
      "source": [],
      "metadata": {
        "id": "_KrvQ8mWp9YM"
      },
      "execution_count": null,
      "outputs": []
    },
    {
      "cell_type": "markdown",
      "source": [
        "### **Who has the record for appearing in the most different movies in one year?**"
      ],
      "metadata": {
        "id": "u271hHqtr7Mx"
      }
    },
    {
      "cell_type": "code",
      "source": [],
      "metadata": {
        "id": "3rmATylbrScA"
      },
      "execution_count": null,
      "outputs": []
    },
    {
      "cell_type": "markdown",
      "source": [
        "### **Movie titles are not unique. Which move title has been reused the most times over the years? (Exclude \"Untitled\" or similar non-titles. Also be sure to only include movie titles.)**"
      ],
      "metadata": {
        "id": "3FUx9XWFrTaq"
      }
    },
    {
      "cell_type": "code",
      "source": [],
      "metadata": {
        "id": "dTCCq-TmsNYn"
      },
      "execution_count": null,
      "outputs": []
    },
    {
      "cell_type": "markdown",
      "source": [
        "### **Come up with your own query and post it on Slack. The student with the most interesting query -- as voted in class -- gets a perfect score on the next quiz.**"
      ],
      "metadata": {
        "id": "3h7FuWEDsV63"
      }
    },
    {
      "cell_type": "code",
      "source": [],
      "metadata": {
        "id": "Wh7NSu3Usst2"
      },
      "execution_count": null,
      "outputs": []
    },
    {
      "cell_type": "markdown",
      "metadata": {
        "id": "50njPDnXC4C0"
      },
      "source": [
        "---\n",
        "## **On your way out ... Be sure to save your work**.\n",
        "Save this notebook and turn it in on Google Classroom. \n",
        "In Google Drive, drag this notebook file into your `DATA6510` folder so you can find it next time."
      ]
    }
  ]
}