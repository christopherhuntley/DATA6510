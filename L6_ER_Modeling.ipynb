{
  "nbformat": 4,
  "nbformat_minor": 0,
  "metadata": {
    "colab": {
      "name": "L6_ER_Modeling.ipynb",
      "provenance": [],
      "collapsed_sections": [],
      "mount_file_id": "11MBPducEj0HgT0u-nrCE60AvHJQnPR3y",
      "authorship_tag": "ABX9TyMhCfuF43G7+CwcJM2Qfmkp"
    },
    "kernelspec": {
      "name": "python3",
      "display_name": "Python 3"
    }
  },
  "cells": [
    {
      "cell_type": "markdown",
      "metadata": {
        "id": "5rHzwUorF5ab"
      },
      "source": [
        "<img src=\"https://github.com/christopherhuntley/DATA6510/blob/master/img/Dolan.png?raw=true\" width=\"180px\" align=\"right\">\n",
        "\n",
        "# **DATA 6510**\n",
        "# **Lesson 6: Entity Relationship Modeling** \n",
        "_A Visual Approach to Database Design._\n",
        "\n",
        "## **Learning Objectives**\n",
        "### **Theory / Be able to explain ...**\n",
        "- Entity Relationship notation and interpretation\n",
        "- Key distinctions between entities and attributes\n",
        "- The various kinds of relationships and how they affect database design\n",
        "- How Entity-Attribute-Value databases can be useful for data without fixed database schema\n",
        "\n",
        "### **Skills / Know how to ...**\n",
        "- Draw Entity Relationship Diagrams\n",
        "- Assess the validity of entity types\n",
        "- Identify potential design issues before writing any SQL code\n",
        "\n",
        "--------\n",
        "## **LESSON 6 HIGHLIGHTS**"
      ]
    },
    {
      "cell_type": "code",
      "metadata": {
        "id": "I95WVwkCnTJF",
        "colab": {
          "base_uri": "https://localhost:8080/",
          "height": 529
        },
        "outputId": "746c9157-7ee2-4202-de0d-7d30353cde0f"
      },
      "source": [
        "#@title Run this cell if video does not appear\n",
        "%%html\n",
        "<div style=\"max-width:1000px\">\n",
        "  <div style=\"position: relative;padding-bottom: 56.25%;height: 0;\">\n",
        "    <iframe style=\"position: absolute;top: 0;left: 0;width: 100%;height: 100%;\" rel=\"0\" modestbranding=\"1\"  src=\"https://www.youtube.com/embed/joDkI1ttf9o\" frameborder=\"0\" allow=\"accelerometer; autoplay; encrypted-media; gyroscope; picture-in-picture\" allowfullscreen></iframe>\n",
        "  </div>\n",
        "</div>"
      ],
      "execution_count": null,
      "outputs": [
        {
          "output_type": "display_data",
          "data": {
            "text/html": [
              "<div style=\"max-width:1000px\">\n",
              "  <div style=\"position: relative;padding-bottom: 56.25%;height: 0;\">\n",
              "    <iframe style=\"position: absolute;top: 0;left: 0;width: 100%;height: 100%;\" rel=\"0\" modestbranding=\"1\"  src=\"https://www.youtube.com/embed/joDkI1ttf9o\" frameborder=\"0\" allow=\"accelerometer; autoplay; encrypted-media; gyroscope; picture-in-picture\" allowfullscreen></iframe>\n",
              "  </div>\n",
              "</div>"
            ],
            "text/plain": [
              "<IPython.core.display.HTML object>"
            ]
          },
          "metadata": {
            "tags": []
          }
        }
      ]
    },
    {
      "cell_type": "markdown",
      "metadata": {
        "id": "aVKAjKlGheMm"
      },
      "source": [
        "---\n",
        "## **BIG PICTURE: Data modeling is not about data**\n",
        "\n",
        "**Data modeling is something we do *before* we have data.** It's the design activity that makes it possible to collect data for a given purpose. So, data modeling is about what we will do with the data and what we can expect to find as we collect it. The data itself ends up being a collection of artifacts that gets us from data collection to data usage. \n",
        "\n",
        "So, whenever we start design of a new database (i.e., the receptacle for our data) the most important questions are:\n",
        "- What exists now?\n",
        "- What is the data about?\n",
        "- What is the data going to be used for?\n",
        "- How long does the data need to be kept?\n",
        "- Who is going to use the data? \n",
        "\n",
        "Only after we get answers to these questions can we begin to think about the tables, columns, keys, constraints, etc. For example, let's consider the \"What exists now?\" question. What exists now may include any or all of the following: \n",
        "- a paper process used to collect dead tree data and produce reports\n",
        "- people whose jobs are to work with the current data sources every day, perhaps with an organizational hierarchy that determines data access permissions\n",
        "- online systems that need data in a specific format or produce data in a (not necessarily the same) format\n",
        "- end users that don't currently know they need the data \n",
        "- a laundry list of complaints about the current system (or lack of one)\n",
        "- ...\n",
        "It goes on and on. \n",
        "\n",
        "The purpose of data modeling is to capture enough detail about the data requirements as possible before we make any technology decisions we might regret later. If, for example, we find that some data needs to be separate from other data because of different sources or user access permissions, then we need to take that into account when designing our tables. Similarly, if some data is permanent and other data is only useful for a couple of weeks, then perhaps we will want to keep them separate as well. \n",
        "\n",
        "In this lesson we will use Entity Relationship Modeling to capture data requirements in an intuitive way that can be explained to clients and power users. It is like writing a draft of the user manual for the data before anything else. "
      ]
    },
    {
      "cell_type": "markdown",
      "metadata": {
        "id": "NekcmKiCsxQm"
      },
      "source": [
        "---\n",
        "## **Entity Relationship Diagrams**\n",
        "\n",
        "Entity Relationship models have been around almost as long as relational databases. Peter Chen first developed the theory in the mid-1970s, a time when relational databases were still pretty exotic, to solve a serious conceptual problem. People understood how to read and write files but following all the rules needed to build relational databases was a challenge.  \n",
        "\n",
        "ER diagrams (ERDs) are designed to be just specific enough to be useful without introducing any unnecessary details that are best left for later. Consider this ERD from Lesson 1:\n",
        "\n",
        "![Cleaners ERD](https://github.com/christopherhuntley/DATA6510/raw/master/img/L6_erd1.png)\n",
        "\n",
        "- **Each box represents an entity class or type.** Any given type can model any number of instances. So, for example, the `Customer` entity (type) can represent millions of customers (instances). \n",
        "- **The attributes are listed inside the box.** Traditionally, primary key attributes (identifiers like `customer_id`) are listed at the top and the foreign key attributes at the bottom, with non-key attributes in between. If an attribute is both a primary key and foreign key then group it with the primary keys attributes. \n",
        "  > Note: in the earliest stages of the design process, we may omit the attributes entirely, focusing on just the entities and relationships.  \n",
        "- **Relationships are shown with lines connecting the boxes.** The notation at each end of a connecting line represents how many entity instances there are at that end. The relationship shown in the diagram indicates that:\n",
        "  - each `Customer` instance can generate zero of more `Invoice` instances\n",
        "  - each `Invoice` instance is generated by one and only one `Customer`\n",
        "\n",
        "With this much detail we can say:\n",
        "- what tables we will need in the database\n",
        "- what columns are on each table\n",
        "- what foreign keys are needed and what tables they refer to\n",
        "\n",
        "What we don't care about (yet) includes \n",
        "- the data types of the attributes\n",
        "- how the keys are generated and managed\n",
        "- how many rows of data are to be in each table\n",
        "- how the tables will be populated with data\n",
        "- how data will be updated or deleted from the tables\n",
        "\n",
        "These things are for logical design. For now we are just interested in the general database structure, not its implementation. We need to get the basic concepts right before diving into the details. \n",
        "\n",
        " \n"
      ]
    },
    {
      "cell_type": "markdown",
      "metadata": {
        "id": "EDSvJAd3atPB"
      },
      "source": [
        "## **ERDs as Conceptual Storytelling**\n",
        "\n",
        "The key insight of entity relationship modeling $-$ the one that makes it so useful for database design $-$ is that **databases exist to tell stories**. They describe things that people care about enough to record for later. Entity-relationship diagramming is a visual language for telling database stories before we actually have data.\n",
        "\n",
        "In the visual language of ERDs there are just two kinds of sentences:\n",
        "- Description: entity A **is described by** attributes X, Y, and Z \n",
        "- Action: entity A **acts upon** entity B\n",
        "\n",
        "In these stories, the **entities and attributes are the descriptive nouns**, while the **relationships are the action verbs**. \n",
        "\n",
        "We will take these one at a time and then discuss some of the more interesting special cases. \n",
        "\n",
        "\n"
      ]
    },
    {
      "cell_type": "markdown",
      "metadata": {
        "id": "_AYIvnUVaYuB"
      },
      "source": [
        "## **Entities and Attributes**\n",
        "\n",
        "In principle, any particular thing could be considered an entity or an attribute. Often it's hard to tell which, at least at first, before we know the context for our database stories. \n",
        "\n",
        "The difference between an entity and an attribute is that entities always have a unique identity within the **domain model** (i.e., context). Recall that in Lesson 4 we defined the relational model using set mappings from **domains** to **codomains**: \n",
        "![Relation mappings from Lesson 4](https://github.com/christopherhuntley/DATA6510/raw/master/img/L4_Relations.png)\n",
        "\n",
        "The items in the domain set are the entities represented by a table. The mappings to the codomains are the attributes. While entities are by definition unique, we could map any given **domain entity** to **attribute values** in any number of codomains. Like the entities, the attribute values themselves are unique but the **attribute mappings** have no such constraint. We could map several entities to the same attribute value or even map an entity to itself (i.e., where codomain = domain) several times if we like. It is in this sense that **entities are unique** while **attribute mappings** are not.\n",
        "\n",
        "To determine if a given item is an entity, we look for **identifier attributes** that make sense in the story context. For example, does a bank need to track individual dollar bills (via serial numbers) or just the number of dollars in a person's account? If the former then dollars are entities. Otherwise, in the absence of a useful identifier, dollar amounts are just values used to describe something else (a customer's account, a financial transaction, etc.).\n",
        "\n",
        "> **Tip:** Identifier attributes should be immutable, never changing once they have been set. If one is ever tempted to modify an identifier then it is not really an identifier. So, for example, while we informally use people's names as identifiers, names can change and thus make poor identifiers. We are better off defining a new attribute (an id number, for example) and letting the name be just another non-key attribute. \n",
        "\n",
        "Besides the need for unique identifiers, there is another sense in which entities must be unique. **Each entity is always one thing and only one thing.** If an entity is composed of multiple things, then it is actually an **associative entity** that connects other things together. Each of these connected things is an entity, as is the association itself. \n",
        "\n",
        "Let's consider, for example, a marriage between two people. Is that one thing (a marriage) or three things (marriage plus two spouses)? In early versions of the database story it may be just a marriage license with a date, few signatures, and an id number. However, as the story gets fleshed out, one may find the need to represent the people getting married. While it is tempting to just add the details about these people to the marriage license itself, this makes the idea of a marriage license much more complex than it has to be. It also complicates questions like \"Has Toby been married before?\" or \"Is Toby *currently married* to somebody else?\" Instead of looking up Toby (and finding licenses), we would have to scan through licenses to find any with Toby's name. A much better, more savvy, way to do it is to **register each person** separately and then **reference** them on the marriage license. As long as the licenses are **indexed** by person $-$ easily done if each person has a unique identifier $-$ we could find any of Toby's previous marriages on file with one lookup.\n",
        "\n",
        "Once we have the entities worked out, the attributes are usually pretty easy to suss out. All we need to know in an ERD is what they are named, and whether any of them are identifiers (primary keys) or references (foreign keys). Data types and other constraints (e.g., allowed combinations of attribute values) can wait until logical design (in SQL). \n",
        "\n",
        "\n",
        "\n",
        "\n"
      ]
    },
    {
      "cell_type": "markdown",
      "metadata": {
        "id": "EXPGWJKoz1Gx"
      },
      "source": [
        "---\n",
        "## **Relationships**\n",
        "Relationships are how the entities in our stories interact. They provide the action. How that action plays out depends on the natures of the entities and their interactions. \n",
        "\n",
        "Continuing our marriage example, here are three different scenarios, each as a different ERD:\n",
        "\n",
        "![Three Marriage Proposals](https://github.com/christopherhuntley/DATA6510/raw/master/img/L6_Marriage_ERD.png)\n",
        "\n",
        "Scenario A represents the case where people are just names on a marriage license. Each person is listed as either `spouse1` or `spouse2`. This is a very static story with no action. It is almost as if nobody will ever read the story after it is written.\n",
        "\n",
        "Scenario B represents a person-centric case, where all that matters is who is currently married to whom. (It's a rare unary mapping of an entity domain onto itself.) Notice the phrasing of the text on the relationship. It describes the action (or more like a condition, depending on your views of marriage) of being married to another person. It is assumed that if person X is married to person Y that the relationship would be noted on both entities. If a person is unmarried, then the `spouseID` would be left blank.\n",
        "\n",
        "Scenario C separates out the marriage license from the people getting married. In this case we can add more attributes to the `Marriage License` and `Person` entities to indicate things like birthdates, divorce dates, etc. Generally, this is likely how your state records marriages. It is up to them to enforce the \"can't have more than one marriage at a time\" law. \n",
        "\n",
        "> Note that Scenario C allows for marriage to be between more than 2 people. Why? Because standard ERD graphic language doesn't distinguish between \"more than 1\" and \"many\". That marriage is between two people is a constraint that would be handled in the logical design phase of the database development."
      ]
    },
    {
      "cell_type": "markdown",
      "metadata": {
        "id": "gvCX0aLbp8iS"
      },
      "source": [
        "\n",
        "### **Degrees**\n",
        "\n",
        "The degree of a relationship is **how many entity *types*** are being connected. \n",
        "\n",
        "By far the most common relationship is between two entity types. That is called a **binary relationship**, represented by scenario C in the marriage example. In the many-to-many relationship depicted, there can be just about any number of entities on either end. However, there are only two entity types involved. \n",
        "\n",
        "A **unary relationship** is one where the associations are among entities with the same entity type. A unary relationship was shown in scenario B. One can conceive of a unary relationship between rail cars on a train. Each car has 0 or 1 cars immediately before and 0 or cars after it. However, every rail car is a car. \n",
        "\n",
        "> We can have higher degree relationships (ternary, quaternary, etc.) as well. These are not very common and can be confusing to interpret. Often in such cases the designer will create an **associative entity** that represents the relationship itself. We only mention higher degree relationships in passing because you may see one in the wild someday. "
      ]
    },
    {
      "cell_type": "markdown",
      "metadata": {
        "id": "MSHIE5GMVm6M"
      },
      "source": [
        "### **Maximum Cardinalities**\n",
        "A cardinality is a count of items in a set. (In fact, the counting numbers 1, 2, 3, etc. are sometimes called the cardinal numbers.) \n",
        "\n",
        "In database design the placement of foreign keys are determined by the maximum cardinalities of the relationships. In our ERD notation, there are three possibilities:\n",
        "\n",
        "![Maximum Cardinalities](https://github.com/christopherhuntley/DATA6510/raw/master/img/L6_Max_Cardinalities.png)\n",
        "\n",
        "**In the one-to-one case, we will need foreign keys on or both ends of the relationship.** Given an entity on one side, we will need to be able to look up the entity on the other end. \n",
        "\n",
        "**In the one-to-many case we will always place the foreign key on the many end of the relationship.** If we were to put it on the one end then we would need to refer to a list of entities on the other end, which is not allowed by the relational model. (More specifically, it is not allowed by the 1NF rules.) Instead, we add a foreign key to the entity on the many end to indicate which one of the entities in the other type it is referring to. \n",
        "\n",
        "**In the many-to-many case we will eventually need to create an associative entity with foreign keys to the tables at either end.** This in effect converts the many-to-many relationship into two one-to-many relationships with a new entity type. In our ERDs that's fine, but in SQL we will need to create a new table for the cross-references. \n",
        "\n",
        "> The ERD diagrams shown here use \"crows foot\" notation with a triangular shape for \"many\" ends and a single cross hatch for the \"one\" ends. Other notations, including the original Chen models for the 1970s and the UML class diagrams used by software engineers, permit more specificity (\"maximum of 2\") but are a bit more verbose. Finally, as we shall see, there is no need for so much specificity when designing tables and columns.  \n",
        "\n",
        "### **Minimum Cardinalities**\n",
        "\n",
        "Minimum cardinalities indicate whether a relationship is optional or mandatory on each end. \n",
        "\n",
        "![Minimum Cardinalities](https://github.com/christopherhuntley/DATA6510/raw/master/img/L6_Min_Cardinalities.png)\n",
        "\n",
        "The minimum cardinalities (either 0 or 1) are shown to the inside of the maximum cardinalities. These have implications for the placement of foreign keys and the order in which entities are created (i.e., some entities may have to precede others to maintain referential integrity). We will explore both in the Special Cases section below. \n",
        "\n"
      ]
    },
    {
      "cell_type": "markdown",
      "metadata": {
        "id": "WDeiyFopAyJp"
      },
      "source": [
        "---\n",
        "## **Special Cases**"
      ]
    },
    {
      "cell_type": "markdown",
      "metadata": {
        "id": "4rUKFpLipn74"
      },
      "source": [
        "### **Strong Entities and Weak Entities**\n",
        "\n",
        "An entity type is said to be **strong** if we can create entities without having to consult another type. Strong entities do not have any mandatory foreign keys to worry about. \n",
        "\n",
        "A weak entity is one that has a mandatory foreign key dependency. In other words, the entity cannot exist without being preceded by the entity on the other end of the relationship. \n",
        "\n",
        "We can identify weak entities by looking for either\n",
        "- the presence of a foreign key that cannot be null\n",
        "- an entity on the *other side* of the relationship is mandatory (i.e., has a minimum cardinality of 1)\n",
        "\n",
        "Returning to the ERDs we used for minimum cardinalities, we see two examples of weak entities. \n",
        "![Minimum Cardinalities](https://github.com/christopherhuntley/DATA6510/raw/master/img/L6_Min_Cardinalities.png)\n",
        "\n",
        "- In the **mandatory-mandatory** case, both A and B are weak, depending on each other, a situation we call **twinning**. In this case neither entity can precede the other. In order to comply with referential integrity constraints, entity B cannot exist without a corresponding A entity, which in turn requires a B entity. For entity A is it a little less strict, in that the B entity may already exist at the time we create entity A. However, if it doesn't then we are faced with creating two entities (an A and a B) at the same time. \n",
        "- In the **mandatory-optional** case, mandatory entity A is the **parent** of the **child** entity B. To comply with the integrity rules, we just have to make sure that the parent precedes the child. If, however, the parent subsequently gets deleted, then the child either has to be deleted too or reassigned a new parent before deleting the current one. \n",
        "- In the **optional-optional** case, both A and B can be considered strong because they do not have any required dependencies. \n",
        "\n",
        "> Note that it is possible to have twinning and parent-child relationships in many-to-many relationships. However, the terms used here would apply to the one-to-many relationships in the derived associate entity. \n",
        "\n",
        "Why do we care about this? Because it tells us in what order we need to load the database, with strong entities coming before their weaker dependents. Further, in some cases we can't load anything at all without temporarily suspending referential integrity rules using transaction control. We will come back to this in lesson 8. "
      ]
    },
    {
      "cell_type": "markdown",
      "metadata": {
        "id": "ZFknug79pJu2"
      },
      "source": [
        "### **IS-A Relationships: Subtypes and Supertypes**\n",
        "\n",
        "A subtype is a special case of its supertype. If entity type B is a subtype of A, then B has an **is-a** relationship with A: each B entity is a type A as well. A and B will have overlapping attributes, with type B **inheriting** all of type A's attributes. There are several ways to represent this on an ERD, but the cleanest is to just create a parent-child relationship, with the parent as the supertype and the child as the subtype. \n"
      ]
    },
    {
      "cell_type": "markdown",
      "metadata": {
        "id": "DKpvT0vaTrwH"
      },
      "source": [
        "---\n",
        "## **Movies Tonight, Part 2**\n",
        "\n",
        "When we left off with the Movies Tonight database in Lesson 5 we had four tables:\n",
        "- `Shows(`**`showid`**`, showtime,`<u>`theaterid`</u>`, `<u>`movieid`</u>`)`\n",
        "- `Theaters(`**`theaterid`**`, tname, location, phone)`\n",
        "- `Movies(`**`movieid`**`, mtitle, rating)`\n",
        "- `Credits`(**`creditid`**`, ccode, cname, `<u>`movieid`</u>`)`\n",
        "\n",
        "Here is the equivalent ERD:\n",
        "\n",
        "![ERD from Lesson 5](https://github.com/christopherhuntley/DATA6510/raw/master/img/L6_MoviesTonight_v1.png)\n",
        "\n",
        "From this we can see that we have two strong entities (Theater and Movie)  two weak ones (Show and Credit). That will prove useful later when we have to build the database.  \n",
        "\n",
        "However, if we also check our rules for entities and identifiers, we see an immediate problem with the Credit type. It is a composite of two entities, with the artist (actor or director) embedded in the credit. To make matters worse, actors are notorious for changing their names. It's like the marriage license example and the solution is similar. We create a new Artist entity type with a rock-solid identifier and the artist name as a non-key field we can change whenever we like. \n",
        "\n",
        "![ERD from Lesson 5](https://github.com/christopherhuntley/DATA6510/raw/master/img/L6_MoviesTonight_v2.png)\n",
        "\n",
        "The Artist type is then yet another strong entity, which can be added to our model with ease without any additional complications. We can even add a `bio` attribute (as shown) without affecting anything else. \n",
        "\n",
        "\n",
        "\n",
        "\n",
        "\n",
        "\n",
        "\n",
        "\n",
        "\n"
      ]
    },
    {
      "cell_type": "markdown",
      "metadata": {
        "id": "BXSLtJy6sv3K"
      },
      "source": [
        "---\n",
        "## **Converting ERDs to Relations**\n",
        "The process is fairly formulaic. We can draw ERDs from tables in relational notation or the reverse from tables to ERDs. They really are just reflections of each other. \n",
        "\n",
        "**Step 1. Convert many-to-many relationships to associative entities.**  \n",
        "\n",
        "![Associative Entity](https://github.com/christopherhuntley/DATA6510/raw/master/img/L6_Associative_Entity.png)\n",
        "\n",
        "It is common practice to name the associative entity after the entities it connects. Also note the directions of the one-to-many relationships. The associative entity is always on the many side of each relationship from which it derives. In the logical design stage, this associative entity will become a so-called **cross table** (short for \"cross reference table\") with one foreign key per connected entity. \n",
        "\n",
        "**Step 2. Write out each entity type as a table in relational notation.** \n",
        "- Table names are drawn from the entity class names, though pluralized by common convention. \n",
        "- Attributes are columns\n",
        "- Keys are as indicated on the ERD\n",
        "\n",
        "When applied to the Movies Tonight example, the resulting relations are:\n",
        "- `Artist(`**`artistID`**, `name)`\n",
        "- `Movie(`**`movieID`**, `title,rating)`\n",
        "- `Theater(`**`theaterID`**, `name, location, phone)`\n",
        "- `Credit(`**`showId`**, `ccode`, <u>`movieID`</u>,<u>`artistID`</u>`)`\n",
        "- `Show(`**`showId`**, `showtime`, <u>`movieID`</u>,<u>`theaterID`</u>`)`\n",
        "\n",
        "We will pick up from here in the next lesson, this time in SQL, where we will assign data types, create surrogate keys, etc. \n",
        "\n",
        "\n"
      ]
    },
    {
      "cell_type": "markdown",
      "metadata": {
        "id": "www2vN5LTlDo"
      },
      "source": [
        "---\n",
        "## **PRO TIPS: How to protect your data from injection attacks**\n",
        "\n",
        "![XKCD Exploits of a Mom](https://imgs.xkcd.com/comics/exploits_of_a_mom.png)   \n",
        "(Linked from [XKCD](https://xkcd.com/327/), the ever-popular geek comic strip.)\n",
        "\n",
        "SQL injection is a kind of cyber attack in which destructive SQL code is hidden inside web requests and form submissions. The XKCD comic above illustrates the problem and solution in a minimum of words and pictures. \n",
        "\n",
        "Remember in Lesson 1 when we said that the most secure database system was the bomb shelter? \n",
        "\n",
        "![Three houses](https://github.com/christopherhuntley/DATA6510/raw/master/img/L1_glass_brick_concrete.jpg)\n",
        "\n",
        "The bomb shelter used the full three-tiered software architecture with an application server fronting the database: \n",
        "\n",
        "![Three tiered architecture](https://github.com/christopherhuntley/DATA6510/raw/master/img/L1_three_tiered_architecture.png)\n",
        "\n",
        "This gives us four different places where we can \"sanitize\" input to eliminate malignant SQL code before it hits the database:\n",
        "- In the presentation tier, Javascript can be used to look for SQL keywords like `SELECT`, `UPDATE`, `INSERT`, and `DELETE`, throwing a validation error when anything dangerous is found \n",
        "- In the middle tier, where a similar scan can throw an error if a dangerous request makes its way to the server \n",
        "- In between the middle tier and the database, with all offending text scrubbed clean before passing the request on to the DBMS \n",
        "- In the DBMS, which can be [configured to sanitize data](https://oracle-base.com/articles/10g/dbms_assert_10gR2) before running each query\n",
        "\n",
        "All of these things are beyond the scope of this class. However, they show why it pays to hire experienced and skilled **data engineers** to keep your data safe. Even one break-in can put a company out of business. Why take that risk? \n",
        "\n",
        "\n",
        "\n",
        "\n",
        "\n",
        "\n",
        "\n",
        "\n",
        "\n"
      ]
    },
    {
      "cell_type": "markdown",
      "metadata": {
        "id": "f65_eey7BvoV"
      },
      "source": [
        "---\n",
        "## **SQL AND BEYOND: ReST APIs and JSON**\n",
        "\n",
        "[Representational State Transfer (ReST)](https://en.wikipedia.org/wiki/Representational_state_transfer) is to the web what the relational model is to SQL. We use SQL to implement the relational model. And we use the web to implement ReST.\n",
        "\n",
        "ReST is framework for web requests and responses. The HTTP protocol you see in every URL is an implementation of ReST. We could get into some pretty deep discussion of the architectural decisions that underly ReST (like stalessness, cachability, the uniform interface), but it is enough to know that ReST is how we send messages on the web. \n",
        "\n",
        "Central to the ReST framework is the definition of **resources** that are available over a network. What's a resource? Anything that has a URL (Uniform *Resource* Locator). \n",
        "\n",
        "A ReSTful Application Programming Interface (API) accepts four different kinds of requests, each of which is implemented with an HTTP action:\n",
        "- `GET` a resource at some path\n",
        "- `POST` a resource to some path\n",
        "- `PUT` update a resource at some path\n",
        "- `DELETE` a resource from some path\n",
        "\n",
        "If you squint really hard you will see the resemblance to CRUD, with `POST`=Create, `GET`=Retrieve, `PUT`=Update, and `DELETE`=Delete. The most common ReST application is for web service $-$ in fact, Roy Fielding, the inventor of ReST, was also involved in the development of the first web servers $-$ but we can create other kinds of services (e.g., for video streaming, secure banking transactions, etc.) using the same ReST framework.  \n",
        "\n",
        "You are most familar with the `GET` request issued by a web browser every time you click on a link. The process works something like this:\n",
        "1. The browser opens an HTTP connection to the web service (on a web server). Every service has a Uniform Resourse Identifier (partial URL) like `https://fairfield.edu`. The server responds with either 'OK' or an error message. \n",
        "\n",
        "2. The browser issues an HTTP request using one of the HTTP actions. \n",
        "```\n",
        "GET /startup/index.html\n",
        "```\n",
        "The server processes the request and responds accordingly. For a `GET` request that generally means returning HTML. \n",
        "\n",
        "3. The browser scans the response and issues `GET` requests for any linked assets (CSS, Javascript, image, etc.) needed to build a web page. Each asset is requested and returned separately. \n",
        "\n",
        "4. The browser closes the connection. \n",
        "\n",
        "Just for fun, here is a very old video showing the process in a black screen terminal window using Telnet. (Even back then we would use Python for this but Telnet in a live window was closer to what *really* happens in real time.)\n",
        "\n",
        "\n",
        "\n",
        "\n",
        "\n",
        "\n",
        "\n",
        "\n",
        "\n",
        "\n",
        "\n",
        " \n",
        "\n",
        "\n",
        "\n",
        "\n",
        "\n",
        "\n",
        "\n",
        "  \n",
        "\n",
        " \n",
        "\n",
        "\n",
        "\n",
        "\n",
        "\n",
        "\n"
      ]
    },
    {
      "cell_type": "code",
      "metadata": {
        "colab": {
          "base_uri": "https://localhost:8080/",
          "height": 336
        },
        "cellView": "form",
        "id": "tAeJ_XdIcaEK",
        "outputId": "ef335dc6-887a-4fa0-b927-203321ec20a2"
      },
      "source": [
        "#@title <-- Click here if video does not appear\n",
        "%%html\n",
        "<iframe width=\"560\" height=\"315\" src=\"https://www.youtube.com/embed/tRpZ6PT91-Q?mute=1\" frameborder=\"0\" allow=\"accelerometer; autoplay; clipboard-write; encrypted-media; gyroscope; picture-in-picture\" allowfullscreen></iframe>\n"
      ],
      "execution_count": null,
      "outputs": [
        {
          "output_type": "display_data",
          "data": {
            "text/html": [
              "<iframe width=\"560\" height=\"315\" src=\"https://www.youtube.com/embed/tRpZ6PT91-Q?mute=1\" frameborder=\"0\" allow=\"accelerometer; autoplay; clipboard-write; encrypted-media; gyroscope; picture-in-picture\" allowfullscreen></iframe>"
            ],
            "text/plain": [
              "<IPython.core.display.HTML object>"
            ]
          },
          "metadata": {
            "tags": []
          }
        }
      ]
    },
    {
      "cell_type": "markdown",
      "metadata": {
        "id": "pJjL1Wt-cI1u"
      },
      "source": [
        "In keeping with our Movies Tonight case, let's explore [The Movie Database API](https://developers.themoviedb.org/3/getting-started/introduction), which provides freemium access to a massive repository of data about  movies and TV shows. Each of the services it provides has an *endpoint*, each organized around an HTTP verb and *resource path*. \n",
        "\n",
        "For example, here is the documentation for the Get Movie Details endpoint that we would need to ask for a specific move based on its `movie_id`.  \n",
        "\n",
        "![TMDB API](https://github.com/christopherhuntley/DATA6510/raw/master/img/L6_TMDB_api_get_movie.png)\n",
        "\n",
        "So, try it out ... Let's ask for the details about the movie 2300 in its database. If requested by your browser, the URL would look something like this:\n",
        "```\n",
        "https://www.themoviedb.org/movie/2300-space-jam\n",
        "```\n",
        "which returns a tastefully designed web page with information about the movie *Space Jam* (1996).\n",
        "\n",
        "![Space Jam TMDB page](https://github.com/christopherhuntley/DATA6510/raw/master/img/L6_Space_Jam_Page.png)\n",
        "\n",
        "However, what we want is not a tastefully designed web page. We want the full data in a format we can use in a data science project. So, we will issue a GET request to the URL `https://api.themoviedb.org/3/movie/2300`. \n",
        "\n",
        "In return we will get a response something like this:\n",
        "![Space Jam](https://github.com/christopherhuntley/DATA6510/raw/master/img/L6_Space_Jam_JSON.png)\n",
        "\n",
        "The data is transmitted in Javascript Object Notation (JSON), a particularly web friendly data format that is commonly used for hierarchically-structured data. Each of the sideways triangles represents a subtree within the hierarchy. Click on it and it expands to show the subtree beneath. If printed out the data would go on for many pages.  \n",
        "\n",
        "We'll learn more about JSON in another lesson. However, if you'd like to play around with the data yourself, just [go here](https://github.com/christopherhuntley/DATA6510/blob/master/data/JSON/spacejam.json).\n",
        "\n",
        "> Some liberties were taken with the TMDB API in this demonstration. Likely to keep costs down, requests movie details and credits are actually two separate endpoints. The JSON data were merged in this example to show JSON's potential for rich and deep hierarchical datasets. We also omitted the secret API key needed to access the API. For details on the API, including how to get an API key, please refer to the [TMDB developers website](https://developers.themoviedb.org/3/getting-started/introduction).\n"
      ]
    },
    {
      "cell_type": "markdown",
      "metadata": {
        "id": "qVL7n_Rys_95"
      },
      "source": [
        "---\n",
        "## **Congratulations! You've made it to the end of Lesson 6.**\n",
        "\n",
        "We have come to the end of module 3, which means yet another quiz. Then we will continue on with more SQL to build and populate tables in our databases. \n",
        "\n"
      ]
    },
    {
      "cell_type": "markdown",
      "metadata": {
        "id": "wEkhlPF5A9w1"
      },
      "source": [
        "## **On your way out ... Be sure to save your work**.\n",
        "In Google Drive, drag this notebook file into your `DATA6510` folder so you can find it next time."
      ]
    }
  ]
}