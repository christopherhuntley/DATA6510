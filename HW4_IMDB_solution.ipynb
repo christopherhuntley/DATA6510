{
  "cells": [
    {
      "cell_type": "markdown",
      "metadata": {
        "id": "view-in-github",
        "colab_type": "text"
      },
      "source": [
        "<a href=\"https://colab.research.google.com/github/christopherhuntley/DATA6510/blob/master/HW4_IMDB_solution.ipynb\" target=\"_parent\"><img src=\"https://colab.research.google.com/assets/colab-badge.svg\" alt=\"Open In Colab\"/></a>"
      ]
    },
    {
      "cell_type": "markdown",
      "metadata": {
        "id": "lenpcroUZ5g_"
      },
      "source": [
        "<img src=\"https://github.com/christopherhuntley/BUAN6510/blob/master/img/Dolan.png?raw=true\" width=\"180px\" align=\"right\">\n",
        "\n",
        "# **DATA 6510**\n",
        "# **Homework 4: IMDB Refresh** \n",
        "_Fun with Movie Listings._\n",
        "\n",
        "**What follows provides a direct download of the IMDB_Mirror.db database needed to complete HW4.**\n",
        "\n",
        "**Complete this version of the assignment and submit your answers in Google Classroom.**"
      ]
    },
    {
      "cell_type": "markdown",
      "metadata": {
        "id": "YQq7eR2F2xh5"
      },
      "source": [
        "## **1. Explore the data source.** \n",
        "\n",
        "**As you are exploring draw an ERD to represent the design of the database.** (No, there is not need to submit it. You can even use crayon if you like. We'll figure out if it's right below.)\n",
        "\n",
        "\n",
        "\n"
      ]
    },
    {
      "cell_type": "markdown",
      "metadata": {
        "id": "Qg0cwsUNv8Sj"
      },
      "source": [
        "**It may help to refer to this ...**\n",
        "\n",
        "```sql\n",
        "DROP TABLE IF EXISTS names;\n",
        "CREATE TABLE names (\n",
        "    nconst TEXT PRIMARY KEY,\n",
        "    primaryName TEXT DEFAULT 'No Name Given',\n",
        "    birthYear TEXT,\n",
        "    deathYear TEXT,\n",
        "    primaryProfession TEXT,\n",
        "    knownForTitles TEXT\n",
        ");\n",
        "DROP TABLE IF EXISTS titles;\n",
        "CREATE TABLE titles (\n",
        "    tconst TEXT PRIMARY KEY,\n",
        "    titleType TEXT NOT NULL,\n",
        "    primaryTitle TEXT DEFAULT 'Untitled',\n",
        "    originalTitle TEXT DEFAULT 'Untitled', \n",
        "    isAdult INTEGER,\n",
        "    startYear TEXT NOT NULL,\n",
        "    endYear TEXT, \n",
        "    runtimeMinutes INTEGER DEFAULT 0,\n",
        "    genres TEXT\n",
        ");\n",
        "DROP TABLE IF EXISTS principals;\n",
        "CREATE TABLE principals (\n",
        "    principalID INTEGER PRIMARY KEY,\n",
        "    tconst TEXT NOT NULL,\n",
        "    nconst TEXT NOT NULL,\n",
        "    ordering INTEGER,\n",
        "    category TEXT,\n",
        "    job TEXT,\n",
        "    characters TEXT,\n",
        "    FOREIGN KEY (nconst) REFERENCES names (nconst),\n",
        "    FOREIGN KEY (tconst) REFERENCES titles (tconst)\n",
        ");\n",
        "```"
      ]
    },
    {
      "cell_type": "markdown",
      "source": [
        "## **2. (Skipped)**"
      ],
      "metadata": {
        "id": "SGCfrAeqJ8YV"
      }
    },
    {
      "cell_type": "markdown",
      "metadata": {
        "id": "IA5VbTDhh4RD"
      },
      "source": [
        "## **3. Refresh Database and Test database connection**"
      ]
    },
    {
      "cell_type": "markdown",
      "metadata": {
        "id": "Z6MaIEtJnLzP"
      },
      "source": [
        "Run the cells below before moving on to part 4. \n",
        "\n"
      ]
    },
    {
      "cell_type": "code",
      "source": [
        "# lock down the package versions due to SQLAlchemy 2.0 compatibility bug\n",
        "!pip install SQLAlchemy==1.4.46\n",
        "!pip install PyMySQL==1.0.2 # or whichever\n",
        "!pip install ipython-sql==0.4.1\n",
        "\n",
        "!pip3 install --upgrade gdown\n",
        "!gdown https://drive.google.com/uc?id=1MPTKr9xQJc00zyyhT9kbKJ2vXD2vwPx4"
      ],
      "metadata": {
        "id": "NwjM2MCoUvYW",
        "colab": {
          "base_uri": "https://localhost:8080/"
        },
        "outputId": "b256e2ed-e0ee-42a6-e7df-a1b1d52c4f6f"
      },
      "execution_count": null,
      "outputs": [
        {
          "output_type": "stream",
          "name": "stdout",
          "text": [
            "Looking in indexes: https://pypi.org/simple, https://us-python.pkg.dev/colab-wheels/public/simple/\n",
            "Collecting SQLAlchemy==1.4.46\n",
            "  Downloading SQLAlchemy-1.4.46-cp38-cp38-manylinux_2_5_x86_64.manylinux1_x86_64.manylinux_2_17_x86_64.manylinux2014_x86_64.whl (1.6 MB)\n",
            "\u001b[2K     \u001b[90m━━━━━━━━━━━━━━━━━━━━━━━━━━━━━━━━━━━━━━━━\u001b[0m \u001b[32m1.6/1.6 MB\u001b[0m \u001b[31m9.4 MB/s\u001b[0m eta \u001b[36m0:00:00\u001b[0m\n",
            "\u001b[?25hRequirement already satisfied: greenlet!=0.4.17 in /usr/local/lib/python3.8/dist-packages (from SQLAlchemy==1.4.46) (2.0.2)\n",
            "Installing collected packages: SQLAlchemy\n",
            "  Attempting uninstall: SQLAlchemy\n",
            "    Found existing installation: SQLAlchemy 2.0.0\n",
            "    Uninstalling SQLAlchemy-2.0.0:\n",
            "      Successfully uninstalled SQLAlchemy-2.0.0\n",
            "Successfully installed SQLAlchemy-1.4.46\n",
            "Looking in indexes: https://pypi.org/simple, https://us-python.pkg.dev/colab-wheels/public/simple/\n",
            "Collecting PyMySQL==1.0.2\n",
            "  Downloading PyMySQL-1.0.2-py3-none-any.whl (43 kB)\n",
            "\u001b[2K     \u001b[90m━━━━━━━━━━━━━━━━━━━━━━━━━━━━━━━━━━━━━━━━\u001b[0m \u001b[32m43.8/43.8 KB\u001b[0m \u001b[31m1.5 MB/s\u001b[0m eta \u001b[36m0:00:00\u001b[0m\n",
            "\u001b[?25hInstalling collected packages: PyMySQL\n",
            "Successfully installed PyMySQL-1.0.2\n",
            "Looking in indexes: https://pypi.org/simple, https://us-python.pkg.dev/colab-wheels/public/simple/\n",
            "Collecting ipython-sql==0.4.1\n",
            "  Downloading ipython_sql-0.4.1-py3-none-any.whl (21 kB)\n",
            "Requirement already satisfied: sqlparse in /usr/local/lib/python3.8/dist-packages (from ipython-sql==0.4.1) (0.4.3)\n",
            "Requirement already satisfied: ipython-genutils>=0.1.0 in /usr/local/lib/python3.8/dist-packages (from ipython-sql==0.4.1) (0.2.0)\n",
            "Requirement already satisfied: six in /usr/local/lib/python3.8/dist-packages (from ipython-sql==0.4.1) (1.15.0)\n",
            "Requirement already satisfied: ipython>=1.0 in /usr/local/lib/python3.8/dist-packages (from ipython-sql==0.4.1) (7.9.0)\n",
            "Collecting prettytable<1\n",
            "  Downloading prettytable-0.7.2.zip (28 kB)\n",
            "  Preparing metadata (setup.py) ... \u001b[?25l\u001b[?25hdone\n",
            "Requirement already satisfied: sqlalchemy>=0.6.7 in /usr/local/lib/python3.8/dist-packages (from ipython-sql==0.4.1) (1.4.46)\n",
            "Requirement already satisfied: pexpect in /usr/local/lib/python3.8/dist-packages (from ipython>=1.0->ipython-sql==0.4.1) (4.8.0)\n",
            "Requirement already satisfied: backcall in /usr/local/lib/python3.8/dist-packages (from ipython>=1.0->ipython-sql==0.4.1) (0.2.0)\n",
            "Requirement already satisfied: pygments in /usr/local/lib/python3.8/dist-packages (from ipython>=1.0->ipython-sql==0.4.1) (2.6.1)\n",
            "Requirement already satisfied: traitlets>=4.2 in /usr/local/lib/python3.8/dist-packages (from ipython>=1.0->ipython-sql==0.4.1) (5.7.1)\n",
            "Requirement already satisfied: decorator in /usr/local/lib/python3.8/dist-packages (from ipython>=1.0->ipython-sql==0.4.1) (4.4.2)\n",
            "Requirement already satisfied: prompt-toolkit<2.1.0,>=2.0.0 in /usr/local/lib/python3.8/dist-packages (from ipython>=1.0->ipython-sql==0.4.1) (2.0.10)\n",
            "Collecting jedi>=0.10\n",
            "  Downloading jedi-0.18.2-py2.py3-none-any.whl (1.6 MB)\n",
            "\u001b[2K     \u001b[90m━━━━━━━━━━━━━━━━━━━━━━━━━━━━━━━━━━━━━━━━\u001b[0m \u001b[32m1.6/1.6 MB\u001b[0m \u001b[31m24.0 MB/s\u001b[0m eta \u001b[36m0:00:00\u001b[0m\n",
            "\u001b[?25hRequirement already satisfied: pickleshare in /usr/local/lib/python3.8/dist-packages (from ipython>=1.0->ipython-sql==0.4.1) (0.7.5)\n",
            "Requirement already satisfied: setuptools>=18.5 in /usr/local/lib/python3.8/dist-packages (from ipython>=1.0->ipython-sql==0.4.1) (57.4.0)\n",
            "Requirement already satisfied: greenlet!=0.4.17 in /usr/local/lib/python3.8/dist-packages (from sqlalchemy>=0.6.7->ipython-sql==0.4.1) (2.0.2)\n",
            "Requirement already satisfied: parso<0.9.0,>=0.8.0 in /usr/local/lib/python3.8/dist-packages (from jedi>=0.10->ipython>=1.0->ipython-sql==0.4.1) (0.8.3)\n",
            "Requirement already satisfied: wcwidth in /usr/local/lib/python3.8/dist-packages (from prompt-toolkit<2.1.0,>=2.0.0->ipython>=1.0->ipython-sql==0.4.1) (0.2.6)\n",
            "Requirement already satisfied: ptyprocess>=0.5 in /usr/local/lib/python3.8/dist-packages (from pexpect->ipython>=1.0->ipython-sql==0.4.1) (0.7.0)\n",
            "Building wheels for collected packages: prettytable\n",
            "  Building wheel for prettytable (setup.py) ... \u001b[?25l\u001b[?25hdone\n",
            "  Created wheel for prettytable: filename=prettytable-0.7.2-py3-none-any.whl size=13714 sha256=264e11d38db5413535885ff3a8c4e7b2df2e21c3844d62157e12c1528deb5405\n",
            "  Stored in directory: /root/.cache/pip/wheels/48/6d/77/9517cb933af254f51a446f1a5ec9c2be3e45f17384940bce68\n",
            "Successfully built prettytable\n",
            "Installing collected packages: prettytable, jedi, ipython-sql\n",
            "  Attempting uninstall: prettytable\n",
            "    Found existing installation: prettytable 3.6.0\n",
            "    Uninstalling prettytable-3.6.0:\n",
            "      Successfully uninstalled prettytable-3.6.0\n",
            "  Attempting uninstall: ipython-sql\n",
            "    Found existing installation: ipython-sql 0.3.9\n",
            "    Uninstalling ipython-sql-0.3.9:\n",
            "      Successfully uninstalled ipython-sql-0.3.9\n",
            "Successfully installed ipython-sql-0.4.1 jedi-0.18.2 prettytable-0.7.2\n",
            "Looking in indexes: https://pypi.org/simple, https://us-python.pkg.dev/colab-wheels/public/simple/\n",
            "Requirement already satisfied: gdown in /usr/local/lib/python3.8/dist-packages (4.4.0)\n",
            "Collecting gdown\n",
            "  Downloading gdown-4.6.0-py3-none-any.whl (14 kB)\n",
            "Requirement already satisfied: beautifulsoup4 in /usr/local/lib/python3.8/dist-packages (from gdown) (4.6.3)\n",
            "Requirement already satisfied: tqdm in /usr/local/lib/python3.8/dist-packages (from gdown) (4.64.1)\n",
            "Requirement already satisfied: filelock in /usr/local/lib/python3.8/dist-packages (from gdown) (3.9.0)\n",
            "Requirement already satisfied: six in /usr/local/lib/python3.8/dist-packages (from gdown) (1.15.0)\n",
            "Requirement already satisfied: requests[socks] in /usr/local/lib/python3.8/dist-packages (from gdown) (2.25.1)\n",
            "Requirement already satisfied: urllib3<1.27,>=1.21.1 in /usr/local/lib/python3.8/dist-packages (from requests[socks]->gdown) (1.24.3)\n",
            "Requirement already satisfied: certifi>=2017.4.17 in /usr/local/lib/python3.8/dist-packages (from requests[socks]->gdown) (2022.12.7)\n",
            "Requirement already satisfied: chardet<5,>=3.0.2 in /usr/local/lib/python3.8/dist-packages (from requests[socks]->gdown) (4.0.0)\n",
            "Requirement already satisfied: idna<3,>=2.5 in /usr/local/lib/python3.8/dist-packages (from requests[socks]->gdown) (2.10)\n",
            "Requirement already satisfied: PySocks!=1.5.7,>=1.5.6 in /usr/local/lib/python3.8/dist-packages (from requests[socks]->gdown) (1.7.1)\n",
            "Installing collected packages: gdown\n",
            "  Attempting uninstall: gdown\n",
            "    Found existing installation: gdown 4.4.0\n",
            "    Uninstalling gdown-4.4.0:\n",
            "      Successfully uninstalled gdown-4.4.0\n",
            "Successfully installed gdown-4.6.0\n",
            "Downloading...\n",
            "From: https://drive.google.com/uc?id=1MPTKr9xQJc00zyyhT9kbKJ2vXD2vwPx4\n",
            "To: /content/IMDB_Mirror.db\n",
            "100% 441M/441M [00:03<00:00, 131MB/s]\n"
          ]
        }
      ]
    },
    {
      "cell_type": "code",
      "source": [
        "%load_ext sql\n",
        "%sql sqlite:///IMDB_Mirror.db"
      ],
      "metadata": {
        "id": "9moE9weC-d7n"
      },
      "execution_count": null,
      "outputs": []
    },
    {
      "cell_type": "code",
      "execution_count": null,
      "metadata": {
        "id": "lVw5htfLcpFY",
        "colab": {
          "base_uri": "https://localhost:8080/",
          "height": 286
        },
        "outputId": "82ad9907-6cfc-4fcc-ec5d-238e4251302b"
      },
      "outputs": [
        {
          "output_type": "stream",
          "name": "stdout",
          "text": [
            " * sqlite:///IMDB_Mirror.db\n",
            "Done.\n"
          ]
        },
        {
          "output_type": "execute_result",
          "data": {
            "text/plain": [
              "[('tt0000009', 'movie', 'Miss Jerry', 'Miss Jerry', 0, '1894', '\\\\N', 45, 'Romance'),\n",
              " ('tt0000502', 'movie', 'Bohemios', 'Bohemios', 0, '1905', '\\\\N', 100, '\\\\N'),\n",
              " ('tt0000574', 'movie', 'The Story of the Kelly Gang', 'The Story of the Kelly Gang', 0, '1906', '\\\\N', 70, 'Action,Adventure,Biography'),\n",
              " ('tt0000591', 'movie', 'The Prodigal Son', \"L'enfant prodigue\", 0, '1907', '\\\\N', 90, 'Drama'),\n",
              " ('tt0000615', 'movie', 'Robbery Under Arms', 'Robbery Under Arms', 0, '1907', '\\\\N', '\\\\N', 'Drama'),\n",
              " ('tt0000630', 'movie', 'Hamlet', 'Amleto', 0, '1908', '\\\\N', '\\\\N', 'Drama'),\n",
              " ('tt0000675', 'movie', 'Don Quijote', 'Don Quijote', 0, '1908', '\\\\N', '\\\\N', 'Drama'),\n",
              " ('tt0000679', 'movie', 'The Fairylogue and Radio-Plays', 'The Fairylogue and Radio-Plays', 0, '1908', '\\\\N', 120, 'Adventure,Fantasy'),\n",
              " ('tt0000793', 'movie', 'Andreas Hofer', 'Andreas Hofer', 0, '1909', '\\\\N', '\\\\N', 'Drama'),\n",
              " ('tt0000814', 'movie', 'La bocana de Mar Chica', 'La bocana de Mar Chica', 0, '1909', '\\\\N', '\\\\N', '\\\\N')]"
            ],
            "text/html": [
              "<table>\n",
              "    <tr>\n",
              "        <th>tconst</th>\n",
              "        <th>titleType</th>\n",
              "        <th>primaryTitle</th>\n",
              "        <th>originalTitle</th>\n",
              "        <th>isAdult</th>\n",
              "        <th>startYear</th>\n",
              "        <th>endYear</th>\n",
              "        <th>runtimeMinutes</th>\n",
              "        <th>genres</th>\n",
              "    </tr>\n",
              "    <tr>\n",
              "        <td>tt0000009</td>\n",
              "        <td>movie</td>\n",
              "        <td>Miss Jerry</td>\n",
              "        <td>Miss Jerry</td>\n",
              "        <td>0</td>\n",
              "        <td>1894</td>\n",
              "        <td>\\N</td>\n",
              "        <td>45</td>\n",
              "        <td>Romance</td>\n",
              "    </tr>\n",
              "    <tr>\n",
              "        <td>tt0000502</td>\n",
              "        <td>movie</td>\n",
              "        <td>Bohemios</td>\n",
              "        <td>Bohemios</td>\n",
              "        <td>0</td>\n",
              "        <td>1905</td>\n",
              "        <td>\\N</td>\n",
              "        <td>100</td>\n",
              "        <td>\\N</td>\n",
              "    </tr>\n",
              "    <tr>\n",
              "        <td>tt0000574</td>\n",
              "        <td>movie</td>\n",
              "        <td>The Story of the Kelly Gang</td>\n",
              "        <td>The Story of the Kelly Gang</td>\n",
              "        <td>0</td>\n",
              "        <td>1906</td>\n",
              "        <td>\\N</td>\n",
              "        <td>70</td>\n",
              "        <td>Action,Adventure,Biography</td>\n",
              "    </tr>\n",
              "    <tr>\n",
              "        <td>tt0000591</td>\n",
              "        <td>movie</td>\n",
              "        <td>The Prodigal Son</td>\n",
              "        <td>L&#x27;enfant prodigue</td>\n",
              "        <td>0</td>\n",
              "        <td>1907</td>\n",
              "        <td>\\N</td>\n",
              "        <td>90</td>\n",
              "        <td>Drama</td>\n",
              "    </tr>\n",
              "    <tr>\n",
              "        <td>tt0000615</td>\n",
              "        <td>movie</td>\n",
              "        <td>Robbery Under Arms</td>\n",
              "        <td>Robbery Under Arms</td>\n",
              "        <td>0</td>\n",
              "        <td>1907</td>\n",
              "        <td>\\N</td>\n",
              "        <td>\\N</td>\n",
              "        <td>Drama</td>\n",
              "    </tr>\n",
              "    <tr>\n",
              "        <td>tt0000630</td>\n",
              "        <td>movie</td>\n",
              "        <td>Hamlet</td>\n",
              "        <td>Amleto</td>\n",
              "        <td>0</td>\n",
              "        <td>1908</td>\n",
              "        <td>\\N</td>\n",
              "        <td>\\N</td>\n",
              "        <td>Drama</td>\n",
              "    </tr>\n",
              "    <tr>\n",
              "        <td>tt0000675</td>\n",
              "        <td>movie</td>\n",
              "        <td>Don Quijote</td>\n",
              "        <td>Don Quijote</td>\n",
              "        <td>0</td>\n",
              "        <td>1908</td>\n",
              "        <td>\\N</td>\n",
              "        <td>\\N</td>\n",
              "        <td>Drama</td>\n",
              "    </tr>\n",
              "    <tr>\n",
              "        <td>tt0000679</td>\n",
              "        <td>movie</td>\n",
              "        <td>The Fairylogue and Radio-Plays</td>\n",
              "        <td>The Fairylogue and Radio-Plays</td>\n",
              "        <td>0</td>\n",
              "        <td>1908</td>\n",
              "        <td>\\N</td>\n",
              "        <td>120</td>\n",
              "        <td>Adventure,Fantasy</td>\n",
              "    </tr>\n",
              "    <tr>\n",
              "        <td>tt0000793</td>\n",
              "        <td>movie</td>\n",
              "        <td>Andreas Hofer</td>\n",
              "        <td>Andreas Hofer</td>\n",
              "        <td>0</td>\n",
              "        <td>1909</td>\n",
              "        <td>\\N</td>\n",
              "        <td>\\N</td>\n",
              "        <td>Drama</td>\n",
              "    </tr>\n",
              "    <tr>\n",
              "        <td>tt0000814</td>\n",
              "        <td>movie</td>\n",
              "        <td>La bocana de Mar Chica</td>\n",
              "        <td>La bocana de Mar Chica</td>\n",
              "        <td>0</td>\n",
              "        <td>1909</td>\n",
              "        <td>\\N</td>\n",
              "        <td>\\N</td>\n",
              "        <td>\\N</td>\n",
              "    </tr>\n",
              "</table>"
            ]
          },
          "metadata": {},
          "execution_count": 3
        }
      ],
      "source": [
        "%%sql\n",
        "SELECT * FROM titles LIMIT 10;"
      ]
    },
    {
      "cell_type": "code",
      "execution_count": null,
      "metadata": {
        "id": "PUW5C0u2AChc",
        "colab": {
          "base_uri": "https://localhost:8080/",
          "height": 286
        },
        "outputId": "2bca672f-6025-4ede-e754-5163afcd4e37"
      },
      "outputs": [
        {
          "output_type": "stream",
          "name": "stdout",
          "text": [
            " * sqlite:///IMDB_Mirror.db\n",
            "Done.\n"
          ]
        },
        {
          "output_type": "execute_result",
          "data": {
            "text/plain": [
              "[('nm0000001', 'Fred Astaire', '1899', '1987', 'soundtrack,actor,miscellaneous', 'tt0053137,tt0031983,tt0050419,tt0072308'),\n",
              " ('nm0000002', 'Lauren Bacall', '1924', '2014', 'actress,soundtrack', 'tt0037382,tt0038355,tt0117057,tt0071877'),\n",
              " ('nm0000003', 'Brigitte Bardot', '1934', '\\\\N', 'actress,soundtrack,music_department', 'tt0057345,tt0056404,tt0049189,tt0054452'),\n",
              " ('nm0000004', 'John Belushi', '1949', '1982', 'actor,soundtrack,writer', 'tt0072562,tt0078723,tt0077975,tt0080455'),\n",
              " ('nm0000005', 'Ingmar Bergman', '1918', '2007', 'writer,director,actor', 'tt0083922,tt0050986,tt0060827,tt0069467'),\n",
              " ('nm0000006', 'Ingrid Bergman', '1915', '1982', 'actress,soundtrack,producer', 'tt0077711,tt0034583,tt0036855,tt0038109'),\n",
              " ('nm0000007', 'Humphrey Bogart', '1899', '1957', 'actor,soundtrack,producer', 'tt0042593,tt0037382,tt0034583,tt0043265'),\n",
              " ('nm0000008', 'Marlon Brando', '1924', '2004', 'actor,soundtrack,director', 'tt0047296,tt0068646,tt0078788,tt0070849'),\n",
              " ('nm0000009', 'Richard Burton', '1925', '1984', 'actor,soundtrack,producer', 'tt0061184,tt0057877,tt0087803,tt0059749'),\n",
              " ('nm0000010', 'James Cagney', '1899', '1986', 'actor,soundtrack,director', 'tt0029870,tt0031867,tt0035575,tt0042041')]"
            ],
            "text/html": [
              "<table>\n",
              "    <tr>\n",
              "        <th>nconst</th>\n",
              "        <th>primaryName</th>\n",
              "        <th>birthYear</th>\n",
              "        <th>deathYear</th>\n",
              "        <th>primaryProfession</th>\n",
              "        <th>knownForTitles</th>\n",
              "    </tr>\n",
              "    <tr>\n",
              "        <td>nm0000001</td>\n",
              "        <td>Fred Astaire</td>\n",
              "        <td>1899</td>\n",
              "        <td>1987</td>\n",
              "        <td>soundtrack,actor,miscellaneous</td>\n",
              "        <td>tt0053137,tt0031983,tt0050419,tt0072308</td>\n",
              "    </tr>\n",
              "    <tr>\n",
              "        <td>nm0000002</td>\n",
              "        <td>Lauren Bacall</td>\n",
              "        <td>1924</td>\n",
              "        <td>2014</td>\n",
              "        <td>actress,soundtrack</td>\n",
              "        <td>tt0037382,tt0038355,tt0117057,tt0071877</td>\n",
              "    </tr>\n",
              "    <tr>\n",
              "        <td>nm0000003</td>\n",
              "        <td>Brigitte Bardot</td>\n",
              "        <td>1934</td>\n",
              "        <td>\\N</td>\n",
              "        <td>actress,soundtrack,music_department</td>\n",
              "        <td>tt0057345,tt0056404,tt0049189,tt0054452</td>\n",
              "    </tr>\n",
              "    <tr>\n",
              "        <td>nm0000004</td>\n",
              "        <td>John Belushi</td>\n",
              "        <td>1949</td>\n",
              "        <td>1982</td>\n",
              "        <td>actor,soundtrack,writer</td>\n",
              "        <td>tt0072562,tt0078723,tt0077975,tt0080455</td>\n",
              "    </tr>\n",
              "    <tr>\n",
              "        <td>nm0000005</td>\n",
              "        <td>Ingmar Bergman</td>\n",
              "        <td>1918</td>\n",
              "        <td>2007</td>\n",
              "        <td>writer,director,actor</td>\n",
              "        <td>tt0083922,tt0050986,tt0060827,tt0069467</td>\n",
              "    </tr>\n",
              "    <tr>\n",
              "        <td>nm0000006</td>\n",
              "        <td>Ingrid Bergman</td>\n",
              "        <td>1915</td>\n",
              "        <td>1982</td>\n",
              "        <td>actress,soundtrack,producer</td>\n",
              "        <td>tt0077711,tt0034583,tt0036855,tt0038109</td>\n",
              "    </tr>\n",
              "    <tr>\n",
              "        <td>nm0000007</td>\n",
              "        <td>Humphrey Bogart</td>\n",
              "        <td>1899</td>\n",
              "        <td>1957</td>\n",
              "        <td>actor,soundtrack,producer</td>\n",
              "        <td>tt0042593,tt0037382,tt0034583,tt0043265</td>\n",
              "    </tr>\n",
              "    <tr>\n",
              "        <td>nm0000008</td>\n",
              "        <td>Marlon Brando</td>\n",
              "        <td>1924</td>\n",
              "        <td>2004</td>\n",
              "        <td>actor,soundtrack,director</td>\n",
              "        <td>tt0047296,tt0068646,tt0078788,tt0070849</td>\n",
              "    </tr>\n",
              "    <tr>\n",
              "        <td>nm0000009</td>\n",
              "        <td>Richard Burton</td>\n",
              "        <td>1925</td>\n",
              "        <td>1984</td>\n",
              "        <td>actor,soundtrack,producer</td>\n",
              "        <td>tt0061184,tt0057877,tt0087803,tt0059749</td>\n",
              "    </tr>\n",
              "    <tr>\n",
              "        <td>nm0000010</td>\n",
              "        <td>James Cagney</td>\n",
              "        <td>1899</td>\n",
              "        <td>1986</td>\n",
              "        <td>actor,soundtrack,director</td>\n",
              "        <td>tt0029870,tt0031867,tt0035575,tt0042041</td>\n",
              "    </tr>\n",
              "</table>"
            ]
          },
          "metadata": {},
          "execution_count": 4
        }
      ],
      "source": [
        "%%sql\n",
        "SELECT * FROM names LIMIT 10;"
      ]
    },
    {
      "cell_type": "code",
      "source": [
        "%%sql\n",
        "SELECT * FROM principals LIMIT 10;"
      ],
      "metadata": {
        "id": "ouZ5jFdQYFOT",
        "colab": {
          "base_uri": "https://localhost:8080/",
          "height": 286
        },
        "outputId": "f179007d-4863-4492-844f-f63119930354"
      },
      "execution_count": null,
      "outputs": [
        {
          "output_type": "stream",
          "name": "stdout",
          "text": [
            " * sqlite:///IMDB_Mirror.db\n",
            "Done.\n"
          ]
        },
        {
          "output_type": "execute_result",
          "data": {
            "text/plain": [
              "[(25, 'tt0000009', 'nm0063086', 1, 'actress', '\\\\N', '[\"Miss Geraldine Holbrook (Miss Jerry)\"]'),\n",
              " (26, 'tt0000009', 'nm0183823', 2, 'actor', '\\\\N', '[\"Mr. Hamilton\"]'),\n",
              " (27, 'tt0000009', 'nm1309758', 3, 'actor', '\\\\N', '[\"Chauncey Depew - the Director of the New York Central Railroad\"]'),\n",
              " (28, 'tt0000009', 'nm0085156', 4, 'director', '\\\\N', '\\\\N'),\n",
              " (851, 'tt0000502', 'nm0215752', 1, 'actor', '\\\\N', '\\\\N'),\n",
              " (852, 'tt0000502', 'nm0252720', 2, 'actor', '\\\\N', '\\\\N'),\n",
              " (853, 'tt0000502', 'nm0063413', 3, 'director', '\\\\N', '\\\\N'),\n",
              " (854, 'tt0000502', 'nm0657268', 4, 'writer', '\\\\N', '\\\\N'),\n",
              " (855, 'tt0000502', 'nm0675388', 5, 'writer', '\\\\N', '\\\\N'),\n",
              " (1043, 'tt0000574', 'nm0675239', 10, 'cinematographer', 'director of photography', '\\\\N')]"
            ],
            "text/html": [
              "<table>\n",
              "    <tr>\n",
              "        <th>principalID</th>\n",
              "        <th>tconst</th>\n",
              "        <th>nconst</th>\n",
              "        <th>ordering</th>\n",
              "        <th>category</th>\n",
              "        <th>job</th>\n",
              "        <th>characters</th>\n",
              "    </tr>\n",
              "    <tr>\n",
              "        <td>25</td>\n",
              "        <td>tt0000009</td>\n",
              "        <td>nm0063086</td>\n",
              "        <td>1</td>\n",
              "        <td>actress</td>\n",
              "        <td>\\N</td>\n",
              "        <td>[&quot;Miss Geraldine Holbrook (Miss Jerry)&quot;]</td>\n",
              "    </tr>\n",
              "    <tr>\n",
              "        <td>26</td>\n",
              "        <td>tt0000009</td>\n",
              "        <td>nm0183823</td>\n",
              "        <td>2</td>\n",
              "        <td>actor</td>\n",
              "        <td>\\N</td>\n",
              "        <td>[&quot;Mr. Hamilton&quot;]</td>\n",
              "    </tr>\n",
              "    <tr>\n",
              "        <td>27</td>\n",
              "        <td>tt0000009</td>\n",
              "        <td>nm1309758</td>\n",
              "        <td>3</td>\n",
              "        <td>actor</td>\n",
              "        <td>\\N</td>\n",
              "        <td>[&quot;Chauncey Depew - the Director of the New York Central Railroad&quot;]</td>\n",
              "    </tr>\n",
              "    <tr>\n",
              "        <td>28</td>\n",
              "        <td>tt0000009</td>\n",
              "        <td>nm0085156</td>\n",
              "        <td>4</td>\n",
              "        <td>director</td>\n",
              "        <td>\\N</td>\n",
              "        <td>\\N</td>\n",
              "    </tr>\n",
              "    <tr>\n",
              "        <td>851</td>\n",
              "        <td>tt0000502</td>\n",
              "        <td>nm0215752</td>\n",
              "        <td>1</td>\n",
              "        <td>actor</td>\n",
              "        <td>\\N</td>\n",
              "        <td>\\N</td>\n",
              "    </tr>\n",
              "    <tr>\n",
              "        <td>852</td>\n",
              "        <td>tt0000502</td>\n",
              "        <td>nm0252720</td>\n",
              "        <td>2</td>\n",
              "        <td>actor</td>\n",
              "        <td>\\N</td>\n",
              "        <td>\\N</td>\n",
              "    </tr>\n",
              "    <tr>\n",
              "        <td>853</td>\n",
              "        <td>tt0000502</td>\n",
              "        <td>nm0063413</td>\n",
              "        <td>3</td>\n",
              "        <td>director</td>\n",
              "        <td>\\N</td>\n",
              "        <td>\\N</td>\n",
              "    </tr>\n",
              "    <tr>\n",
              "        <td>854</td>\n",
              "        <td>tt0000502</td>\n",
              "        <td>nm0657268</td>\n",
              "        <td>4</td>\n",
              "        <td>writer</td>\n",
              "        <td>\\N</td>\n",
              "        <td>\\N</td>\n",
              "    </tr>\n",
              "    <tr>\n",
              "        <td>855</td>\n",
              "        <td>tt0000502</td>\n",
              "        <td>nm0675388</td>\n",
              "        <td>5</td>\n",
              "        <td>writer</td>\n",
              "        <td>\\N</td>\n",
              "        <td>\\N</td>\n",
              "    </tr>\n",
              "    <tr>\n",
              "        <td>1043</td>\n",
              "        <td>tt0000574</td>\n",
              "        <td>nm0675239</td>\n",
              "        <td>10</td>\n",
              "        <td>cinematographer</td>\n",
              "        <td>director of photography</td>\n",
              "        <td>\\N</td>\n",
              "    </tr>\n",
              "</table>"
            ]
          },
          "metadata": {},
          "execution_count": 5
        }
      ]
    },
    {
      "cell_type": "markdown",
      "metadata": {
        "id": "p0tEcNf0cuGF"
      },
      "source": [
        "## **4. Now for the fun part.**\n",
        "\n",
        "Write `SELECT` queries to answer the questions below. \n",
        "\n",
        "> **Note: Colab will delete your files, including your database, after 12 hours of inactivity. If your session resets then you will need to *rerun* all the cells in part 3 to recreate the database.**"
      ]
    },
    {
      "cell_type": "markdown",
      "metadata": {
        "id": "SxA3miq-nlBF"
      },
      "source": [
        "### **In what movies did Eli Wallach appear? TV does not count. (three tables, two joins)**##"
      ]
    },
    {
      "cell_type": "code",
      "execution_count": null,
      "metadata": {
        "id": "WArSDmYvnvyN",
        "colab": {
          "base_uri": "https://localhost:8080/",
          "height": 1000
        },
        "outputId": "88a0c7d8-2e69-4576-8826-7d2fe4c2172e"
      },
      "outputs": [
        {
          "output_type": "stream",
          "name": "stdout",
          "text": [
            " * sqlite:///IMDB_Mirror.db\n",
            "Done.\n"
          ]
        },
        {
          "output_type": "execute_result",
          "data": {
            "text/plain": [
              "[('Baby Doll', '1956'),\n",
              " ('The Lineup', '1958'),\n",
              " ('The Magnificent Seven', '1960'),\n",
              " ('Seven Thieves', '1960'),\n",
              " ('The Moon-Spinners', '1964'),\n",
              " ('Genghis Khan', '1965'),\n",
              " ('Lord Jim', '1965'),\n",
              " ('The Good, the Bad and the Ugly', '1966'),\n",
              " ('How to Steal a Million', '1966'),\n",
              " ('The Tiger Makes Out', '1967'),\n",
              " ('How to Save a Marriage and Ruin Your Life', '1968'),\n",
              " ('A Lovely Way to Die', '1968'),\n",
              " ('Ace High', '1968'),\n",
              " ('The Brain', '1969'),\n",
              " ('The Adventures of Gerard', '1970'),\n",
              " ('The People Next Door', '1970'),\n",
              " ('Zig Zag', '1970'),\n",
              " ('Long Live ... Your Death!', '1971'),\n",
              " ('Romance of a Horsethief', '1971'),\n",
              " ('Cinderella Liberty', '1973'),\n",
              " ('Stateline Motel', '1973'),\n",
              " (\"L'chaim: To Life\", '1974'),\n",
              " ('The White, the Yellow, and the Black', '1975'),\n",
              " ('Eye of the Cat', '1975'),\n",
              " ('The Dream Factory', '1975'),\n",
              " ('Girlfriends', '1978'),\n",
              " ('Movie Movie', '1978'),\n",
              " ('Firepower', '1979'),\n",
              " ('Winter Kills', '1979'),\n",
              " ('The Hunter', '1980'),\n",
              " ('Guri', '1980'),\n",
              " (\"Sam's Son\", '1984'),\n",
              " ('Spark Among the Ashes: A Bar Mitzvah in Poland', '1986'),\n",
              " ('Terezín Diary', '1990'),\n",
              " ('Honey Sweet Love...', '1994'),\n",
              " (\"Elia Kazan: A Director's Journey\", '1995'),\n",
              " ('The Associate', '1996'),\n",
              " ('Jones Beach: An American Riviera', '1999'),\n",
              " ('The Root', '2003'),\n",
              " ('Slapstick, Too!', '2004'),\n",
              " ('Life Is a Dream in Cinema: Pola Negri', '2006'),\n",
              " ('Por un puñado de sueños', '2006'),\n",
              " (\"Constantine's Sword\", '2007'),\n",
              " ('Vote and Die: Liszt for President', '2008'),\n",
              " ('The Needs of Kim Stanley', '\\\\N'),\n",
              " ('What Ever Happened to Norma Jeane?', '\\\\N'),\n",
              " ('Method or Madness?', '\\\\N')]"
            ],
            "text/html": [
              "<table>\n",
              "    <thead>\n",
              "        <tr>\n",
              "            <th>primaryTitle</th>\n",
              "            <th>startYear</th>\n",
              "        </tr>\n",
              "    </thead>\n",
              "    <tbody>\n",
              "        <tr>\n",
              "            <td>Baby Doll</td>\n",
              "            <td>1956</td>\n",
              "        </tr>\n",
              "        <tr>\n",
              "            <td>The Lineup</td>\n",
              "            <td>1958</td>\n",
              "        </tr>\n",
              "        <tr>\n",
              "            <td>The Magnificent Seven</td>\n",
              "            <td>1960</td>\n",
              "        </tr>\n",
              "        <tr>\n",
              "            <td>Seven Thieves</td>\n",
              "            <td>1960</td>\n",
              "        </tr>\n",
              "        <tr>\n",
              "            <td>The Moon-Spinners</td>\n",
              "            <td>1964</td>\n",
              "        </tr>\n",
              "        <tr>\n",
              "            <td>Genghis Khan</td>\n",
              "            <td>1965</td>\n",
              "        </tr>\n",
              "        <tr>\n",
              "            <td>Lord Jim</td>\n",
              "            <td>1965</td>\n",
              "        </tr>\n",
              "        <tr>\n",
              "            <td>The Good, the Bad and the Ugly</td>\n",
              "            <td>1966</td>\n",
              "        </tr>\n",
              "        <tr>\n",
              "            <td>How to Steal a Million</td>\n",
              "            <td>1966</td>\n",
              "        </tr>\n",
              "        <tr>\n",
              "            <td>The Tiger Makes Out</td>\n",
              "            <td>1967</td>\n",
              "        </tr>\n",
              "        <tr>\n",
              "            <td>How to Save a Marriage and Ruin Your Life</td>\n",
              "            <td>1968</td>\n",
              "        </tr>\n",
              "        <tr>\n",
              "            <td>A Lovely Way to Die</td>\n",
              "            <td>1968</td>\n",
              "        </tr>\n",
              "        <tr>\n",
              "            <td>Ace High</td>\n",
              "            <td>1968</td>\n",
              "        </tr>\n",
              "        <tr>\n",
              "            <td>The Brain</td>\n",
              "            <td>1969</td>\n",
              "        </tr>\n",
              "        <tr>\n",
              "            <td>The Adventures of Gerard</td>\n",
              "            <td>1970</td>\n",
              "        </tr>\n",
              "        <tr>\n",
              "            <td>The People Next Door</td>\n",
              "            <td>1970</td>\n",
              "        </tr>\n",
              "        <tr>\n",
              "            <td>Zig Zag</td>\n",
              "            <td>1970</td>\n",
              "        </tr>\n",
              "        <tr>\n",
              "            <td>Long Live ... Your Death!</td>\n",
              "            <td>1971</td>\n",
              "        </tr>\n",
              "        <tr>\n",
              "            <td>Romance of a Horsethief</td>\n",
              "            <td>1971</td>\n",
              "        </tr>\n",
              "        <tr>\n",
              "            <td>Cinderella Liberty</td>\n",
              "            <td>1973</td>\n",
              "        </tr>\n",
              "        <tr>\n",
              "            <td>Stateline Motel</td>\n",
              "            <td>1973</td>\n",
              "        </tr>\n",
              "        <tr>\n",
              "            <td>L&#x27;chaim: To Life</td>\n",
              "            <td>1974</td>\n",
              "        </tr>\n",
              "        <tr>\n",
              "            <td>The White, the Yellow, and the Black</td>\n",
              "            <td>1975</td>\n",
              "        </tr>\n",
              "        <tr>\n",
              "            <td>Eye of the Cat</td>\n",
              "            <td>1975</td>\n",
              "        </tr>\n",
              "        <tr>\n",
              "            <td>The Dream Factory</td>\n",
              "            <td>1975</td>\n",
              "        </tr>\n",
              "        <tr>\n",
              "            <td>Girlfriends</td>\n",
              "            <td>1978</td>\n",
              "        </tr>\n",
              "        <tr>\n",
              "            <td>Movie Movie</td>\n",
              "            <td>1978</td>\n",
              "        </tr>\n",
              "        <tr>\n",
              "            <td>Firepower</td>\n",
              "            <td>1979</td>\n",
              "        </tr>\n",
              "        <tr>\n",
              "            <td>Winter Kills</td>\n",
              "            <td>1979</td>\n",
              "        </tr>\n",
              "        <tr>\n",
              "            <td>The Hunter</td>\n",
              "            <td>1980</td>\n",
              "        </tr>\n",
              "        <tr>\n",
              "            <td>Guri</td>\n",
              "            <td>1980</td>\n",
              "        </tr>\n",
              "        <tr>\n",
              "            <td>Sam&#x27;s Son</td>\n",
              "            <td>1984</td>\n",
              "        </tr>\n",
              "        <tr>\n",
              "            <td>Spark Among the Ashes: A Bar Mitzvah in Poland</td>\n",
              "            <td>1986</td>\n",
              "        </tr>\n",
              "        <tr>\n",
              "            <td>Terezín Diary</td>\n",
              "            <td>1990</td>\n",
              "        </tr>\n",
              "        <tr>\n",
              "            <td>Honey Sweet Love...</td>\n",
              "            <td>1994</td>\n",
              "        </tr>\n",
              "        <tr>\n",
              "            <td>Elia Kazan: A Director&#x27;s Journey</td>\n",
              "            <td>1995</td>\n",
              "        </tr>\n",
              "        <tr>\n",
              "            <td>The Associate</td>\n",
              "            <td>1996</td>\n",
              "        </tr>\n",
              "        <tr>\n",
              "            <td>Jones Beach: An American Riviera</td>\n",
              "            <td>1999</td>\n",
              "        </tr>\n",
              "        <tr>\n",
              "            <td>The Root</td>\n",
              "            <td>2003</td>\n",
              "        </tr>\n",
              "        <tr>\n",
              "            <td>Slapstick, Too!</td>\n",
              "            <td>2004</td>\n",
              "        </tr>\n",
              "        <tr>\n",
              "            <td>Life Is a Dream in Cinema: Pola Negri</td>\n",
              "            <td>2006</td>\n",
              "        </tr>\n",
              "        <tr>\n",
              "            <td>Por un puñado de sueños</td>\n",
              "            <td>2006</td>\n",
              "        </tr>\n",
              "        <tr>\n",
              "            <td>Constantine&#x27;s Sword</td>\n",
              "            <td>2007</td>\n",
              "        </tr>\n",
              "        <tr>\n",
              "            <td>Vote and Die: Liszt for President</td>\n",
              "            <td>2008</td>\n",
              "        </tr>\n",
              "        <tr>\n",
              "            <td>The Needs of Kim Stanley</td>\n",
              "            <td>\\N</td>\n",
              "        </tr>\n",
              "        <tr>\n",
              "            <td>What Ever Happened to Norma Jeane?</td>\n",
              "            <td>\\N</td>\n",
              "        </tr>\n",
              "        <tr>\n",
              "            <td>Method or Madness?</td>\n",
              "            <td>\\N</td>\n",
              "        </tr>\n",
              "    </tbody>\n",
              "</table>"
            ]
          },
          "metadata": {},
          "execution_count": 11
        }
      ],
      "source": [
        "%%sql\n",
        "SELECT titles.primaryTitle, startYear\n",
        "FROM titles  \n",
        "  JOIN principals USING (tconst)\n",
        "  JOIN names USING (nconst)\n",
        "WHERE primaryName = 'Eli Wallach' AND titleType = 'movie'\n",
        "ORDER BY startYear;"
      ]
    },
    {
      "cell_type": "markdown",
      "metadata": {
        "id": "0T3bisKVqORz"
      },
      "source": [
        "### **How long (in years) was Eli Wallach's career, from his first film to his last?**"
      ]
    },
    {
      "cell_type": "code",
      "source": [
        "%%sql\n",
        "SELECT max(startYear) as last_yr, min(startYear) as first_yr, last_yr - first_yr AS career_span\n",
        "FROM titles  \n",
        "  JOIN principals USING (tconst)\n",
        "  JOIN names USING (nconst)\n",
        "WHERE primaryName = 'Eli Wallach' AND titleType = 'movie' AND startYear <> '\\N'"
      ],
      "metadata": {
        "colab": {
          "base_uri": "https://localhost:8080/"
        },
        "id": "CNehcFQCNmzE",
        "outputId": "501db6dd-4152-4c65-b58b-808d86c1a41c"
      },
      "execution_count": null,
      "outputs": [
        {
          "output_type": "stream",
          "name": "stdout",
          "text": [
            " * sqlite:///IMDB_Mirror.db\n",
            "(sqlite3.OperationalError) no such column: last_yr\n",
            "[SQL: SELECT max(startYear) as last_yr, min(startYear) as first_yr, last_yr - first_yr AS career_span\n",
            "FROM titles  \n",
            "  JOIN principals USING (tconst)\n",
            "  JOIN names USING (nconst)\n",
            "WHERE primaryName = 'Eli Wallach' AND titleType = 'movie' AND startYear <> '\\N']\n",
            "(Background on this error at: https://sqlalche.me/e/14/e3q8)\n"
          ]
        }
      ]
    },
    {
      "cell_type": "code",
      "execution_count": null,
      "metadata": {
        "id": "BGf8kZoKrGay",
        "colab": {
          "base_uri": "https://localhost:8080/",
          "height": 96
        },
        "outputId": "7c1d15b1-e9e3-4f9b-ba05-f11510970bca"
      },
      "outputs": [
        {
          "output_type": "stream",
          "name": "stdout",
          "text": [
            " * sqlite:///IMDB_Mirror.db\n",
            "Done.\n"
          ]
        },
        {
          "output_type": "execute_result",
          "data": {
            "text/plain": [
              "[(52,)]"
            ],
            "text/html": [
              "<table>\n",
              "    <thead>\n",
              "        <tr>\n",
              "            <th>career_span</th>\n",
              "        </tr>\n",
              "    </thead>\n",
              "    <tbody>\n",
              "        <tr>\n",
              "            <td>52</td>\n",
              "        </tr>\n",
              "    </tbody>\n",
              "</table>"
            ]
          },
          "metadata": {},
          "execution_count": 17
        }
      ],
      "source": [
        "%%sql\n",
        "WITH \n",
        "  first_last AS (\n",
        "    SELECT  min(cast(startYear AS integer)) AS first_yr, \n",
        "            max(cast(startYear AS integer)) AS last_yr\n",
        "    FROM titles  \n",
        "        JOIN principals USING (tconst)\n",
        "        JOIN names USING (nconst)\n",
        "    WHERE primaryName = 'Eli Wallach' AND titleType = 'movie' AND startYear <> '\\N'\n",
        "  )\n",
        "SELECT last_yr - first_yr AS career_span\n",
        "FROM first_last;"
      ]
    },
    {
      "cell_type": "code",
      "source": [
        "%%sql\n",
        "SELECT last_yr - first_yr AS career_span\n",
        "FROM (SELECT  min(cast(startYear AS integer)) AS first_yr, \n",
        "            max(cast(startYear AS integer)) AS last_yr\n",
        "    FROM titles  \n",
        "        JOIN principals USING (tconst)\n",
        "        JOIN names USING (nconst)\n",
        "    WHERE primaryName = 'Eli Wallach' AND titleType = 'movie' AND startYear <> '\\N')"
      ],
      "metadata": {
        "colab": {
          "base_uri": "https://localhost:8080/",
          "height": 96
        },
        "id": "8Utsa2Y0OxlA",
        "outputId": "ea3f2291-be02-41aa-ecc8-aeee44caef89"
      },
      "execution_count": null,
      "outputs": [
        {
          "output_type": "stream",
          "name": "stdout",
          "text": [
            " * sqlite:///IMDB_Mirror.db\n",
            "Done.\n"
          ]
        },
        {
          "output_type": "execute_result",
          "data": {
            "text/plain": [
              "[(52,)]"
            ],
            "text/html": [
              "<table>\n",
              "    <thead>\n",
              "        <tr>\n",
              "            <th>career_span</th>\n",
              "        </tr>\n",
              "    </thead>\n",
              "    <tbody>\n",
              "        <tr>\n",
              "            <td>52</td>\n",
              "        </tr>\n",
              "    </tbody>\n",
              "</table>"
            ]
          },
          "metadata": {},
          "execution_count": 18
        }
      ]
    },
    {
      "cell_type": "markdown",
      "metadata": {
        "id": "5lktCZI4hev8"
      },
      "source": [
        "### **Who were Eli Wallach's costars (note: actors only) in movies released in 1996? (three tables, four joins)**"
      ]
    },
    {
      "cell_type": "code",
      "execution_count": null,
      "metadata": {
        "id": "xFBAYrXyoChT",
        "colab": {
          "base_uri": "https://localhost:8080/",
          "height": 138
        },
        "outputId": "112e5ff3-1712-4c9a-bd0c-a6598748b3a8"
      },
      "outputs": [
        {
          "output_type": "stream",
          "name": "stdout",
          "text": [
            " * sqlite:///IMDB_Mirror.db\n",
            "Done.\n"
          ]
        },
        {
          "output_type": "execute_result",
          "data": {
            "text/plain": [
              "[('Whoopi Goldberg', '[\"Laurel\"]', 'The Associate', 'actress'),\n",
              " ('Dianne Wiest', '[\"Sally\"]', 'The Associate', 'actress'),\n",
              " ('Tim Daly', '[\"Frank\"]', 'The Associate', 'actor')]"
            ],
            "text/html": [
              "<table>\n",
              "    <thead>\n",
              "        <tr>\n",
              "            <th>primaryName</th>\n",
              "            <th>characters</th>\n",
              "            <th>primaryTitle</th>\n",
              "            <th>category</th>\n",
              "        </tr>\n",
              "    </thead>\n",
              "    <tbody>\n",
              "        <tr>\n",
              "            <td>Whoopi Goldberg</td>\n",
              "            <td>[&quot;Laurel&quot;]</td>\n",
              "            <td>The Associate</td>\n",
              "            <td>actress</td>\n",
              "        </tr>\n",
              "        <tr>\n",
              "            <td>Dianne Wiest</td>\n",
              "            <td>[&quot;Sally&quot;]</td>\n",
              "            <td>The Associate</td>\n",
              "            <td>actress</td>\n",
              "        </tr>\n",
              "        <tr>\n",
              "            <td>Tim Daly</td>\n",
              "            <td>[&quot;Frank&quot;]</td>\n",
              "            <td>The Associate</td>\n",
              "            <td>actor</td>\n",
              "        </tr>\n",
              "    </tbody>\n",
              "</table>"
            ]
          },
          "metadata": {},
          "execution_count": 18
        }
      ],
      "source": [
        "%%sql\n",
        "SELECT n2.primaryName, p2.characters, t.primaryTitle, p2.category\n",
        "FROM names as n1 \n",
        "  JOIN principals as p1 USING (nconst) \n",
        "  JOIN titles as t USING (tconst)\n",
        "  JOIN principals as p2 USING (tconst) \n",
        "  JOIN names as n2 ON (n2.nconst = p2.nconst)\n",
        "WHERE n1.primaryName='Eli Wallach' AND \n",
        "      n2.primaryName<>'Eli Wallach' AND \n",
        "      t.startYear = 1996 AND\n",
        "      p2.category in (\"actor\",\"actress\")"
      ]
    },
    {
      "cell_type": "code",
      "source": [
        "%%sql\n",
        "WITH\n",
        "  titles_1996 AS (\n",
        "      SELECT * \n",
        "      FROM titles\n",
        "      WHERE startYear = '1996'\n",
        "  )\n",
        "SELECT n2.primaryName, p2.characters, t.primaryTitle\n",
        "FROM names as n1 \n",
        "  JOIN principals as p1 USING (nconst) \n",
        "  JOIN principals as p2 USING (tconst) \n",
        "  JOIN titles_1996 as t USING (tconst)\n",
        "  JOIN names as n2 ON (n2.nconst = p2.nconst)\n",
        "WHERE n1.primaryName='Eli Wallach' AND \n",
        "      n2.primaryName<>'Eli Wallach'AND  \n",
        "      p2.category in (\"actor\",\"actress\");\n"
      ],
      "metadata": {
        "colab": {
          "base_uri": "https://localhost:8080/",
          "height": 75
        },
        "id": "v8tH7K6s9vLD",
        "outputId": "4e5e972e-65b5-4094-bd72-ac18d8a50260"
      },
      "execution_count": null,
      "outputs": [
        {
          "output_type": "stream",
          "name": "stdout",
          "text": [
            " * sqlite:///IMDB_Mirror.db\n",
            "Done.\n"
          ]
        },
        {
          "output_type": "execute_result",
          "data": {
            "text/plain": [
              "[]"
            ],
            "text/html": [
              "<table>\n",
              "    <thead>\n",
              "        <tr>\n",
              "            <th>primaryName</th>\n",
              "            <th>characters</th>\n",
              "            <th>primaryTitle</th>\n",
              "        </tr>\n",
              "    </thead>\n",
              "    <tbody>\n",
              "    </tbody>\n",
              "</table>"
            ]
          },
          "metadata": {},
          "execution_count": 21
        }
      ]
    },
    {
      "cell_type": "code",
      "source": [
        "%%sql\n",
        "WITH\n",
        "  titles_1996 AS (\n",
        "      SELECT * \n",
        "      FROM titles\n",
        "      WHERE startYear = '1996'\n",
        "  )\n",
        "SELECT n2.primaryName, p2.characters, t.primaryTitle\n",
        "FROM names as n1 \n",
        "  JOIN principals as p1 USING (nconst) \n",
        "  JOIN titles_1996 as t USING (tconst)\n",
        "  JOIN principals as p2 USING (tconst) \n",
        "  JOIN names as n2 ON (n2.nconst = p2.nconst)\n",
        "WHERE n1.primaryName='Eli Wallach' AND \n",
        "      n2.primaryName<>'Eli Wallach'AND  \n",
        "      p2.category in (\"actor\",\"actress\");"
      ],
      "metadata": {
        "colab": {
          "base_uri": "https://localhost:8080/",
          "height": 138
        },
        "id": "48PEnv8dIKxX",
        "outputId": "0636d7fa-63f3-4a39-b9a2-db0fac531e68"
      },
      "execution_count": null,
      "outputs": [
        {
          "output_type": "stream",
          "name": "stdout",
          "text": [
            " * sqlite:///IMDB_Mirror.db\n",
            "Done.\n"
          ]
        },
        {
          "output_type": "execute_result",
          "data": {
            "text/plain": [
              "[('Whoopi Goldberg', '[\"Laurel\"]', 'The Associate'),\n",
              " ('Dianne Wiest', '[\"Sally\"]', 'The Associate'),\n",
              " ('Tim Daly', '[\"Frank\"]', 'The Associate')]"
            ],
            "text/html": [
              "<table>\n",
              "    <thead>\n",
              "        <tr>\n",
              "            <th>primaryName</th>\n",
              "            <th>characters</th>\n",
              "            <th>primaryTitle</th>\n",
              "        </tr>\n",
              "    </thead>\n",
              "    <tbody>\n",
              "        <tr>\n",
              "            <td>Whoopi Goldberg</td>\n",
              "            <td>[&quot;Laurel&quot;]</td>\n",
              "            <td>The Associate</td>\n",
              "        </tr>\n",
              "        <tr>\n",
              "            <td>Dianne Wiest</td>\n",
              "            <td>[&quot;Sally&quot;]</td>\n",
              "            <td>The Associate</td>\n",
              "        </tr>\n",
              "        <tr>\n",
              "            <td>Tim Daly</td>\n",
              "            <td>[&quot;Frank&quot;]</td>\n",
              "            <td>The Associate</td>\n",
              "        </tr>\n",
              "    </tbody>\n",
              "</table>"
            ]
          },
          "metadata": {},
          "execution_count": 20
        }
      ]
    },
    {
      "cell_type": "markdown",
      "metadata": {
        "id": "571ywxFYoPxq"
      },
      "source": [
        "### **How many total co-stars did Eli Wallach have over his career?**"
      ]
    },
    {
      "cell_type": "code",
      "execution_count": null,
      "metadata": {
        "id": "9T_rhrrloPYq",
        "colab": {
          "base_uri": "https://localhost:8080/",
          "height": 96
        },
        "outputId": "eac0b9a3-758d-47e1-85ae-11457051c745"
      },
      "outputs": [
        {
          "output_type": "stream",
          "name": "stdout",
          "text": [
            " * sqlite:///IMDB_Mirror.db\n",
            "Done.\n"
          ]
        },
        {
          "output_type": "execute_result",
          "data": {
            "text/plain": [
              "[(100,)]"
            ],
            "text/html": [
              "<table>\n",
              "    <thead>\n",
              "        <tr>\n",
              "            <th>count(distinct n2.primaryName)</th>\n",
              "        </tr>\n",
              "    </thead>\n",
              "    <tbody>\n",
              "        <tr>\n",
              "            <td>100</td>\n",
              "        </tr>\n",
              "    </tbody>\n",
              "</table>"
            ]
          },
          "metadata": {},
          "execution_count": 19
        }
      ],
      "source": [
        "%%sql\n",
        "SELECT count(distinct n2.primaryName)\n",
        "FROM names as n1 \n",
        "  JOIN principals as p1 USING (nconst) \n",
        "  JOIN principals as p2 USING (tconst) \n",
        "  JOIN names as n2 ON (n2.nconst = p2.nconst)\n",
        "WHERE n1.primaryName='Eli Wallach' AND \n",
        "      n2.primaryName<>'Eli Wallach' AND \n",
        "      p2.category in (\"actor\",\"actress\");"
      ]
    },
    {
      "cell_type": "code",
      "source": [
        "%%sql\n",
        "SELECT count(n2.primaryName)\n",
        "FROM names as n1 \n",
        "  JOIN principals as p1 USING (nconst) \n",
        "  JOIN principals as p2 USING (tconst) \n",
        "  JOIN names as n2 ON (n2.nconst = p2.nconst)\n",
        "WHERE n1.primaryName='Eli Wallach' AND \n",
        "      n2.primaryName<>'Eli Wallach' AND \n",
        "      p2.category in (\"actor\",\"actress\");"
      ],
      "metadata": {
        "colab": {
          "base_uri": "https://localhost:8080/",
          "height": 96
        },
        "id": "4Tc4vJ6z-hAf",
        "outputId": "dc11146f-b4f5-489c-dee0-94f616fefac0"
      },
      "execution_count": null,
      "outputs": [
        {
          "output_type": "stream",
          "name": "stdout",
          "text": [
            " * sqlite:///IMDB_Mirror.db\n",
            "Done.\n"
          ]
        },
        {
          "output_type": "execute_result",
          "data": {
            "text/plain": [
              "[(108,)]"
            ],
            "text/html": [
              "<table>\n",
              "    <thead>\n",
              "        <tr>\n",
              "            <th>count(n2.primaryName)</th>\n",
              "        </tr>\n",
              "    </thead>\n",
              "    <tbody>\n",
              "        <tr>\n",
              "            <td>108</td>\n",
              "        </tr>\n",
              "    </tbody>\n",
              "</table>"
            ]
          },
          "metadata": {},
          "execution_count": 13
        }
      ]
    },
    {
      "cell_type": "markdown",
      "metadata": {
        "id": "UsG99ObXpP36"
      },
      "source": [
        "### **Which artists were both actors and directors in movies released in 1996? (That's actor and director in the same movie.)**"
      ]
    },
    {
      "cell_type": "code",
      "execution_count": null,
      "metadata": {
        "id": "TmMvZFvwpzjY",
        "colab": {
          "base_uri": "https://localhost:8080/",
          "height": 75
        },
        "outputId": "6af019e0-041c-47fa-ad04-4272d1e2f236"
      },
      "outputs": [
        {
          "output_type": "stream",
          "name": "stdout",
          "text": [
            " * sqlite:///IMDB_Mirror.db\n",
            "Done.\n"
          ]
        },
        {
          "output_type": "execute_result",
          "data": {
            "text/plain": [
              "[]"
            ],
            "text/html": [
              "<table>\n",
              "    <thead>\n",
              "        <tr>\n",
              "            <th>primaryName</th>\n",
              "            <th>characters</th>\n",
              "            <th>primaryTitle</th>\n",
              "            <th>category</th>\n",
              "            <th>category_1</th>\n",
              "        </tr>\n",
              "    </thead>\n",
              "    <tbody>\n",
              "    </tbody>\n",
              "</table>"
            ]
          },
          "metadata": {},
          "execution_count": 28
        }
      ],
      "source": [
        "%%sql\n",
        "SELECT n1.primaryName, p2.characters, t.primaryTitle, p1.category, p2.category\n",
        "FROM names as n1 \n",
        "  JOIN principals as p1 USING (nconst) \n",
        "  JOIN principals as p2 USING (tconst,nconst) \n",
        "  JOIN titles as t USING (tconst)\n",
        "WHERE\n",
        "      t.startYear = 1996 AND\n",
        "      p1.category <> p2.category AND\n",
        "      p2.category in (\"actor\",\"actress\")"
      ]
    },
    {
      "cell_type": "markdown",
      "metadata": {
        "id": "iWsam9FUp0h6"
      },
      "source": [
        "### **How many artists were there in the above query?**"
      ]
    },
    {
      "cell_type": "markdown",
      "source": [
        "None, because the `principals` table uses (tconst, nconst) like a composite key. That means nobody can be listed for two different categories for the same movie. However, consider this film from 1996 (linked and queried below). Notice anything? \n",
        "\n",
        "https://www.imdb.com/title/tt0117057/  "
      ],
      "metadata": {
        "id": "jLB1XE4jStzD"
      }
    },
    {
      "cell_type": "code",
      "source": [
        "%%sql\n",
        "SELECT n1.primaryName, t.primaryTitle, t.startYear, p1.category, p1.job, p1.characters\n",
        "FROM names as n1 \n",
        "  JOIN principals as p1 USING (nconst)  \n",
        "  JOIN titles as t USING (tconst)\n",
        "WHERE\n",
        "  t.primaryTitle = 'The Mirror Has Two Faces'"
      ],
      "metadata": {
        "colab": {
          "base_uri": "https://localhost:8080/",
          "height": 285
        },
        "id": "ub6J6v1rRQR6",
        "outputId": "634f3e2e-ecb4-467a-a39a-6879f3414b59"
      },
      "execution_count": null,
      "outputs": [
        {
          "output_type": "stream",
          "name": "stdout",
          "text": [
            " * sqlite:///IMDB_Mirror.db\n",
            "Done.\n"
          ]
        },
        {
          "output_type": "execute_result",
          "data": {
            "text/plain": [
              "[('Arnon Milchan', 'The Mirror Has Two Faces', '1996', 'producer', 'producer', '\\\\N'),\n",
              " ('Barbra Streisand', 'The Mirror Has Two Faces', '1996', 'actress', '\\\\N', '[\"Rose Morgan\"]'),\n",
              " ('Jeff Bridges', 'The Mirror Has Two Faces', '1996', 'actor', '\\\\N', '[\"Gregory Larkin\"]'),\n",
              " ('Lauren Bacall', 'The Mirror Has Two Faces', '1996', 'actress', '\\\\N', '[\"Hannah Morgan\"]'),\n",
              " ('George Segal', 'The Mirror Has Two Faces', '1996', 'actor', '\\\\N', '[\"Henry Fine\"]'),\n",
              " ('André Cayatte', 'The Mirror Has Two Faces', '1996', 'writer', 'screenplay \"Le Miroir a Deux Faces\"', '\\\\N'),\n",
              " ('Gérard Oury', 'The Mirror Has Two Faces', '1996', 'writer', 'screenplay \"Le Miroir a Deux Faces\"', '\\\\N'),\n",
              " ('Richard LaGravenese', 'The Mirror Has Two Faces', '1996', 'writer', 'screen story', '\\\\N'),\n",
              " ('Jean Meckert', 'The Mirror Has Two Faces', '1996', 'writer', 'motion picture dialogue Le Miroir a Deux Faces', '\\\\N'),\n",
              " ('Denis Perret', 'The Mirror Has Two Faces', '1996', 'writer', 'motion picture dialogue Le Miroir a Deux Faces', '\\\\N')]"
            ],
            "text/html": [
              "<table>\n",
              "    <thead>\n",
              "        <tr>\n",
              "            <th>primaryName</th>\n",
              "            <th>primaryTitle</th>\n",
              "            <th>startYear</th>\n",
              "            <th>category</th>\n",
              "            <th>job</th>\n",
              "            <th>characters</th>\n",
              "        </tr>\n",
              "    </thead>\n",
              "    <tbody>\n",
              "        <tr>\n",
              "            <td>Arnon Milchan</td>\n",
              "            <td>The Mirror Has Two Faces</td>\n",
              "            <td>1996</td>\n",
              "            <td>producer</td>\n",
              "            <td>producer</td>\n",
              "            <td>\\N</td>\n",
              "        </tr>\n",
              "        <tr>\n",
              "            <td>Barbra Streisand</td>\n",
              "            <td>The Mirror Has Two Faces</td>\n",
              "            <td>1996</td>\n",
              "            <td>actress</td>\n",
              "            <td>\\N</td>\n",
              "            <td>[&quot;Rose Morgan&quot;]</td>\n",
              "        </tr>\n",
              "        <tr>\n",
              "            <td>Jeff Bridges</td>\n",
              "            <td>The Mirror Has Two Faces</td>\n",
              "            <td>1996</td>\n",
              "            <td>actor</td>\n",
              "            <td>\\N</td>\n",
              "            <td>[&quot;Gregory Larkin&quot;]</td>\n",
              "        </tr>\n",
              "        <tr>\n",
              "            <td>Lauren Bacall</td>\n",
              "            <td>The Mirror Has Two Faces</td>\n",
              "            <td>1996</td>\n",
              "            <td>actress</td>\n",
              "            <td>\\N</td>\n",
              "            <td>[&quot;Hannah Morgan&quot;]</td>\n",
              "        </tr>\n",
              "        <tr>\n",
              "            <td>George Segal</td>\n",
              "            <td>The Mirror Has Two Faces</td>\n",
              "            <td>1996</td>\n",
              "            <td>actor</td>\n",
              "            <td>\\N</td>\n",
              "            <td>[&quot;Henry Fine&quot;]</td>\n",
              "        </tr>\n",
              "        <tr>\n",
              "            <td>André Cayatte</td>\n",
              "            <td>The Mirror Has Two Faces</td>\n",
              "            <td>1996</td>\n",
              "            <td>writer</td>\n",
              "            <td>screenplay &quot;Le Miroir a Deux Faces&quot;</td>\n",
              "            <td>\\N</td>\n",
              "        </tr>\n",
              "        <tr>\n",
              "            <td>Gérard Oury</td>\n",
              "            <td>The Mirror Has Two Faces</td>\n",
              "            <td>1996</td>\n",
              "            <td>writer</td>\n",
              "            <td>screenplay &quot;Le Miroir a Deux Faces&quot;</td>\n",
              "            <td>\\N</td>\n",
              "        </tr>\n",
              "        <tr>\n",
              "            <td>Richard LaGravenese</td>\n",
              "            <td>The Mirror Has Two Faces</td>\n",
              "            <td>1996</td>\n",
              "            <td>writer</td>\n",
              "            <td>screen story</td>\n",
              "            <td>\\N</td>\n",
              "        </tr>\n",
              "        <tr>\n",
              "            <td>Jean Meckert</td>\n",
              "            <td>The Mirror Has Two Faces</td>\n",
              "            <td>1996</td>\n",
              "            <td>writer</td>\n",
              "            <td>motion picture dialogue Le Miroir a Deux Faces</td>\n",
              "            <td>\\N</td>\n",
              "        </tr>\n",
              "        <tr>\n",
              "            <td>Denis Perret</td>\n",
              "            <td>The Mirror Has Two Faces</td>\n",
              "            <td>1996</td>\n",
              "            <td>writer</td>\n",
              "            <td>motion picture dialogue Le Miroir a Deux Faces</td>\n",
              "            <td>\\N</td>\n",
              "        </tr>\n",
              "    </tbody>\n",
              "</table>"
            ]
          },
          "metadata": {},
          "execution_count": 35
        }
      ]
    },
    {
      "cell_type": "markdown",
      "source": [
        "In order to get a list of directors we'd need to download *yet another* dataset for `crew`. (See https://www.imdb.com/interfaces/.)\n",
        "\n",
        "Eh. Sometimes directors listed in the `principals` table? But only *sometimes*? That has a bad design smell.  Maybe we can do better ourselves."
      ],
      "metadata": {
        "id": "mWemmGTiVLOT"
      }
    },
    {
      "cell_type": "markdown",
      "metadata": {
        "id": "u271hHqtr7Mx"
      },
      "source": [
        "### **Who has the record for appearing in the most different movies in one year?**"
      ]
    },
    {
      "cell_type": "code",
      "execution_count": null,
      "metadata": {
        "id": "3rmATylbrScA",
        "colab": {
          "base_uri": "https://localhost:8080/",
          "height": 285
        },
        "outputId": "37d8d81d-a505-42e1-f8bf-ba6f71642698"
      },
      "outputs": [
        {
          "output_type": "stream",
          "name": "stdout",
          "text": [
            " * sqlite:///IMDB_Mirror.db\n",
            "Done.\n"
          ]
        },
        {
          "output_type": "execute_result",
          "data": {
            "text/plain": [
              "[('Matsunosuke Onoe', '1918', 91),\n",
              " ('Matsunosuke Onoe', '1917', 79),\n",
              " ('Matsunosuke Onoe', '1919', 68),\n",
              " ('Tom Byron', '1990', 63),\n",
              " ('Kijaku Ôtani', '1917', 61),\n",
              " ('Kitsuraku Arashi', '1917', 61),\n",
              " ('Matsunosuke Onoe', '1920', 58),\n",
              " ('Kijaku Ôtani', '1918', 57),\n",
              " ('Suminojo Ichikawa', '1918', 56),\n",
              " ('Brahmanandam', '1993', 56)]"
            ],
            "text/html": [
              "<table>\n",
              "    <thead>\n",
              "        <tr>\n",
              "            <th>primaryName</th>\n",
              "            <th>startYear</th>\n",
              "            <th>credit_count</th>\n",
              "        </tr>\n",
              "    </thead>\n",
              "    <tbody>\n",
              "        <tr>\n",
              "            <td>Matsunosuke Onoe</td>\n",
              "            <td>1918</td>\n",
              "            <td>91</td>\n",
              "        </tr>\n",
              "        <tr>\n",
              "            <td>Matsunosuke Onoe</td>\n",
              "            <td>1917</td>\n",
              "            <td>79</td>\n",
              "        </tr>\n",
              "        <tr>\n",
              "            <td>Matsunosuke Onoe</td>\n",
              "            <td>1919</td>\n",
              "            <td>68</td>\n",
              "        </tr>\n",
              "        <tr>\n",
              "            <td>Tom Byron</td>\n",
              "            <td>1990</td>\n",
              "            <td>63</td>\n",
              "        </tr>\n",
              "        <tr>\n",
              "            <td>Kijaku Ôtani</td>\n",
              "            <td>1917</td>\n",
              "            <td>61</td>\n",
              "        </tr>\n",
              "        <tr>\n",
              "            <td>Kitsuraku Arashi</td>\n",
              "            <td>1917</td>\n",
              "            <td>61</td>\n",
              "        </tr>\n",
              "        <tr>\n",
              "            <td>Matsunosuke Onoe</td>\n",
              "            <td>1920</td>\n",
              "            <td>58</td>\n",
              "        </tr>\n",
              "        <tr>\n",
              "            <td>Kijaku Ôtani</td>\n",
              "            <td>1918</td>\n",
              "            <td>57</td>\n",
              "        </tr>\n",
              "        <tr>\n",
              "            <td>Suminojo Ichikawa</td>\n",
              "            <td>1918</td>\n",
              "            <td>56</td>\n",
              "        </tr>\n",
              "        <tr>\n",
              "            <td>Brahmanandam</td>\n",
              "            <td>1993</td>\n",
              "            <td>56</td>\n",
              "        </tr>\n",
              "    </tbody>\n",
              "</table>"
            ]
          },
          "metadata": {},
          "execution_count": 7
        }
      ],
      "source": [
        "%%sql\n",
        "SELECT primaryName, startYear, count(distinct principalID) AS credit_count\n",
        "FROM names as n1 \n",
        "  JOIN principals as p1 USING (nconst)  \n",
        "  JOIN titles as t USING (tconst)\n",
        "WHERE p1.category in ('actor','actress') AND t.startYear <> '\\N'\n",
        "GROUP BY t.startYear, n1.nconst, n1.primaryName\n",
        "ORDER BY credit_count DESC\n",
        "LIMIT 10;"
      ]
    },
    {
      "cell_type": "markdown",
      "metadata": {
        "id": "3FUx9XWFrTaq"
      },
      "source": [
        "### **Movie titles are not unique. Which move title has been reused the most times over the years? (Exclude \"Untitled\" or similar non-titles. Also be sure to only include movie titles.)**"
      ]
    },
    {
      "cell_type": "code",
      "execution_count": null,
      "metadata": {
        "id": "dTCCq-TmsNYn",
        "colab": {
          "base_uri": "https://localhost:8080/",
          "height": 285
        },
        "outputId": "222146f4-86b5-4b0b-938b-c16a3efdfa49"
      },
      "outputs": [
        {
          "output_type": "stream",
          "name": "stdout",
          "text": [
            " * sqlite:///IMDB_Mirror.db\n",
            "Done.\n"
          ]
        },
        {
          "output_type": "execute_result",
          "data": {
            "text/plain": [
              "[('Home', 53),\n",
              " ('Broken', 52),\n",
              " ('Mother', 49),\n",
              " ('Alone', 48),\n",
              " ('Hamlet', 46),\n",
              " ('Paradise', 43),\n",
              " ('Homecoming', 42),\n",
              " ('Trapped', 42),\n",
              " ('The Return', 41),\n",
              " ('Brothers', 40)]"
            ],
            "text/html": [
              "<table>\n",
              "    <thead>\n",
              "        <tr>\n",
              "            <th>primaryTitle</th>\n",
              "            <th>title_count</th>\n",
              "        </tr>\n",
              "    </thead>\n",
              "    <tbody>\n",
              "        <tr>\n",
              "            <td>Home</td>\n",
              "            <td>53</td>\n",
              "        </tr>\n",
              "        <tr>\n",
              "            <td>Broken</td>\n",
              "            <td>52</td>\n",
              "        </tr>\n",
              "        <tr>\n",
              "            <td>Mother</td>\n",
              "            <td>49</td>\n",
              "        </tr>\n",
              "        <tr>\n",
              "            <td>Alone</td>\n",
              "            <td>48</td>\n",
              "        </tr>\n",
              "        <tr>\n",
              "            <td>Hamlet</td>\n",
              "            <td>46</td>\n",
              "        </tr>\n",
              "        <tr>\n",
              "            <td>Paradise</td>\n",
              "            <td>43</td>\n",
              "        </tr>\n",
              "        <tr>\n",
              "            <td>Homecoming</td>\n",
              "            <td>42</td>\n",
              "        </tr>\n",
              "        <tr>\n",
              "            <td>Trapped</td>\n",
              "            <td>42</td>\n",
              "        </tr>\n",
              "        <tr>\n",
              "            <td>The Return</td>\n",
              "            <td>41</td>\n",
              "        </tr>\n",
              "        <tr>\n",
              "            <td>Brothers</td>\n",
              "            <td>40</td>\n",
              "        </tr>\n",
              "    </tbody>\n",
              "</table>"
            ]
          },
          "metadata": {},
          "execution_count": 6
        }
      ],
      "source": [
        "%%sql\n",
        "SELECT primaryTitle, count(*) AS title_count\n",
        "FROM titles\n",
        "WHERE primaryTitle <> 'Untitled' AND titleType = 'movie'\n",
        "GROUP BY primaryTitle\n",
        "ORDER BY title_count DESC\n",
        "LIMIT 10;\n"
      ]
    },
    {
      "cell_type": "markdown",
      "metadata": {
        "id": "3h7FuWEDsV63"
      },
      "source": [
        "### **Come up with your own query and post it on Slack. The student with the most interesting query -- as voted in class -- gets a perfect score on the next quiz.**"
      ]
    },
    {
      "cell_type": "code",
      "execution_count": null,
      "metadata": {
        "id": "Wh7NSu3Usst2"
      },
      "outputs": [],
      "source": []
    },
    {
      "cell_type": "markdown",
      "metadata": {
        "id": "50njPDnXC4C0"
      },
      "source": [
        "---\n",
        "## **On your way out ... Be sure to save your work**.\n",
        "Save this notebook and turn it in on Google Classroom. \n",
        "In Google Drive, drag this notebook file into your `DATA6510` folder so you can find it next time."
      ]
    }
  ],
  "metadata": {
    "colab": {
      "provenance": [],
      "include_colab_link": true
    },
    "kernelspec": {
      "display_name": "Python 3 (ipykernel)",
      "language": "python",
      "name": "python3"
    },
    "language_info": {
      "codemirror_mode": {
        "name": "ipython",
        "version": 3
      },
      "file_extension": ".py",
      "mimetype": "text/x-python",
      "name": "python",
      "nbconvert_exporter": "python",
      "pygments_lexer": "ipython3",
      "version": "3.8.13"
    }
  },
  "nbformat": 4,
  "nbformat_minor": 0
}