{
 "cells": [
  {
   "cell_type": "markdown",
   "metadata": {
    "id": "5rHzwUorF5ab"
   },
   "source": [
    "<img src=\"https://github.com/christopherhuntley/BUAN6510/blob/master/img/Dolan.png?raw=true\" width=\"180px\" align=\"right\">\n",
    "\n",
    "# **DATA 6510 Final Project**\n",
    "__An End-to-End Analytics Project__\n",
    "\n",
    "## Purpose\n",
    "To put into practice what you have learned in this class. Further, to provide the MSBA students a head start on their Capstone projects. \n",
    "\n",
    "## Objectives\n",
    "In this project you will ...\n",
    "- Construct a data pipeline from original source files to a dimensional data warehouse\n",
    "- Extract, translate, and load data into a normalized database\n",
    "- Design and populate a dimensional data warehouse designed to address common analytical questions\n",
    "- Test your databases to ensure domain, entity, relational integrity \n",
    "- Apply what you have learned about data storytelling to make informed recommendations from data \n",
    "- Work in small teams, sharing code and data files equally\n",
    "\n",
    "## Expectations\n",
    "- Each student should be able to fully present the work of her/his team. While it is on your honor to share the load with your teammates, the instructor may ask individuals to present separately from the team in private. These private presentations will be graded separately from the rest of the team.\n",
    "\n",
    "## Outline\n",
    "\n",
    "Details for each part will be released via Google Classroom.\n",
    "\n",
    "**Part 1 Ingest and Clean the Data (Due November 14)**\n",
    "- Form a team of three students, no more and no less without explicit permission.\n",
    "- Use Google Sharing to share your notebooks with your teammates. Note that while the documents (files) are shared and jointly editable, the Colab runtime is not. You will figure out what this means and figure out how to work around it.\n",
    "- Study the source data to understand the course planning, staffing, booking, and enrollment process. \n",
    "- Build a SQLite database `banner.db` that complies with the requirements given in the assignment.\n",
    "- Validate that your work is right with SQL queries with know correct answers. \n",
    "- One student selected at random from each team will review the notebook with the instructor.\n",
    "\n",
    "**Part 2 Build a Course Data Warehouse (Due November 28)**\n",
    "- Using your `banner.db` database as a primary source, build a (SQLite) `course_dw.db` database that complies with the spec given in the assignment. \n",
    "- Validate that your work is correct with SQL queries. \n",
    "- One student selected at random frtom each team will review the notebook with the instructor.\n",
    "\n",
    "**Part 3 Frame Your Analysis (Due December 7)**\n",
    "- Plan out your analysis of the data. This usually comes down to what questions you intend to ask of the data and the SQL queries needed to answer them. \n",
    "- Think about the story you will tell and how you will tell it. \n",
    "\n",
    "**Part 4 Pitch Outs (Due December 14)**\n",
    "- Present your analysis in 10 minutes or less. Use the storytelling techniques covered in class. Boring or pointless presentations will be graded accordingly. \n",
    "- NO CODE please. This is a business presentation, not a technical review. \n",
    "- Use whatever visualization software you like. That's up to you. \n",
    "- Staff from the dean's office and the registrar will be invited to hear and react to your recommendations."
   ]
  },
  {
   "cell_type": "code",
   "execution_count": null,
   "metadata": {},
   "outputs": [],
   "source": []
  }
 ],
 "metadata": {
  "colab": {
   "authorship_tag": "ABX9TyONjTBMlxHoqz7vYeT4gQZR",
   "collapsed_sections": [],
   "mount_file_id": "11MBPducEj0HgT0u-nrCE60AvHJQnPR3y",
   "name": "Final_Project.ipynb",
   "provenance": []
  },
  "kernelspec": {
   "display_name": "Python 3 (ipykernel)",
   "language": "python",
   "name": "python3"
  },
  "language_info": {
   "codemirror_mode": {
    "name": "ipython",
    "version": 3
   },
   "file_extension": ".py",
   "mimetype": "text/x-python",
   "name": "python",
   "nbconvert_exporter": "python",
   "pygments_lexer": "ipython3",
   "version": "3.12.3"
  }
 },
 "nbformat": 4,
 "nbformat_minor": 4
}
