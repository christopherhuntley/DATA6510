{
  "nbformat": 4,
  "nbformat_minor": 0,
  "metadata": {
    "kernelspec": {
      "display_name": "Python 3",
      "language": "python",
      "name": "python3"
    },
    "language_info": {
      "codemirror_mode": {
        "name": "ipython",
        "version": 3
      },
      "file_extension": ".py",
      "mimetype": "text/x-python",
      "name": "python",
      "nbconvert_exporter": "python",
      "pygments_lexer": "ipython3",
      "version": "3.8.8"
    },
    "colab": {
      "name": "FP_Banner_Refresh.ipynb",
      "provenance": [],
      "collapsed_sections": []
    }
  },
  "cells": [
    {
      "cell_type": "markdown",
      "metadata": {
        "id": "3fUqncfk-xcy"
      },
      "source": [
        "# **Full ETL for Banner.db**\n",
        "Step-by-step from source files to RDBMS\n",
        "- Study this for insights into Part 1. \n",
        "- Run before starting Part 2. It will replace your `Banner.db` file so everyone is starting from the same starting point. \n",
        "- You can rerun this anytime you like. It should recreate eerything from scratch. \n",
        "\n",
        "## Preliminaries: Extensions, Imports, and Database Connections"
      ]
    },
    {
      "cell_type": "code",
      "metadata": {
        "id": "jorzfYxkIij5"
      },
      "source": [
        "%%bash\n",
        "\n",
        "# clone the DATA6510 course repo from GitHub\n",
        "rm -rf DATA6510\n",
        "git clone https://github.com/christopherhuntley/DATA6510\n",
        "\n",
        "# keep just the banner data\n",
        "rm -rf banner\n",
        "mv DATA6510/data/banner .\n",
        "\n",
        "# cleanup\n",
        "rm -rf DATA6510"
      ],
      "execution_count": null,
      "outputs": []
    },
    {
      "cell_type": "code",
      "metadata": {
        "id": "T3l5MmMq-9A2"
      },
      "source": [
        "# Mount Google Drive\n",
        "from google.colab import drive\n",
        "drive.mount('/content/drive')\n",
        "\n",
        "# Create the DATA6510/data/FinalProject folder in Google Drive\n",
        "from pathlib import Path\n",
        "\n",
        "data_root = Path(\"./drive/My Drive/Colab Notebooks/DATA6510\")\n",
        "if not data_root.exists():\n",
        "  print(\n",
        "      '''\n",
        "      Warning! The folder '/Colab Notebooks/DATA6510' could not be found in the connected Google Drive. \n",
        "      Please make 100% sure that both Colab and Chrome are set up use your @student.fairfield.edu account. \n",
        "      For now, a new folder with the correct path has been created in whatever Google Drive it found. \n",
        "      ''')\n",
        "data_root = data_root / 'data' / 'FinalProject'\n",
        "data_root.mkdir(parents=True, exist_ok=True)\n",
        "\n"
      ],
      "execution_count": null,
      "outputs": []
    },
    {
      "cell_type": "code",
      "metadata": {
        "id": "t3di74bt_DJD"
      },
      "source": [
        "%%bash\n",
        "# create (or refresh) the symlink\n",
        "rm -rf data6510\n",
        "ln -s drive/My\\ Drive/Colab\\ Notebooks/DATA6510 data6510\n",
        "\n",
        "# delete old copy of the database file\n",
        "rm -rf data6510/data/FinalProject/Banner.db"
      ],
      "execution_count": null,
      "outputs": []
    },
    {
      "cell_type": "code",
      "metadata": {
        "id": "sxIBlXCd-xc3"
      },
      "source": [
        "# Load %%sql magic\n",
        "%load_ext sql\n",
        "\n",
        "# Standard Imports\n",
        "import sqlite3\n",
        "import pandas as pd\n",
        "\n",
        "# Database connection\n",
        "%sql sqlite:///data6510/data/FinalProject/Banner.db\n",
        "conn = sqlite3.connect('data6510/data/FinalProject/Banner.db')"
      ],
      "execution_count": null,
      "outputs": []
    },
    {
      "cell_type": "markdown",
      "metadata": {
        "id": "hDABZWD6-xc5"
      },
      "source": [
        "## 1. Create Tables from ERD"
      ]
    },
    {
      "cell_type": "code",
      "metadata": {
        "colab": {
          "base_uri": "https://localhost:8080/"
        },
        "id": "PCW67iEy-xc6",
        "outputId": "785d9baa-c4ea-4dfd-a085-a11e5791d17a"
      },
      "source": [
        "%%sql\n",
        "\n",
        "-- Programs table\n",
        "DROP TABLE IF EXISTS PROGRAMS;\n",
        "CREATE TABLE PROGRAMS (\n",
        "    ProgramID INTEGER PRIMARY KEY,\n",
        "    ProgramCode TEXT NOT NULL,\n",
        "    ProgramName TEXT NOT NULL\n",
        ");\n",
        "\n",
        "-- Course Catalogs table\n",
        "DROP TABLE IF EXISTS CATALOG_COURSES;\n",
        "CREATE TABLE CATALOG_COURSES (\n",
        "    CourseID INTEGER PRIMARY KEY,\n",
        "    CatalogYear TEXT NOT NULL,\n",
        "    CatalogNum TEXT NOT NULL,\n",
        "    ProgramID INTEGER,\n",
        "    CourseTitle TEXT NOT NULL,\n",
        "    Credits TEXT NOT NULL,\n",
        "    Prereqs TEXT,\n",
        "    Coreqs TEXT,\n",
        "    Fees TEXT,\n",
        "    Attributes TEXT,\n",
        "    Description TEXT,\n",
        "    FOREIGN KEY (ProgramID) REFERENCES PROGRAMS(ProgramID)\n",
        ");\n",
        "CREATE INDEX ix_catalog_courses_alt_key on CATALOG_COURSES(CatalogYear,CatalogNum);\n",
        "\n",
        "-- Instructors table\n",
        "DROP TABLE IF EXISTS INSTRUCTORS;\n",
        "CREATE TABLE INSTRUCTORS (\n",
        "    InstructorID INTEGER PRIMARY KEY,\n",
        "    Name TEXT NOT NULL\n",
        ");\n",
        "CREATE INDEX ix_instructors_name on INSTRUCTORS(Name);\n",
        "\n",
        "-- Course Offerings table\n",
        "DROP TABLE IF EXISTS COURSE_OFFERINGS;\n",
        "CREATE TABLE COURSE_OFFERINGS (\n",
        "    CourseOfferingID INTEGER PRIMARY KEY,\n",
        "    CourseID INTEGER,\n",
        "    CatalogNum TEXT NOT NULL,\n",
        "    Term TEXT NOT NULL,\n",
        "    CRN INTEGER NOT NULL,\n",
        "    Section TEXT NOT NULL,\n",
        "    Credits REAL,\n",
        "    Title TEXT NOT NULL,\n",
        "    Timecodes TEXT,\n",
        "    PrimaryInstructorID INTEGER,\n",
        "    Capacity INTEGER NOT NULL,\n",
        "    Actual INTEGER NOT NULL,\n",
        "    Remaining INTEGER NOT NULL,\n",
        "    FOREIGN KEY (CourseID) REFERENCES CATALOG_COURSES(CourseID),\n",
        "    FOREIGN KEY (PrimaryInstructorID) REFERENCES INSTRUCTORS(InstructorID)\n",
        ");\n",
        "CREATE INDEX ix_course_offerings_alt_key on COURSE_OFFERINGS(Term,CatalogNum,Section);\n",
        "\n",
        "-- Locations table\n",
        "DROP TABLE IF EXISTS LOCATIONS;\n",
        "CREATE TABLE LOCATIONS (\n",
        "    LocationID INTEGER PRIMARY KEY,\n",
        "    LocationCode TEXT NOT NULL\n",
        ");\n",
        "\n",
        "-- Course Meetings table\n",
        "DROP TABLE IF EXISTS COURSE_MEETINGS;\n",
        "CREATE TABLE COURSE_MEETINGS (\n",
        "    CourseMeetingID INTEGER PRIMARY KEY,\n",
        "    CourseOfferingID INTEGER NOT NULL,\n",
        "    LocationID INTEGER NOT NULL,\n",
        "    StartDateTime TEXT NOT NULL,\n",
        "    EndDateTime TEXT NOT NULL,\n",
        "    FOREIGN KEY (CourseOfferingID) REFERENCES COURSE_OFFERINGS(CourseOfferingID),\n",
        "    FOREIGN KEY (LocationID) REFERENCES LOCATIONS(LocationID)\n",
        ");\n",
        "\n",
        "-- A conversion table for matching the term to the corresponding catalog year\n",
        "-- Catalogs are not available for the first several years\n",
        "DROP TABLE IF EXISTS TERM_CATALOG_YEAR;\n",
        "CREATE TABLE TERM_CATALOG_YEAR (\n",
        "    CatalogYear TEXT NOT NULL,\n",
        "    Term TEXT NOT NULL\n",
        ");\n",
        "\n",
        "INSERT INTO TERM_CATALOG_YEAR (Term, CatalogYear) VALUES \n",
        "('Fall2017','2017_2018'),('Winter2018','2017_2018'),('Spring2018','2017_2018'),('Summer2018','2017_2018'),('Fall2018','2018_2019'),\n",
        "('Winter2019','2018_2019'),('Spring2019','2018_2019');"
      ],
      "execution_count": null,
      "outputs": [
        {
          "output_type": "stream",
          "name": "stdout",
          "text": [
            " * sqlite:///data6510/data/FinalProject/Banner.db\n",
            "Done.\n",
            "Done.\n",
            "Done.\n",
            "Done.\n",
            "Done.\n",
            "Done.\n",
            "Done.\n",
            "Done.\n",
            "Done.\n",
            "Done.\n",
            "Done.\n",
            "Done.\n",
            "Done.\n",
            "Done.\n",
            "Done.\n",
            "Done.\n",
            "Done.\n",
            "7 rows affected.\n"
          ]
        },
        {
          "output_type": "execute_result",
          "data": {
            "text/plain": [
              "[]"
            ]
          },
          "metadata": {},
          "execution_count": 6
        }
      ]
    },
    {
      "cell_type": "markdown",
      "metadata": {
        "id": "O56oVbAK-xc8"
      },
      "source": [
        "## 2. Extract data from CSV files\n",
        "_The following code uses Python to automate the dirty work that you might do in `sqlite3`._"
      ]
    },
    {
      "cell_type": "code",
      "metadata": {
        "id": "erIoDEZQ-xc8"
      },
      "source": [
        "# Catalog Data\n",
        "catalog_years = ['2017_2018','2018_2019']\n",
        "\n",
        "for cat_year in catalog_years:\n",
        "    filepath = 'banner/Catalogs/CourseCatalog'+cat_year+'.csv'\n",
        "    data = pd.read_csv(filepath)\n",
        "    data['cat_year'] = cat_year\n",
        "    data.to_sql('IMPORT_CATALOG_COURSES',conn,if_exists='append',index=False)\n"
      ],
      "execution_count": null,
      "outputs": []
    },
    {
      "cell_type": "code",
      "metadata": {
        "id": "KsOwtX1i-xc9"
      },
      "source": [
        "# Course Offering and Course Meeting Data\n",
        "terms = ['Fall2014','Fall2015','Fall2016','Fall2017','Fall2018',\n",
        "         'Spring2015','Spring2016','Spring2017','Spring2018','Spring2019',\n",
        "         'SpringBreak2017',\n",
        "         'Summer2015','Summer2016','Summer2017','Summer2018',\n",
        "         'Winter2015','Winter2016','Winter2017','Winter2018']\n",
        "\n",
        "for term in terms:\n",
        "    filepath = 'banner/'+term+'/courses.csv'\n",
        "    data = pd.read_csv(filepath)\n",
        "    data.to_sql('IMPORT_COURSE_OFFERINGS',conn,if_exists='append',index=False) \n",
        "    \n",
        "    filepath = 'banner/'+term+'/course_meetings.csv'\n",
        "    data = pd.read_csv(filepath)\n",
        "    data.to_sql('IMPORT_COURSE_MEETINGS',conn,if_exists='append',index=False)"
      ],
      "execution_count": null,
      "outputs": []
    },
    {
      "cell_type": "code",
      "metadata": {
        "colab": {
          "base_uri": "https://localhost:8080/",
          "height": 95
        },
        "id": "C0jpoyEq-xc-",
        "outputId": "685cefc5-856d-4410-b689-0d3b67b29c04"
      },
      "source": [
        "%%sql\n",
        "-- Record Counts for Catalog Courses\n",
        "SELECT \n",
        "    (SELECT Count(*) FROM IMPORT_CATALOG_COURSES) as 'RawCount',\n",
        "    (SELECT Count(*) FROM (SELECT DISTINCT * FROM IMPORT_CATALOG_COURSES)) as 'DistinctCount';"
      ],
      "execution_count": null,
      "outputs": [
        {
          "output_type": "stream",
          "name": "stdout",
          "text": [
            " * sqlite:///data6510/data/FinalProject/Banner.db\n",
            "Done.\n"
          ]
        },
        {
          "output_type": "execute_result",
          "data": {
            "text/html": [
              "<table>\n",
              "    <thead>\n",
              "        <tr>\n",
              "            <th>RawCount</th>\n",
              "            <th>DistinctCount</th>\n",
              "        </tr>\n",
              "    </thead>\n",
              "    <tbody>\n",
              "        <tr>\n",
              "            <td>4440</td>\n",
              "            <td>4440</td>\n",
              "        </tr>\n",
              "    </tbody>\n",
              "</table>"
            ],
            "text/plain": [
              "[(4440, 4440)]"
            ]
          },
          "metadata": {},
          "execution_count": 9
        }
      ]
    },
    {
      "cell_type": "code",
      "metadata": {
        "colab": {
          "base_uri": "https://localhost:8080/",
          "height": 95
        },
        "id": "M5WwiPli-xc_",
        "outputId": "97c55c4b-004a-4a3e-8d26-7be8bc4d6668"
      },
      "source": [
        "%%sql\n",
        "-- Record Counts for Course Offerings\n",
        "SELECT \n",
        "    (SELECT Count(*) FROM IMPORT_COURSE_OFFERINGS) as 'RawCount',\n",
        "    (SELECT Count(*) FROM (SELECT DISTINCT * FROM IMPORT_COURSE_OFFERINGS)) as 'DistinctCount';"
      ],
      "execution_count": null,
      "outputs": [
        {
          "output_type": "stream",
          "name": "stdout",
          "text": [
            " * sqlite:///data6510/data/FinalProject/Banner.db\n",
            "Done.\n"
          ]
        },
        {
          "output_type": "execute_result",
          "data": {
            "text/html": [
              "<table>\n",
              "    <thead>\n",
              "        <tr>\n",
              "            <th>RawCount</th>\n",
              "            <th>DistinctCount</th>\n",
              "        </tr>\n",
              "    </thead>\n",
              "    <tbody>\n",
              "        <tr>\n",
              "            <td>15937</td>\n",
              "            <td>15937</td>\n",
              "        </tr>\n",
              "    </tbody>\n",
              "</table>"
            ],
            "text/plain": [
              "[(15937, 15937)]"
            ]
          },
          "metadata": {},
          "execution_count": 10
        }
      ]
    },
    {
      "cell_type": "code",
      "metadata": {
        "colab": {
          "base_uri": "https://localhost:8080/",
          "height": 95
        },
        "id": "pwBVVQ3b-xc_",
        "outputId": "85ea9b40-defe-49a7-e389-cd7801e08db2"
      },
      "source": [
        "%%sql \n",
        "-- Record Counts for Course Meetings\n",
        "SELECT \n",
        "    (SELECT Count(*) FROM IMPORT_COURSE_MEETINGS) as 'RawCount',\n",
        "    (SELECT Count(*) FROM (SELECT DISTINCT * FROM IMPORT_COURSE_MEETINGS)) as 'DistinctCount';"
      ],
      "execution_count": null,
      "outputs": [
        {
          "output_type": "stream",
          "name": "stdout",
          "text": [
            " * sqlite:///data6510/data/FinalProject/Banner.db\n",
            "Done.\n"
          ]
        },
        {
          "output_type": "execute_result",
          "data": {
            "text/html": [
              "<table>\n",
              "    <thead>\n",
              "        <tr>\n",
              "            <th>RawCount</th>\n",
              "            <th>DistinctCount</th>\n",
              "        </tr>\n",
              "    </thead>\n",
              "    <tbody>\n",
              "        <tr>\n",
              "            <td>284907</td>\n",
              "            <td>284847</td>\n",
              "        </tr>\n",
              "    </tbody>\n",
              "</table>"
            ],
            "text/plain": [
              "[(284907, 284847)]"
            ]
          },
          "metadata": {},
          "execution_count": 11
        }
      ]
    },
    {
      "cell_type": "markdown",
      "metadata": {
        "id": "9CVG3MAx-xdA"
      },
      "source": [
        "__Note: it looks like there are 60 duplicate course meetings in the course_meetings.csv data. We'll have to take care when loading the COURSE_MEETINGS table.__"
      ]
    },
    {
      "cell_type": "code",
      "metadata": {
        "colab": {
          "base_uri": "https://localhost:8080/",
          "height": 1000
        },
        "id": "3KNjxQoh-xdA",
        "outputId": "ba21c7ba-cfa4-4c71-a5e6-f284c004b3dc"
      },
      "source": [
        "%%sql \n",
        "SELECT term,crn,location, day, start \n",
        "FROM IMPORT_COURSE_MEETINGS\n",
        "GROUP BY term,crn,location, day, start\n",
        "HAVING COUNT(*)>1;"
      ],
      "execution_count": null,
      "outputs": [
        {
          "output_type": "stream",
          "name": "stdout",
          "text": [
            " * sqlite:///data6510/data/FinalProject/Banner.db\n",
            "Done.\n"
          ]
        },
        {
          "output_type": "execute_result",
          "data": {
            "text/html": [
              "<table>\n",
              "    <thead>\n",
              "        <tr>\n",
              "            <th>term</th>\n",
              "            <th>crn</th>\n",
              "            <th>location</th>\n",
              "            <th>day</th>\n",
              "            <th>start</th>\n",
              "        </tr>\n",
              "    </thead>\n",
              "    <tbody>\n",
              "        <tr>\n",
              "            <td>Fall2014</td>\n",
              "            <td>73073</td>\n",
              "            <td>MCA 102</td>\n",
              "            <td>M</td>\n",
              "            <td>2014-09-08T18:30:00</td>\n",
              "        </tr>\n",
              "        <tr>\n",
              "            <td>Fall2014</td>\n",
              "            <td>73073</td>\n",
              "            <td>MCA 102</td>\n",
              "            <td>M</td>\n",
              "            <td>2014-09-15T18:30:00</td>\n",
              "        </tr>\n",
              "        <tr>\n",
              "            <td>Fall2014</td>\n",
              "            <td>73073</td>\n",
              "            <td>MCA 102</td>\n",
              "            <td>M</td>\n",
              "            <td>2014-09-22T18:30:00</td>\n",
              "        </tr>\n",
              "        <tr>\n",
              "            <td>Fall2014</td>\n",
              "            <td>73073</td>\n",
              "            <td>MCA 102</td>\n",
              "            <td>M</td>\n",
              "            <td>2014-09-29T18:30:00</td>\n",
              "        </tr>\n",
              "        <tr>\n",
              "            <td>Fall2014</td>\n",
              "            <td>73073</td>\n",
              "            <td>MCA 102</td>\n",
              "            <td>M</td>\n",
              "            <td>2014-10-06T18:30:00</td>\n",
              "        </tr>\n",
              "        <tr>\n",
              "            <td>Fall2014</td>\n",
              "            <td>73073</td>\n",
              "            <td>MCA 102</td>\n",
              "            <td>M</td>\n",
              "            <td>2014-10-20T18:30:00</td>\n",
              "        </tr>\n",
              "        <tr>\n",
              "            <td>Fall2014</td>\n",
              "            <td>73073</td>\n",
              "            <td>MCA 102</td>\n",
              "            <td>M</td>\n",
              "            <td>2014-10-27T18:30:00</td>\n",
              "        </tr>\n",
              "        <tr>\n",
              "            <td>Fall2014</td>\n",
              "            <td>73073</td>\n",
              "            <td>MCA 102</td>\n",
              "            <td>M</td>\n",
              "            <td>2014-11-03T18:30:00</td>\n",
              "        </tr>\n",
              "        <tr>\n",
              "            <td>Fall2014</td>\n",
              "            <td>73073</td>\n",
              "            <td>MCA 102</td>\n",
              "            <td>M</td>\n",
              "            <td>2014-11-10T18:30:00</td>\n",
              "        </tr>\n",
              "        <tr>\n",
              "            <td>Fall2014</td>\n",
              "            <td>73073</td>\n",
              "            <td>MCA 102</td>\n",
              "            <td>M</td>\n",
              "            <td>2014-11-17T18:30:00</td>\n",
              "        </tr>\n",
              "        <tr>\n",
              "            <td>Fall2014</td>\n",
              "            <td>73073</td>\n",
              "            <td>MCA 102</td>\n",
              "            <td>M</td>\n",
              "            <td>2014-11-24T18:30:00</td>\n",
              "        </tr>\n",
              "        <tr>\n",
              "            <td>Fall2014</td>\n",
              "            <td>73073</td>\n",
              "            <td>MCA 102</td>\n",
              "            <td>M</td>\n",
              "            <td>2014-12-01T18:30:00</td>\n",
              "        </tr>\n",
              "        <tr>\n",
              "            <td>Fall2014</td>\n",
              "            <td>73073</td>\n",
              "            <td>MCA 102</td>\n",
              "            <td>M</td>\n",
              "            <td>2014-12-08T18:30:00</td>\n",
              "        </tr>\n",
              "        <tr>\n",
              "            <td>Fall2014</td>\n",
              "            <td>73073</td>\n",
              "            <td>MCA 102</td>\n",
              "            <td>M</td>\n",
              "            <td>2014-12-15T18:30:00</td>\n",
              "        </tr>\n",
              "        <tr>\n",
              "            <td>Fall2014</td>\n",
              "            <td>73188</td>\n",
              "            <td>SON 214</td>\n",
              "            <td>W</td>\n",
              "            <td>2014-09-03T17:00:00</td>\n",
              "        </tr>\n",
              "        <tr>\n",
              "            <td>Fall2014</td>\n",
              "            <td>73188</td>\n",
              "            <td>SON 214</td>\n",
              "            <td>W</td>\n",
              "            <td>2014-09-10T17:00:00</td>\n",
              "        </tr>\n",
              "        <tr>\n",
              "            <td>Fall2014</td>\n",
              "            <td>73188</td>\n",
              "            <td>SON 214</td>\n",
              "            <td>W</td>\n",
              "            <td>2014-09-17T17:00:00</td>\n",
              "        </tr>\n",
              "        <tr>\n",
              "            <td>Fall2014</td>\n",
              "            <td>73188</td>\n",
              "            <td>SON 214</td>\n",
              "            <td>W</td>\n",
              "            <td>2014-09-24T17:00:00</td>\n",
              "        </tr>\n",
              "        <tr>\n",
              "            <td>Fall2014</td>\n",
              "            <td>73188</td>\n",
              "            <td>SON 214</td>\n",
              "            <td>W</td>\n",
              "            <td>2014-10-01T17:00:00</td>\n",
              "        </tr>\n",
              "        <tr>\n",
              "            <td>Fall2014</td>\n",
              "            <td>73188</td>\n",
              "            <td>SON 214</td>\n",
              "            <td>W</td>\n",
              "            <td>2014-10-08T17:00:00</td>\n",
              "        </tr>\n",
              "        <tr>\n",
              "            <td>Fall2014</td>\n",
              "            <td>73188</td>\n",
              "            <td>SON 214</td>\n",
              "            <td>W</td>\n",
              "            <td>2014-10-15T17:00:00</td>\n",
              "        </tr>\n",
              "        <tr>\n",
              "            <td>Fall2014</td>\n",
              "            <td>73188</td>\n",
              "            <td>SON 214</td>\n",
              "            <td>W</td>\n",
              "            <td>2014-10-22T17:00:00</td>\n",
              "        </tr>\n",
              "        <tr>\n",
              "            <td>Fall2014</td>\n",
              "            <td>73188</td>\n",
              "            <td>SON 214</td>\n",
              "            <td>W</td>\n",
              "            <td>2014-10-29T17:00:00</td>\n",
              "        </tr>\n",
              "        <tr>\n",
              "            <td>Fall2014</td>\n",
              "            <td>73188</td>\n",
              "            <td>SON 214</td>\n",
              "            <td>W</td>\n",
              "            <td>2014-11-05T17:00:00</td>\n",
              "        </tr>\n",
              "        <tr>\n",
              "            <td>Fall2014</td>\n",
              "            <td>73188</td>\n",
              "            <td>SON 214</td>\n",
              "            <td>W</td>\n",
              "            <td>2014-11-12T17:00:00</td>\n",
              "        </tr>\n",
              "        <tr>\n",
              "            <td>Fall2014</td>\n",
              "            <td>73188</td>\n",
              "            <td>SON 214</td>\n",
              "            <td>W</td>\n",
              "            <td>2014-11-19T17:00:00</td>\n",
              "        </tr>\n",
              "        <tr>\n",
              "            <td>Fall2014</td>\n",
              "            <td>73188</td>\n",
              "            <td>SON 214</td>\n",
              "            <td>W</td>\n",
              "            <td>2014-11-26T17:00:00</td>\n",
              "        </tr>\n",
              "        <tr>\n",
              "            <td>Fall2014</td>\n",
              "            <td>73188</td>\n",
              "            <td>SON 214</td>\n",
              "            <td>W</td>\n",
              "            <td>2014-12-03T17:00:00</td>\n",
              "        </tr>\n",
              "        <tr>\n",
              "            <td>Fall2014</td>\n",
              "            <td>73188</td>\n",
              "            <td>SON 214</td>\n",
              "            <td>W</td>\n",
              "            <td>2014-12-10T17:00:00</td>\n",
              "        </tr>\n",
              "        <tr>\n",
              "            <td>Fall2014</td>\n",
              "            <td>73188</td>\n",
              "            <td>SON 214</td>\n",
              "            <td>W</td>\n",
              "            <td>2014-12-17T17:00:00</td>\n",
              "        </tr>\n",
              "        <tr>\n",
              "            <td>Spring2015</td>\n",
              "            <td>32325</td>\n",
              "            <td>SON 214</td>\n",
              "            <td>W</td>\n",
              "            <td>2015-01-21T17:00:00</td>\n",
              "        </tr>\n",
              "        <tr>\n",
              "            <td>Spring2015</td>\n",
              "            <td>32325</td>\n",
              "            <td>SON 214</td>\n",
              "            <td>W</td>\n",
              "            <td>2015-01-28T17:00:00</td>\n",
              "        </tr>\n",
              "        <tr>\n",
              "            <td>Spring2015</td>\n",
              "            <td>32325</td>\n",
              "            <td>SON 214</td>\n",
              "            <td>W</td>\n",
              "            <td>2015-02-04T17:00:00</td>\n",
              "        </tr>\n",
              "        <tr>\n",
              "            <td>Spring2015</td>\n",
              "            <td>32325</td>\n",
              "            <td>SON 214</td>\n",
              "            <td>W</td>\n",
              "            <td>2015-02-11T17:00:00</td>\n",
              "        </tr>\n",
              "        <tr>\n",
              "            <td>Spring2015</td>\n",
              "            <td>32325</td>\n",
              "            <td>SON 214</td>\n",
              "            <td>W</td>\n",
              "            <td>2015-02-18T17:00:00</td>\n",
              "        </tr>\n",
              "        <tr>\n",
              "            <td>Spring2015</td>\n",
              "            <td>32325</td>\n",
              "            <td>SON 214</td>\n",
              "            <td>W</td>\n",
              "            <td>2015-02-25T17:00:00</td>\n",
              "        </tr>\n",
              "        <tr>\n",
              "            <td>Spring2015</td>\n",
              "            <td>32325</td>\n",
              "            <td>SON 214</td>\n",
              "            <td>W</td>\n",
              "            <td>2015-03-04T17:00:00</td>\n",
              "        </tr>\n",
              "        <tr>\n",
              "            <td>Spring2015</td>\n",
              "            <td>32325</td>\n",
              "            <td>SON 214</td>\n",
              "            <td>W</td>\n",
              "            <td>2015-03-18T17:00:00</td>\n",
              "        </tr>\n",
              "        <tr>\n",
              "            <td>Spring2015</td>\n",
              "            <td>32325</td>\n",
              "            <td>SON 214</td>\n",
              "            <td>W</td>\n",
              "            <td>2015-03-25T17:00:00</td>\n",
              "        </tr>\n",
              "        <tr>\n",
              "            <td>Spring2015</td>\n",
              "            <td>32325</td>\n",
              "            <td>SON 214</td>\n",
              "            <td>W</td>\n",
              "            <td>2015-04-01T17:00:00</td>\n",
              "        </tr>\n",
              "        <tr>\n",
              "            <td>Spring2015</td>\n",
              "            <td>32325</td>\n",
              "            <td>SON 214</td>\n",
              "            <td>W</td>\n",
              "            <td>2015-04-08T17:00:00</td>\n",
              "        </tr>\n",
              "        <tr>\n",
              "            <td>Spring2015</td>\n",
              "            <td>32325</td>\n",
              "            <td>SON 214</td>\n",
              "            <td>W</td>\n",
              "            <td>2015-04-15T17:00:00</td>\n",
              "        </tr>\n",
              "        <tr>\n",
              "            <td>Spring2015</td>\n",
              "            <td>32325</td>\n",
              "            <td>SON 214</td>\n",
              "            <td>W</td>\n",
              "            <td>2015-04-22T17:00:00</td>\n",
              "        </tr>\n",
              "        <tr>\n",
              "            <td>Spring2015</td>\n",
              "            <td>32325</td>\n",
              "            <td>SON 214</td>\n",
              "            <td>W</td>\n",
              "            <td>2015-04-29T17:00:00</td>\n",
              "        </tr>\n",
              "        <tr>\n",
              "            <td>Spring2015</td>\n",
              "            <td>32325</td>\n",
              "            <td>SON 214</td>\n",
              "            <td>W</td>\n",
              "            <td>2015-05-06T17:00:00</td>\n",
              "        </tr>\n",
              "    </tbody>\n",
              "</table>"
            ],
            "text/plain": [
              "[('Fall2014', 73073, 'MCA 102', 'M', '2014-09-08T18:30:00'),\n",
              " ('Fall2014', 73073, 'MCA 102', 'M', '2014-09-15T18:30:00'),\n",
              " ('Fall2014', 73073, 'MCA 102', 'M', '2014-09-22T18:30:00'),\n",
              " ('Fall2014', 73073, 'MCA 102', 'M', '2014-09-29T18:30:00'),\n",
              " ('Fall2014', 73073, 'MCA 102', 'M', '2014-10-06T18:30:00'),\n",
              " ('Fall2014', 73073, 'MCA 102', 'M', '2014-10-20T18:30:00'),\n",
              " ('Fall2014', 73073, 'MCA 102', 'M', '2014-10-27T18:30:00'),\n",
              " ('Fall2014', 73073, 'MCA 102', 'M', '2014-11-03T18:30:00'),\n",
              " ('Fall2014', 73073, 'MCA 102', 'M', '2014-11-10T18:30:00'),\n",
              " ('Fall2014', 73073, 'MCA 102', 'M', '2014-11-17T18:30:00'),\n",
              " ('Fall2014', 73073, 'MCA 102', 'M', '2014-11-24T18:30:00'),\n",
              " ('Fall2014', 73073, 'MCA 102', 'M', '2014-12-01T18:30:00'),\n",
              " ('Fall2014', 73073, 'MCA 102', 'M', '2014-12-08T18:30:00'),\n",
              " ('Fall2014', 73073, 'MCA 102', 'M', '2014-12-15T18:30:00'),\n",
              " ('Fall2014', 73188, 'SON 214', 'W', '2014-09-03T17:00:00'),\n",
              " ('Fall2014', 73188, 'SON 214', 'W', '2014-09-10T17:00:00'),\n",
              " ('Fall2014', 73188, 'SON 214', 'W', '2014-09-17T17:00:00'),\n",
              " ('Fall2014', 73188, 'SON 214', 'W', '2014-09-24T17:00:00'),\n",
              " ('Fall2014', 73188, 'SON 214', 'W', '2014-10-01T17:00:00'),\n",
              " ('Fall2014', 73188, 'SON 214', 'W', '2014-10-08T17:00:00'),\n",
              " ('Fall2014', 73188, 'SON 214', 'W', '2014-10-15T17:00:00'),\n",
              " ('Fall2014', 73188, 'SON 214', 'W', '2014-10-22T17:00:00'),\n",
              " ('Fall2014', 73188, 'SON 214', 'W', '2014-10-29T17:00:00'),\n",
              " ('Fall2014', 73188, 'SON 214', 'W', '2014-11-05T17:00:00'),\n",
              " ('Fall2014', 73188, 'SON 214', 'W', '2014-11-12T17:00:00'),\n",
              " ('Fall2014', 73188, 'SON 214', 'W', '2014-11-19T17:00:00'),\n",
              " ('Fall2014', 73188, 'SON 214', 'W', '2014-11-26T17:00:00'),\n",
              " ('Fall2014', 73188, 'SON 214', 'W', '2014-12-03T17:00:00'),\n",
              " ('Fall2014', 73188, 'SON 214', 'W', '2014-12-10T17:00:00'),\n",
              " ('Fall2014', 73188, 'SON 214', 'W', '2014-12-17T17:00:00'),\n",
              " ('Spring2015', 32325, 'SON 214', 'W', '2015-01-21T17:00:00'),\n",
              " ('Spring2015', 32325, 'SON 214', 'W', '2015-01-28T17:00:00'),\n",
              " ('Spring2015', 32325, 'SON 214', 'W', '2015-02-04T17:00:00'),\n",
              " ('Spring2015', 32325, 'SON 214', 'W', '2015-02-11T17:00:00'),\n",
              " ('Spring2015', 32325, 'SON 214', 'W', '2015-02-18T17:00:00'),\n",
              " ('Spring2015', 32325, 'SON 214', 'W', '2015-02-25T17:00:00'),\n",
              " ('Spring2015', 32325, 'SON 214', 'W', '2015-03-04T17:00:00'),\n",
              " ('Spring2015', 32325, 'SON 214', 'W', '2015-03-18T17:00:00'),\n",
              " ('Spring2015', 32325, 'SON 214', 'W', '2015-03-25T17:00:00'),\n",
              " ('Spring2015', 32325, 'SON 214', 'W', '2015-04-01T17:00:00'),\n",
              " ('Spring2015', 32325, 'SON 214', 'W', '2015-04-08T17:00:00'),\n",
              " ('Spring2015', 32325, 'SON 214', 'W', '2015-04-15T17:00:00'),\n",
              " ('Spring2015', 32325, 'SON 214', 'W', '2015-04-22T17:00:00'),\n",
              " ('Spring2015', 32325, 'SON 214', 'W', '2015-04-29T17:00:00'),\n",
              " ('Spring2015', 32325, 'SON 214', 'W', '2015-05-06T17:00:00')]"
            ]
          },
          "metadata": {},
          "execution_count": 12
        }
      ]
    },
    {
      "cell_type": "markdown",
      "metadata": {
        "id": "ixW8Mmpt-xdA"
      },
      "source": [
        "**After consulting the original `banner.html` files, it appears that the duplicate meeting times are in Banner! Ugh. We'll just filter out the duplicates when populating our tables with data.**"
      ]
    },
    {
      "cell_type": "markdown",
      "metadata": {
        "id": "itYpS726-xdB"
      },
      "source": [
        "## 3 & 4. Transform and Load Data Into ERD Tables"
      ]
    },
    {
      "cell_type": "code",
      "metadata": {
        "colab": {
          "base_uri": "https://localhost:8080/"
        },
        "id": "eQkRNAH9-xdB",
        "outputId": "3c1f9ca9-f5ee-4bb2-f773-65525e752bca"
      },
      "source": [
        "%%sql\n",
        "DELETE FROM INSTRUCTORS;\n",
        "\n",
        "INSERT INTO INSTRUCTORS (Name)\n",
        "SELECT DISTINCT primary_instructor\n",
        "FROM import_course_offerings \n",
        "WHERE primary_instructor <> 'TBA' AND primary_instructor NOT LIKE '%/%';"
      ],
      "execution_count": null,
      "outputs": [
        {
          "output_type": "stream",
          "name": "stdout",
          "text": [
            " * sqlite:///data6510/data/FinalProject/Banner.db\n",
            "0 rows affected.\n",
            "1095 rows affected.\n"
          ]
        },
        {
          "output_type": "execute_result",
          "data": {
            "text/plain": [
              "[]"
            ]
          },
          "metadata": {},
          "execution_count": 13
        }
      ]
    },
    {
      "cell_type": "code",
      "metadata": {
        "colab": {
          "base_uri": "https://localhost:8080/"
        },
        "id": "kVU-HfYI-xdB",
        "outputId": "fb0ed6cf-dc00-46fe-945c-85a0b2829be6"
      },
      "source": [
        "%%sql\n",
        "DELETE FROM PROGRAMS;\n",
        "\n",
        "INSERT INTO PROGRAMS (ProgramCode,ProgramName)\n",
        "SELECT DISTINCT program_code,program_name \n",
        "FROM IMPORT_CATALOG_COURSES\n",
        "ORDER BY program_code;"
      ],
      "execution_count": null,
      "outputs": [
        {
          "output_type": "stream",
          "name": "stdout",
          "text": [
            " * sqlite:///data6510/data/FinalProject/Banner.db\n",
            "0 rows affected.\n",
            "83 rows affected.\n"
          ]
        },
        {
          "output_type": "execute_result",
          "data": {
            "text/plain": [
              "[]"
            ]
          },
          "metadata": {},
          "execution_count": 14
        }
      ]
    },
    {
      "cell_type": "code",
      "metadata": {
        "colab": {
          "base_uri": "https://localhost:8080/"
        },
        "id": "Dj53b7W9-xdC",
        "outputId": "6141563a-8a16-4656-89c3-2d16621be73e"
      },
      "source": [
        "%%sql \n",
        "DELETE FROM CATALOG_COURSES;\n",
        "\n",
        "INSERT INTO CATALOG_COURSES (CatalogYear,ProgramID,CatalogNum,CourseTitle,Credits,Prereqs,Coreqs,Fees,Attributes,Description)\n",
        "SELECT DISTINCT cat_year, ProgramID,catalog_id,course_title,credits,prereqs,coreqs,fees,attributes,description\n",
        "FROM IMPORT_CATALOG_COURSES \n",
        "    JOIN PROGRAMS ON (program_code = ProgramCode);"
      ],
      "execution_count": null,
      "outputs": [
        {
          "output_type": "stream",
          "name": "stdout",
          "text": [
            " * sqlite:///data6510/data/FinalProject/Banner.db\n",
            "0 rows affected.\n",
            "4440 rows affected.\n"
          ]
        },
        {
          "output_type": "execute_result",
          "data": {
            "text/plain": [
              "[]"
            ]
          },
          "metadata": {},
          "execution_count": 15
        }
      ]
    },
    {
      "cell_type": "code",
      "metadata": {
        "colab": {
          "base_uri": "https://localhost:8080/"
        },
        "id": "j4HuFSAA-xdC",
        "outputId": "64b1f71e-2b72-4c67-e8d5-b55409db5475"
      },
      "source": [
        "%%sql\n",
        "DELETE FROM COURSE_OFFERINGS;\n",
        "\n",
        "INSERT INTO COURSE_OFFERINGS (CourseID,Term,CRN,CatalogNum,Section,Credits,Title,Timecodes,PrimaryInstructorID,Capacity, Actual, Remaining)\n",
        "SELECT DISTINCT CourseID,term,crn,catalog_id,section,import_course_offerings.credits,title,timecodes,InstructorID,cap,act,rem \n",
        "FROM import_course_offerings \n",
        "    LEFT JOIN INSTRUCTORS ON (primary_instructor=INSTRUCTORS.Name)\n",
        "    LEFT JOIN TERM_CATALOG_YEAR USING (Term)\n",
        "    LEFT JOIN CATALOG_COURSES ON (catalog_id = CatalogNum AND CATALOG_COURSES.CatalogYear = TERM_CATALOG_YEAR.CatalogYear)\n",
        ";"
      ],
      "execution_count": null,
      "outputs": [
        {
          "output_type": "stream",
          "name": "stdout",
          "text": [
            " * sqlite:///data6510/data/FinalProject/Banner.db\n",
            "0 rows affected.\n",
            "15937 rows affected.\n"
          ]
        },
        {
          "output_type": "execute_result",
          "data": {
            "text/plain": [
              "[]"
            ]
          },
          "metadata": {},
          "execution_count": 16
        }
      ]
    },
    {
      "cell_type": "code",
      "metadata": {
        "colab": {
          "base_uri": "https://localhost:8080/"
        },
        "id": "QVwpmLWa-xdC",
        "outputId": "66868ab2-5bc2-476c-b577-7854092577d0"
      },
      "source": [
        "%%sql \n",
        "INSERT INTO LOCATIONS (LocationCode)\n",
        "SELECT DISTINCT Location \n",
        "FROM import_course_meetings\n",
        "ORDER BY Location"
      ],
      "execution_count": null,
      "outputs": [
        {
          "output_type": "stream",
          "name": "stdout",
          "text": [
            " * sqlite:///data6510/data/FinalProject/Banner.db\n",
            "207 rows affected.\n"
          ]
        },
        {
          "output_type": "execute_result",
          "data": {
            "text/plain": [
              "[]"
            ]
          },
          "metadata": {},
          "execution_count": 17
        }
      ]
    },
    {
      "cell_type": "code",
      "metadata": {
        "colab": {
          "base_uri": "https://localhost:8080/"
        },
        "id": "b-Uu9jqf-xdD",
        "outputId": "39b2d1e2-cb83-47de-b559-3a663bf68b3e"
      },
      "source": [
        "%%sql\n",
        "DELETE FROM COURSE_MEETINGS;\n",
        "\n",
        "-- this one will take a while; be patient\n",
        "\n",
        "INSERT INTO COURSE_MEETINGS (CourseOfferingID,LocationID,StartDateTime,EndDateTime)\n",
        "SELECT DISTINCT COURSE_OFFERINGS.CourseOfferingID, LocationID,import_course_meetings.`Start`,import_course_meetings.`End`\n",
        "FROM import_course_meetings \n",
        "    JOIN COURSE_OFFERINGS USING (Term,CRN)\n",
        "    LEFT JOIN LOCATIONS ON (import_course_meetings.Location = LOCATIONS.LocationCode);"
      ],
      "execution_count": null,
      "outputs": [
        {
          "output_type": "stream",
          "name": "stdout",
          "text": [
            " * sqlite:///data6510/data/FinalProject/Banner.db\n",
            "284847 rows affected.\n",
            "Done.\n"
          ]
        },
        {
          "output_type": "execute_result",
          "data": {
            "text/plain": [
              "[]"
            ]
          },
          "metadata": {},
          "execution_count": 19
        }
      ]
    },
    {
      "cell_type": "code",
      "metadata": {
        "colab": {
          "base_uri": "https://localhost:8080/",
          "height": 1000
        },
        "id": "StacQeK_-xdD",
        "outputId": "6a1b2623-bc98-4011-d2e7-69e92e0a3bc1"
      },
      "source": [
        "%%sql \n",
        "SELECT * FROM CATALOG_COURSES LIMIT 10;"
      ],
      "execution_count": null,
      "outputs": [
        {
          "output_type": "stream",
          "name": "stdout",
          "text": [
            " * sqlite:///data6510/data/FinalProject/Banner.db\n",
            "Done.\n"
          ]
        },
        {
          "output_type": "execute_result",
          "data": {
            "text/html": [
              "<table>\n",
              "    <thead>\n",
              "        <tr>\n",
              "            <th>CourseID</th>\n",
              "            <th>CatalogYear</th>\n",
              "            <th>CatalogNum</th>\n",
              "            <th>ProgramID</th>\n",
              "            <th>CourseTitle</th>\n",
              "            <th>Credits</th>\n",
              "            <th>Prereqs</th>\n",
              "            <th>Coreqs</th>\n",
              "            <th>Fees</th>\n",
              "            <th>Attributes</th>\n",
              "            <th>Description</th>\n",
              "        </tr>\n",
              "    </thead>\n",
              "    <tbody>\n",
              "        <tr>\n",
              "            <td>1</td>\n",
              "            <td>2017_2018</td>\n",
              "            <td>AN 0301</td>\n",
              "            <td>4</td>\n",
              "            <td>Independent Study</td>\n",
              "            <td>1-3 Credits</td>\n",
              "            <td>None</td>\n",
              "            <td>None</td>\n",
              "            <td>None</td>\n",
              "            <td>None</td>\n",
              "            <td>Students undertake an individualized program of study in consultation with a director from the Asian studies faculty.</td>\n",
              "        </tr>\n",
              "        <tr>\n",
              "            <td>2</td>\n",
              "            <td>2017_2018</td>\n",
              "            <td>AN 0310</td>\n",
              "            <td>4</td>\n",
              "            <td>Asian Studies Seminar</td>\n",
              "            <td>3 Credits</td>\n",
              "            <td>None</td>\n",
              "            <td>None</td>\n",
              "            <td>None</td>\n",
              "            <td>None</td>\n",
              "            <td>This seminar examines selected topics concerning Asia. This course is taught in conjunction with another 100-300 level course from a rotation of course offerings. Consult the Asian Studies director to identify the conjoined course for a given semester. The seminar concentrates on topics within the parameters of the conjoined course syllabus but adds research emphasis. Students registered for this course must complete a research project, to include 300-level research, in addition to the regular research requirements of the conjoined course, and a 25-50 page term paper in substitution of some portion of the conjoined course requirements, as determined by the instructor. Open to juniors and seniors only.</td>\n",
              "        </tr>\n",
              "        <tr>\n",
              "            <td>3</td>\n",
              "            <td>2017_2018</td>\n",
              "            <td>BU 0211</td>\n",
              "            <td>12</td>\n",
              "            <td>Legal Environment of Business</td>\n",
              "            <td>3 Credits</td>\n",
              "            <td>Junior standing.</td>\n",
              "            <td>None</td>\n",
              "            <td>None</td>\n",
              "            <td>None</td>\n",
              "            <td>This course examines the broad philosophical as well as practical nature and function of the legal system, and introduces students to the legal and social responsibilities of business. The course includes an introduction to the legal system, the federal courts, Constitutional law, the United States Supreme Court, the civil process, and regulatory areas such as employment discrimination, protection of the environment, and corporate governance and securities markets.</td>\n",
              "        </tr>\n",
              "        <tr>\n",
              "            <td>4</td>\n",
              "            <td>2017_2018</td>\n",
              "            <td>BU 0220</td>\n",
              "            <td>12</td>\n",
              "            <td>Environmental Law and Policy</td>\n",
              "            <td>3 Credits</td>\n",
              "            <td>None</td>\n",
              "            <td>None</td>\n",
              "            <td>None</td>\n",
              "            <td>EVME Environmental Studies Major Elective, EVPE Environmental Studies Elective, EVSS Environmental Studies: Social Science, MGEL Management: General Elective</td>\n",
              "            <td>This course surveys issues arising out of federal laws designed to protect the environment and manage resources. It considers in detail the role of the Environmental Protection Agency in the enforcement of environmental policies arising out of such laws as the National Environmental Policy Act, the Clean Water Act, and the Clear Air Act, among others. The course also considers the impact of Congress, political parties, bureaucracy, and interest groups in shaping environmental policy, giving special attention to the impact of environmental regulation on business and private property rights.</td>\n",
              "        </tr>\n",
              "        <tr>\n",
              "            <td>5</td>\n",
              "            <td>2017_2018</td>\n",
              "            <td>BU 0311</td>\n",
              "            <td>12</td>\n",
              "            <td>The Law of Contracts, Sales, and Property</td>\n",
              "            <td>3 Credits</td>\n",
              "            <td>BU 0211.</td>\n",
              "            <td>None</td>\n",
              "            <td>None</td>\n",
              "            <td>None</td>\n",
              "            <td>This course examines the components of common law contracts including the concepts of offer and acceptance, consideration, capacity and legality, assignment of rights and delegation of duties, as well as discharge of contracts. The course covers Articles 2 and 2A of the Uniform Commercial Code relating to leases, sales of goods, and warranties. The course also considers personal and real property, and bailments.</td>\n",
              "        </tr>\n",
              "        <tr>\n",
              "            <td>6</td>\n",
              "            <td>2017_2018</td>\n",
              "            <td>BU 0312</td>\n",
              "            <td>12</td>\n",
              "            <td>The Law of Business Organizations and Financial Transactions</td>\n",
              "            <td>3 Credits</td>\n",
              "            <td>BU 0211.</td>\n",
              "            <td>None</td>\n",
              "            <td>None</td>\n",
              "            <td>None</td>\n",
              "            <td>This course offers an analysis of legal principles related to the law of agency, sole proprietorships, partnerships, corporations, limited liability companies, and other business forms. The second half of the course addresses several sections of the Uniform Commercial Code, such as negotiable instruments, bank collections and deposits and secured transactions. Finally, the course examines the law of suretyship, debtor-creditor relationships, and bankruptcy.</td>\n",
              "        </tr>\n",
              "        <tr>\n",
              "            <td>7</td>\n",
              "            <td>2017_2018</td>\n",
              "            <td>BU 0320</td>\n",
              "            <td>12</td>\n",
              "            <td>Employment Law and Discrimination in the Workplace</td>\n",
              "            <td>3 Credits</td>\n",
              "            <td>None</td>\n",
              "            <td>None</td>\n",
              "            <td>None</td>\n",
              "            <td>MGEL Management: General Elective, UDIV U.S. Diversity</td>\n",
              "            <td>This course examines a variety of legal issues related to the workplace including the doctrine of employment at will, employee privacy, and the history and development of labor unions and the legal protections afforded by the National Labor Relations Act. A study of the role of the Civil Rights Act of 1964 and the Equal Employment Opportunity Commission in eradicating discrimination based on race, sex, religion, national origin, age, and disability occupies a major portion of the course. Other employment issues include affirmative action, worker safety, and compensation.</td>\n",
              "        </tr>\n",
              "        <tr>\n",
              "            <td>8</td>\n",
              "            <td>2017_2018</td>\n",
              "            <td>BU 0391</td>\n",
              "            <td>12</td>\n",
              "            <td>Seminar in Business Law and Ethics</td>\n",
              "            <td>3 Credits</td>\n",
              "            <td>AE 0291, BU 0211, two additional courses in law or applied ethics.</td>\n",
              "            <td>None</td>\n",
              "            <td>None</td>\n",
              "            <td>None</td>\n",
              "            <td>This interdisciplinary study of these two aspects of the business environment is cross-listed as</td>\n",
              "        </tr>\n",
              "        <tr>\n",
              "            <td>9</td>\n",
              "            <td>2017_2018</td>\n",
              "            <td>BL 0101</td>\n",
              "            <td>11</td>\n",
              "            <td>Black Lives Matter</td>\n",
              "            <td>3 Credits</td>\n",
              "            <td>None</td>\n",
              "            <td>None</td>\n",
              "            <td>None</td>\n",
              "            <td>ASGW American Studies: Gateway, BSFC Black Studies Focus Course, BSSS Black Studies: Social and Behavioral Sciences, PJST Peace and Justice Studies, UDIV U.S. Diversity</td>\n",
              "            <td>In the context of Ferguson, Charleston, and other national crises, this course responds to the call of students from our campus community to raise questions about and critically reflect upon the failures of democracy to recognize the value of Black Life. This course employs collective thinking, teaching, and research to focus on questions surrounding race, structural inequality, and violence. It examines the historical, geographical, cultural, social, and political ways in which race has been configured and deployed in the United States. Various faculty will bring to bear their respective scholarly lenses so that students understand race and racism across intellectual disciplines.</td>\n",
              "        </tr>\n",
              "        <tr>\n",
              "            <td>10</td>\n",
              "            <td>2017_2018</td>\n",
              "            <td>BL 0398</td>\n",
              "            <td>11</td>\n",
              "            <td>Independent Study</td>\n",
              "            <td>1-3 Credits</td>\n",
              "            <td>None</td>\n",
              "            <td>None</td>\n",
              "            <td>None</td>\n",
              "            <td>BSCP Black Studies Capstone Course</td>\n",
              "            <td>Upon request and by agreement with a professor in the program, a Black Studies minor may conduct a one-semester independent study on a defined research topic or field of study.</td>\n",
              "        </tr>\n",
              "    </tbody>\n",
              "</table>"
            ],
            "text/plain": [
              "[(1, '2017_2018', 'AN 0301', 4, 'Independent Study', '1-3 Credits', None, None, None, None, 'Students undertake an individualized program of study in consultation with a director from the Asian studies faculty.'),\n",
              " (2, '2017_2018', 'AN 0310', 4, 'Asian Studies Seminar', '3 Credits', None, None, None, None, 'This seminar examines selected topics concerning Asia. This course is taught in conjunction with another 100-300 level course from a rotation of cour ... (412 characters truncated) ... e term paper in substitution of some portion of the conjoined course requirements, as determined by the instructor. Open to juniors and seniors only.'),\n",
              " (3, '2017_2018', 'BU 0211', 12, 'Legal Environment of Business', '3 Credits', 'Junior standing.', None, None, None, 'This course examines the broad philosophical as well as practical nature and function of the legal system, and introduces students to the legal and s ... (171 characters truncated) ... ivil process, and regulatory areas such as employment discrimination, protection of the environment, and corporate governance and securities markets.'),\n",
              " (4, '2017_2018', 'BU 0220', 12, 'Environmental Law and Policy', '3 Credits', None, None, None, 'EVME Environmental Studies Major Elective, EVPE Environmental Studies Elective, EVSS Environmental Studies: Social Science, MGEL Management: General Elective', 'This course surveys issues arising out of federal laws designed to protect the environment and manage resources. It considers in detail the role of t ... (298 characters truncated) ... t groups in shaping environmental policy, giving special attention to the impact of environmental regulation on business and private property rights.'),\n",
              " (5, '2017_2018', 'BU 0311', 12, 'The Law of Contracts, Sales, and Property', '3 Credits', 'BU 0211.', None, None, None, 'This course examines the components of common law contracts including the concepts of offer and acceptance, consideration, capacity and legality, ass ... (117 characters truncated) ...  the Uniform Commercial Code relating to leases, sales of goods, and warranties. The course also considers personal and real property, and bailments.'),\n",
              " (6, '2017_2018', 'BU 0312', 12, 'The Law of Business Organizations and Financial Transactions', '3 Credits', 'BU 0211.', None, None, None, 'This course offers an analysis of legal principles related to the law of agency, sole proprietorships, partnerships, corporations, limited liability  ... (163 characters truncated) ... collections and deposits and secured transactions. Finally, the course examines the law of suretyship, debtor-creditor relationships, and bankruptcy.'),\n",
              " (7, '2017_2018', 'BU 0320', 12, 'Employment Law and Discrimination in the Workplace', '3 Credits', None, None, None, 'MGEL Management: General Elective, UDIV U.S. Diversity', 'This course examines a variety of legal issues related to the workplace including the doctrine of employment at will, employee privacy, and the histo ... (279 characters truncated) ... gin, age, and disability occupies a major portion of the course. Other employment issues include affirmative action, worker safety, and compensation.'),\n",
              " (8, '2017_2018', 'BU 0391', 12, 'Seminar in Business Law and Ethics', '3 Credits', 'AE 0291, BU 0211, two additional courses in law or applied ethics.', None, None, None, 'This interdisciplinary study of these two aspects of the business environment is cross-listed as'),\n",
              " (9, '2017_2018', 'BL 0101', 11, 'Black Lives Matter', '3 Credits', None, None, None, 'ASGW American Studies: Gateway, BSFC Black Studies Focus Course, BSSS Black Studies: Social and Behavioral Sciences, PJST Peace and Justice Studies, UDIV U.S. Diversity', 'In the context of Ferguson, Charleston, and other national crises, this course responds to the call of students from our campus community to raise qu ... (391 characters truncated) ... es. Various faculty will bring to bear their respective scholarly lenses so that students understand race and racism across intellectual disciplines.'),\n",
              " (10, '2017_2018', 'BL 0398', 11, 'Independent Study', '1-3 Credits', None, None, None, 'BSCP Black Studies Capstone Course', 'Upon request and by agreement with a professor in the program, a Black Studies minor may conduct a one-semester independent study on a defined research topic or field of study.')]"
            ]
          },
          "metadata": {},
          "execution_count": 20
        }
      ]
    },
    {
      "cell_type": "markdown",
      "metadata": {
        "id": "W1FLT1B_-xdD"
      },
      "source": [
        "## 5. Integrity Checks\n",
        "\n",
        "### Domain Integrity\n",
        "The SQLite data types are pretty limited, so there is not much to see here. A few specific value errors were corrected on import. "
      ]
    },
    {
      "cell_type": "markdown",
      "metadata": {
        "id": "zYeNdweY-xdE"
      },
      "source": [
        "### Entity Integrity"
      ]
    },
    {
      "cell_type": "code",
      "metadata": {
        "colab": {
          "base_uri": "https://localhost:8080/",
          "height": 95
        },
        "id": "TtAmXSjU-xdE",
        "outputId": "e35f6a9c-68fb-4ccb-d45d-36e2e51e6d95"
      },
      "source": [
        "%%sql\n",
        "-- There should be 4440 Catalog Entries, 15937 Course Offerings, and 284847 Course Meetings\n",
        "SELECT \n",
        "    (SELECT Count(*) FROM CATALOG_COURSES) as CatalogCourses,\n",
        "    (SELECT Count(*) FROM COURSE_OFFERINGS) as CourseOfferings,\n",
        "    (SELECT Count(*) FROM COURSE_MEETINGS) as CourseMeetings;"
      ],
      "execution_count": null,
      "outputs": [
        {
          "output_type": "stream",
          "name": "stdout",
          "text": [
            " * sqlite:///data6510/data/FinalProject/Banner.db\n",
            "Done.\n"
          ]
        },
        {
          "output_type": "execute_result",
          "data": {
            "text/html": [
              "<table>\n",
              "    <thead>\n",
              "        <tr>\n",
              "            <th>CatalogCourses</th>\n",
              "            <th>CourseOfferings</th>\n",
              "            <th>CourseMeetings</th>\n",
              "        </tr>\n",
              "    </thead>\n",
              "    <tbody>\n",
              "        <tr>\n",
              "            <td>4440</td>\n",
              "            <td>15937</td>\n",
              "            <td>284847</td>\n",
              "        </tr>\n",
              "    </tbody>\n",
              "</table>"
            ],
            "text/plain": [
              "[(4440, 15937, 284847)]"
            ]
          },
          "metadata": {},
          "execution_count": 21
        }
      ]
    },
    {
      "cell_type": "markdown",
      "metadata": {
        "id": "E66FfUek-xdE"
      },
      "source": [
        "### Relational Integrity"
      ]
    },
    {
      "cell_type": "code",
      "metadata": {
        "colab": {
          "base_uri": "https://localhost:8080/",
          "height": 880
        },
        "id": "0DxKmcxx-xdF",
        "outputId": "74ddb8ba-4240-4620-a00b-777e549cc455"
      },
      "source": [
        "%%sql \n",
        "-- A check of COURSE_OFFERINGS --> INSTRUCTORS, COURSE_OFFERINGS --> CATALOG_COURSES, CATALOG_COURSES --> PROGRAMS\n",
        "SELECT CourseID,CatalogYear,Term,CRN, Section,COURSE_OFFERINGS.CatalogNum as CatNum, Title,Capacity,Actual,Remaining,substr(Term,-4) as Year\n",
        "FROM COURSE_OFFERINGS \n",
        "    LEFT JOIN INSTRUCTORS ON (COURSE_OFFERINGS.PrimaryInstructorID = INSTRUCTORS.InstructorID)\n",
        "    LEFT JOIN CATALOG_COURSES USING (CourseID)\n",
        "    LEFT JOIN PROGRAMS USING (ProgramID)\n",
        "WHERE Name like '%Huntley'\n",
        "ORDER BY Year,Term DESC,CatNum,Section;"
      ],
      "execution_count": null,
      "outputs": [
        {
          "output_type": "stream",
          "name": "stdout",
          "text": [
            " * sqlite:///data6510/data/FinalProject/Banner.db\n",
            "Done.\n"
          ]
        },
        {
          "output_type": "execute_result",
          "data": {
            "text/html": [
              "<table>\n",
              "    <thead>\n",
              "        <tr>\n",
              "            <th>CourseID</th>\n",
              "            <th>CatalogYear</th>\n",
              "            <th>Term</th>\n",
              "            <th>CRN</th>\n",
              "            <th>Section</th>\n",
              "            <th>CatNum</th>\n",
              "            <th>Title</th>\n",
              "            <th>Capacity</th>\n",
              "            <th>Actual</th>\n",
              "            <th>Remaining</th>\n",
              "            <th>Year</th>\n",
              "        </tr>\n",
              "    </thead>\n",
              "    <tbody>\n",
              "        <tr>\n",
              "            <td>None</td>\n",
              "            <td>None</td>\n",
              "            <td>Fall2014</td>\n",
              "            <td>70369</td>\n",
              "            <td>E</td>\n",
              "            <td>IS 0100</td>\n",
              "            <td>Intro to Information Systems</td>\n",
              "            <td>25</td>\n",
              "            <td>26</td>\n",
              "            <td>-1</td>\n",
              "            <td>2014</td>\n",
              "        </tr>\n",
              "        <tr>\n",
              "            <td>None</td>\n",
              "            <td>None</td>\n",
              "            <td>Fall2014</td>\n",
              "            <td>73060</td>\n",
              "            <td>A</td>\n",
              "            <td>IS 0135</td>\n",
              "            <td>Fundamentals of Web Design</td>\n",
              "            <td>25</td>\n",
              "            <td>26</td>\n",
              "            <td>-1</td>\n",
              "            <td>2014</td>\n",
              "        </tr>\n",
              "        <tr>\n",
              "            <td>None</td>\n",
              "            <td>None</td>\n",
              "            <td>Fall2014</td>\n",
              "            <td>73061</td>\n",
              "            <td>A</td>\n",
              "            <td>IS 0320</td>\n",
              "            <td>Systems Design and Implementation</td>\n",
              "            <td>25</td>\n",
              "            <td>16</td>\n",
              "            <td>9</td>\n",
              "            <td>2014</td>\n",
              "        </tr>\n",
              "        <tr>\n",
              "            <td>None</td>\n",
              "            <td>None</td>\n",
              "            <td>Fall2015</td>\n",
              "            <td>75231</td>\n",
              "            <td>E</td>\n",
              "            <td>IS 0100</td>\n",
              "            <td>Intro to Information Systems</td>\n",
              "            <td>29</td>\n",
              "            <td>28</td>\n",
              "            <td>1</td>\n",
              "            <td>2015</td>\n",
              "        </tr>\n",
              "        <tr>\n",
              "            <td>None</td>\n",
              "            <td>None</td>\n",
              "            <td>Fall2015</td>\n",
              "            <td>75246</td>\n",
              "            <td>F</td>\n",
              "            <td>IS 0100</td>\n",
              "            <td>Intro to Information Systems</td>\n",
              "            <td>29</td>\n",
              "            <td>28</td>\n",
              "            <td>1</td>\n",
              "            <td>2015</td>\n",
              "        </tr>\n",
              "        <tr>\n",
              "            <td>None</td>\n",
              "            <td>None</td>\n",
              "            <td>Fall2015</td>\n",
              "            <td>76388</td>\n",
              "            <td>A</td>\n",
              "            <td>IS 0135</td>\n",
              "            <td>Fundamentals of Web Design</td>\n",
              "            <td>25</td>\n",
              "            <td>21</td>\n",
              "            <td>4</td>\n",
              "            <td>2015</td>\n",
              "        </tr>\n",
              "        <tr>\n",
              "            <td>None</td>\n",
              "            <td>None</td>\n",
              "            <td>Fall2015</td>\n",
              "            <td>76389</td>\n",
              "            <td>A</td>\n",
              "            <td>IS 0320</td>\n",
              "            <td>Systems Design and Implementation</td>\n",
              "            <td>25</td>\n",
              "            <td>13</td>\n",
              "            <td>12</td>\n",
              "            <td>2015</td>\n",
              "        </tr>\n",
              "        <tr>\n",
              "            <td>None</td>\n",
              "            <td>None</td>\n",
              "            <td>Spring2016</td>\n",
              "            <td>38780</td>\n",
              "            <td>01</td>\n",
              "            <td>IS 0585</td>\n",
              "            <td>Contemporary Topics: Information Systems and Data</td>\n",
              "            <td>20</td>\n",
              "            <td>15</td>\n",
              "            <td>5</td>\n",
              "            <td>2016</td>\n",
              "        </tr>\n",
              "        <tr>\n",
              "            <td>None</td>\n",
              "            <td>None</td>\n",
              "            <td>Spring2016</td>\n",
              "            <td>37253</td>\n",
              "            <td>B</td>\n",
              "            <td>OM 0101</td>\n",
              "            <td>Operations Management</td>\n",
              "            <td>29</td>\n",
              "            <td>28</td>\n",
              "            <td>1</td>\n",
              "            <td>2016</td>\n",
              "        </tr>\n",
              "        <tr>\n",
              "            <td>None</td>\n",
              "            <td>None</td>\n",
              "            <td>Spring2016</td>\n",
              "            <td>37254</td>\n",
              "            <td>C</td>\n",
              "            <td>OM 0101</td>\n",
              "            <td>Operations Management</td>\n",
              "            <td>29</td>\n",
              "            <td>29</td>\n",
              "            <td>0</td>\n",
              "            <td>2016</td>\n",
              "        </tr>\n",
              "        <tr>\n",
              "            <td>None</td>\n",
              "            <td>None</td>\n",
              "            <td>Fall2016</td>\n",
              "            <td>78100</td>\n",
              "            <td>01</td>\n",
              "            <td>IS 0135</td>\n",
              "            <td>Fundamentals of Web Design</td>\n",
              "            <td>25</td>\n",
              "            <td>15</td>\n",
              "            <td>10</td>\n",
              "            <td>2016</td>\n",
              "        </tr>\n",
              "        <tr>\n",
              "            <td>None</td>\n",
              "            <td>None</td>\n",
              "            <td>Fall2016</td>\n",
              "            <td>77162</td>\n",
              "            <td>01</td>\n",
              "            <td>IS 0240</td>\n",
              "            <td>Systems Analysis and Logical Design</td>\n",
              "            <td>25</td>\n",
              "            <td>23</td>\n",
              "            <td>2</td>\n",
              "            <td>2016</td>\n",
              "        </tr>\n",
              "        <tr>\n",
              "            <td>None</td>\n",
              "            <td>None</td>\n",
              "            <td>Fall2016</td>\n",
              "            <td>79098</td>\n",
              "            <td>01</td>\n",
              "            <td>IS 0585C</td>\n",
              "            <td>Contemporary Topics: Database Systems for Business Analytics</td>\n",
              "            <td>20</td>\n",
              "            <td>15</td>\n",
              "            <td>5</td>\n",
              "            <td>2016</td>\n",
              "        </tr>\n",
              "        <tr>\n",
              "            <td>None</td>\n",
              "            <td>None</td>\n",
              "            <td>Spring2017</td>\n",
              "            <td>31735</td>\n",
              "            <td>01</td>\n",
              "            <td>IS 0240</td>\n",
              "            <td>Systems Analysis and Logical Design</td>\n",
              "            <td>25</td>\n",
              "            <td>25</td>\n",
              "            <td>0</td>\n",
              "            <td>2017</td>\n",
              "        </tr>\n",
              "        <tr>\n",
              "            <td>None</td>\n",
              "            <td>None</td>\n",
              "            <td>Spring2017</td>\n",
              "            <td>32646</td>\n",
              "            <td>01</td>\n",
              "            <td>IS 0320</td>\n",
              "            <td>Systems Design and Implementation</td>\n",
              "            <td>25</td>\n",
              "            <td>7</td>\n",
              "            <td>18</td>\n",
              "            <td>2017</td>\n",
              "        </tr>\n",
              "        <tr>\n",
              "            <td>None</td>\n",
              "            <td>None</td>\n",
              "            <td>Spring2017</td>\n",
              "            <td>33077</td>\n",
              "            <td>CH</td>\n",
              "            <td>IS 0399</td>\n",
              "            <td>Independent Study</td>\n",
              "            <td>0</td>\n",
              "            <td>2</td>\n",
              "            <td>-2</td>\n",
              "            <td>2017</td>\n",
              "        </tr>\n",
              "        <tr>\n",
              "            <td>None</td>\n",
              "            <td>None</td>\n",
              "            <td>Spring2017</td>\n",
              "            <td>31311</td>\n",
              "            <td>06</td>\n",
              "            <td>OM 0101</td>\n",
              "            <td>Operations Management</td>\n",
              "            <td>29</td>\n",
              "            <td>28</td>\n",
              "            <td>1</td>\n",
              "            <td>2017</td>\n",
              "        </tr>\n",
              "        <tr>\n",
              "            <td>922</td>\n",
              "            <td>2017_2018</td>\n",
              "            <td>Fall2017</td>\n",
              "            <td>71153</td>\n",
              "            <td>01</td>\n",
              "            <td>IS 0240</td>\n",
              "            <td>Systems Analysis and Logical Design</td>\n",
              "            <td>25</td>\n",
              "            <td>23</td>\n",
              "            <td>2</td>\n",
              "            <td>2017</td>\n",
              "        </tr>\n",
              "        <tr>\n",
              "            <td>1075</td>\n",
              "            <td>2017_2018</td>\n",
              "            <td>Fall2017</td>\n",
              "            <td>73088</td>\n",
              "            <td>CH</td>\n",
              "            <td>IS 0399</td>\n",
              "            <td>Independent Study</td>\n",
              "            <td>0</td>\n",
              "            <td>1</td>\n",
              "            <td>-1</td>\n",
              "            <td>2017</td>\n",
              "        </tr>\n",
              "        <tr>\n",
              "            <td>1151</td>\n",
              "            <td>2017_2018</td>\n",
              "            <td>Fall2017</td>\n",
              "            <td>72913</td>\n",
              "            <td>01</td>\n",
              "            <td>IS 0505</td>\n",
              "            <td>Python for Business Analytics</td>\n",
              "            <td>20</td>\n",
              "            <td>28</td>\n",
              "            <td>-8</td>\n",
              "            <td>2017</td>\n",
              "        </tr>\n",
              "        <tr>\n",
              "            <td>1152</td>\n",
              "            <td>2017_2018</td>\n",
              "            <td>Fall2017</td>\n",
              "            <td>72914</td>\n",
              "            <td>01</td>\n",
              "            <td>IS 0510</td>\n",
              "            <td>Databases for Business Analytics</td>\n",
              "            <td>20</td>\n",
              "            <td>18</td>\n",
              "            <td>2</td>\n",
              "            <td>2017</td>\n",
              "        </tr>\n",
              "        <tr>\n",
              "            <td>922</td>\n",
              "            <td>2017_2018</td>\n",
              "            <td>Spring2018</td>\n",
              "            <td>34644</td>\n",
              "            <td>01</td>\n",
              "            <td>IS 0240</td>\n",
              "            <td>Systems Analysis and Logical Design</td>\n",
              "            <td>25</td>\n",
              "            <td>22</td>\n",
              "            <td>3</td>\n",
              "            <td>2018</td>\n",
              "        </tr>\n",
              "        <tr>\n",
              "            <td>923</td>\n",
              "            <td>2017_2018</td>\n",
              "            <td>Spring2018</td>\n",
              "            <td>34645</td>\n",
              "            <td>01</td>\n",
              "            <td>IS 0260</td>\n",
              "            <td>Database Systems</td>\n",
              "            <td>25</td>\n",
              "            <td>24</td>\n",
              "            <td>1</td>\n",
              "            <td>2018</td>\n",
              "        </tr>\n",
              "        <tr>\n",
              "            <td>993</td>\n",
              "            <td>2017_2018</td>\n",
              "            <td>Spring2018</td>\n",
              "            <td>35141</td>\n",
              "            <td>01</td>\n",
              "            <td>IS 0320</td>\n",
              "            <td>Systems Design and Implementation</td>\n",
              "            <td>25</td>\n",
              "            <td>20</td>\n",
              "            <td>5</td>\n",
              "            <td>2018</td>\n",
              "        </tr>\n",
              "        <tr>\n",
              "            <td>1075</td>\n",
              "            <td>2017_2018</td>\n",
              "            <td>Spring2018</td>\n",
              "            <td>36043</td>\n",
              "            <td>CH</td>\n",
              "            <td>IS 0399</td>\n",
              "            <td>Independent Study</td>\n",
              "            <td>0</td>\n",
              "            <td>1</td>\n",
              "            <td>-1</td>\n",
              "            <td>2018</td>\n",
              "        </tr>\n",
              "        <tr>\n",
              "            <td>None</td>\n",
              "            <td>None</td>\n",
              "            <td>Fall2018</td>\n",
              "            <td>75942</td>\n",
              "            <td>01</td>\n",
              "            <td>BA 0505</td>\n",
              "            <td>Python for Business Analytics</td>\n",
              "            <td>20</td>\n",
              "            <td>27</td>\n",
              "            <td>-7</td>\n",
              "            <td>2018</td>\n",
              "        </tr>\n",
              "        <tr>\n",
              "            <td>2683</td>\n",
              "            <td>2018_2019</td>\n",
              "            <td>Fall2018</td>\n",
              "            <td>74215</td>\n",
              "            <td>01</td>\n",
              "            <td>OM 0101</td>\n",
              "            <td>Operations Management</td>\n",
              "            <td>25</td>\n",
              "            <td>24</td>\n",
              "            <td>1</td>\n",
              "            <td>2018</td>\n",
              "        </tr>\n",
              "        <tr>\n",
              "            <td>2683</td>\n",
              "            <td>2018_2019</td>\n",
              "            <td>Fall2018</td>\n",
              "            <td>74216</td>\n",
              "            <td>02</td>\n",
              "            <td>OM 0101</td>\n",
              "            <td>Operations Management</td>\n",
              "            <td>25</td>\n",
              "            <td>25</td>\n",
              "            <td>0</td>\n",
              "            <td>2018</td>\n",
              "        </tr>\n",
              "        <tr>\n",
              "            <td>None</td>\n",
              "            <td>None</td>\n",
              "            <td>Spring2019</td>\n",
              "            <td>39006</td>\n",
              "            <td>01</td>\n",
              "            <td>BA 0510</td>\n",
              "            <td>Databases for Business Analytics</td>\n",
              "            <td>32</td>\n",
              "            <td>34</td>\n",
              "            <td>-2</td>\n",
              "            <td>2019</td>\n",
              "        </tr>\n",
              "        <tr>\n",
              "            <td>2683</td>\n",
              "            <td>2018_2019</td>\n",
              "            <td>Spring2019</td>\n",
              "            <td>37200</td>\n",
              "            <td>01</td>\n",
              "            <td>OM 0101</td>\n",
              "            <td>Operations Management</td>\n",
              "            <td>25</td>\n",
              "            <td>26</td>\n",
              "            <td>-1</td>\n",
              "            <td>2019</td>\n",
              "        </tr>\n",
              "        <tr>\n",
              "            <td>2683</td>\n",
              "            <td>2018_2019</td>\n",
              "            <td>Spring2019</td>\n",
              "            <td>37201</td>\n",
              "            <td>02</td>\n",
              "            <td>OM 0101</td>\n",
              "            <td>Operations Management</td>\n",
              "            <td>25</td>\n",
              "            <td>27</td>\n",
              "            <td>-2</td>\n",
              "            <td>2019</td>\n",
              "        </tr>\n",
              "    </tbody>\n",
              "</table>"
            ],
            "text/plain": [
              "[(None, None, 'Fall2014', 70369, 'E', 'IS 0100', 'Intro to Information Systems', 25, 26, -1, '2014'),\n",
              " (None, None, 'Fall2014', 73060, 'A', 'IS 0135', 'Fundamentals of Web Design', 25, 26, -1, '2014'),\n",
              " (None, None, 'Fall2014', 73061, 'A', 'IS 0320', 'Systems Design and Implementation', 25, 16, 9, '2014'),\n",
              " (None, None, 'Fall2015', 75231, 'E', 'IS 0100', 'Intro to Information Systems', 29, 28, 1, '2015'),\n",
              " (None, None, 'Fall2015', 75246, 'F', 'IS 0100', 'Intro to Information Systems', 29, 28, 1, '2015'),\n",
              " (None, None, 'Fall2015', 76388, 'A', 'IS 0135', 'Fundamentals of Web Design', 25, 21, 4, '2015'),\n",
              " (None, None, 'Fall2015', 76389, 'A', 'IS 0320', 'Systems Design and Implementation', 25, 13, 12, '2015'),\n",
              " (None, None, 'Spring2016', 38780, '01', 'IS 0585', 'Contemporary Topics: Information Systems and Data', 20, 15, 5, '2016'),\n",
              " (None, None, 'Spring2016', 37253, 'B', 'OM 0101', 'Operations Management', 29, 28, 1, '2016'),\n",
              " (None, None, 'Spring2016', 37254, 'C', 'OM 0101', 'Operations Management', 29, 29, 0, '2016'),\n",
              " (None, None, 'Fall2016', 78100, '01', 'IS 0135', 'Fundamentals of Web Design', 25, 15, 10, '2016'),\n",
              " (None, None, 'Fall2016', 77162, '01', 'IS 0240', 'Systems Analysis and Logical Design', 25, 23, 2, '2016'),\n",
              " (None, None, 'Fall2016', 79098, '01', 'IS 0585C', 'Contemporary Topics: Database Systems for Business Analytics', 20, 15, 5, '2016'),\n",
              " (None, None, 'Spring2017', 31735, '01', 'IS 0240', 'Systems Analysis and Logical Design', 25, 25, 0, '2017'),\n",
              " (None, None, 'Spring2017', 32646, '01', 'IS 0320', 'Systems Design and Implementation', 25, 7, 18, '2017'),\n",
              " (None, None, 'Spring2017', 33077, 'CH', 'IS 0399', 'Independent Study', 0, 2, -2, '2017'),\n",
              " (None, None, 'Spring2017', 31311, '06', 'OM 0101', 'Operations Management', 29, 28, 1, '2017'),\n",
              " (922, '2017_2018', 'Fall2017', 71153, '01', 'IS 0240', 'Systems Analysis and Logical Design', 25, 23, 2, '2017'),\n",
              " (1075, '2017_2018', 'Fall2017', 73088, 'CH', 'IS 0399', 'Independent Study', 0, 1, -1, '2017'),\n",
              " (1151, '2017_2018', 'Fall2017', 72913, '01', 'IS 0505', 'Python for Business Analytics', 20, 28, -8, '2017'),\n",
              " (1152, '2017_2018', 'Fall2017', 72914, '01', 'IS 0510', 'Databases for Business Analytics', 20, 18, 2, '2017'),\n",
              " (922, '2017_2018', 'Spring2018', 34644, '01', 'IS 0240', 'Systems Analysis and Logical Design', 25, 22, 3, '2018'),\n",
              " (923, '2017_2018', 'Spring2018', 34645, '01', 'IS 0260', 'Database Systems', 25, 24, 1, '2018'),\n",
              " (993, '2017_2018', 'Spring2018', 35141, '01', 'IS 0320', 'Systems Design and Implementation', 25, 20, 5, '2018'),\n",
              " (1075, '2017_2018', 'Spring2018', 36043, 'CH', 'IS 0399', 'Independent Study', 0, 1, -1, '2018'),\n",
              " (None, None, 'Fall2018', 75942, '01', 'BA 0505', 'Python for Business Analytics', 20, 27, -7, '2018'),\n",
              " (2683, '2018_2019', 'Fall2018', 74215, '01', 'OM 0101', 'Operations Management', 25, 24, 1, '2018'),\n",
              " (2683, '2018_2019', 'Fall2018', 74216, '02', 'OM 0101', 'Operations Management', 25, 25, 0, '2018'),\n",
              " (None, None, 'Spring2019', 39006, '01', 'BA 0510', 'Databases for Business Analytics', 32, 34, -2, '2019'),\n",
              " (2683, '2018_2019', 'Spring2019', 37200, '01', 'OM 0101', 'Operations Management', 25, 26, -1, '2019'),\n",
              " (2683, '2018_2019', 'Spring2019', 37201, '02', 'OM 0101', 'Operations Management', 25, 27, -2, '2019')]"
            ]
          },
          "metadata": {},
          "execution_count": 47
        }
      ]
    },
    {
      "cell_type": "markdown",
      "metadata": {
        "id": "v4IFOuba-xdF"
      },
      "source": [
        "__Note: The Course Catalog data is missing BA 510! The website was updated after the data was scraped in January 2019.__"
      ]
    },
    {
      "cell_type": "code",
      "metadata": {
        "colab": {
          "base_uri": "https://localhost:8080/",
          "height": 95
        },
        "id": "Lsf_Daem-xdF",
        "outputId": "99cdfdca-08dc-40cc-9be4-b7531b64f9fc"
      },
      "source": [
        "%%sql\n",
        "-- A check of the COURSE_MEETINGS --> COURSE_OFFERINGS relationship\n",
        "SELECT Term, CourseOfferingID, Count(CourseMeetingID)\n",
        "FROM COURSE_OFFERINGS JOIN COURSE_MEETINGS USING (CourseOfferingID)\n",
        "WHERE CRN=39006 and Term = 'Spring2019'\n",
        "GROUP BY CourseOfferingID;"
      ],
      "execution_count": null,
      "outputs": [
        {
          "output_type": "stream",
          "name": "stdout",
          "text": [
            " * sqlite:///data6510/data/FinalProject/Banner.db\n",
            "Done.\n"
          ]
        },
        {
          "output_type": "execute_result",
          "data": {
            "text/html": [
              "<table>\n",
              "    <thead>\n",
              "        <tr>\n",
              "            <th>Term</th>\n",
              "            <th>CourseOfferingID</th>\n",
              "            <th>Count(CourseMeetingID)</th>\n",
              "        </tr>\n",
              "    </thead>\n",
              "    <tbody>\n",
              "        <tr>\n",
              "            <td>Spring2019</td>\n",
              "            <td>13345</td>\n",
              "            <td>9</td>\n",
              "        </tr>\n",
              "    </tbody>\n",
              "</table>"
            ],
            "text/plain": [
              "[('Spring2019', 13345, 9)]"
            ]
          },
          "metadata": {},
          "execution_count": 22
        }
      ]
    },
    {
      "cell_type": "code",
      "metadata": {
        "colab": {
          "base_uri": "https://localhost:8080/",
          "height": 263
        },
        "id": "D-3pI8T3-xdF",
        "outputId": "2dd318c9-ee66-4906-9ca9-ff473c357e56"
      },
      "source": [
        "%%sql\n",
        "-- Check the course meetings for a known course offering\n",
        "SELECT CourseOfferingID, CourseMeetingID, StartDateTime,EndDateTime\n",
        "FROM COURSE_OFFERINGS JOIN COURSE_MEETINGS USING (CourseOfferingID)\n",
        "WHERE CRN=39006 AND Term=\"Spring2019\""
      ],
      "execution_count": null,
      "outputs": [
        {
          "output_type": "stream",
          "name": "stdout",
          "text": [
            " * sqlite:///data6510/data/FinalProject/Banner.db\n",
            "Done.\n"
          ]
        },
        {
          "output_type": "execute_result",
          "data": {
            "text/html": [
              "<table>\n",
              "    <thead>\n",
              "        <tr>\n",
              "            <th>CourseOfferingID</th>\n",
              "            <th>CourseMeetingID</th>\n",
              "            <th>StartDateTime</th>\n",
              "            <th>EndDateTime</th>\n",
              "        </tr>\n",
              "    </thead>\n",
              "    <tbody>\n",
              "        <tr>\n",
              "            <td>13345</td>\n",
              "            <td>253416</td>\n",
              "            <td>2019-01-29T18:30:00</td>\n",
              "            <td>2019-01-29T21:30:00</td>\n",
              "        </tr>\n",
              "        <tr>\n",
              "            <td>13345</td>\n",
              "            <td>253417</td>\n",
              "            <td>2019-02-05T18:30:00</td>\n",
              "            <td>2019-02-05T21:30:00</td>\n",
              "        </tr>\n",
              "        <tr>\n",
              "            <td>13345</td>\n",
              "            <td>253418</td>\n",
              "            <td>2019-02-12T18:30:00</td>\n",
              "            <td>2019-02-12T21:30:00</td>\n",
              "        </tr>\n",
              "        <tr>\n",
              "            <td>13345</td>\n",
              "            <td>253419</td>\n",
              "            <td>2019-02-26T18:30:00</td>\n",
              "            <td>2019-02-26T21:30:00</td>\n",
              "        </tr>\n",
              "        <tr>\n",
              "            <td>13345</td>\n",
              "            <td>253420</td>\n",
              "            <td>2019-03-05T18:30:00</td>\n",
              "            <td>2019-03-05T21:30:00</td>\n",
              "        </tr>\n",
              "        <tr>\n",
              "            <td>13345</td>\n",
              "            <td>253421</td>\n",
              "            <td>2019-03-12T18:30:00</td>\n",
              "            <td>2019-03-12T21:30:00</td>\n",
              "        </tr>\n",
              "        <tr>\n",
              "            <td>13345</td>\n",
              "            <td>253422</td>\n",
              "            <td>2019-02-02T09:00:00</td>\n",
              "            <td>2019-02-02T16:00:00</td>\n",
              "        </tr>\n",
              "        <tr>\n",
              "            <td>13345</td>\n",
              "            <td>253423</td>\n",
              "            <td>2019-02-16T09:00:00</td>\n",
              "            <td>2019-02-16T16:00:00</td>\n",
              "        </tr>\n",
              "        <tr>\n",
              "            <td>13345</td>\n",
              "            <td>253424</td>\n",
              "            <td>2019-03-09T09:00:00</td>\n",
              "            <td>2019-03-09T16:00:00</td>\n",
              "        </tr>\n",
              "    </tbody>\n",
              "</table>"
            ],
            "text/plain": [
              "[(13345, 253416, '2019-01-29T18:30:00', '2019-01-29T21:30:00'),\n",
              " (13345, 253417, '2019-02-05T18:30:00', '2019-02-05T21:30:00'),\n",
              " (13345, 253418, '2019-02-12T18:30:00', '2019-02-12T21:30:00'),\n",
              " (13345, 253419, '2019-02-26T18:30:00', '2019-02-26T21:30:00'),\n",
              " (13345, 253420, '2019-03-05T18:30:00', '2019-03-05T21:30:00'),\n",
              " (13345, 253421, '2019-03-12T18:30:00', '2019-03-12T21:30:00'),\n",
              " (13345, 253422, '2019-02-02T09:00:00', '2019-02-02T16:00:00'),\n",
              " (13345, 253423, '2019-02-16T09:00:00', '2019-02-16T16:00:00'),\n",
              " (13345, 253424, '2019-03-09T09:00:00', '2019-03-09T16:00:00')]"
            ]
          },
          "metadata": {},
          "execution_count": 23
        }
      ]
    },
    {
      "cell_type": "markdown",
      "metadata": {
        "id": "a2QI-BCs-xdF"
      },
      "source": [
        "## 6. Empty out the `IMPORT_` tables to reclaim storage space"
      ]
    },
    {
      "cell_type": "code",
      "metadata": {
        "colab": {
          "base_uri": "https://localhost:8080/"
        },
        "id": "w-3Qy3Kv-xdG",
        "outputId": "fc738429-8162-414e-f629-3453b7548482"
      },
      "source": [
        "%%sql\n",
        "-- Delete all data\n",
        "DELETE FROM IMPORT_CATALOG_COURSES;\n",
        "DELETE FROM IMPORT_COURSE_OFFERINGS;\n",
        "DELETE FROM IMPORT_COURSE_MEETINGS;"
      ],
      "execution_count": null,
      "outputs": [
        {
          "output_type": "stream",
          "name": "stdout",
          "text": [
            " * sqlite:///data6510/data/FinalProject/Banner.db\n",
            "Done.\n",
            "15937 rows affected.\n",
            "284907 rows affected.\n"
          ]
        },
        {
          "output_type": "execute_result",
          "data": {
            "text/plain": [
              "[]"
            ]
          },
          "metadata": {},
          "execution_count": 24
        }
      ]
    },
    {
      "cell_type": "code",
      "metadata": {
        "colab": {
          "base_uri": "https://localhost:8080/"
        },
        "id": "FgXd5E0h-xdG",
        "outputId": "d25de53c-5e8e-456e-b786-b5b75a36811a"
      },
      "source": [
        "%%sql\n",
        "-- Drop the tables\n",
        "DROP TABLE IMPORT_CATALOG_COURSES;\n",
        "DROP TABLE IMPORT_COURSE_OFFERINGS;\n",
        "DROP TABLE IMPORT_COURSE_MEETINGS; "
      ],
      "execution_count": null,
      "outputs": [
        {
          "output_type": "stream",
          "name": "stdout",
          "text": [
            " * sqlite:///data6510/data/FinalProject/Banner.db\n",
            "Done.\n",
            "Done.\n",
            "Done.\n"
          ]
        },
        {
          "output_type": "execute_result",
          "data": {
            "text/plain": [
              "[]"
            ]
          },
          "metadata": {},
          "execution_count": 25
        }
      ]
    },
    {
      "cell_type": "code",
      "metadata": {
        "colab": {
          "base_uri": "https://localhost:8080/"
        },
        "id": "JWsRluw7-xdG",
        "outputId": "5d9a280e-03f5-4247-e698-566ae16396bc"
      },
      "source": [
        "%%sql\n",
        "-- Force SQLite to rebuild the database file to minimize file size\n",
        "vacuum;"
      ],
      "execution_count": null,
      "outputs": [
        {
          "output_type": "stream",
          "name": "stdout",
          "text": [
            " * sqlite:///data6510/data/FinalProject/Banner.db\n",
            "Done.\n"
          ]
        },
        {
          "output_type": "execute_result",
          "data": {
            "text/plain": [
              "[]"
            ]
          },
          "metadata": {},
          "execution_count": 26
        }
      ]
    }
  ]
}